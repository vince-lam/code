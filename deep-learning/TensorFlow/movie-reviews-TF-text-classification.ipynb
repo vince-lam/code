{
 "cells": [
  {
   "cell_type": "markdown",
   "metadata": {},
   "source": [
    "This notebook classifies whether a movie review as positive or negative. This is a binary (two-class) classification. This notebook follows a TensorFlow tutorial:\n",
    "https://www.tensorflow.org/hub/tutorials/tf2_text_classification\n",
    "\n",
    "The IMDB dataset contains 50,000 movie reviews. With half of the data split for training and the other half for testing.\n",
    "\n",
    "This notebook uses tf.keras, a high-level API to build and train models in TensorFLow.\n"
   ]
  },
  {
   "cell_type": "markdown",
   "metadata": {},
   "source": [
    "### Setup"
   ]
  },
  {
   "cell_type": "code",
   "execution_count": 4,
   "metadata": {},
   "outputs": [
    {
     "name": "stdout",
     "output_type": "stream",
     "text": [
      "Version:  2.3.0\n",
      "Eager mode:  True\n",
      "Hub version:  0.9.0\n",
      "GPU is NOT AVAILABLE\n"
     ]
    }
   ],
   "source": [
    "import numpy as np\n",
    "\n",
    "import tensorflow as tf\n",
    "import tensorflow_hub as hub\n",
    "import tensorflow_datasets as tfds\n",
    "\n",
    "import matplotlib.pyplot as plt\n",
    "\n",
    "print(\"Version: \", tf.__version__)\n",
    "print(\"Eager mode: \", tf.executing_eagerly())\n",
    "print(\"Hub version: \", hub.__version__)\n",
    "print(\"GPU is\", \"available\" if tf.config.list_physical_devices(\"GPU\") else \"NOT AVAILABLE\")"
   ]
  },
  {
   "cell_type": "markdown",
   "metadata": {},
   "source": [
    "### Download the IMDB dataset\n",
    "Download dataset to my machine."
   ]
  },
  {
   "cell_type": "code",
   "execution_count": 5,
   "metadata": {},
   "outputs": [
    {
     "name": "stdout",
     "output_type": "stream",
     "text": [
      "\u001b[1mDownloading and preparing dataset imdb_reviews/plain_text/1.0.0 (download: Unknown size, generated: Unknown size, total: Unknown size) to C:\\Users\\vinhe\\tensorflow_datasets\\imdb_reviews\\plain_text\\1.0.0...\u001b[0m\n"
     ]
    },
    {
     "data": {
      "application/vnd.jupyter.widget-view+json": {
       "model_id": "4a1a0ad959fd4ad49af330884ca421b5",
       "version_major": 2,
       "version_minor": 0
      },
      "text/plain": [
       "HBox(children=(FloatProgress(value=1.0, bar_style='info', description='Dl Completed...', max=1.0, style=Progre…"
      ]
     },
     "metadata": {},
     "output_type": "display_data"
    },
    {
     "data": {
      "application/vnd.jupyter.widget-view+json": {
       "model_id": "3cf24e646cd74b1c81e794a8b20f2e2d",
       "version_major": 2,
       "version_minor": 0
      },
      "text/plain": [
       "HBox(children=(FloatProgress(value=1.0, bar_style='info', description='Dl Size...', max=1.0, style=ProgressSty…"
      ]
     },
     "metadata": {},
     "output_type": "display_data"
    },
    {
     "name": "stdout",
     "output_type": "stream",
     "text": [
      "\n",
      "\n",
      "\n",
      "\n"
     ]
    },
    {
     "data": {
      "application/vnd.jupyter.widget-view+json": {
       "model_id": "",
       "version_major": 2,
       "version_minor": 0
      },
      "text/plain": [
       "HBox(children=(FloatProgress(value=1.0, bar_style='info', max=1.0), HTML(value='')))"
      ]
     },
     "metadata": {},
     "output_type": "display_data"
    },
    {
     "name": "stdout",
     "output_type": "stream",
     "text": [
      "Shuffling and writing examples to C:\\Users\\vinhe\\tensorflow_datasets\\imdb_reviews\\plain_text\\1.0.0.incompleteAZVKWM\\imdb_reviews-train.tfrecord\n"
     ]
    },
    {
     "data": {
      "application/vnd.jupyter.widget-view+json": {
       "model_id": "dbe97821c0a4463b8ad3e28de5482ba3",
       "version_major": 2,
       "version_minor": 0
      },
      "text/plain": [
       "HBox(children=(FloatProgress(value=0.0, max=25000.0), HTML(value='')))"
      ]
     },
     "metadata": {},
     "output_type": "display_data"
    },
    {
     "data": {
      "application/vnd.jupyter.widget-view+json": {
       "model_id": "",
       "version_major": 2,
       "version_minor": 0
      },
      "text/plain": [
       "HBox(children=(FloatProgress(value=1.0, bar_style='info', max=1.0), HTML(value='')))"
      ]
     },
     "metadata": {},
     "output_type": "display_data"
    },
    {
     "name": "stdout",
     "output_type": "stream",
     "text": [
      "Shuffling and writing examples to C:\\Users\\vinhe\\tensorflow_datasets\\imdb_reviews\\plain_text\\1.0.0.incompleteAZVKWM\\imdb_reviews-test.tfrecord\n"
     ]
    },
    {
     "data": {
      "application/vnd.jupyter.widget-view+json": {
       "model_id": "ba17b9f9257d4351b9d3d933a4d0988b",
       "version_major": 2,
       "version_minor": 0
      },
      "text/plain": [
       "HBox(children=(FloatProgress(value=0.0, max=25000.0), HTML(value='')))"
      ]
     },
     "metadata": {},
     "output_type": "display_data"
    },
    {
     "data": {
      "application/vnd.jupyter.widget-view+json": {
       "model_id": "",
       "version_major": 2,
       "version_minor": 0
      },
      "text/plain": [
       "HBox(children=(FloatProgress(value=1.0, bar_style='info', max=1.0), HTML(value='')))"
      ]
     },
     "metadata": {},
     "output_type": "display_data"
    },
    {
     "name": "stdout",
     "output_type": "stream",
     "text": [
      "Shuffling and writing examples to C:\\Users\\vinhe\\tensorflow_datasets\\imdb_reviews\\plain_text\\1.0.0.incompleteAZVKWM\\imdb_reviews-unsupervised.tfrecord\n"
     ]
    },
    {
     "data": {
      "application/vnd.jupyter.widget-view+json": {
       "model_id": "c4c7217620754e398337e530f2095cc3",
       "version_major": 2,
       "version_minor": 0
      },
      "text/plain": [
       "HBox(children=(FloatProgress(value=0.0, max=50000.0), HTML(value='')))"
      ]
     },
     "metadata": {},
     "output_type": "display_data"
    },
    {
     "name": "stdout",
     "output_type": "stream",
     "text": [
      "\u001b[1mDataset imdb_reviews downloaded and prepared to C:\\Users\\vinhe\\tensorflow_datasets\\imdb_reviews\\plain_text\\1.0.0. Subsequent calls will reuse this data.\u001b[0m\n"
     ]
    }
   ],
   "source": [
    "train_data, test_data = tfds.load(\"imdb_reviews\", split=[\"train\", \"test\"],\n",
    "                                 batch_size=-1, as_supervised=True)\n",
    "\n",
    "train_examples, train_labels = tfds.as_numpy(train_data)\n",
    "test_examples, test_labels = tfds.as_numpy(test_data)"
   ]
  },
  {
   "cell_type": "markdown",
   "metadata": {},
   "source": [
    "### Explore data\n",
    "- Label is an integer value of 0 or 1, where 0 is a negative review, and 1 is a positive review.\n",
    "- The sentence represents the movie review."
   ]
  },
  {
   "cell_type": "code",
   "execution_count": 6,
   "metadata": {},
   "outputs": [
    {
     "name": "stdout",
     "output_type": "stream",
     "text": [
      "Training entries: 25000, test entries: 25000\n"
     ]
    }
   ],
   "source": [
    "print(\"Training entries: {}, test entries: {}\".format(len(train_examples), len(test_examples)))"
   ]
  },
  {
   "cell_type": "code",
   "execution_count": 8,
   "metadata": {},
   "outputs": [
    {
     "data": {
      "text/plain": [
       "array([b\"This was an absolutely terrible movie. Don't be lured in by Christopher Walken or Michael Ironside. Both are great actors, but this must simply be their worst role in history. Even their great acting could not redeem this movie's ridiculous storyline. This movie is an early nineties US propaganda piece. The most pathetic scenes were those when the Columbian rebels were making their cases for revolutions. Maria Conchita Alonso appeared phony, and her pseudo-love affair with Walken was nothing but a pathetic emotional plug in a movie that was devoid of any real meaning. I am disappointed that there are movies like this, ruining actor's like Christopher Walken's good name. I could barely sit through it.\",\n",
       "       b'I have been known to fall asleep during films, but this is usually due to a combination of things including, really tired, being warm and comfortable on the sette and having just eaten a lot. However on this occasion I fell asleep because the film was rubbish. The plot development was constant. Constantly slow and boring. Things seemed to happen, but with no explanation of what was causing them or why. I admit, I may have missed part of the film, but i watched the majority of it and everything just seemed to happen of its own accord without any real concern for anything else. I cant recommend this film at all.',\n",
       "       b'Mann photographs the Alberta Rocky Mountains in a superb fashion, and Jimmy Stewart and Walter Brennan give enjoyable performances as they always seem to do. <br /><br />But come on Hollywood - a Mountie telling the people of Dawson City, Yukon to elect themselves a marshal (yes a marshal!) and to enforce the law themselves, then gunfighters battling it out on the streets for control of the town? <br /><br />Nothing even remotely resembling that happened on the Canadian side of the border during the Klondike gold rush. Mr. Mann and company appear to have mistaken Dawson City for Deadwood, the Canadian North for the American Wild West.<br /><br />Canadian viewers be prepared for a Reefer Madness type of enjoyable howl with this ludicrous plot, or, to shake your head in disgust.',\n",
       "       b'This is the kind of film for a snowy Sunday afternoon when the rest of the world can go ahead with its own business as you descend into a big arm-chair and mellow for a couple of hours. Wonderful performances from Cher and Nicolas Cage (as always) gently row the plot along. There are no rapids to cross, no dangerous waters, just a warm and witty paddle through New York life at its best. A family film in every sense and one that deserves the praise it received.',\n",
       "       b'As others have mentioned, all the women that go nude in this film are mostly absolutely gorgeous. The plot very ably shows the hypocrisy of the female libido. When men are around they want to be pursued, but when no \"men\" are around, they become the pursuers of a 14 year old boy. And the boy becomes a man really fast (we should all be so lucky at this age!). He then gets up the courage to pursue his true love.'],\n",
       "      dtype=object)"
      ]
     },
     "execution_count": 8,
     "metadata": {},
     "output_type": "execute_result"
    }
   ],
   "source": [
    "# print first 5 entries\n",
    "train_examples[:5]"
   ]
  },
  {
   "cell_type": "code",
   "execution_count": 9,
   "metadata": {},
   "outputs": [
    {
     "data": {
      "text/plain": [
       "array([0, 0, 0, 1, 1], dtype=int64)"
      ]
     },
     "execution_count": 9,
     "metadata": {},
     "output_type": "execute_result"
    }
   ],
   "source": [
    "# print first 5 labels\n",
    "train_labels[:5]"
   ]
  },
  {
   "cell_type": "markdown",
   "metadata": {},
   "source": [
    "### Build the model\n",
    "\n",
    "The neural network is created by stacking layers, this requires three main architectural decisions:\n",
    "- How to represent the text?\n",
    "- How many laters to use in the model?\n",
    "- How many hidden units to use for each layer?\n",
    "\n",
    "This example has the input data consisting of sentence. The labels to predict are 0 or 1.\n",
    "\n",
    "One method to represent the text is to convert sentences into embedding vectors. Let's use a pre-trained text embedding vector as the first layer, this has two advantages:\n",
    "- this takes care of text preprocessing,\n",
    "- we can benefit from transfer learning.\n",
    "\n",
    "This example will use a model from TensorFlow Hub called google/tf2-preview/gnews-swivel-20dim/1.\n",
    "\n",
    "There are three other models to test for this tutorial:\n",
    "- google/tf2-preview/gnews-swivel-20dim-with-oov/1 - same as google/tf2-preview/gnews-swivel-20dim/1, but with 2.5% vocabulary converted to OOV buckets. This can help if vocabulary of the task and vocabulary of the model don't fully overlap.\n",
    "- google/tf2-preview/nnlm-en-dim50/1 - A much larger model with ~1M vocabulary size and 50 dimensions.\n",
    "- google/tf2-preview/nnlm-en-dim128/1 - Even larger model with ~1M vocabulary size and 128 dimensions."
   ]
  },
  {
   "cell_type": "markdown",
   "metadata": {},
   "source": [
    "Create a Keras layer that uses a TensorFlow Hub model to embed the sentences, then apply it on a few input examples.\n",
    "\n",
    "Note that the output shape of the produced embeddings is a expected (num_examples, embedding_dimension)."
   ]
  },
  {
   "cell_type": "code",
   "execution_count": 12,
   "metadata": {},
   "outputs": [
    {
     "data": {
      "text/plain": [
       "<tf.Tensor: shape=(3, 20), dtype=float32, numpy=\n",
       "array([[ 1.765786  , -3.882232  ,  3.9134233 , -1.5557289 , -3.3362343 ,\n",
       "        -1.7357955 , -1.9954445 ,  1.2989551 ,  5.081598  , -1.1041286 ,\n",
       "        -2.0503852 , -0.72675157, -0.65675956,  0.24436149, -3.7208383 ,\n",
       "         2.0954835 ,  2.2969332 , -2.0689783 , -2.9489717 , -1.1315987 ],\n",
       "       [ 1.8804485 , -2.5852382 ,  3.4066997 ,  1.0982676 , -4.056685  ,\n",
       "        -4.891284  , -2.785554  ,  1.3874227 ,  3.8476458 , -0.9256538 ,\n",
       "        -1.896706  ,  1.2113281 ,  0.11474707,  0.76209456, -4.8791065 ,\n",
       "         2.906149  ,  4.7087674 , -2.3652055 , -3.5015898 , -1.6390051 ],\n",
       "       [ 0.71152234, -0.6353217 ,  1.7385626 , -1.1168286 , -0.5451594 ,\n",
       "        -1.1808156 ,  0.09504455,  1.4653089 ,  0.66059524,  0.79308075,\n",
       "        -2.2268345 ,  0.07446612, -1.4075904 , -0.70645386, -1.907037  ,\n",
       "         1.4419787 ,  1.9551861 , -0.42660055, -2.8022065 ,  0.43727064]],\n",
       "      dtype=float32)>"
      ]
     },
     "execution_count": 12,
     "metadata": {},
     "output_type": "execute_result"
    }
   ],
   "source": [
    "model = 'https://tfhub.dev/google/tf2-preview/gnews-swivel-20dim/1'\n",
    "hub_layer = hub.KerasLayer(model, output_shape=[20], input_shape=[],\n",
    "                          dtype=tf.string, trainable=True)\n",
    "hub_layer(train_examples[:3])"
   ]
  },
  {
   "cell_type": "markdown",
   "metadata": {},
   "source": [
    "Now build the full model:"
   ]
  },
  {
   "cell_type": "code",
   "execution_count": 13,
   "metadata": {},
   "outputs": [
    {
     "name": "stdout",
     "output_type": "stream",
     "text": [
      "Model: \"sequential\"\n",
      "_________________________________________________________________\n",
      "Layer (type)                 Output Shape              Param #   \n",
      "=================================================================\n",
      "keras_layer (KerasLayer)     (None, 20)                400020    \n",
      "_________________________________________________________________\n",
      "dense (Dense)                (None, 16)                336       \n",
      "_________________________________________________________________\n",
      "dense_1 (Dense)              (None, 1)                 17        \n",
      "=================================================================\n",
      "Total params: 400,373\n",
      "Trainable params: 400,373\n",
      "Non-trainable params: 0\n",
      "_________________________________________________________________\n"
     ]
    }
   ],
   "source": [
    "model = tf.keras.Sequential()\n",
    "model.add(hub_layer)\n",
    "model.add(tf.keras.layers.Dense(16, activation='relu'))\n",
    "model.add(tf.keras.layers.Dense(1))\n",
    "\n",
    "model.summary()"
   ]
  },
  {
   "cell_type": "markdown",
   "metadata": {},
   "source": [
    "The layers are stacked sequentially to build the classifier:\n",
    "1. The first layer is a TensorFlow Hub layer. This layer used a pre-trained Saved Model to map a sentence into its embedding vector. The model (https://tfhub.dev/google/tf2-preview/gnews-swivel-20dim/1) splits the sentence into tokens, embeds each token, and the combines the embedding.\n",
    "2. This fixed-length output vector is piped through a fully-connected (Dense) layer with 16 hidden units.\n",
    "3. The final layer is densely connected with a single output node. This output logits: the log-odds of the true class, according to the model."
   ]
  },
  {
   "cell_type": "markdown",
   "metadata": {},
   "source": [
    "#### Hidden units\n",
    "The above models has two intermediate/hidden layers, between the input and output. The number of outputs (units, nodes, or neurons) is the dimension of the representational space for the layer, i.e. the amount of freedom the network is allowed when learning an internal representation.\n",
    "\n",
    "If a model has more hidden units (a higher-dimensional representation space), and/or more layers, then the network can learn more complex representations. However, this makes the network more computationally expensive and may lead to learning unwanted patterns, which improve performance on training data but not on test data, i.e. overfitting.\n",
    "\n",
    "#### Loss function and optimiser\n",
    "A model needs a loss function and an optimiser for training. As this is a binary classification problem and model outputs a probability (a single-unit layer with a sigmoid activation), a binary_crossentropy loss function is chosen.\n",
    "\n",
    "There are other loss functions that can be selected, for example mean squared error. Typically, binary_crossentropy is better for dealing with probabilities, as it measures the \"distance\" between probability distributions, in this example, between the ground-truth distribution and the predictions.\n",
    "\n",
    "Now configure the model to use an optimiser and loss function:"
   ]
  },
  {
   "cell_type": "code",
   "execution_count": 16,
   "metadata": {},
   "outputs": [],
   "source": [
    "model.compile(optimizer='adam',\n",
    "             loss=tf.losses.BinaryCrossentropy(from_logits=True),\n",
    "             metrics=[tf.metrics.BinaryAccuracy(threshold=0.0, name='accuracy')])"
   ]
  },
  {
   "cell_type": "markdown",
   "metadata": {},
   "source": [
    "## Create a validation set\n",
    "When training, we want to check the accuracy of the model on data it has not seen before. Create a validation set by setting apart 10,000 examples from the original training data. This allows us to develop and tune the model using only training data, tand only use the test data to evaluate the accuracy."
   ]
  },
  {
   "cell_type": "code",
   "execution_count": 20,
   "metadata": {},
   "outputs": [],
   "source": [
    "x_val = train_examples[:10000]\n",
    "partial_x_train = train_examples[10000:]\n",
    "\n",
    "y_val = train_labels[:10000]\n",
    "partial_y_train = train_labels[10000:]"
   ]
  },
  {
   "cell_type": "markdown",
   "metadata": {},
   "source": [
    "### Train the model\n",
    "Train the model for 40 epoches in mini-batches of 512 samples, i.e. 40 iterations voer all samples in the x_train and y_train tensors. While training, monitor the model's loss and accuracy on the 10,000 samples from the validation set:"
   ]
  },
  {
   "cell_type": "code",
   "execution_count": 21,
   "metadata": {},
   "outputs": [
    {
     "name": "stdout",
     "output_type": "stream",
     "text": [
      "Epoch 1/40\n",
      "30/30 [==============================] - 3s 105ms/step - loss: 1.0498 - accuracy: 0.4918 - val_loss: 0.7437 - val_accuracy: 0.5455\n",
      "Epoch 2/40\n",
      "30/30 [==============================] - 3s 93ms/step - loss: 0.6740 - accuracy: 0.5987 - val_loss: 0.6336 - val_accuracy: 0.6443\n",
      "Epoch 3/40\n",
      "30/30 [==============================] - 3s 97ms/step - loss: 0.6098 - accuracy: 0.6825 - val_loss: 0.5974 - val_accuracy: 0.6918\n",
      "Epoch 4/40\n",
      "30/30 [==============================] - 2s 63ms/step - loss: 0.5747 - accuracy: 0.7180 - val_loss: 0.5707 - val_accuracy: 0.7143\n",
      "Epoch 5/40\n",
      "30/30 [==============================] - 2s 60ms/step - loss: 0.5446 - accuracy: 0.7419 - val_loss: 0.5455 - val_accuracy: 0.7356\n",
      "Epoch 6/40\n",
      "30/30 [==============================] - 3s 95ms/step - loss: 0.5144 - accuracy: 0.7632 - val_loss: 0.5200 - val_accuracy: 0.7551\n",
      "Epoch 7/40\n",
      "30/30 [==============================] - 3s 95ms/step - loss: 0.4833 - accuracy: 0.7865 - val_loss: 0.4937 - val_accuracy: 0.7758\n",
      "Epoch 8/40\n",
      "30/30 [==============================] - 2s 59ms/step - loss: 0.4512 - accuracy: 0.8069 - val_loss: 0.4679 - val_accuracy: 0.7919\n",
      "Epoch 9/40\n",
      "30/30 [==============================] - 3s 91ms/step - loss: 0.4196 - accuracy: 0.8255 - val_loss: 0.4439 - val_accuracy: 0.8041\n",
      "Epoch 10/40\n",
      "30/30 [==============================] - 2s 74ms/step - loss: 0.3894 - accuracy: 0.8413 - val_loss: 0.4218 - val_accuracy: 0.8191\n",
      "Epoch 11/40\n",
      "30/30 [==============================] - 3s 88ms/step - loss: 0.3609 - accuracy: 0.8553 - val_loss: 0.4026 - val_accuracy: 0.8252\n",
      "Epoch 12/40\n",
      "30/30 [==============================] - 2s 82ms/step - loss: 0.3346 - accuracy: 0.8669 - val_loss: 0.3844 - val_accuracy: 0.8351\n",
      "Epoch 13/40\n",
      "30/30 [==============================] - 3s 87ms/step - loss: 0.3096 - accuracy: 0.8811 - val_loss: 0.3676 - val_accuracy: 0.8425\n",
      "Epoch 14/40\n",
      "30/30 [==============================] - 3s 93ms/step - loss: 0.2870 - accuracy: 0.8903 - val_loss: 0.3554 - val_accuracy: 0.8493\n",
      "Epoch 15/40\n",
      "30/30 [==============================] - 2s 52ms/step - loss: 0.2678 - accuracy: 0.8971 - val_loss: 0.3441 - val_accuracy: 0.8557\n",
      "Epoch 16/40\n",
      "30/30 [==============================] - 3s 86ms/step - loss: 0.2487 - accuracy: 0.9077 - val_loss: 0.3336 - val_accuracy: 0.8607\n",
      "Epoch 17/40\n",
      "30/30 [==============================] - 2s 69ms/step - loss: 0.2319 - accuracy: 0.9171 - val_loss: 0.3257 - val_accuracy: 0.8642\n",
      "Epoch 18/40\n",
      "30/30 [==============================] - 2s 82ms/step - loss: 0.2173 - accuracy: 0.9221 - val_loss: 0.3201 - val_accuracy: 0.8659\n",
      "Epoch 19/40\n",
      "30/30 [==============================] - 2s 68ms/step - loss: 0.2031 - accuracy: 0.9284 - val_loss: 0.3148 - val_accuracy: 0.8688\n",
      "Epoch 20/40\n",
      "30/30 [==============================] - 2s 83ms/step - loss: 0.1902 - accuracy: 0.9344 - val_loss: 0.3114 - val_accuracy: 0.8693\n",
      "Epoch 21/40\n",
      "30/30 [==============================] - 2s 73ms/step - loss: 0.1785 - accuracy: 0.9388 - val_loss: 0.3092 - val_accuracy: 0.8708\n",
      "Epoch 22/40\n",
      "30/30 [==============================] - 2s 51ms/step - loss: 0.1677 - accuracy: 0.9437 - val_loss: 0.3070 - val_accuracy: 0.8729\n",
      "Epoch 23/40\n",
      "30/30 [==============================] - 2s 74ms/step - loss: 0.1573 - accuracy: 0.9483 - val_loss: 0.3068 - val_accuracy: 0.8733\n",
      "Epoch 24/40\n",
      "30/30 [==============================] - 2s 64ms/step - loss: 0.1481 - accuracy: 0.9534 - val_loss: 0.3064 - val_accuracy: 0.8728\n",
      "Epoch 25/40\n",
      "30/30 [==============================] - 3s 106ms/step - loss: 0.1394 - accuracy: 0.9572 - val_loss: 0.3072 - val_accuracy: 0.8742\n",
      "Epoch 26/40\n",
      "30/30 [==============================] - 2s 65ms/step - loss: 0.1320 - accuracy: 0.9601 - val_loss: 0.3093 - val_accuracy: 0.8742\n",
      "Epoch 27/40\n",
      "30/30 [==============================] - 2s 80ms/step - loss: 0.1236 - accuracy: 0.9632 - val_loss: 0.3109 - val_accuracy: 0.8733\n",
      "Epoch 28/40\n",
      "30/30 [==============================] - 2s 53ms/step - loss: 0.1168 - accuracy: 0.9659 - val_loss: 0.3114 - val_accuracy: 0.8749\n",
      "Epoch 29/40\n",
      "30/30 [==============================] - 2s 81ms/step - loss: 0.1094 - accuracy: 0.9685 - val_loss: 0.3133 - val_accuracy: 0.8756\n",
      "Epoch 30/40\n",
      "30/30 [==============================] - 2s 58ms/step - loss: 0.1029 - accuracy: 0.9706 - val_loss: 0.3155 - val_accuracy: 0.8756\n",
      "Epoch 31/40\n",
      "30/30 [==============================] - 2s 66ms/step - loss: 0.0969 - accuracy: 0.9734 - val_loss: 0.3199 - val_accuracy: 0.8742\n",
      "Epoch 32/40\n",
      "30/30 [==============================] - 2s 68ms/step - loss: 0.0915 - accuracy: 0.9757 - val_loss: 0.3241 - val_accuracy: 0.8735\n",
      "Epoch 33/40\n",
      "30/30 [==============================] - 2s 76ms/step - loss: 0.0856 - accuracy: 0.9776 - val_loss: 0.3267 - val_accuracy: 0.8740\n",
      "Epoch 34/40\n",
      "30/30 [==============================] - 2s 81ms/step - loss: 0.0807 - accuracy: 0.9800 - val_loss: 0.3299 - val_accuracy: 0.8750\n",
      "Epoch 35/40\n",
      "30/30 [==============================] - 2s 60ms/step - loss: 0.0758 - accuracy: 0.9817 - val_loss: 0.3352 - val_accuracy: 0.8742\n",
      "Epoch 36/40\n",
      "30/30 [==============================] - 2s 65ms/step - loss: 0.0710 - accuracy: 0.9833 - val_loss: 0.3397 - val_accuracy: 0.8740\n",
      "Epoch 37/40\n",
      "30/30 [==============================] - 2s 65ms/step - loss: 0.0669 - accuracy: 0.9843 - val_loss: 0.3438 - val_accuracy: 0.8737\n",
      "Epoch 38/40\n",
      "30/30 [==============================] - 3s 87ms/step - loss: 0.0627 - accuracy: 0.9858 - val_loss: 0.3495 - val_accuracy: 0.8735\n",
      "Epoch 39/40\n",
      "30/30 [==============================] - 2s 77ms/step - loss: 0.0587 - accuracy: 0.9878 - val_loss: 0.3540 - val_accuracy: 0.8724\n",
      "Epoch 40/40\n",
      "30/30 [==============================] - 2s 64ms/step - loss: 0.0554 - accuracy: 0.9888 - val_loss: 0.3590 - val_accuracy: 0.8724\n"
     ]
    }
   ],
   "source": [
    "history = model.fit(partial_x_train,\n",
    "                   partial_y_train,\n",
    "                   epochs=40,\n",
    "                   batch_size=512,\n",
    "                   validation_data=(x_val, y_val),\n",
    "                   verbose=1)"
   ]
  },
  {
   "cell_type": "markdown",
   "metadata": {},
   "source": [
    "## Evaluate the model\n",
    "See how the model performs. Two values will be returned. Loss (this number represents the model's error, thus lower is better), and accuracy."
   ]
  },
  {
   "cell_type": "code",
   "execution_count": 22,
   "metadata": {},
   "outputs": [
    {
     "name": "stdout",
     "output_type": "stream",
     "text": [
      "  1/782 [..............................] - ETA: 0s - loss: 0.6316 - accuracy: 0.7812WARNING:tensorflow:Callbacks method `on_test_batch_end` is slow compared to the batch time (batch time: 0.0000s vs `on_test_batch_end` time: 0.0078s). Check your callbacks.\n"
     ]
    },
    {
     "name": "stderr",
     "output_type": "stream",
     "text": [
      "WARNING:tensorflow:Callbacks method `on_test_batch_end` is slow compared to the batch time (batch time: 0.0000s vs `on_test_batch_end` time: 0.0078s). Check your callbacks.\n"
     ]
    },
    {
     "name": "stdout",
     "output_type": "stream",
     "text": [
      "782/782 [==============================] - 4s 5ms/step - loss: 0.3829 - accuracy: 0.8604\n",
      "[0.38285672664642334, 0.8604000210762024]\n"
     ]
    }
   ],
   "source": [
    "results = model.evaluate(test_data, test_labels)\n",
    "\n",
    "print(results)"
   ]
  },
  {
   "cell_type": "markdown",
   "metadata": {},
   "source": [
    "This relatively naive approach achieves an accuracy of 86%. This model can be improved with more advanced approaches to reach 95%."
   ]
  },
  {
   "cell_type": "markdown",
   "metadata": {},
   "source": [
    "## Create a graph of accuracy and loss over time\n",
    "model.fit() returns a History object that contains a dictionary with everything that occurred during training:"
   ]
  },
  {
   "cell_type": "code",
   "execution_count": 23,
   "metadata": {},
   "outputs": [
    {
     "data": {
      "text/plain": [
       "dict_keys(['loss', 'accuracy', 'val_loss', 'val_accuracy'])"
      ]
     },
     "execution_count": 23,
     "metadata": {},
     "output_type": "execute_result"
    }
   ],
   "source": [
    "history_dict = history.history\n",
    "history_dict.keys()"
   ]
  },
  {
   "cell_type": "markdown",
   "metadata": {},
   "source": [
    "There are four entries: one for each monitored metric during training and validation. These can be used to plot the training and validation loss for comparison, as well as the training and validation accuracy:"
   ]
  },
  {
   "cell_type": "code",
   "execution_count": 24,
   "metadata": {},
   "outputs": [
    {
     "data": {
      "image/png": "[encoded data removed]",
      "text/plain": [
       "<Figure size 432x288 with 1 Axes>"
      ]
     },
     "metadata": {
      "needs_background": "light"
     },
     "output_type": "display_data"
    }
   ],
   "source": [
    "acc = history_dict['accuracy']\n",
    "val_acc = history_dict['val_accuracy']\n",
    "loss = history_dict['loss']\n",
    "val_loss = history_dict['val_loss']\n",
    "\n",
    "epochs = range(1, len(acc) + 1)\n",
    "\n",
    "# \"bo\" is for \" blue dot\"\n",
    "plt.plot(epochs, loss, 'bo', label='Training loss')\n",
    "# \"b\" is for \"solid blue line\"\n",
    "plt.plot(epochs, val_loss, 'b', label='Validation loss')\n",
    "plt.title('Training and validation loss')\n",
    "plt.xlabel('Epochs')\n",
    "plt.ylabel('Loss')\n",
    "plt.legend()\n",
    "\n",
    "plt.show()"
   ]
  },
  {
   "cell_type": "code",
   "execution_count": 25,
   "metadata": {},
   "outputs": [
    {
     "data": {
      "image/png": "[encoded data removed]",
      "text/plain": [
       "<Figure size 432x288 with 1 Axes>"
      ]
     },
     "metadata": {
      "needs_background": "light"
     },
     "output_type": "display_data"
    }
   ],
   "source": [
    "plt.clf() # clear figure\n",
    "\n",
    "plt.plot(epochs, acc, 'bo', label='Training acc')\n",
    "plt.plot(epochs, val_acc, 'b', label='Validation acc')\n",
    "plt.title('Training and validation accuracy')\n",
    "plt.xlabel('Epochs')\n",
    "plt.ylabel('Accuracy')\n",
    "plt.legend()\n",
    "\n",
    "plt.show()"
   ]
  },
  {
   "cell_type": "markdown",
   "metadata": {},
   "source": [
    "For this plot, the dots represent the training loss and training accuracy, and the solid lines are the validation loss and accuracy.\n",
    "\n",
    "Notice the training loss decreases with each epoch and the training accuracy increases with each epoch. This is to be expected when using a gradient descent optimisation, as it should minimise the desired quantity on each iteration.\n",
    "\n",
    "This is not the case for validation loss and accuracy, as they appear to peak after twenty epochs. This is an example of overfitting, where the model performs better on training data than on new data. After this point, the model over-optimises and learns representations specific to the training data that do not translate to the test data.\n",
    "\n",
    "In this example, overfitting can be prevented by stopping the training after twenty epochs. This can be achieved using a callback."
   ]
  }
 ],
 "metadata": {
  "kernelspec": {
   "display_name": "Python 3",
   "language": "python",
   "name": "python3"
  },
  "language_info": {
   "codemirror_mode": {
    "name": "ipython",
    "version": 3
   },
   "file_extension": ".py",
   "mimetype": "text/x-python",
   "name": "python",
   "nbconvert_exporter": "python",
   "pygments_lexer": "ipython3",
   "version": "3.8.3"
  }
 },
 "nbformat": 4,
 "nbformat_minor": 4
}
