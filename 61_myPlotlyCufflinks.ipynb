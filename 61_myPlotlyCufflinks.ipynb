{
 "cells": [
  {
   "cell_type": "code",
   "execution_count": 21,
   "metadata": {},
   "outputs": [],
   "source": [
    "import pandas as pd\n",
    "import numpy as np\n",
    "%matplotlib inline\n",
    "from plotly import __version__\n",
    "#import chart_studio.plotly as py"
   ]
  },
  {
   "cell_type": "code",
   "execution_count": 9,
   "metadata": {},
   "outputs": [
    {
     "name": "stdout",
     "output_type": "stream",
     "text": [
      "4.7.1\n"
     ]
    }
   ],
   "source": [
    "print(__version__)"
   ]
  },
  {
   "cell_type": "code",
   "execution_count": 10,
   "metadata": {},
   "outputs": [],
   "source": [
    "import cufflinks as cf"
   ]
  },
  {
   "cell_type": "code",
   "execution_count": 11,
   "metadata": {},
   "outputs": [],
   "source": [
    "from plotly.offline import download_plotlyjs,init_notebook_mode,plot,iplot\n",
    "# to be able to use cufflinks libraries offline"
   ]
  },
  {
   "cell_type": "code",
   "execution_count": 14,
   "metadata": {},
   "outputs": [
    {
     "data": {
      "text/html": [
       "        <script type=\"text/javascript\">\n",
       "        window.PlotlyConfig = {MathJaxConfig: 'local'};\n",
       "        if (window.MathJax) {MathJax.Hub.Config({SVG: {font: \"STIX-Web\"}});}\n",
       "        if (typeof require !== 'undefined') {\n",
       "        require.undef(\"plotly\");\n",
       "        requirejs.config({\n",
       "            paths: {\n",
       "                'plotly': ['https://cdn.plot.ly/plotly-latest.min']\n",
       "            }\n",
       "        });\n",
       "        require(['plotly'], function(Plotly) {\n",
       "            window._Plotly = Plotly;\n",
       "        });\n",
       "        }\n",
       "        </script>\n",
       "        "
      ]
     },
     "metadata": {},
     "output_type": "display_data"
    }
   ],
   "source": [
    "init_notebook_mode(connected=True)\n",
    "# to be able to use it in a notebook, connects javascript to notebook"
   ]
  },
  {
   "cell_type": "code",
   "execution_count": 13,
   "metadata": {},
   "outputs": [
    {
     "data": {
      "text/html": [
       "        <script type=\"text/javascript\">\n",
       "        window.PlotlyConfig = {MathJaxConfig: 'local'};\n",
       "        if (window.MathJax) {MathJax.Hub.Config({SVG: {font: \"STIX-Web\"}});}\n",
       "        if (typeof require !== 'undefined') {\n",
       "        require.undef(\"plotly\");\n",
       "        requirejs.config({\n",
       "            paths: {\n",
       "                'plotly': ['https://cdn.plot.ly/plotly-latest.min']\n",
       "            }\n",
       "        });\n",
       "        require(['plotly'], function(Plotly) {\n",
       "            window._Plotly = Plotly;\n",
       "        });\n",
       "        }\n",
       "        </script>\n",
       "        "
      ]
     },
     "metadata": {},
     "output_type": "display_data"
    }
   ],
   "source": [
    "cf.go_offline()\n",
    "# to be able to use cufflinks offline"
   ]
  },
  {
   "cell_type": "code",
   "execution_count": 19,
   "metadata": {},
   "outputs": [
    {
     "data": {
      "text/html": [
       "<div>\n",
       "<style scoped>\n",
       "    .dataframe tbody tr th:only-of-type {\n",
       "        vertical-align: middle;\n",
       "    }\n",
       "\n",
       "    .dataframe tbody tr th {\n",
       "        vertical-align: top;\n",
       "    }\n",
       "\n",
       "    .dataframe thead th {\n",
       "        text-align: right;\n",
       "    }\n",
       "</style>\n",
       "<table border=\"1\" class=\"dataframe\">\n",
       "  <thead>\n",
       "    <tr style=\"text-align: right;\">\n",
       "      <th></th>\n",
       "      <th>A</th>\n",
       "      <th>B</th>\n",
       "      <th>C</th>\n",
       "      <th>D</th>\n",
       "    </tr>\n",
       "  </thead>\n",
       "  <tbody>\n",
       "    <tr>\n",
       "      <th>0</th>\n",
       "      <td>-1.516268</td>\n",
       "      <td>0.756056</td>\n",
       "      <td>0.807533</td>\n",
       "      <td>0.401492</td>\n",
       "    </tr>\n",
       "    <tr>\n",
       "      <th>1</th>\n",
       "      <td>-1.920788</td>\n",
       "      <td>0.186162</td>\n",
       "      <td>1.177428</td>\n",
       "      <td>-1.052784</td>\n",
       "    </tr>\n",
       "    <tr>\n",
       "      <th>2</th>\n",
       "      <td>1.037397</td>\n",
       "      <td>-0.459464</td>\n",
       "      <td>-0.601421</td>\n",
       "      <td>0.678319</td>\n",
       "    </tr>\n",
       "    <tr>\n",
       "      <th>3</th>\n",
       "      <td>0.149535</td>\n",
       "      <td>0.536373</td>\n",
       "      <td>0.078326</td>\n",
       "      <td>0.764994</td>\n",
       "    </tr>\n",
       "    <tr>\n",
       "      <th>4</th>\n",
       "      <td>-3.999485</td>\n",
       "      <td>-0.282691</td>\n",
       "      <td>-1.715501</td>\n",
       "      <td>-1.127416</td>\n",
       "    </tr>\n",
       "  </tbody>\n",
       "</table>\n",
       "</div>"
      ],
      "text/plain": [
       "          A         B         C         D\n",
       "0 -1.516268  0.756056  0.807533  0.401492\n",
       "1 -1.920788  0.186162  1.177428 -1.052784\n",
       "2  1.037397 -0.459464 -0.601421  0.678319\n",
       "3  0.149535  0.536373  0.078326  0.764994\n",
       "4 -3.999485 -0.282691 -1.715501 -1.127416"
      ]
     },
     "execution_count": 19,
     "metadata": {},
     "output_type": "execute_result"
    }
   ],
   "source": [
    "# create some data\n",
    "df = pd.DataFrame(np.random.randn(100,4),columns='A B C D'.split())\n",
    "df.head()"
   ]
  },
  {
   "cell_type": "code",
   "execution_count": 20,
   "metadata": {},
   "outputs": [
    {
     "data": {
      "text/html": [
       "<div>\n",
       "<style scoped>\n",
       "    .dataframe tbody tr th:only-of-type {\n",
       "        vertical-align: middle;\n",
       "    }\n",
       "\n",
       "    .dataframe tbody tr th {\n",
       "        vertical-align: top;\n",
       "    }\n",
       "\n",
       "    .dataframe thead th {\n",
       "        text-align: right;\n",
       "    }\n",
       "</style>\n",
       "<table border=\"1\" class=\"dataframe\">\n",
       "  <thead>\n",
       "    <tr style=\"text-align: right;\">\n",
       "      <th></th>\n",
       "      <th>Category</th>\n",
       "      <th>Values</th>\n",
       "    </tr>\n",
       "  </thead>\n",
       "  <tbody>\n",
       "    <tr>\n",
       "      <th>0</th>\n",
       "      <td>A</td>\n",
       "      <td>32</td>\n",
       "    </tr>\n",
       "    <tr>\n",
       "      <th>1</th>\n",
       "      <td>B</td>\n",
       "      <td>43</td>\n",
       "    </tr>\n",
       "    <tr>\n",
       "      <th>2</th>\n",
       "      <td>C</td>\n",
       "      <td>50</td>\n",
       "    </tr>\n",
       "  </tbody>\n",
       "</table>\n",
       "</div>"
      ],
      "text/plain": [
       "  Category  Values\n",
       "0        A      32\n",
       "1        B      43\n",
       "2        C      50"
      ]
     },
     "execution_count": 20,
     "metadata": {},
     "output_type": "execute_result"
    }
   ],
   "source": [
    "df2 = pd.DataFrame({'Category':['A','B','C'],'Values':[32,43,50]})\n",
    "df2"
   ]
  },
  {
   "cell_type": "code",
   "execution_count": 22,
   "metadata": {},
   "outputs": [
    {
     "data": {
      "text/plain": [
       "<matplotlib.axes._subplots.AxesSubplot at 0x214ffead508>"
      ]
     },
     "execution_count": 22,
     "metadata": {},
     "output_type": "execute_result"
    },
    {
     "data": {
      "image/png": "[encoded data removed]",
      "text/plain": [
       "<Figure size 432x288 with 1 Axes>"
      ]
     },
     "metadata": {
      "needs_background": "light"
     },
     "output_type": "display_data"
    }
   ],
   "source": [
    "df.plot()"
   ]
  },
  {
   "cell_type": "code",
   "execution_count": 23,
   "metadata": {},
   "outputs": [
    {
     "data": {
      "application/vnd.plotly.v1+json": {
       "config": {
        "linkText": "Export to plot.ly",
        "plotlyServerURL": "https://plot.ly",
        "showLink": true
       },
       "data": [
        {
         "line": {
          "color": "rgba(255, 153, 51, 1.0)",
          "dash": "solid",
          "shape": "linear",
          "width": 1.3
         },
         "mode": "lines",
         "name": "A",
         "text": "",
         "type": "scatter",
         "x": [
          0,
          1,
          2,
          3,
          4,
          5,
          6,
          7,
          8,
          9,
          10,
          11,
          12,
          13,
          14,
          15,
          16,
          17,
          18,
          19,
          20,
          21,
          22,
          23,
          24,
          25,
          26,
          27,
          28,
          29,
          30,
          31,
          32,
          33,
          34,
          35,
          36,
          37,
          38,
          39,
          40,
          41,
          42,
          43,
          44,
          45,
          46,
          47,
          48,
          49,
          50,
          51,
          52,
          53,
          54,
          55,
          56,
          57,
          58,
          59,
          60,
          61,
          62,
          63,
          64,
          65,
          66,
          67,
          68,
          69,
          70,
          71,
          72,
          73,
          74,
          75,
          76,
          77,
          78,
          79,
          80,
          81,
          82,
          83,
          84,
          85,
          86,
          87,
          88,
          89,
          90,
          91,
          92,
          93,
          94,
          95,
          96,
          97,
          98,
          99
         ],
         "y": [
          -1.516267560230567,
          -1.9207884175074055,
          1.0373966535124963,
          0.14953510936685668,
          -3.999485447186093,
          0.41440508516482133,
          0.7429422015904862,
          -1.4289512487530127,
          0.6905534850783236,
          0.11506940258331375,
          1.9618318262179413,
          0.4820087067882209,
          0.010833293229753694,
          -0.595929986198764,
          -2.113531329590608,
          1.3475913692139152,
          -0.17027902129753222,
          -1.7647043330033494,
          -0.7618858921940336,
          -0.32990065514115696,
          0.5275932665014055,
          -0.012597174270982791,
          0.977197771133166,
          -0.32632061640685095,
          0.08292817175283175,
          -0.8344479918217037,
          1.568391586495905,
          0.35928326522581105,
          -0.6938103952930875,
          0.2879566156066621,
          0.020560596221972264,
          -0.6608720159459609,
          -1.3379447458259173,
          0.09976969555504292,
          -1.8342513136627003,
          0.9586876894546607,
          -1.1058337722839024,
          0.5406356582921222,
          -1.9079890868367126,
          0.25673390912073035,
          -0.09844552196478548,
          0.547433763312957,
          -1.2925028155368672,
          -1.0266178727650466,
          1.1507359785118991,
          -0.4331137041199937,
          0.3750983126336917,
          -0.956571917947313,
          -0.6306287050127768,
          1.1658314936903746,
          0.20727664611040933,
          -0.7125620965948533,
          -1.2329857567549423,
          -1.19301842269195,
          0.7344866094623589,
          0.24825131328164876,
          -0.0703592808778631,
          -0.3940635524410132,
          0.8837620159811025,
          -0.5882788998946945,
          0.857686324715227,
          -1.2759414075844788,
          0.1849841116242509,
          -0.9889213556524264,
          0.37665713077589197,
          0.06736189675688638,
          0.7757816466321904,
          1.0197517246852932,
          2.1963839769565587,
          1.6228329344349806,
          -0.417307672140243,
          0.4883689747400217,
          1.0063943302757847,
          -0.641507073385344,
          0.2592738354357245,
          -1.115946078959094,
          0.4121599174934557,
          -0.5158597744247898,
          1.1280022315312952,
          -0.3627082124069788,
          0.7816328424346314,
          1.1133691254531146,
          1.776942182023018,
          -0.2100716526582734,
          -0.8832821040096712,
          0.10615505370341051,
          -1.2015298986284144,
          -1.6001804881901893,
          -1.0807816016045844,
          -0.9463689237520007,
          -0.5501717411155009,
          0.6915172170167367,
          1.3927574947291392,
          -1.4420007770037622,
          0.9858512592211613,
          -0.6690552083723248,
          -0.23614428440751595,
          -0.30191933616375166,
          1.1650348858496635,
          0.12403058093384871
         ]
        },
        {
         "line": {
          "color": "rgba(55, 128, 191, 1.0)",
          "dash": "solid",
          "shape": "linear",
          "width": 1.3
         },
         "mode": "lines",
         "name": "B",
         "text": "",
         "type": "scatter",
         "x": [
          0,
          1,
          2,
          3,
          4,
          5,
          6,
          7,
          8,
          9,
          10,
          11,
          12,
          13,
          14,
          15,
          16,
          17,
          18,
          19,
          20,
          21,
          22,
          23,
          24,
          25,
          26,
          27,
          28,
          29,
          30,
          31,
          32,
          33,
          34,
          35,
          36,
          37,
          38,
          39,
          40,
          41,
          42,
          43,
          44,
          45,
          46,
          47,
          48,
          49,
          50,
          51,
          52,
          53,
          54,
          55,
          56,
          57,
          58,
          59,
          60,
          61,
          62,
          63,
          64,
          65,
          66,
          67,
          68,
          69,
          70,
          71,
          72,
          73,
          74,
          75,
          76,
          77,
          78,
          79,
          80,
          81,
          82,
          83,
          84,
          85,
          86,
          87,
          88,
          89,
          90,
          91,
          92,
          93,
          94,
          95,
          96,
          97,
          98,
          99
         ],
         "y": [
          0.7560556932599837,
          0.1861617358883027,
          -0.45946401974499407,
          0.5363725650333798,
          -0.2826907049744466,
          0.9869378586623979,
          -0.6293265326245278,
          0.34986000372960885,
          -0.5320627851308627,
          -1.0447729626343751,
          -0.02070322248580189,
          0.6798959897817697,
          0.5763501818321275,
          2.223053447818855,
          -0.8875788326999193,
          0.1615787630842412,
          0.3567709085089428,
          0.5248938481707832,
          0.9271245772107571,
          -0.7937188090872309,
          -0.6378307034357991,
          -0.17620310244789048,
          -0.23574356411919412,
          -1.527418059284275,
          -1.4533726991112783,
          -1.2953156503840655,
          0.6210477547351118,
          0.15506917930022304,
          1.1950725809051264,
          -0.04247534795006339,
          0.7659378064150684,
          -0.5615692618981515,
          0.5737791878517139,
          -1.6006308572561425,
          -2.0333950285797724,
          0.9346585456145193,
          0.9488633527962949,
          -0.4745063070449874,
          -0.7734177445027147,
          1.16465395450693,
          1.4686285828616743,
          -0.7166223975541242,
          -1.2791480009837546,
          -1.3619596644254246,
          0.7391929603399298,
          1.1533967674155505,
          0.3919443359002727,
          -0.9920921182175484,
          -0.9872936922072552,
          0.9000315317637086,
          0.004605680217882535,
          0.1132365767180532,
          -2.435324506895573,
          -0.7597271181186379,
          -0.5264360772598415,
          -0.3121916127736122,
          1.2307918201579024,
          1.869523187447704,
          -0.8858686376106412,
          0.543726783419556,
          -0.24643024780589254,
          -1.0030147432944985,
          -0.16165591281686184,
          2.226299463444169,
          -0.9553257863435494,
          -0.29638314164963764,
          3.0766450558184446,
          0.5921688084872822,
          -0.5443244331161018,
          0.34831653131719215,
          0.07205649871924576,
          1.6331107284138258,
          -0.5047645502368753,
          1.9948204982562445,
          0.24547203312160698,
          -0.27026650540474917,
          -0.08129411360953269,
          0.5285605980807471,
          0.5823235382880914,
          -0.2600138020280055,
          -0.16891644200176278,
          0.1014571072555472,
          -0.3585139768204954,
          -1.6969407642537817,
          0.9902414663906203,
          -0.7067845545991822,
          -1.3549550916722233,
          0.3266717614722,
          0.722908659201581,
          -0.48226300279897943,
          -2.6040444968163907,
          -1.1310424188559618,
          -2.016050162462118,
          -0.8432923110307549,
          0.1718208037412506,
          -0.6124292996478096,
          -1.257773712778361,
          -1.6465683792803527,
          0.14999425467185448,
          -0.24201883863756485
         ]
        },
        {
         "line": {
          "color": "rgba(50, 171, 96, 1.0)",
          "dash": "solid",
          "shape": "linear",
          "width": 1.3
         },
         "mode": "lines",
         "name": "C",
         "text": "",
         "type": "scatter",
         "x": [
          0,
          1,
          2,
          3,
          4,
          5,
          6,
          7,
          8,
          9,
          10,
          11,
          12,
          13,
          14,
          15,
          16,
          17,
          18,
          19,
          20,
          21,
          22,
          23,
          24,
          25,
          26,
          27,
          28,
          29,
          30,
          31,
          32,
          33,
          34,
          35,
          36,
          37,
          38,
          39,
          40,
          41,
          42,
          43,
          44,
          45,
          46,
          47,
          48,
          49,
          50,
          51,
          52,
          53,
          54,
          55,
          56,
          57,
          58,
          59,
          60,
          61,
          62,
          63,
          64,
          65,
          66,
          67,
          68,
          69,
          70,
          71,
          72,
          73,
          74,
          75,
          76,
          77,
          78,
          79,
          80,
          81,
          82,
          83,
          84,
          85,
          86,
          87,
          88,
          89,
          90,
          91,
          92,
          93,
          94,
          95,
          96,
          97,
          98,
          99
         ],
         "y": [
          0.8075329633556021,
          1.1774280375163513,
          -0.6014210535259376,
          0.07832612005513975,
          -1.7155009840661166,
          0.7035414537135141,
          0.8417927248686057,
          0.3748580340476217,
          -0.304945229712358,
          0.4211204380864479,
          0.735136750654394,
          -0.2741375696064217,
          -0.9351479186335825,
          -1.1396293625847214,
          0.6140068231092876,
          0.3562576971054651,
          -0.7047026891394264,
          -0.9432943051102678,
          0.7597156187613746,
          0.8464495262910379,
          0.6868534419181007,
          -0.8562197378807854,
          -0.5815031808440854,
          0.051146836255641655,
          1.367564231862464,
          -0.46229837263073564,
          2.2475048457753886,
          -0.8619959017315432,
          -0.908873144834571,
          -0.39423141306929993,
          0.1891999834297446,
          1.3165420591801689,
          0.3529560878107613,
          1.05534709251322,
          0.7731486762660107,
          1.6042316111721489,
          -0.4105421652787086,
          0.21597120648202386,
          -0.4048423743583727,
          -0.5410710325474366,
          1.3029986750296814,
          -1.2216582067120945,
          -0.2877632187371062,
          0.2864779198647285,
          1.212951585281548,
          0.6485129056737563,
          0.18531217997808083,
          -0.680445857051702,
          0.5170626300905937,
          -0.8328571848850191,
          1.0089132907191372,
          0.5605661111024343,
          -0.5418390448470031,
          -0.057394466151699276,
          -0.02762680605564009,
          -1.2589958382873707,
          0.9175957862194427,
          1.3027871559059288,
          -0.4184142964253094,
          -0.015556868338890308,
          -0.7472347864718828,
          -0.641803946445278,
          1.0688577905407268,
          0.2479386831831523,
          0.8015844949247076,
          -0.7586268387861957,
          -0.38405669593162456,
          -0.8505493494111646,
          -0.42971382252105217,
          0.5971083106876616,
          -1.1080763354452292,
          0.9126658039380318,
          0.8368071245792087,
          0.4160418406091262,
          2.3259294956907732,
          0.6625347106516749,
          1.1190819353211914,
          -0.18104618713916434,
          -0.01837031625668125,
          0.4562313734425662,
          -0.7531440947132809,
          -0.9683539960380266,
          -0.10537954212188595,
          -0.6149617031626683,
          -0.04292467163872477,
          -0.18099266235163322,
          -0.33022789800633723,
          0.9596997277449528,
          0.12471184363949661,
          0.522556467422449,
          0.871303923310238,
          -1.4661486934626757,
          0.24887468376197597,
          2.256319398182052,
          1.16405886946189,
          0.5128261275993566,
          -0.768220685178201,
          -0.09127765202544696,
          -1.0973940577290768,
          -0.9682176998418792
         ]
        },
        {
         "line": {
          "color": "rgba(128, 0, 128, 1.0)",
          "dash": "solid",
          "shape": "linear",
          "width": 1.3
         },
         "mode": "lines",
         "name": "D",
         "text": "",
         "type": "scatter",
         "x": [
          0,
          1,
          2,
          3,
          4,
          5,
          6,
          7,
          8,
          9,
          10,
          11,
          12,
          13,
          14,
          15,
          16,
          17,
          18,
          19,
          20,
          21,
          22,
          23,
          24,
          25,
          26,
          27,
          28,
          29,
          30,
          31,
          32,
          33,
          34,
          35,
          36,
          37,
          38,
          39,
          40,
          41,
          42,
          43,
          44,
          45,
          46,
          47,
          48,
          49,
          50,
          51,
          52,
          53,
          54,
          55,
          56,
          57,
          58,
          59,
          60,
          61,
          62,
          63,
          64,
          65,
          66,
          67,
          68,
          69,
          70,
          71,
          72,
          73,
          74,
          75,
          76,
          77,
          78,
          79,
          80,
          81,
          82,
          83,
          84,
          85,
          86,
          87,
          88,
          89,
          90,
          91,
          92,
          93,
          94,
          95,
          96,
          97,
          98,
          99
         ],
         "y": [
          0.4014918667753453,
          -1.0527835785103015,
          0.6783187881078234,
          0.7649936889727516,
          -1.1274163808466917,
          0.23231053135724067,
          -0.6234847256031335,
          0.5177435401456703,
          -1.3497744575101418,
          -0.9445947799978384,
          0.9993230603164184,
          -0.32813659124069827,
          -2.4873454326976416,
          0.23373081431391704,
          -1.2698236657889295,
          -1.0819958194740864,
          0.48944497238523554,
          -0.0870913581820666,
          0.4520894854769399,
          0.3685869778498855,
          -0.018623861888844594,
          -0.7361625385230917,
          -0.9379072634960933,
          -0.43271162020157156,
          0.5717431862977355,
          -1.0863445421513354,
          0.6895465419898549,
          -0.02104765288212073,
          0.21044849744988786,
          -0.21060376326527153,
          -0.1751901167494546,
          2.4267729695171383,
          1.1144251258610327,
          0.6088822364466963,
          1.0742530678495064,
          -1.673162766707186,
          0.8141293794284068,
          -0.671250126501007,
          -0.1119807844623894,
          0.6827059956836821,
          -2.0086429350470563,
          -0.3182967446586569,
          0.7566624514615232,
          -0.25674945298533824,
          0.5397642656518596,
          -2.1227957924654897,
          1.5314276962262283,
          1.4919611694698254,
          1.269574054782094,
          -1.0916311869393023,
          -0.3437996306930975,
          1.4347510492864688,
          1.2762427379159493,
          0.21416609162142103,
          -0.197175852514856,
          0.3223939268519974,
          0.4770435887408125,
          -1.2437863927715238,
          0.026588683601995435,
          0.32869167896277063,
          1.5214987121045702,
          0.821282750843137,
          0.4796940104196587,
          -0.8907667152685849,
          0.537578488866459,
          0.4846947974682395,
          -0.8342563397109818,
          0.9012246659006108,
          -0.031084575491218874,
          -0.4390259765356436,
          2.6497943870848877,
          0.15636182258080236,
          -0.04297633147906922,
          0.09414708464977088,
          -1.2680837159614444,
          -0.331002953982354,
          0.6895397124327335,
          -0.8093776634653645,
          -2.0170703969219725,
          0.33936665036701874,
          0.6943810852290068,
          0.624720221317302,
          0.5049175711349475,
          -0.11540280204630413,
          0.27341016033136567,
          0.8854226746417551,
          -0.3493524737887093,
          0.00017440721187257863,
          0.4571801241143655,
          -1.0474263154899806,
          -0.06046386609324998,
          -0.6420828131993251,
          -0.6128988878340906,
          0.8707626928414187,
          0.779901154494852,
          -0.762949383763312,
          -0.3161555736028018,
          0.9312707513336201,
          0.2176505285610799,
          -0.2166411172749589
         ]
        }
       ],
       "layout": {
        "legend": {
         "bgcolor": "#F5F6F9",
         "font": {
          "color": "#4D5663"
         }
        },
        "paper_bgcolor": "#F5F6F9",
        "plot_bgcolor": "#F5F6F9",
        "template": {
         "data": {
          "bar": [
           {
            "error_x": {
             "color": "#2a3f5f"
            },
            "error_y": {
             "color": "#2a3f5f"
            },
            "marker": {
             "line": {
              "color": "#E5ECF6",
              "width": 0.5
             }
            },
            "type": "bar"
           }
          ],
          "barpolar": [
           {
            "marker": {
             "line": {
              "color": "#E5ECF6",
              "width": 0.5
             }
            },
            "type": "barpolar"
           }
          ],
          "carpet": [
           {
            "aaxis": {
             "endlinecolor": "#2a3f5f",
             "gridcolor": "white",
             "linecolor": "white",
             "minorgridcolor": "white",
             "startlinecolor": "#2a3f5f"
            },
            "baxis": {
             "endlinecolor": "#2a3f5f",
             "gridcolor": "white",
             "linecolor": "white",
             "minorgridcolor": "white",
             "startlinecolor": "#2a3f5f"
            },
            "type": "carpet"
           }
          ],
          "choropleth": [
           {
            "colorbar": {
             "outlinewidth": 0,
             "ticks": ""
            },
            "type": "choropleth"
           }
          ],
          "contour": [
           {
            "colorbar": {
             "outlinewidth": 0,
             "ticks": ""
            },
            "colorscale": [
             [
              0,
              "#0d0887"
             ],
             [
              0.1111111111111111,
              "#46039f"
             ],
             [
              0.2222222222222222,
              "#7201a8"
             ],
             [
              0.3333333333333333,
              "#9c179e"
             ],
             [
              0.4444444444444444,
              "#bd3786"
             ],
             [
              0.5555555555555556,
              "#d8576b"
             ],
             [
              0.6666666666666666,
              "#ed7953"
             ],
             [
              0.7777777777777778,
              "#fb9f3a"
             ],
             [
              0.8888888888888888,
              "#fdca26"
             ],
             [
              1,
              "#f0f921"
             ]
            ],
            "type": "contour"
           }
          ],
          "contourcarpet": [
           {
            "colorbar": {
             "outlinewidth": 0,
             "ticks": ""
            },
            "type": "contourcarpet"
           }
          ],
          "heatmap": [
           {
            "colorbar": {
             "outlinewidth": 0,
             "ticks": ""
            },
            "colorscale": [
             [
              0,
              "#0d0887"
             ],
             [
              0.1111111111111111,
              "#46039f"
             ],
             [
              0.2222222222222222,
              "#7201a8"
             ],
             [
              0.3333333333333333,
              "#9c179e"
             ],
             [
              0.4444444444444444,
              "#bd3786"
             ],
             [
              0.5555555555555556,
              "#d8576b"
             ],
             [
              0.6666666666666666,
              "#ed7953"
             ],
             [
              0.7777777777777778,
              "#fb9f3a"
             ],
             [
              0.8888888888888888,
              "#fdca26"
             ],
             [
              1,
              "#f0f921"
             ]
            ],
            "type": "heatmap"
           }
          ],
          "heatmapgl": [
           {
            "colorbar": {
             "outlinewidth": 0,
             "ticks": ""
            },
            "colorscale": [
             [
              0,
              "#0d0887"
             ],
             [
              0.1111111111111111,
              "#46039f"
             ],
             [
              0.2222222222222222,
              "#7201a8"
             ],
             [
              0.3333333333333333,
              "#9c179e"
             ],
             [
              0.4444444444444444,
              "#bd3786"
             ],
             [
              0.5555555555555556,
              "#d8576b"
             ],
             [
              0.6666666666666666,
              "#ed7953"
             ],
             [
              0.7777777777777778,
              "#fb9f3a"
             ],
             [
              0.8888888888888888,
              "#fdca26"
             ],
             [
              1,
              "#f0f921"
             ]
            ],
            "type": "heatmapgl"
           }
          ],
          "histogram": [
           {
            "marker": {
             "colorbar": {
              "outlinewidth": 0,
              "ticks": ""
             }
            },
            "type": "histogram"
           }
          ],
          "histogram2d": [
           {
            "colorbar": {
             "outlinewidth": 0,
             "ticks": ""
            },
            "colorscale": [
             [
              0,
              "#0d0887"
             ],
             [
              0.1111111111111111,
              "#46039f"
             ],
             [
              0.2222222222222222,
              "#7201a8"
             ],
             [
              0.3333333333333333,
              "#9c179e"
             ],
             [
              0.4444444444444444,
              "#bd3786"
             ],
             [
              0.5555555555555556,
              "#d8576b"
             ],
             [
              0.6666666666666666,
              "#ed7953"
             ],
             [
              0.7777777777777778,
              "#fb9f3a"
             ],
             [
              0.8888888888888888,
              "#fdca26"
             ],
             [
              1,
              "#f0f921"
             ]
            ],
            "type": "histogram2d"
           }
          ],
          "histogram2dcontour": [
           {
            "colorbar": {
             "outlinewidth": 0,
             "ticks": ""
            },
            "colorscale": [
             [
              0,
              "#0d0887"
             ],
             [
              0.1111111111111111,
              "#46039f"
             ],
             [
              0.2222222222222222,
              "#7201a8"
             ],
             [
              0.3333333333333333,
              "#9c179e"
             ],
             [
              0.4444444444444444,
              "#bd3786"
             ],
             [
              0.5555555555555556,
              "#d8576b"
             ],
             [
              0.6666666666666666,
              "#ed7953"
             ],
             [
              0.7777777777777778,
              "#fb9f3a"
             ],
             [
              0.8888888888888888,
              "#fdca26"
             ],
             [
              1,
              "#f0f921"
             ]
            ],
            "type": "histogram2dcontour"
           }
          ],
          "mesh3d": [
           {
            "colorbar": {
             "outlinewidth": 0,
             "ticks": ""
            },
            "type": "mesh3d"
           }
          ],
          "parcoords": [
           {
            "line": {
             "colorbar": {
              "outlinewidth": 0,
              "ticks": ""
             }
            },
            "type": "parcoords"
           }
          ],
          "pie": [
           {
            "automargin": true,
            "type": "pie"
           }
          ],
          "scatter": [
           {
            "marker": {
             "colorbar": {
              "outlinewidth": 0,
              "ticks": ""
             }
            },
            "type": "scatter"
           }
          ],
          "scatter3d": [
           {
            "line": {
             "colorbar": {
              "outlinewidth": 0,
              "ticks": ""
             }
            },
            "marker": {
             "colorbar": {
              "outlinewidth": 0,
              "ticks": ""
             }
            },
            "type": "scatter3d"
           }
          ],
          "scattercarpet": [
           {
            "marker": {
             "colorbar": {
              "outlinewidth": 0,
              "ticks": ""
             }
            },
            "type": "scattercarpet"
           }
          ],
          "scattergeo": [
           {
            "marker": {
             "colorbar": {
              "outlinewidth": 0,
              "ticks": ""
             }
            },
            "type": "scattergeo"
           }
          ],
          "scattergl": [
           {
            "marker": {
             "colorbar": {
              "outlinewidth": 0,
              "ticks": ""
             }
            },
            "type": "scattergl"
           }
          ],
          "scattermapbox": [
           {
            "marker": {
             "colorbar": {
              "outlinewidth": 0,
              "ticks": ""
             }
            },
            "type": "scattermapbox"
           }
          ],
          "scatterpolar": [
           {
            "marker": {
             "colorbar": {
              "outlinewidth": 0,
              "ticks": ""
             }
            },
            "type": "scatterpolar"
           }
          ],
          "scatterpolargl": [
           {
            "marker": {
             "colorbar": {
              "outlinewidth": 0,
              "ticks": ""
             }
            },
            "type": "scatterpolargl"
           }
          ],
          "scatterternary": [
           {
            "marker": {
             "colorbar": {
              "outlinewidth": 0,
              "ticks": ""
             }
            },
            "type": "scatterternary"
           }
          ],
          "surface": [
           {
            "colorbar": {
             "outlinewidth": 0,
             "ticks": ""
            },
            "colorscale": [
             [
              0,
              "#0d0887"
             ],
             [
              0.1111111111111111,
              "#46039f"
             ],
             [
              0.2222222222222222,
              "#7201a8"
             ],
             [
              0.3333333333333333,
              "#9c179e"
             ],
             [
              0.4444444444444444,
              "#bd3786"
             ],
             [
              0.5555555555555556,
              "#d8576b"
             ],
             [
              0.6666666666666666,
              "#ed7953"
             ],
             [
              0.7777777777777778,
              "#fb9f3a"
             ],
             [
              0.8888888888888888,
              "#fdca26"
             ],
             [
              1,
              "#f0f921"
             ]
            ],
            "type": "surface"
           }
          ],
          "table": [
           {
            "cells": {
             "fill": {
              "color": "#EBF0F8"
             },
             "line": {
              "color": "white"
             }
            },
            "header": {
             "fill": {
              "color": "#C8D4E3"
             },
             "line": {
              "color": "white"
             }
            },
            "type": "table"
           }
          ]
         },
         "layout": {
          "annotationdefaults": {
           "arrowcolor": "#2a3f5f",
           "arrowhead": 0,
           "arrowwidth": 1
          },
          "coloraxis": {
           "colorbar": {
            "outlinewidth": 0,
            "ticks": ""
           }
          },
          "colorscale": {
           "diverging": [
            [
             0,
             "#8e0152"
            ],
            [
             0.1,
             "#c51b7d"
            ],
            [
             0.2,
             "#de77ae"
            ],
            [
             0.3,
             "#f1b6da"
            ],
            [
             0.4,
             "#fde0ef"
            ],
            [
             0.5,
             "#f7f7f7"
            ],
            [
             0.6,
             "#e6f5d0"
            ],
            [
             0.7,
             "#b8e186"
            ],
            [
             0.8,
             "#7fbc41"
            ],
            [
             0.9,
             "#4d9221"
            ],
            [
             1,
             "#276419"
            ]
           ],
           "sequential": [
            [
             0,
             "#0d0887"
            ],
            [
             0.1111111111111111,
             "#46039f"
            ],
            [
             0.2222222222222222,
             "#7201a8"
            ],
            [
             0.3333333333333333,
             "#9c179e"
            ],
            [
             0.4444444444444444,
             "#bd3786"
            ],
            [
             0.5555555555555556,
             "#d8576b"
            ],
            [
             0.6666666666666666,
             "#ed7953"
            ],
            [
             0.7777777777777778,
             "#fb9f3a"
            ],
            [
             0.8888888888888888,
             "#fdca26"
            ],
            [
             1,
             "#f0f921"
            ]
           ],
           "sequentialminus": [
            [
             0,
             "#0d0887"
            ],
            [
             0.1111111111111111,
             "#46039f"
            ],
            [
             0.2222222222222222,
             "#7201a8"
            ],
            [
             0.3333333333333333,
             "#9c179e"
            ],
            [
             0.4444444444444444,
             "#bd3786"
            ],
            [
             0.5555555555555556,
             "#d8576b"
            ],
            [
             0.6666666666666666,
             "#ed7953"
            ],
            [
             0.7777777777777778,
             "#fb9f3a"
            ],
            [
             0.8888888888888888,
             "#fdca26"
            ],
            [
             1,
             "#f0f921"
            ]
           ]
          },
          "colorway": [
           "#636efa",
           "#EF553B",
           "#00cc96",
           "#ab63fa",
           "#FFA15A",
           "#19d3f3",
           "#FF6692",
           "#B6E880",
           "#FF97FF",
           "#FECB52"
          ],
          "font": {
           "color": "#2a3f5f"
          },
          "geo": {
           "bgcolor": "white",
           "lakecolor": "white",
           "landcolor": "#E5ECF6",
           "showlakes": true,
           "showland": true,
           "subunitcolor": "white"
          },
          "hoverlabel": {
           "align": "left"
          },
          "hovermode": "closest",
          "mapbox": {
           "style": "light"
          },
          "paper_bgcolor": "white",
          "plot_bgcolor": "#E5ECF6",
          "polar": {
           "angularaxis": {
            "gridcolor": "white",
            "linecolor": "white",
            "ticks": ""
           },
           "bgcolor": "#E5ECF6",
           "radialaxis": {
            "gridcolor": "white",
            "linecolor": "white",
            "ticks": ""
           }
          },
          "scene": {
           "xaxis": {
            "backgroundcolor": "#E5ECF6",
            "gridcolor": "white",
            "gridwidth": 2,
            "linecolor": "white",
            "showbackground": true,
            "ticks": "",
            "zerolinecolor": "white"
           },
           "yaxis": {
            "backgroundcolor": "#E5ECF6",
            "gridcolor": "white",
            "gridwidth": 2,
            "linecolor": "white",
            "showbackground": true,
            "ticks": "",
            "zerolinecolor": "white"
           },
           "zaxis": {
            "backgroundcolor": "#E5ECF6",
            "gridcolor": "white",
            "gridwidth": 2,
            "linecolor": "white",
            "showbackground": true,
            "ticks": "",
            "zerolinecolor": "white"
           }
          },
          "shapedefaults": {
           "line": {
            "color": "#2a3f5f"
           }
          },
          "ternary": {
           "aaxis": {
            "gridcolor": "white",
            "linecolor": "white",
            "ticks": ""
           },
           "baxis": {
            "gridcolor": "white",
            "linecolor": "white",
            "ticks": ""
           },
           "bgcolor": "#E5ECF6",
           "caxis": {
            "gridcolor": "white",
            "linecolor": "white",
            "ticks": ""
           }
          },
          "title": {
           "x": 0.05
          },
          "xaxis": {
           "automargin": true,
           "gridcolor": "white",
           "linecolor": "white",
           "ticks": "",
           "title": {
            "standoff": 15
           },
           "zerolinecolor": "white",
           "zerolinewidth": 2
          },
          "yaxis": {
           "automargin": true,
           "gridcolor": "white",
           "linecolor": "white",
           "ticks": "",
           "title": {
            "standoff": 15
           },
           "zerolinecolor": "white",
           "zerolinewidth": 2
          }
         }
        },
        "title": {
         "font": {
          "color": "#4D5663"
         }
        },
        "xaxis": {
         "gridcolor": "#E1E5ED",
         "showgrid": true,
         "tickfont": {
          "color": "#4D5663"
         },
         "title": {
          "font": {
           "color": "#4D5663"
          },
          "text": ""
         },
         "zerolinecolor": "#E1E5ED"
        },
        "yaxis": {
         "gridcolor": "#E1E5ED",
         "showgrid": true,
         "tickfont": {
          "color": "#4D5663"
         },
         "title": {
          "font": {
           "color": "#4D5663"
          },
          "text": ""
         },
         "zerolinecolor": "#E1E5ED"
        }
       }
      },
      "text/html": [
       "<div>\n",
       "        \n",
       "        \n",
       "            <div id=\"da199cd2-8912-4dd3-a701-696af01b81a0\" class=\"plotly-graph-div\" style=\"height:525px; width:100%;\"></div>\n",
       "            <script type=\"text/javascript\">\n",
       "                require([\"plotly\"], function(Plotly) {\n",
       "                    window.PLOTLYENV=window.PLOTLYENV || {};\n",
       "                    window.PLOTLYENV.BASE_URL='https://plot.ly';\n",
       "                    \n",
       "                if (document.getElementById(\"da199cd2-8912-4dd3-a701-696af01b81a0\")) {\n",
       "                    Plotly.newPlot(\n",
       "                        'da199cd2-8912-4dd3-a701-696af01b81a0',\n",
       "                        [{\"line\": {\"color\": \"rgba(255, 153, 51, 1.0)\", \"dash\": \"solid\", \"shape\": \"linear\", \"width\": 1.3}, \"mode\": \"lines\", \"name\": \"A\", \"text\": \"\", \"type\": \"scatter\", \"x\": [0, 1, 2, 3, 4, 5, 6, 7, 8, 9, 10, 11, 12, 13, 14, 15, 16, 17, 18, 19, 20, 21, 22, 23, 24, 25, 26, 27, 28, 29, 30, 31, 32, 33, 34, 35, 36, 37, 38, 39, 40, 41, 42, 43, 44, 45, 46, 47, 48, 49, 50, 51, 52, 53, 54, 55, 56, 57, 58, 59, 60, 61, 62, 63, 64, 65, 66, 67, 68, 69, 70, 71, 72, 73, 74, 75, 76, 77, 78, 79, 80, 81, 82, 83, 84, 85, 86, 87, 88, 89, 90, 91, 92, 93, 94, 95, 96, 97, 98, 99], \"y\": [-1.516267560230567, -1.9207884175074055, 1.0373966535124963, 0.14953510936685668, -3.999485447186093, 0.41440508516482133, 0.7429422015904862, -1.4289512487530127, 0.6905534850783236, 0.11506940258331375, 1.9618318262179413, 0.4820087067882209, 0.010833293229753694, -0.595929986198764, -2.113531329590608, 1.3475913692139152, -0.17027902129753222, -1.7647043330033494, -0.7618858921940336, -0.32990065514115696, 0.5275932665014055, -0.012597174270982791, 0.977197771133166, -0.32632061640685095, 0.08292817175283175, -0.8344479918217037, 1.568391586495905, 0.35928326522581105, -0.6938103952930875, 0.2879566156066621, 0.020560596221972264, -0.6608720159459609, -1.3379447458259173, 0.09976969555504292, -1.8342513136627003, 0.9586876894546607, -1.1058337722839024, 0.5406356582921222, -1.9079890868367126, 0.25673390912073035, -0.09844552196478548, 0.547433763312957, -1.2925028155368672, -1.0266178727650466, 1.1507359785118991, -0.4331137041199937, 0.3750983126336917, -0.956571917947313, -0.6306287050127768, 1.1658314936903746, 0.20727664611040933, -0.7125620965948533, -1.2329857567549423, -1.19301842269195, 0.7344866094623589, 0.24825131328164876, -0.0703592808778631, -0.3940635524410132, 0.8837620159811025, -0.5882788998946945, 0.857686324715227, -1.2759414075844788, 0.1849841116242509, -0.9889213556524264, 0.37665713077589197, 0.06736189675688638, 0.7757816466321904, 1.0197517246852932, 2.1963839769565587, 1.6228329344349806, -0.417307672140243, 0.4883689747400217, 1.0063943302757847, -0.641507073385344, 0.2592738354357245, -1.115946078959094, 0.4121599174934557, -0.5158597744247898, 1.1280022315312952, -0.3627082124069788, 0.7816328424346314, 1.1133691254531146, 1.776942182023018, -0.2100716526582734, -0.8832821040096712, 0.10615505370341051, -1.2015298986284144, -1.6001804881901893, -1.0807816016045844, -0.9463689237520007, -0.5501717411155009, 0.6915172170167367, 1.3927574947291392, -1.4420007770037622, 0.9858512592211613, -0.6690552083723248, -0.23614428440751595, -0.30191933616375166, 1.1650348858496635, 0.12403058093384871]}, {\"line\": {\"color\": \"rgba(55, 128, 191, 1.0)\", \"dash\": \"solid\", \"shape\": \"linear\", \"width\": 1.3}, \"mode\": \"lines\", \"name\": \"B\", \"text\": \"\", \"type\": \"scatter\", \"x\": [0, 1, 2, 3, 4, 5, 6, 7, 8, 9, 10, 11, 12, 13, 14, 15, 16, 17, 18, 19, 20, 21, 22, 23, 24, 25, 26, 27, 28, 29, 30, 31, 32, 33, 34, 35, 36, 37, 38, 39, 40, 41, 42, 43, 44, 45, 46, 47, 48, 49, 50, 51, 52, 53, 54, 55, 56, 57, 58, 59, 60, 61, 62, 63, 64, 65, 66, 67, 68, 69, 70, 71, 72, 73, 74, 75, 76, 77, 78, 79, 80, 81, 82, 83, 84, 85, 86, 87, 88, 89, 90, 91, 92, 93, 94, 95, 96, 97, 98, 99], \"y\": [0.7560556932599837, 0.1861617358883027, -0.45946401974499407, 0.5363725650333798, -0.2826907049744466, 0.9869378586623979, -0.6293265326245278, 0.34986000372960885, -0.5320627851308627, -1.0447729626343751, -0.02070322248580189, 0.6798959897817697, 0.5763501818321275, 2.223053447818855, -0.8875788326999193, 0.1615787630842412, 0.3567709085089428, 0.5248938481707832, 0.9271245772107571, -0.7937188090872309, -0.6378307034357991, -0.17620310244789048, -0.23574356411919412, -1.527418059284275, -1.4533726991112783, -1.2953156503840655, 0.6210477547351118, 0.15506917930022304, 1.1950725809051264, -0.04247534795006339, 0.7659378064150684, -0.5615692618981515, 0.5737791878517139, -1.6006308572561425, -2.0333950285797724, 0.9346585456145193, 0.9488633527962949, -0.4745063070449874, -0.7734177445027147, 1.16465395450693, 1.4686285828616743, -0.7166223975541242, -1.2791480009837546, -1.3619596644254246, 0.7391929603399298, 1.1533967674155505, 0.3919443359002727, -0.9920921182175484, -0.9872936922072552, 0.9000315317637086, 0.004605680217882535, 0.1132365767180532, -2.435324506895573, -0.7597271181186379, -0.5264360772598415, -0.3121916127736122, 1.2307918201579024, 1.869523187447704, -0.8858686376106412, 0.543726783419556, -0.24643024780589254, -1.0030147432944985, -0.16165591281686184, 2.226299463444169, -0.9553257863435494, -0.29638314164963764, 3.0766450558184446, 0.5921688084872822, -0.5443244331161018, 0.34831653131719215, 0.07205649871924576, 1.6331107284138258, -0.5047645502368753, 1.9948204982562445, 0.24547203312160698, -0.27026650540474917, -0.08129411360953269, 0.5285605980807471, 0.5823235382880914, -0.2600138020280055, -0.16891644200176278, 0.1014571072555472, -0.3585139768204954, -1.6969407642537817, 0.9902414663906203, -0.7067845545991822, -1.3549550916722233, 0.3266717614722, 0.722908659201581, -0.48226300279897943, -2.6040444968163907, -1.1310424188559618, -2.016050162462118, -0.8432923110307549, 0.1718208037412506, -0.6124292996478096, -1.257773712778361, -1.6465683792803527, 0.14999425467185448, -0.24201883863756485]}, {\"line\": {\"color\": \"rgba(50, 171, 96, 1.0)\", \"dash\": \"solid\", \"shape\": \"linear\", \"width\": 1.3}, \"mode\": \"lines\", \"name\": \"C\", \"text\": \"\", \"type\": \"scatter\", \"x\": [0, 1, 2, 3, 4, 5, 6, 7, 8, 9, 10, 11, 12, 13, 14, 15, 16, 17, 18, 19, 20, 21, 22, 23, 24, 25, 26, 27, 28, 29, 30, 31, 32, 33, 34, 35, 36, 37, 38, 39, 40, 41, 42, 43, 44, 45, 46, 47, 48, 49, 50, 51, 52, 53, 54, 55, 56, 57, 58, 59, 60, 61, 62, 63, 64, 65, 66, 67, 68, 69, 70, 71, 72, 73, 74, 75, 76, 77, 78, 79, 80, 81, 82, 83, 84, 85, 86, 87, 88, 89, 90, 91, 92, 93, 94, 95, 96, 97, 98, 99], \"y\": [0.8075329633556021, 1.1774280375163513, -0.6014210535259376, 0.07832612005513975, -1.7155009840661166, 0.7035414537135141, 0.8417927248686057, 0.3748580340476217, -0.304945229712358, 0.4211204380864479, 0.735136750654394, -0.2741375696064217, -0.9351479186335825, -1.1396293625847214, 0.6140068231092876, 0.3562576971054651, -0.7047026891394264, -0.9432943051102678, 0.7597156187613746, 0.8464495262910379, 0.6868534419181007, -0.8562197378807854, -0.5815031808440854, 0.051146836255641655, 1.367564231862464, -0.46229837263073564, 2.2475048457753886, -0.8619959017315432, -0.908873144834571, -0.39423141306929993, 0.1891999834297446, 1.3165420591801689, 0.3529560878107613, 1.05534709251322, 0.7731486762660107, 1.6042316111721489, -0.4105421652787086, 0.21597120648202386, -0.4048423743583727, -0.5410710325474366, 1.3029986750296814, -1.2216582067120945, -0.2877632187371062, 0.2864779198647285, 1.212951585281548, 0.6485129056737563, 0.18531217997808083, -0.680445857051702, 0.5170626300905937, -0.8328571848850191, 1.0089132907191372, 0.5605661111024343, -0.5418390448470031, -0.057394466151699276, -0.02762680605564009, -1.2589958382873707, 0.9175957862194427, 1.3027871559059288, -0.4184142964253094, -0.015556868338890308, -0.7472347864718828, -0.641803946445278, 1.0688577905407268, 0.2479386831831523, 0.8015844949247076, -0.7586268387861957, -0.38405669593162456, -0.8505493494111646, -0.42971382252105217, 0.5971083106876616, -1.1080763354452292, 0.9126658039380318, 0.8368071245792087, 0.4160418406091262, 2.3259294956907732, 0.6625347106516749, 1.1190819353211914, -0.18104618713916434, -0.01837031625668125, 0.4562313734425662, -0.7531440947132809, -0.9683539960380266, -0.10537954212188595, -0.6149617031626683, -0.04292467163872477, -0.18099266235163322, -0.33022789800633723, 0.9596997277449528, 0.12471184363949661, 0.522556467422449, 0.871303923310238, -1.4661486934626757, 0.24887468376197597, 2.256319398182052, 1.16405886946189, 0.5128261275993566, -0.768220685178201, -0.09127765202544696, -1.0973940577290768, -0.9682176998418792]}, {\"line\": {\"color\": \"rgba(128, 0, 128, 1.0)\", \"dash\": \"solid\", \"shape\": \"linear\", \"width\": 1.3}, \"mode\": \"lines\", \"name\": \"D\", \"text\": \"\", \"type\": \"scatter\", \"x\": [0, 1, 2, 3, 4, 5, 6, 7, 8, 9, 10, 11, 12, 13, 14, 15, 16, 17, 18, 19, 20, 21, 22, 23, 24, 25, 26, 27, 28, 29, 30, 31, 32, 33, 34, 35, 36, 37, 38, 39, 40, 41, 42, 43, 44, 45, 46, 47, 48, 49, 50, 51, 52, 53, 54, 55, 56, 57, 58, 59, 60, 61, 62, 63, 64, 65, 66, 67, 68, 69, 70, 71, 72, 73, 74, 75, 76, 77, 78, 79, 80, 81, 82, 83, 84, 85, 86, 87, 88, 89, 90, 91, 92, 93, 94, 95, 96, 97, 98, 99], \"y\": [0.4014918667753453, -1.0527835785103015, 0.6783187881078234, 0.7649936889727516, -1.1274163808466917, 0.23231053135724067, -0.6234847256031335, 0.5177435401456703, -1.3497744575101418, -0.9445947799978384, 0.9993230603164184, -0.32813659124069827, -2.4873454326976416, 0.23373081431391704, -1.2698236657889295, -1.0819958194740864, 0.48944497238523554, -0.0870913581820666, 0.4520894854769399, 0.3685869778498855, -0.018623861888844594, -0.7361625385230917, -0.9379072634960933, -0.43271162020157156, 0.5717431862977355, -1.0863445421513354, 0.6895465419898549, -0.02104765288212073, 0.21044849744988786, -0.21060376326527153, -0.1751901167494546, 2.4267729695171383, 1.1144251258610327, 0.6088822364466963, 1.0742530678495064, -1.673162766707186, 0.8141293794284068, -0.671250126501007, -0.1119807844623894, 0.6827059956836821, -2.0086429350470563, -0.3182967446586569, 0.7566624514615232, -0.25674945298533824, 0.5397642656518596, -2.1227957924654897, 1.5314276962262283, 1.4919611694698254, 1.269574054782094, -1.0916311869393023, -0.3437996306930975, 1.4347510492864688, 1.2762427379159493, 0.21416609162142103, -0.197175852514856, 0.3223939268519974, 0.4770435887408125, -1.2437863927715238, 0.026588683601995435, 0.32869167896277063, 1.5214987121045702, 0.821282750843137, 0.4796940104196587, -0.8907667152685849, 0.537578488866459, 0.4846947974682395, -0.8342563397109818, 0.9012246659006108, -0.031084575491218874, -0.4390259765356436, 2.6497943870848877, 0.15636182258080236, -0.04297633147906922, 0.09414708464977088, -1.2680837159614444, -0.331002953982354, 0.6895397124327335, -0.8093776634653645, -2.0170703969219725, 0.33936665036701874, 0.6943810852290068, 0.624720221317302, 0.5049175711349475, -0.11540280204630413, 0.27341016033136567, 0.8854226746417551, -0.3493524737887093, 0.00017440721187257863, 0.4571801241143655, -1.0474263154899806, -0.06046386609324998, -0.6420828131993251, -0.6128988878340906, 0.8707626928414187, 0.779901154494852, -0.762949383763312, -0.3161555736028018, 0.9312707513336201, 0.2176505285610799, -0.2166411172749589]}],\n",
       "                        {\"legend\": {\"bgcolor\": \"#F5F6F9\", \"font\": {\"color\": \"#4D5663\"}}, \"paper_bgcolor\": \"#F5F6F9\", \"plot_bgcolor\": \"#F5F6F9\", \"template\": {\"data\": {\"bar\": [{\"error_x\": {\"color\": \"#2a3f5f\"}, \"error_y\": {\"color\": \"#2a3f5f\"}, \"marker\": {\"line\": {\"color\": \"#E5ECF6\", \"width\": 0.5}}, \"type\": \"bar\"}], \"barpolar\": [{\"marker\": {\"line\": {\"color\": \"#E5ECF6\", \"width\": 0.5}}, \"type\": \"barpolar\"}], \"carpet\": [{\"aaxis\": {\"endlinecolor\": \"#2a3f5f\", \"gridcolor\": \"white\", \"linecolor\": \"white\", \"minorgridcolor\": \"white\", \"startlinecolor\": \"#2a3f5f\"}, \"baxis\": {\"endlinecolor\": \"#2a3f5f\", \"gridcolor\": \"white\", \"linecolor\": \"white\", \"minorgridcolor\": \"white\", \"startlinecolor\": \"#2a3f5f\"}, \"type\": \"carpet\"}], \"choropleth\": [{\"colorbar\": {\"outlinewidth\": 0, \"ticks\": \"\"}, \"type\": \"choropleth\"}], \"contour\": [{\"colorbar\": {\"outlinewidth\": 0, \"ticks\": \"\"}, \"colorscale\": [[0.0, \"#0d0887\"], [0.1111111111111111, \"#46039f\"], [0.2222222222222222, \"#7201a8\"], [0.3333333333333333, \"#9c179e\"], [0.4444444444444444, \"#bd3786\"], [0.5555555555555556, \"#d8576b\"], [0.6666666666666666, \"#ed7953\"], [0.7777777777777778, \"#fb9f3a\"], [0.8888888888888888, \"#fdca26\"], [1.0, \"#f0f921\"]], \"type\": \"contour\"}], \"contourcarpet\": [{\"colorbar\": {\"outlinewidth\": 0, \"ticks\": \"\"}, \"type\": \"contourcarpet\"}], \"heatmap\": [{\"colorbar\": {\"outlinewidth\": 0, \"ticks\": \"\"}, \"colorscale\": [[0.0, \"#0d0887\"], [0.1111111111111111, \"#46039f\"], [0.2222222222222222, \"#7201a8\"], [0.3333333333333333, \"#9c179e\"], [0.4444444444444444, \"#bd3786\"], [0.5555555555555556, \"#d8576b\"], [0.6666666666666666, \"#ed7953\"], [0.7777777777777778, \"#fb9f3a\"], [0.8888888888888888, \"#fdca26\"], [1.0, \"#f0f921\"]], \"type\": \"heatmap\"}], \"heatmapgl\": [{\"colorbar\": {\"outlinewidth\": 0, \"ticks\": \"\"}, \"colorscale\": [[0.0, \"#0d0887\"], [0.1111111111111111, \"#46039f\"], [0.2222222222222222, \"#7201a8\"], [0.3333333333333333, \"#9c179e\"], [0.4444444444444444, \"#bd3786\"], [0.5555555555555556, \"#d8576b\"], [0.6666666666666666, \"#ed7953\"], [0.7777777777777778, \"#fb9f3a\"], [0.8888888888888888, \"#fdca26\"], [1.0, \"#f0f921\"]], \"type\": \"heatmapgl\"}], \"histogram\": [{\"marker\": {\"colorbar\": {\"outlinewidth\": 0, \"ticks\": \"\"}}, \"type\": \"histogram\"}], \"histogram2d\": [{\"colorbar\": {\"outlinewidth\": 0, \"ticks\": \"\"}, \"colorscale\": [[0.0, \"#0d0887\"], [0.1111111111111111, \"#46039f\"], [0.2222222222222222, \"#7201a8\"], [0.3333333333333333, \"#9c179e\"], [0.4444444444444444, \"#bd3786\"], [0.5555555555555556, \"#d8576b\"], [0.6666666666666666, \"#ed7953\"], [0.7777777777777778, \"#fb9f3a\"], [0.8888888888888888, \"#fdca26\"], [1.0, \"#f0f921\"]], \"type\": \"histogram2d\"}], \"histogram2dcontour\": [{\"colorbar\": {\"outlinewidth\": 0, \"ticks\": \"\"}, \"colorscale\": [[0.0, \"#0d0887\"], [0.1111111111111111, \"#46039f\"], [0.2222222222222222, \"#7201a8\"], [0.3333333333333333, \"#9c179e\"], [0.4444444444444444, \"#bd3786\"], [0.5555555555555556, \"#d8576b\"], [0.6666666666666666, \"#ed7953\"], [0.7777777777777778, \"#fb9f3a\"], [0.8888888888888888, \"#fdca26\"], [1.0, \"#f0f921\"]], \"type\": \"histogram2dcontour\"}], \"mesh3d\": [{\"colorbar\": {\"outlinewidth\": 0, \"ticks\": \"\"}, \"type\": \"mesh3d\"}], \"parcoords\": [{\"line\": {\"colorbar\": {\"outlinewidth\": 0, \"ticks\": \"\"}}, \"type\": \"parcoords\"}], \"pie\": [{\"automargin\": true, \"type\": \"pie\"}], \"scatter\": [{\"marker\": {\"colorbar\": {\"outlinewidth\": 0, \"ticks\": \"\"}}, \"type\": \"scatter\"}], \"scatter3d\": [{\"line\": {\"colorbar\": {\"outlinewidth\": 0, \"ticks\": \"\"}}, \"marker\": {\"colorbar\": {\"outlinewidth\": 0, \"ticks\": \"\"}}, \"type\": \"scatter3d\"}], \"scattercarpet\": [{\"marker\": {\"colorbar\": {\"outlinewidth\": 0, \"ticks\": \"\"}}, \"type\": \"scattercarpet\"}], \"scattergeo\": [{\"marker\": {\"colorbar\": {\"outlinewidth\": 0, \"ticks\": \"\"}}, \"type\": \"scattergeo\"}], \"scattergl\": [{\"marker\": {\"colorbar\": {\"outlinewidth\": 0, \"ticks\": \"\"}}, \"type\": \"scattergl\"}], \"scattermapbox\": [{\"marker\": {\"colorbar\": {\"outlinewidth\": 0, \"ticks\": \"\"}}, \"type\": \"scattermapbox\"}], \"scatterpolar\": [{\"marker\": {\"colorbar\": {\"outlinewidth\": 0, \"ticks\": \"\"}}, \"type\": \"scatterpolar\"}], \"scatterpolargl\": [{\"marker\": {\"colorbar\": {\"outlinewidth\": 0, \"ticks\": \"\"}}, \"type\": \"scatterpolargl\"}], \"scatterternary\": [{\"marker\": {\"colorbar\": {\"outlinewidth\": 0, \"ticks\": \"\"}}, \"type\": \"scatterternary\"}], \"surface\": [{\"colorbar\": {\"outlinewidth\": 0, \"ticks\": \"\"}, \"colorscale\": [[0.0, \"#0d0887\"], [0.1111111111111111, \"#46039f\"], [0.2222222222222222, \"#7201a8\"], [0.3333333333333333, \"#9c179e\"], [0.4444444444444444, \"#bd3786\"], [0.5555555555555556, \"#d8576b\"], [0.6666666666666666, \"#ed7953\"], [0.7777777777777778, \"#fb9f3a\"], [0.8888888888888888, \"#fdca26\"], [1.0, \"#f0f921\"]], \"type\": \"surface\"}], \"table\": [{\"cells\": {\"fill\": {\"color\": \"#EBF0F8\"}, \"line\": {\"color\": \"white\"}}, \"header\": {\"fill\": {\"color\": \"#C8D4E3\"}, \"line\": {\"color\": \"white\"}}, \"type\": \"table\"}]}, \"layout\": {\"annotationdefaults\": {\"arrowcolor\": \"#2a3f5f\", \"arrowhead\": 0, \"arrowwidth\": 1}, \"coloraxis\": {\"colorbar\": {\"outlinewidth\": 0, \"ticks\": \"\"}}, \"colorscale\": {\"diverging\": [[0, \"#8e0152\"], [0.1, \"#c51b7d\"], [0.2, \"#de77ae\"], [0.3, \"#f1b6da\"], [0.4, \"#fde0ef\"], [0.5, \"#f7f7f7\"], [0.6, \"#e6f5d0\"], [0.7, \"#b8e186\"], [0.8, \"#7fbc41\"], [0.9, \"#4d9221\"], [1, \"#276419\"]], \"sequential\": [[0.0, \"#0d0887\"], [0.1111111111111111, \"#46039f\"], [0.2222222222222222, \"#7201a8\"], [0.3333333333333333, \"#9c179e\"], [0.4444444444444444, \"#bd3786\"], [0.5555555555555556, \"#d8576b\"], [0.6666666666666666, \"#ed7953\"], [0.7777777777777778, \"#fb9f3a\"], [0.8888888888888888, \"#fdca26\"], [1.0, \"#f0f921\"]], \"sequentialminus\": [[0.0, \"#0d0887\"], [0.1111111111111111, \"#46039f\"], [0.2222222222222222, \"#7201a8\"], [0.3333333333333333, \"#9c179e\"], [0.4444444444444444, \"#bd3786\"], [0.5555555555555556, \"#d8576b\"], [0.6666666666666666, \"#ed7953\"], [0.7777777777777778, \"#fb9f3a\"], [0.8888888888888888, \"#fdca26\"], [1.0, \"#f0f921\"]]}, \"colorway\": [\"#636efa\", \"#EF553B\", \"#00cc96\", \"#ab63fa\", \"#FFA15A\", \"#19d3f3\", \"#FF6692\", \"#B6E880\", \"#FF97FF\", \"#FECB52\"], \"font\": {\"color\": \"#2a3f5f\"}, \"geo\": {\"bgcolor\": \"white\", \"lakecolor\": \"white\", \"landcolor\": \"#E5ECF6\", \"showlakes\": true, \"showland\": true, \"subunitcolor\": \"white\"}, \"hoverlabel\": {\"align\": \"left\"}, \"hovermode\": \"closest\", \"mapbox\": {\"style\": \"light\"}, \"paper_bgcolor\": \"white\", \"plot_bgcolor\": \"#E5ECF6\", \"polar\": {\"angularaxis\": {\"gridcolor\": \"white\", \"linecolor\": \"white\", \"ticks\": \"\"}, \"bgcolor\": \"#E5ECF6\", \"radialaxis\": {\"gridcolor\": \"white\", \"linecolor\": \"white\", \"ticks\": \"\"}}, \"scene\": {\"xaxis\": {\"backgroundcolor\": \"#E5ECF6\", \"gridcolor\": \"white\", \"gridwidth\": 2, \"linecolor\": \"white\", \"showbackground\": true, \"ticks\": \"\", \"zerolinecolor\": \"white\"}, \"yaxis\": {\"backgroundcolor\": \"#E5ECF6\", \"gridcolor\": \"white\", \"gridwidth\": 2, \"linecolor\": \"white\", \"showbackground\": true, \"ticks\": \"\", \"zerolinecolor\": \"white\"}, \"zaxis\": {\"backgroundcolor\": \"#E5ECF6\", \"gridcolor\": \"white\", \"gridwidth\": 2, \"linecolor\": \"white\", \"showbackground\": true, \"ticks\": \"\", \"zerolinecolor\": \"white\"}}, \"shapedefaults\": {\"line\": {\"color\": \"#2a3f5f\"}}, \"ternary\": {\"aaxis\": {\"gridcolor\": \"white\", \"linecolor\": \"white\", \"ticks\": \"\"}, \"baxis\": {\"gridcolor\": \"white\", \"linecolor\": \"white\", \"ticks\": \"\"}, \"bgcolor\": \"#E5ECF6\", \"caxis\": {\"gridcolor\": \"white\", \"linecolor\": \"white\", \"ticks\": \"\"}}, \"title\": {\"x\": 0.05}, \"xaxis\": {\"automargin\": true, \"gridcolor\": \"white\", \"linecolor\": \"white\", \"ticks\": \"\", \"title\": {\"standoff\": 15}, \"zerolinecolor\": \"white\", \"zerolinewidth\": 2}, \"yaxis\": {\"automargin\": true, \"gridcolor\": \"white\", \"linecolor\": \"white\", \"ticks\": \"\", \"title\": {\"standoff\": 15}, \"zerolinecolor\": \"white\", \"zerolinewidth\": 2}}}, \"title\": {\"font\": {\"color\": \"#4D5663\"}}, \"xaxis\": {\"gridcolor\": \"#E1E5ED\", \"showgrid\": true, \"tickfont\": {\"color\": \"#4D5663\"}, \"title\": {\"font\": {\"color\": \"#4D5663\"}, \"text\": \"\"}, \"zerolinecolor\": \"#E1E5ED\"}, \"yaxis\": {\"gridcolor\": \"#E1E5ED\", \"showgrid\": true, \"tickfont\": {\"color\": \"#4D5663\"}, \"title\": {\"font\": {\"color\": \"#4D5663\"}, \"text\": \"\"}, \"zerolinecolor\": \"#E1E5ED\"}},\n",
       "                        {\"showLink\": true, \"linkText\": \"Export to plot.ly\", \"plotlyServerURL\": \"https://plot.ly\", \"responsive\": true}\n",
       "                    ).then(function(){\n",
       "                            \n",
       "var gd = document.getElementById('da199cd2-8912-4dd3-a701-696af01b81a0');\n",
       "var x = new MutationObserver(function (mutations, observer) {{\n",
       "        var display = window.getComputedStyle(gd).display;\n",
       "        if (!display || display === 'none') {{\n",
       "            console.log([gd, 'removed!']);\n",
       "            Plotly.purge(gd);\n",
       "            observer.disconnect();\n",
       "        }}\n",
       "}});\n",
       "\n",
       "// Listen for the removal of the full notebook cells\n",
       "var notebookContainer = gd.closest('#notebook-container');\n",
       "if (notebookContainer) {{\n",
       "    x.observe(notebookContainer, {childList: true});\n",
       "}}\n",
       "\n",
       "// Listen for the clearing of the current output cell\n",
       "var outputEl = gd.closest('.output');\n",
       "if (outputEl) {{\n",
       "    x.observe(outputEl, {childList: true});\n",
       "}}\n",
       "\n",
       "                        })\n",
       "                };\n",
       "                });\n",
       "            </script>\n",
       "        </div>"
      ]
     },
     "metadata": {},
     "output_type": "display_data"
    }
   ],
   "source": [
    "# basic lineplot\n",
    "df.iplot()\n",
    "# now it is an interactive plotly graph"
   ]
  },
  {
   "cell_type": "code",
   "execution_count": 24,
   "metadata": {},
   "outputs": [
    {
     "data": {
      "application/vnd.plotly.v1+json": {
       "config": {
        "linkText": "Export to plot.ly",
        "plotlyServerURL": "https://plot.ly",
        "showLink": true
       },
       "data": [
        {
         "line": {
          "color": "rgba(255, 153, 51, 1.0)",
          "dash": "solid",
          "shape": "linear",
          "width": 1.3
         },
         "mode": "lines",
         "name": "B",
         "text": "",
         "type": "scatter",
         "x": [
          -1.516267560230567,
          -1.9207884175074055,
          1.0373966535124963,
          0.14953510936685668,
          -3.999485447186093,
          0.41440508516482133,
          0.7429422015904862,
          -1.4289512487530127,
          0.6905534850783236,
          0.11506940258331375,
          1.9618318262179413,
          0.4820087067882209,
          0.010833293229753694,
          -0.595929986198764,
          -2.113531329590608,
          1.3475913692139152,
          -0.17027902129753222,
          -1.7647043330033494,
          -0.7618858921940336,
          -0.32990065514115696,
          0.5275932665014055,
          -0.012597174270982791,
          0.977197771133166,
          -0.32632061640685095,
          0.08292817175283175,
          -0.8344479918217037,
          1.568391586495905,
          0.35928326522581105,
          -0.6938103952930875,
          0.2879566156066621,
          0.020560596221972264,
          -0.6608720159459609,
          -1.3379447458259173,
          0.09976969555504292,
          -1.8342513136627003,
          0.9586876894546607,
          -1.1058337722839024,
          0.5406356582921222,
          -1.9079890868367126,
          0.25673390912073035,
          -0.09844552196478548,
          0.547433763312957,
          -1.2925028155368672,
          -1.0266178727650466,
          1.1507359785118991,
          -0.4331137041199937,
          0.3750983126336917,
          -0.956571917947313,
          -0.6306287050127768,
          1.1658314936903746,
          0.20727664611040933,
          -0.7125620965948533,
          -1.2329857567549423,
          -1.19301842269195,
          0.7344866094623589,
          0.24825131328164876,
          -0.0703592808778631,
          -0.3940635524410132,
          0.8837620159811025,
          -0.5882788998946945,
          0.857686324715227,
          -1.2759414075844788,
          0.1849841116242509,
          -0.9889213556524264,
          0.37665713077589197,
          0.06736189675688638,
          0.7757816466321904,
          1.0197517246852932,
          2.1963839769565587,
          1.6228329344349806,
          -0.417307672140243,
          0.4883689747400217,
          1.0063943302757847,
          -0.641507073385344,
          0.2592738354357245,
          -1.115946078959094,
          0.4121599174934557,
          -0.5158597744247898,
          1.1280022315312952,
          -0.3627082124069788,
          0.7816328424346314,
          1.1133691254531146,
          1.776942182023018,
          -0.2100716526582734,
          -0.8832821040096712,
          0.10615505370341051,
          -1.2015298986284144,
          -1.6001804881901893,
          -1.0807816016045844,
          -0.9463689237520007,
          -0.5501717411155009,
          0.6915172170167367,
          1.3927574947291392,
          -1.4420007770037622,
          0.9858512592211613,
          -0.6690552083723248,
          -0.23614428440751595,
          -0.30191933616375166,
          1.1650348858496635,
          0.12403058093384871
         ],
         "y": [
          0.7560556932599837,
          0.1861617358883027,
          -0.45946401974499407,
          0.5363725650333798,
          -0.2826907049744466,
          0.9869378586623979,
          -0.6293265326245278,
          0.34986000372960885,
          -0.5320627851308627,
          -1.0447729626343751,
          -0.02070322248580189,
          0.6798959897817697,
          0.5763501818321275,
          2.223053447818855,
          -0.8875788326999193,
          0.1615787630842412,
          0.3567709085089428,
          0.5248938481707832,
          0.9271245772107571,
          -0.7937188090872309,
          -0.6378307034357991,
          -0.17620310244789048,
          -0.23574356411919412,
          -1.527418059284275,
          -1.4533726991112783,
          -1.2953156503840655,
          0.6210477547351118,
          0.15506917930022304,
          1.1950725809051264,
          -0.04247534795006339,
          0.7659378064150684,
          -0.5615692618981515,
          0.5737791878517139,
          -1.6006308572561425,
          -2.0333950285797724,
          0.9346585456145193,
          0.9488633527962949,
          -0.4745063070449874,
          -0.7734177445027147,
          1.16465395450693,
          1.4686285828616743,
          -0.7166223975541242,
          -1.2791480009837546,
          -1.3619596644254246,
          0.7391929603399298,
          1.1533967674155505,
          0.3919443359002727,
          -0.9920921182175484,
          -0.9872936922072552,
          0.9000315317637086,
          0.004605680217882535,
          0.1132365767180532,
          -2.435324506895573,
          -0.7597271181186379,
          -0.5264360772598415,
          -0.3121916127736122,
          1.2307918201579024,
          1.869523187447704,
          -0.8858686376106412,
          0.543726783419556,
          -0.24643024780589254,
          -1.0030147432944985,
          -0.16165591281686184,
          2.226299463444169,
          -0.9553257863435494,
          -0.29638314164963764,
          3.0766450558184446,
          0.5921688084872822,
          -0.5443244331161018,
          0.34831653131719215,
          0.07205649871924576,
          1.6331107284138258,
          -0.5047645502368753,
          1.9948204982562445,
          0.24547203312160698,
          -0.27026650540474917,
          -0.08129411360953269,
          0.5285605980807471,
          0.5823235382880914,
          -0.2600138020280055,
          -0.16891644200176278,
          0.1014571072555472,
          -0.3585139768204954,
          -1.6969407642537817,
          0.9902414663906203,
          -0.7067845545991822,
          -1.3549550916722233,
          0.3266717614722,
          0.722908659201581,
          -0.48226300279897943,
          -2.6040444968163907,
          -1.1310424188559618,
          -2.016050162462118,
          -0.8432923110307549,
          0.1718208037412506,
          -0.6124292996478096,
          -1.257773712778361,
          -1.6465683792803527,
          0.14999425467185448,
          -0.24201883863756485
         ]
        }
       ],
       "layout": {
        "legend": {
         "bgcolor": "#F5F6F9",
         "font": {
          "color": "#4D5663"
         }
        },
        "paper_bgcolor": "#F5F6F9",
        "plot_bgcolor": "#F5F6F9",
        "template": {
         "data": {
          "bar": [
           {
            "error_x": {
             "color": "#2a3f5f"
            },
            "error_y": {
             "color": "#2a3f5f"
            },
            "marker": {
             "line": {
              "color": "#E5ECF6",
              "width": 0.5
             }
            },
            "type": "bar"
           }
          ],
          "barpolar": [
           {
            "marker": {
             "line": {
              "color": "#E5ECF6",
              "width": 0.5
             }
            },
            "type": "barpolar"
           }
          ],
          "carpet": [
           {
            "aaxis": {
             "endlinecolor": "#2a3f5f",
             "gridcolor": "white",
             "linecolor": "white",
             "minorgridcolor": "white",
             "startlinecolor": "#2a3f5f"
            },
            "baxis": {
             "endlinecolor": "#2a3f5f",
             "gridcolor": "white",
             "linecolor": "white",
             "minorgridcolor": "white",
             "startlinecolor": "#2a3f5f"
            },
            "type": "carpet"
           }
          ],
          "choropleth": [
           {
            "colorbar": {
             "outlinewidth": 0,
             "ticks": ""
            },
            "type": "choropleth"
           }
          ],
          "contour": [
           {
            "colorbar": {
             "outlinewidth": 0,
             "ticks": ""
            },
            "colorscale": [
             [
              0,
              "#0d0887"
             ],
             [
              0.1111111111111111,
              "#46039f"
             ],
             [
              0.2222222222222222,
              "#7201a8"
             ],
             [
              0.3333333333333333,
              "#9c179e"
             ],
             [
              0.4444444444444444,
              "#bd3786"
             ],
             [
              0.5555555555555556,
              "#d8576b"
             ],
             [
              0.6666666666666666,
              "#ed7953"
             ],
             [
              0.7777777777777778,
              "#fb9f3a"
             ],
             [
              0.8888888888888888,
              "#fdca26"
             ],
             [
              1,
              "#f0f921"
             ]
            ],
            "type": "contour"
           }
          ],
          "contourcarpet": [
           {
            "colorbar": {
             "outlinewidth": 0,
             "ticks": ""
            },
            "type": "contourcarpet"
           }
          ],
          "heatmap": [
           {
            "colorbar": {
             "outlinewidth": 0,
             "ticks": ""
            },
            "colorscale": [
             [
              0,
              "#0d0887"
             ],
             [
              0.1111111111111111,
              "#46039f"
             ],
             [
              0.2222222222222222,
              "#7201a8"
             ],
             [
              0.3333333333333333,
              "#9c179e"
             ],
             [
              0.4444444444444444,
              "#bd3786"
             ],
             [
              0.5555555555555556,
              "#d8576b"
             ],
             [
              0.6666666666666666,
              "#ed7953"
             ],
             [
              0.7777777777777778,
              "#fb9f3a"
             ],
             [
              0.8888888888888888,
              "#fdca26"
             ],
             [
              1,
              "#f0f921"
             ]
            ],
            "type": "heatmap"
           }
          ],
          "heatmapgl": [
           {
            "colorbar": {
             "outlinewidth": 0,
             "ticks": ""
            },
            "colorscale": [
             [
              0,
              "#0d0887"
             ],
             [
              0.1111111111111111,
              "#46039f"
             ],
             [
              0.2222222222222222,
              "#7201a8"
             ],
             [
              0.3333333333333333,
              "#9c179e"
             ],
             [
              0.4444444444444444,
              "#bd3786"
             ],
             [
              0.5555555555555556,
              "#d8576b"
             ],
             [
              0.6666666666666666,
              "#ed7953"
             ],
             [
              0.7777777777777778,
              "#fb9f3a"
             ],
             [
              0.8888888888888888,
              "#fdca26"
             ],
             [
              1,
              "#f0f921"
             ]
            ],
            "type": "heatmapgl"
           }
          ],
          "histogram": [
           {
            "marker": {
             "colorbar": {
              "outlinewidth": 0,
              "ticks": ""
             }
            },
            "type": "histogram"
           }
          ],
          "histogram2d": [
           {
            "colorbar": {
             "outlinewidth": 0,
             "ticks": ""
            },
            "colorscale": [
             [
              0,
              "#0d0887"
             ],
             [
              0.1111111111111111,
              "#46039f"
             ],
             [
              0.2222222222222222,
              "#7201a8"
             ],
             [
              0.3333333333333333,
              "#9c179e"
             ],
             [
              0.4444444444444444,
              "#bd3786"
             ],
             [
              0.5555555555555556,
              "#d8576b"
             ],
             [
              0.6666666666666666,
              "#ed7953"
             ],
             [
              0.7777777777777778,
              "#fb9f3a"
             ],
             [
              0.8888888888888888,
              "#fdca26"
             ],
             [
              1,
              "#f0f921"
             ]
            ],
            "type": "histogram2d"
           }
          ],
          "histogram2dcontour": [
           {
            "colorbar": {
             "outlinewidth": 0,
             "ticks": ""
            },
            "colorscale": [
             [
              0,
              "#0d0887"
             ],
             [
              0.1111111111111111,
              "#46039f"
             ],
             [
              0.2222222222222222,
              "#7201a8"
             ],
             [
              0.3333333333333333,
              "#9c179e"
             ],
             [
              0.4444444444444444,
              "#bd3786"
             ],
             [
              0.5555555555555556,
              "#d8576b"
             ],
             [
              0.6666666666666666,
              "#ed7953"
             ],
             [
              0.7777777777777778,
              "#fb9f3a"
             ],
             [
              0.8888888888888888,
              "#fdca26"
             ],
             [
              1,
              "#f0f921"
             ]
            ],
            "type": "histogram2dcontour"
           }
          ],
          "mesh3d": [
           {
            "colorbar": {
             "outlinewidth": 0,
             "ticks": ""
            },
            "type": "mesh3d"
           }
          ],
          "parcoords": [
           {
            "line": {
             "colorbar": {
              "outlinewidth": 0,
              "ticks": ""
             }
            },
            "type": "parcoords"
           }
          ],
          "pie": [
           {
            "automargin": true,
            "type": "pie"
           }
          ],
          "scatter": [
           {
            "marker": {
             "colorbar": {
              "outlinewidth": 0,
              "ticks": ""
             }
            },
            "type": "scatter"
           }
          ],
          "scatter3d": [
           {
            "line": {
             "colorbar": {
              "outlinewidth": 0,
              "ticks": ""
             }
            },
            "marker": {
             "colorbar": {
              "outlinewidth": 0,
              "ticks": ""
             }
            },
            "type": "scatter3d"
           }
          ],
          "scattercarpet": [
           {
            "marker": {
             "colorbar": {
              "outlinewidth": 0,
              "ticks": ""
             }
            },
            "type": "scattercarpet"
           }
          ],
          "scattergeo": [
           {
            "marker": {
             "colorbar": {
              "outlinewidth": 0,
              "ticks": ""
             }
            },
            "type": "scattergeo"
           }
          ],
          "scattergl": [
           {
            "marker": {
             "colorbar": {
              "outlinewidth": 0,
              "ticks": ""
             }
            },
            "type": "scattergl"
           }
          ],
          "scattermapbox": [
           {
            "marker": {
             "colorbar": {
              "outlinewidth": 0,
              "ticks": ""
             }
            },
            "type": "scattermapbox"
           }
          ],
          "scatterpolar": [
           {
            "marker": {
             "colorbar": {
              "outlinewidth": 0,
              "ticks": ""
             }
            },
            "type": "scatterpolar"
           }
          ],
          "scatterpolargl": [
           {
            "marker": {
             "colorbar": {
              "outlinewidth": 0,
              "ticks": ""
             }
            },
            "type": "scatterpolargl"
           }
          ],
          "scatterternary": [
           {
            "marker": {
             "colorbar": {
              "outlinewidth": 0,
              "ticks": ""
             }
            },
            "type": "scatterternary"
           }
          ],
          "surface": [
           {
            "colorbar": {
             "outlinewidth": 0,
             "ticks": ""
            },
            "colorscale": [
             [
              0,
              "#0d0887"
             ],
             [
              0.1111111111111111,
              "#46039f"
             ],
             [
              0.2222222222222222,
              "#7201a8"
             ],
             [
              0.3333333333333333,
              "#9c179e"
             ],
             [
              0.4444444444444444,
              "#bd3786"
             ],
             [
              0.5555555555555556,
              "#d8576b"
             ],
             [
              0.6666666666666666,
              "#ed7953"
             ],
             [
              0.7777777777777778,
              "#fb9f3a"
             ],
             [
              0.8888888888888888,
              "#fdca26"
             ],
             [
              1,
              "#f0f921"
             ]
            ],
            "type": "surface"
           }
          ],
          "table": [
           {
            "cells": {
             "fill": {
              "color": "#EBF0F8"
             },
             "line": {
              "color": "white"
             }
            },
            "header": {
             "fill": {
              "color": "#C8D4E3"
             },
             "line": {
              "color": "white"
             }
            },
            "type": "table"
           }
          ]
         },
         "layout": {
          "annotationdefaults": {
           "arrowcolor": "#2a3f5f",
           "arrowhead": 0,
           "arrowwidth": 1
          },
          "coloraxis": {
           "colorbar": {
            "outlinewidth": 0,
            "ticks": ""
           }
          },
          "colorscale": {
           "diverging": [
            [
             0,
             "#8e0152"
            ],
            [
             0.1,
             "#c51b7d"
            ],
            [
             0.2,
             "#de77ae"
            ],
            [
             0.3,
             "#f1b6da"
            ],
            [
             0.4,
             "#fde0ef"
            ],
            [
             0.5,
             "#f7f7f7"
            ],
            [
             0.6,
             "#e6f5d0"
            ],
            [
             0.7,
             "#b8e186"
            ],
            [
             0.8,
             "#7fbc41"
            ],
            [
             0.9,
             "#4d9221"
            ],
            [
             1,
             "#276419"
            ]
           ],
           "sequential": [
            [
             0,
             "#0d0887"
            ],
            [
             0.1111111111111111,
             "#46039f"
            ],
            [
             0.2222222222222222,
             "#7201a8"
            ],
            [
             0.3333333333333333,
             "#9c179e"
            ],
            [
             0.4444444444444444,
             "#bd3786"
            ],
            [
             0.5555555555555556,
             "#d8576b"
            ],
            [
             0.6666666666666666,
             "#ed7953"
            ],
            [
             0.7777777777777778,
             "#fb9f3a"
            ],
            [
             0.8888888888888888,
             "#fdca26"
            ],
            [
             1,
             "#f0f921"
            ]
           ],
           "sequentialminus": [
            [
             0,
             "#0d0887"
            ],
            [
             0.1111111111111111,
             "#46039f"
            ],
            [
             0.2222222222222222,
             "#7201a8"
            ],
            [
             0.3333333333333333,
             "#9c179e"
            ],
            [
             0.4444444444444444,
             "#bd3786"
            ],
            [
             0.5555555555555556,
             "#d8576b"
            ],
            [
             0.6666666666666666,
             "#ed7953"
            ],
            [
             0.7777777777777778,
             "#fb9f3a"
            ],
            [
             0.8888888888888888,
             "#fdca26"
            ],
            [
             1,
             "#f0f921"
            ]
           ]
          },
          "colorway": [
           "#636efa",
           "#EF553B",
           "#00cc96",
           "#ab63fa",
           "#FFA15A",
           "#19d3f3",
           "#FF6692",
           "#B6E880",
           "#FF97FF",
           "#FECB52"
          ],
          "font": {
           "color": "#2a3f5f"
          },
          "geo": {
           "bgcolor": "white",
           "lakecolor": "white",
           "landcolor": "#E5ECF6",
           "showlakes": true,
           "showland": true,
           "subunitcolor": "white"
          },
          "hoverlabel": {
           "align": "left"
          },
          "hovermode": "closest",
          "mapbox": {
           "style": "light"
          },
          "paper_bgcolor": "white",
          "plot_bgcolor": "#E5ECF6",
          "polar": {
           "angularaxis": {
            "gridcolor": "white",
            "linecolor": "white",
            "ticks": ""
           },
           "bgcolor": "#E5ECF6",
           "radialaxis": {
            "gridcolor": "white",
            "linecolor": "white",
            "ticks": ""
           }
          },
          "scene": {
           "xaxis": {
            "backgroundcolor": "#E5ECF6",
            "gridcolor": "white",
            "gridwidth": 2,
            "linecolor": "white",
            "showbackground": true,
            "ticks": "",
            "zerolinecolor": "white"
           },
           "yaxis": {
            "backgroundcolor": "#E5ECF6",
            "gridcolor": "white",
            "gridwidth": 2,
            "linecolor": "white",
            "showbackground": true,
            "ticks": "",
            "zerolinecolor": "white"
           },
           "zaxis": {
            "backgroundcolor": "#E5ECF6",
            "gridcolor": "white",
            "gridwidth": 2,
            "linecolor": "white",
            "showbackground": true,
            "ticks": "",
            "zerolinecolor": "white"
           }
          },
          "shapedefaults": {
           "line": {
            "color": "#2a3f5f"
           }
          },
          "ternary": {
           "aaxis": {
            "gridcolor": "white",
            "linecolor": "white",
            "ticks": ""
           },
           "baxis": {
            "gridcolor": "white",
            "linecolor": "white",
            "ticks": ""
           },
           "bgcolor": "#E5ECF6",
           "caxis": {
            "gridcolor": "white",
            "linecolor": "white",
            "ticks": ""
           }
          },
          "title": {
           "x": 0.05
          },
          "xaxis": {
           "automargin": true,
           "gridcolor": "white",
           "linecolor": "white",
           "ticks": "",
           "title": {
            "standoff": 15
           },
           "zerolinecolor": "white",
           "zerolinewidth": 2
          },
          "yaxis": {
           "automargin": true,
           "gridcolor": "white",
           "linecolor": "white",
           "ticks": "",
           "title": {
            "standoff": 15
           },
           "zerolinecolor": "white",
           "zerolinewidth": 2
          }
         }
        },
        "title": {
         "font": {
          "color": "#4D5663"
         }
        },
        "xaxis": {
         "gridcolor": "#E1E5ED",
         "showgrid": true,
         "tickfont": {
          "color": "#4D5663"
         },
         "title": {
          "font": {
           "color": "#4D5663"
          },
          "text": ""
         },
         "zerolinecolor": "#E1E5ED"
        },
        "yaxis": {
         "gridcolor": "#E1E5ED",
         "showgrid": true,
         "tickfont": {
          "color": "#4D5663"
         },
         "title": {
          "font": {
           "color": "#4D5663"
          },
          "text": ""
         },
         "zerolinecolor": "#E1E5ED"
        }
       }
      },
      "text/html": [
       "<div>\n",
       "        \n",
       "        \n",
       "            <div id=\"3a02ae67-aca2-429e-8727-2a83838e73c8\" class=\"plotly-graph-div\" style=\"height:525px; width:100%;\"></div>\n",
       "            <script type=\"text/javascript\">\n",
       "                require([\"plotly\"], function(Plotly) {\n",
       "                    window.PLOTLYENV=window.PLOTLYENV || {};\n",
       "                    window.PLOTLYENV.BASE_URL='https://plot.ly';\n",
       "                    \n",
       "                if (document.getElementById(\"3a02ae67-aca2-429e-8727-2a83838e73c8\")) {\n",
       "                    Plotly.newPlot(\n",
       "                        '3a02ae67-aca2-429e-8727-2a83838e73c8',\n",
       "                        [{\"line\": {\"color\": \"rgba(255, 153, 51, 1.0)\", \"dash\": \"solid\", \"shape\": \"linear\", \"width\": 1.3}, \"mode\": \"lines\", \"name\": \"B\", \"text\": \"\", \"type\": \"scatter\", \"x\": [-1.516267560230567, -1.9207884175074055, 1.0373966535124963, 0.14953510936685668, -3.999485447186093, 0.41440508516482133, 0.7429422015904862, -1.4289512487530127, 0.6905534850783236, 0.11506940258331375, 1.9618318262179413, 0.4820087067882209, 0.010833293229753694, -0.595929986198764, -2.113531329590608, 1.3475913692139152, -0.17027902129753222, -1.7647043330033494, -0.7618858921940336, -0.32990065514115696, 0.5275932665014055, -0.012597174270982791, 0.977197771133166, -0.32632061640685095, 0.08292817175283175, -0.8344479918217037, 1.568391586495905, 0.35928326522581105, -0.6938103952930875, 0.2879566156066621, 0.020560596221972264, -0.6608720159459609, -1.3379447458259173, 0.09976969555504292, -1.8342513136627003, 0.9586876894546607, -1.1058337722839024, 0.5406356582921222, -1.9079890868367126, 0.25673390912073035, -0.09844552196478548, 0.547433763312957, -1.2925028155368672, -1.0266178727650466, 1.1507359785118991, -0.4331137041199937, 0.3750983126336917, -0.956571917947313, -0.6306287050127768, 1.1658314936903746, 0.20727664611040933, -0.7125620965948533, -1.2329857567549423, -1.19301842269195, 0.7344866094623589, 0.24825131328164876, -0.0703592808778631, -0.3940635524410132, 0.8837620159811025, -0.5882788998946945, 0.857686324715227, -1.2759414075844788, 0.1849841116242509, -0.9889213556524264, 0.37665713077589197, 0.06736189675688638, 0.7757816466321904, 1.0197517246852932, 2.1963839769565587, 1.6228329344349806, -0.417307672140243, 0.4883689747400217, 1.0063943302757847, -0.641507073385344, 0.2592738354357245, -1.115946078959094, 0.4121599174934557, -0.5158597744247898, 1.1280022315312952, -0.3627082124069788, 0.7816328424346314, 1.1133691254531146, 1.776942182023018, -0.2100716526582734, -0.8832821040096712, 0.10615505370341051, -1.2015298986284144, -1.6001804881901893, -1.0807816016045844, -0.9463689237520007, -0.5501717411155009, 0.6915172170167367, 1.3927574947291392, -1.4420007770037622, 0.9858512592211613, -0.6690552083723248, -0.23614428440751595, -0.30191933616375166, 1.1650348858496635, 0.12403058093384871], \"y\": [0.7560556932599837, 0.1861617358883027, -0.45946401974499407, 0.5363725650333798, -0.2826907049744466, 0.9869378586623979, -0.6293265326245278, 0.34986000372960885, -0.5320627851308627, -1.0447729626343751, -0.02070322248580189, 0.6798959897817697, 0.5763501818321275, 2.223053447818855, -0.8875788326999193, 0.1615787630842412, 0.3567709085089428, 0.5248938481707832, 0.9271245772107571, -0.7937188090872309, -0.6378307034357991, -0.17620310244789048, -0.23574356411919412, -1.527418059284275, -1.4533726991112783, -1.2953156503840655, 0.6210477547351118, 0.15506917930022304, 1.1950725809051264, -0.04247534795006339, 0.7659378064150684, -0.5615692618981515, 0.5737791878517139, -1.6006308572561425, -2.0333950285797724, 0.9346585456145193, 0.9488633527962949, -0.4745063070449874, -0.7734177445027147, 1.16465395450693, 1.4686285828616743, -0.7166223975541242, -1.2791480009837546, -1.3619596644254246, 0.7391929603399298, 1.1533967674155505, 0.3919443359002727, -0.9920921182175484, -0.9872936922072552, 0.9000315317637086, 0.004605680217882535, 0.1132365767180532, -2.435324506895573, -0.7597271181186379, -0.5264360772598415, -0.3121916127736122, 1.2307918201579024, 1.869523187447704, -0.8858686376106412, 0.543726783419556, -0.24643024780589254, -1.0030147432944985, -0.16165591281686184, 2.226299463444169, -0.9553257863435494, -0.29638314164963764, 3.0766450558184446, 0.5921688084872822, -0.5443244331161018, 0.34831653131719215, 0.07205649871924576, 1.6331107284138258, -0.5047645502368753, 1.9948204982562445, 0.24547203312160698, -0.27026650540474917, -0.08129411360953269, 0.5285605980807471, 0.5823235382880914, -0.2600138020280055, -0.16891644200176278, 0.1014571072555472, -0.3585139768204954, -1.6969407642537817, 0.9902414663906203, -0.7067845545991822, -1.3549550916722233, 0.3266717614722, 0.722908659201581, -0.48226300279897943, -2.6040444968163907, -1.1310424188559618, -2.016050162462118, -0.8432923110307549, 0.1718208037412506, -0.6124292996478096, -1.257773712778361, -1.6465683792803527, 0.14999425467185448, -0.24201883863756485]}],\n",
       "                        {\"legend\": {\"bgcolor\": \"#F5F6F9\", \"font\": {\"color\": \"#4D5663\"}}, \"paper_bgcolor\": \"#F5F6F9\", \"plot_bgcolor\": \"#F5F6F9\", \"template\": {\"data\": {\"bar\": [{\"error_x\": {\"color\": \"#2a3f5f\"}, \"error_y\": {\"color\": \"#2a3f5f\"}, \"marker\": {\"line\": {\"color\": \"#E5ECF6\", \"width\": 0.5}}, \"type\": \"bar\"}], \"barpolar\": [{\"marker\": {\"line\": {\"color\": \"#E5ECF6\", \"width\": 0.5}}, \"type\": \"barpolar\"}], \"carpet\": [{\"aaxis\": {\"endlinecolor\": \"#2a3f5f\", \"gridcolor\": \"white\", \"linecolor\": \"white\", \"minorgridcolor\": \"white\", \"startlinecolor\": \"#2a3f5f\"}, \"baxis\": {\"endlinecolor\": \"#2a3f5f\", \"gridcolor\": \"white\", \"linecolor\": \"white\", \"minorgridcolor\": \"white\", \"startlinecolor\": \"#2a3f5f\"}, \"type\": \"carpet\"}], \"choropleth\": [{\"colorbar\": {\"outlinewidth\": 0, \"ticks\": \"\"}, \"type\": \"choropleth\"}], \"contour\": [{\"colorbar\": {\"outlinewidth\": 0, \"ticks\": \"\"}, \"colorscale\": [[0.0, \"#0d0887\"], [0.1111111111111111, \"#46039f\"], [0.2222222222222222, \"#7201a8\"], [0.3333333333333333, \"#9c179e\"], [0.4444444444444444, \"#bd3786\"], [0.5555555555555556, \"#d8576b\"], [0.6666666666666666, \"#ed7953\"], [0.7777777777777778, \"#fb9f3a\"], [0.8888888888888888, \"#fdca26\"], [1.0, \"#f0f921\"]], \"type\": \"contour\"}], \"contourcarpet\": [{\"colorbar\": {\"outlinewidth\": 0, \"ticks\": \"\"}, \"type\": \"contourcarpet\"}], \"heatmap\": [{\"colorbar\": {\"outlinewidth\": 0, \"ticks\": \"\"}, \"colorscale\": [[0.0, \"#0d0887\"], [0.1111111111111111, \"#46039f\"], [0.2222222222222222, \"#7201a8\"], [0.3333333333333333, \"#9c179e\"], [0.4444444444444444, \"#bd3786\"], [0.5555555555555556, \"#d8576b\"], [0.6666666666666666, \"#ed7953\"], [0.7777777777777778, \"#fb9f3a\"], [0.8888888888888888, \"#fdca26\"], [1.0, \"#f0f921\"]], \"type\": \"heatmap\"}], \"heatmapgl\": [{\"colorbar\": {\"outlinewidth\": 0, \"ticks\": \"\"}, \"colorscale\": [[0.0, \"#0d0887\"], [0.1111111111111111, \"#46039f\"], [0.2222222222222222, \"#7201a8\"], [0.3333333333333333, \"#9c179e\"], [0.4444444444444444, \"#bd3786\"], [0.5555555555555556, \"#d8576b\"], [0.6666666666666666, \"#ed7953\"], [0.7777777777777778, \"#fb9f3a\"], [0.8888888888888888, \"#fdca26\"], [1.0, \"#f0f921\"]], \"type\": \"heatmapgl\"}], \"histogram\": [{\"marker\": {\"colorbar\": {\"outlinewidth\": 0, \"ticks\": \"\"}}, \"type\": \"histogram\"}], \"histogram2d\": [{\"colorbar\": {\"outlinewidth\": 0, \"ticks\": \"\"}, \"colorscale\": [[0.0, \"#0d0887\"], [0.1111111111111111, \"#46039f\"], [0.2222222222222222, \"#7201a8\"], [0.3333333333333333, \"#9c179e\"], [0.4444444444444444, \"#bd3786\"], [0.5555555555555556, \"#d8576b\"], [0.6666666666666666, \"#ed7953\"], [0.7777777777777778, \"#fb9f3a\"], [0.8888888888888888, \"#fdca26\"], [1.0, \"#f0f921\"]], \"type\": \"histogram2d\"}], \"histogram2dcontour\": [{\"colorbar\": {\"outlinewidth\": 0, \"ticks\": \"\"}, \"colorscale\": [[0.0, \"#0d0887\"], [0.1111111111111111, \"#46039f\"], [0.2222222222222222, \"#7201a8\"], [0.3333333333333333, \"#9c179e\"], [0.4444444444444444, \"#bd3786\"], [0.5555555555555556, \"#d8576b\"], [0.6666666666666666, \"#ed7953\"], [0.7777777777777778, \"#fb9f3a\"], [0.8888888888888888, \"#fdca26\"], [1.0, \"#f0f921\"]], \"type\": \"histogram2dcontour\"}], \"mesh3d\": [{\"colorbar\": {\"outlinewidth\": 0, \"ticks\": \"\"}, \"type\": \"mesh3d\"}], \"parcoords\": [{\"line\": {\"colorbar\": {\"outlinewidth\": 0, \"ticks\": \"\"}}, \"type\": \"parcoords\"}], \"pie\": [{\"automargin\": true, \"type\": \"pie\"}], \"scatter\": [{\"marker\": {\"colorbar\": {\"outlinewidth\": 0, \"ticks\": \"\"}}, \"type\": \"scatter\"}], \"scatter3d\": [{\"line\": {\"colorbar\": {\"outlinewidth\": 0, \"ticks\": \"\"}}, \"marker\": {\"colorbar\": {\"outlinewidth\": 0, \"ticks\": \"\"}}, \"type\": \"scatter3d\"}], \"scattercarpet\": [{\"marker\": {\"colorbar\": {\"outlinewidth\": 0, \"ticks\": \"\"}}, \"type\": \"scattercarpet\"}], \"scattergeo\": [{\"marker\": {\"colorbar\": {\"outlinewidth\": 0, \"ticks\": \"\"}}, \"type\": \"scattergeo\"}], \"scattergl\": [{\"marker\": {\"colorbar\": {\"outlinewidth\": 0, \"ticks\": \"\"}}, \"type\": \"scattergl\"}], \"scattermapbox\": [{\"marker\": {\"colorbar\": {\"outlinewidth\": 0, \"ticks\": \"\"}}, \"type\": \"scattermapbox\"}], \"scatterpolar\": [{\"marker\": {\"colorbar\": {\"outlinewidth\": 0, \"ticks\": \"\"}}, \"type\": \"scatterpolar\"}], \"scatterpolargl\": [{\"marker\": {\"colorbar\": {\"outlinewidth\": 0, \"ticks\": \"\"}}, \"type\": \"scatterpolargl\"}], \"scatterternary\": [{\"marker\": {\"colorbar\": {\"outlinewidth\": 0, \"ticks\": \"\"}}, \"type\": \"scatterternary\"}], \"surface\": [{\"colorbar\": {\"outlinewidth\": 0, \"ticks\": \"\"}, \"colorscale\": [[0.0, \"#0d0887\"], [0.1111111111111111, \"#46039f\"], [0.2222222222222222, \"#7201a8\"], [0.3333333333333333, \"#9c179e\"], [0.4444444444444444, \"#bd3786\"], [0.5555555555555556, \"#d8576b\"], [0.6666666666666666, \"#ed7953\"], [0.7777777777777778, \"#fb9f3a\"], [0.8888888888888888, \"#fdca26\"], [1.0, \"#f0f921\"]], \"type\": \"surface\"}], \"table\": [{\"cells\": {\"fill\": {\"color\": \"#EBF0F8\"}, \"line\": {\"color\": \"white\"}}, \"header\": {\"fill\": {\"color\": \"#C8D4E3\"}, \"line\": {\"color\": \"white\"}}, \"type\": \"table\"}]}, \"layout\": {\"annotationdefaults\": {\"arrowcolor\": \"#2a3f5f\", \"arrowhead\": 0, \"arrowwidth\": 1}, \"coloraxis\": {\"colorbar\": {\"outlinewidth\": 0, \"ticks\": \"\"}}, \"colorscale\": {\"diverging\": [[0, \"#8e0152\"], [0.1, \"#c51b7d\"], [0.2, \"#de77ae\"], [0.3, \"#f1b6da\"], [0.4, \"#fde0ef\"], [0.5, \"#f7f7f7\"], [0.6, \"#e6f5d0\"], [0.7, \"#b8e186\"], [0.8, \"#7fbc41\"], [0.9, \"#4d9221\"], [1, \"#276419\"]], \"sequential\": [[0.0, \"#0d0887\"], [0.1111111111111111, \"#46039f\"], [0.2222222222222222, \"#7201a8\"], [0.3333333333333333, \"#9c179e\"], [0.4444444444444444, \"#bd3786\"], [0.5555555555555556, \"#d8576b\"], [0.6666666666666666, \"#ed7953\"], [0.7777777777777778, \"#fb9f3a\"], [0.8888888888888888, \"#fdca26\"], [1.0, \"#f0f921\"]], \"sequentialminus\": [[0.0, \"#0d0887\"], [0.1111111111111111, \"#46039f\"], [0.2222222222222222, \"#7201a8\"], [0.3333333333333333, \"#9c179e\"], [0.4444444444444444, \"#bd3786\"], [0.5555555555555556, \"#d8576b\"], [0.6666666666666666, \"#ed7953\"], [0.7777777777777778, \"#fb9f3a\"], [0.8888888888888888, \"#fdca26\"], [1.0, \"#f0f921\"]]}, \"colorway\": [\"#636efa\", \"#EF553B\", \"#00cc96\", \"#ab63fa\", \"#FFA15A\", \"#19d3f3\", \"#FF6692\", \"#B6E880\", \"#FF97FF\", \"#FECB52\"], \"font\": {\"color\": \"#2a3f5f\"}, \"geo\": {\"bgcolor\": \"white\", \"lakecolor\": \"white\", \"landcolor\": \"#E5ECF6\", \"showlakes\": true, \"showland\": true, \"subunitcolor\": \"white\"}, \"hoverlabel\": {\"align\": \"left\"}, \"hovermode\": \"closest\", \"mapbox\": {\"style\": \"light\"}, \"paper_bgcolor\": \"white\", \"plot_bgcolor\": \"#E5ECF6\", \"polar\": {\"angularaxis\": {\"gridcolor\": \"white\", \"linecolor\": \"white\", \"ticks\": \"\"}, \"bgcolor\": \"#E5ECF6\", \"radialaxis\": {\"gridcolor\": \"white\", \"linecolor\": \"white\", \"ticks\": \"\"}}, \"scene\": {\"xaxis\": {\"backgroundcolor\": \"#E5ECF6\", \"gridcolor\": \"white\", \"gridwidth\": 2, \"linecolor\": \"white\", \"showbackground\": true, \"ticks\": \"\", \"zerolinecolor\": \"white\"}, \"yaxis\": {\"backgroundcolor\": \"#E5ECF6\", \"gridcolor\": \"white\", \"gridwidth\": 2, \"linecolor\": \"white\", \"showbackground\": true, \"ticks\": \"\", \"zerolinecolor\": \"white\"}, \"zaxis\": {\"backgroundcolor\": \"#E5ECF6\", \"gridcolor\": \"white\", \"gridwidth\": 2, \"linecolor\": \"white\", \"showbackground\": true, \"ticks\": \"\", \"zerolinecolor\": \"white\"}}, \"shapedefaults\": {\"line\": {\"color\": \"#2a3f5f\"}}, \"ternary\": {\"aaxis\": {\"gridcolor\": \"white\", \"linecolor\": \"white\", \"ticks\": \"\"}, \"baxis\": {\"gridcolor\": \"white\", \"linecolor\": \"white\", \"ticks\": \"\"}, \"bgcolor\": \"#E5ECF6\", \"caxis\": {\"gridcolor\": \"white\", \"linecolor\": \"white\", \"ticks\": \"\"}}, \"title\": {\"x\": 0.05}, \"xaxis\": {\"automargin\": true, \"gridcolor\": \"white\", \"linecolor\": \"white\", \"ticks\": \"\", \"title\": {\"standoff\": 15}, \"zerolinecolor\": \"white\", \"zerolinewidth\": 2}, \"yaxis\": {\"automargin\": true, \"gridcolor\": \"white\", \"linecolor\": \"white\", \"ticks\": \"\", \"title\": {\"standoff\": 15}, \"zerolinecolor\": \"white\", \"zerolinewidth\": 2}}}, \"title\": {\"font\": {\"color\": \"#4D5663\"}}, \"xaxis\": {\"gridcolor\": \"#E1E5ED\", \"showgrid\": true, \"tickfont\": {\"color\": \"#4D5663\"}, \"title\": {\"font\": {\"color\": \"#4D5663\"}, \"text\": \"\"}, \"zerolinecolor\": \"#E1E5ED\"}, \"yaxis\": {\"gridcolor\": \"#E1E5ED\", \"showgrid\": true, \"tickfont\": {\"color\": \"#4D5663\"}, \"title\": {\"font\": {\"color\": \"#4D5663\"}, \"text\": \"\"}, \"zerolinecolor\": \"#E1E5ED\"}},\n",
       "                        {\"showLink\": true, \"linkText\": \"Export to plot.ly\", \"plotlyServerURL\": \"https://plot.ly\", \"responsive\": true}\n",
       "                    ).then(function(){\n",
       "                            \n",
       "var gd = document.getElementById('3a02ae67-aca2-429e-8727-2a83838e73c8');\n",
       "var x = new MutationObserver(function (mutations, observer) {{\n",
       "        var display = window.getComputedStyle(gd).display;\n",
       "        if (!display || display === 'none') {{\n",
       "            console.log([gd, 'removed!']);\n",
       "            Plotly.purge(gd);\n",
       "            observer.disconnect();\n",
       "        }}\n",
       "}});\n",
       "\n",
       "// Listen for the removal of the full notebook cells\n",
       "var notebookContainer = gd.closest('#notebook-container');\n",
       "if (notebookContainer) {{\n",
       "    x.observe(notebookContainer, {childList: true});\n",
       "}}\n",
       "\n",
       "// Listen for the clearing of the current output cell\n",
       "var outputEl = gd.closest('.output');\n",
       "if (outputEl) {{\n",
       "    x.observe(outputEl, {childList: true});\n",
       "}}\n",
       "\n",
       "                        })\n",
       "                };\n",
       "                });\n",
       "            </script>\n",
       "        </div>"
      ]
     },
     "metadata": {},
     "output_type": "display_data"
    }
   ],
   "source": [
    "# scatter plot, plotly by default connects all the lines\n",
    "df.iplot(kind='scatter',x='A',y='B')"
   ]
  },
  {
   "cell_type": "code",
   "execution_count": 26,
   "metadata": {},
   "outputs": [
    {
     "data": {
      "application/vnd.plotly.v1+json": {
       "config": {
        "linkText": "Export to plot.ly",
        "plotlyServerURL": "https://plot.ly",
        "showLink": true
       },
       "data": [
        {
         "line": {
          "color": "rgba(255, 153, 51, 1.0)",
          "dash": "solid",
          "shape": "linear",
          "width": 1.3
         },
         "marker": {
          "size": 10,
          "symbol": "circle"
         },
         "mode": "markers",
         "name": "B",
         "text": "",
         "type": "scatter",
         "x": [
          -1.516267560230567,
          -1.9207884175074055,
          1.0373966535124963,
          0.14953510936685668,
          -3.999485447186093,
          0.41440508516482133,
          0.7429422015904862,
          -1.4289512487530127,
          0.6905534850783236,
          0.11506940258331375,
          1.9618318262179413,
          0.4820087067882209,
          0.010833293229753694,
          -0.595929986198764,
          -2.113531329590608,
          1.3475913692139152,
          -0.17027902129753222,
          -1.7647043330033494,
          -0.7618858921940336,
          -0.32990065514115696,
          0.5275932665014055,
          -0.012597174270982791,
          0.977197771133166,
          -0.32632061640685095,
          0.08292817175283175,
          -0.8344479918217037,
          1.568391586495905,
          0.35928326522581105,
          -0.6938103952930875,
          0.2879566156066621,
          0.020560596221972264,
          -0.6608720159459609,
          -1.3379447458259173,
          0.09976969555504292,
          -1.8342513136627003,
          0.9586876894546607,
          -1.1058337722839024,
          0.5406356582921222,
          -1.9079890868367126,
          0.25673390912073035,
          -0.09844552196478548,
          0.547433763312957,
          -1.2925028155368672,
          -1.0266178727650466,
          1.1507359785118991,
          -0.4331137041199937,
          0.3750983126336917,
          -0.956571917947313,
          -0.6306287050127768,
          1.1658314936903746,
          0.20727664611040933,
          -0.7125620965948533,
          -1.2329857567549423,
          -1.19301842269195,
          0.7344866094623589,
          0.24825131328164876,
          -0.0703592808778631,
          -0.3940635524410132,
          0.8837620159811025,
          -0.5882788998946945,
          0.857686324715227,
          -1.2759414075844788,
          0.1849841116242509,
          -0.9889213556524264,
          0.37665713077589197,
          0.06736189675688638,
          0.7757816466321904,
          1.0197517246852932,
          2.1963839769565587,
          1.6228329344349806,
          -0.417307672140243,
          0.4883689747400217,
          1.0063943302757847,
          -0.641507073385344,
          0.2592738354357245,
          -1.115946078959094,
          0.4121599174934557,
          -0.5158597744247898,
          1.1280022315312952,
          -0.3627082124069788,
          0.7816328424346314,
          1.1133691254531146,
          1.776942182023018,
          -0.2100716526582734,
          -0.8832821040096712,
          0.10615505370341051,
          -1.2015298986284144,
          -1.6001804881901893,
          -1.0807816016045844,
          -0.9463689237520007,
          -0.5501717411155009,
          0.6915172170167367,
          1.3927574947291392,
          -1.4420007770037622,
          0.9858512592211613,
          -0.6690552083723248,
          -0.23614428440751595,
          -0.30191933616375166,
          1.1650348858496635,
          0.12403058093384871
         ],
         "y": [
          0.7560556932599837,
          0.1861617358883027,
          -0.45946401974499407,
          0.5363725650333798,
          -0.2826907049744466,
          0.9869378586623979,
          -0.6293265326245278,
          0.34986000372960885,
          -0.5320627851308627,
          -1.0447729626343751,
          -0.02070322248580189,
          0.6798959897817697,
          0.5763501818321275,
          2.223053447818855,
          -0.8875788326999193,
          0.1615787630842412,
          0.3567709085089428,
          0.5248938481707832,
          0.9271245772107571,
          -0.7937188090872309,
          -0.6378307034357991,
          -0.17620310244789048,
          -0.23574356411919412,
          -1.527418059284275,
          -1.4533726991112783,
          -1.2953156503840655,
          0.6210477547351118,
          0.15506917930022304,
          1.1950725809051264,
          -0.04247534795006339,
          0.7659378064150684,
          -0.5615692618981515,
          0.5737791878517139,
          -1.6006308572561425,
          -2.0333950285797724,
          0.9346585456145193,
          0.9488633527962949,
          -0.4745063070449874,
          -0.7734177445027147,
          1.16465395450693,
          1.4686285828616743,
          -0.7166223975541242,
          -1.2791480009837546,
          -1.3619596644254246,
          0.7391929603399298,
          1.1533967674155505,
          0.3919443359002727,
          -0.9920921182175484,
          -0.9872936922072552,
          0.9000315317637086,
          0.004605680217882535,
          0.1132365767180532,
          -2.435324506895573,
          -0.7597271181186379,
          -0.5264360772598415,
          -0.3121916127736122,
          1.2307918201579024,
          1.869523187447704,
          -0.8858686376106412,
          0.543726783419556,
          -0.24643024780589254,
          -1.0030147432944985,
          -0.16165591281686184,
          2.226299463444169,
          -0.9553257863435494,
          -0.29638314164963764,
          3.0766450558184446,
          0.5921688084872822,
          -0.5443244331161018,
          0.34831653131719215,
          0.07205649871924576,
          1.6331107284138258,
          -0.5047645502368753,
          1.9948204982562445,
          0.24547203312160698,
          -0.27026650540474917,
          -0.08129411360953269,
          0.5285605980807471,
          0.5823235382880914,
          -0.2600138020280055,
          -0.16891644200176278,
          0.1014571072555472,
          -0.3585139768204954,
          -1.6969407642537817,
          0.9902414663906203,
          -0.7067845545991822,
          -1.3549550916722233,
          0.3266717614722,
          0.722908659201581,
          -0.48226300279897943,
          -2.6040444968163907,
          -1.1310424188559618,
          -2.016050162462118,
          -0.8432923110307549,
          0.1718208037412506,
          -0.6124292996478096,
          -1.257773712778361,
          -1.6465683792803527,
          0.14999425467185448,
          -0.24201883863756485
         ]
        }
       ],
       "layout": {
        "legend": {
         "bgcolor": "#F5F6F9",
         "font": {
          "color": "#4D5663"
         }
        },
        "paper_bgcolor": "#F5F6F9",
        "plot_bgcolor": "#F5F6F9",
        "template": {
         "data": {
          "bar": [
           {
            "error_x": {
             "color": "#2a3f5f"
            },
            "error_y": {
             "color": "#2a3f5f"
            },
            "marker": {
             "line": {
              "color": "#E5ECF6",
              "width": 0.5
             }
            },
            "type": "bar"
           }
          ],
          "barpolar": [
           {
            "marker": {
             "line": {
              "color": "#E5ECF6",
              "width": 0.5
             }
            },
            "type": "barpolar"
           }
          ],
          "carpet": [
           {
            "aaxis": {
             "endlinecolor": "#2a3f5f",
             "gridcolor": "white",
             "linecolor": "white",
             "minorgridcolor": "white",
             "startlinecolor": "#2a3f5f"
            },
            "baxis": {
             "endlinecolor": "#2a3f5f",
             "gridcolor": "white",
             "linecolor": "white",
             "minorgridcolor": "white",
             "startlinecolor": "#2a3f5f"
            },
            "type": "carpet"
           }
          ],
          "choropleth": [
           {
            "colorbar": {
             "outlinewidth": 0,
             "ticks": ""
            },
            "type": "choropleth"
           }
          ],
          "contour": [
           {
            "colorbar": {
             "outlinewidth": 0,
             "ticks": ""
            },
            "colorscale": [
             [
              0,
              "#0d0887"
             ],
             [
              0.1111111111111111,
              "#46039f"
             ],
             [
              0.2222222222222222,
              "#7201a8"
             ],
             [
              0.3333333333333333,
              "#9c179e"
             ],
             [
              0.4444444444444444,
              "#bd3786"
             ],
             [
              0.5555555555555556,
              "#d8576b"
             ],
             [
              0.6666666666666666,
              "#ed7953"
             ],
             [
              0.7777777777777778,
              "#fb9f3a"
             ],
             [
              0.8888888888888888,
              "#fdca26"
             ],
             [
              1,
              "#f0f921"
             ]
            ],
            "type": "contour"
           }
          ],
          "contourcarpet": [
           {
            "colorbar": {
             "outlinewidth": 0,
             "ticks": ""
            },
            "type": "contourcarpet"
           }
          ],
          "heatmap": [
           {
            "colorbar": {
             "outlinewidth": 0,
             "ticks": ""
            },
            "colorscale": [
             [
              0,
              "#0d0887"
             ],
             [
              0.1111111111111111,
              "#46039f"
             ],
             [
              0.2222222222222222,
              "#7201a8"
             ],
             [
              0.3333333333333333,
              "#9c179e"
             ],
             [
              0.4444444444444444,
              "#bd3786"
             ],
             [
              0.5555555555555556,
              "#d8576b"
             ],
             [
              0.6666666666666666,
              "#ed7953"
             ],
             [
              0.7777777777777778,
              "#fb9f3a"
             ],
             [
              0.8888888888888888,
              "#fdca26"
             ],
             [
              1,
              "#f0f921"
             ]
            ],
            "type": "heatmap"
           }
          ],
          "heatmapgl": [
           {
            "colorbar": {
             "outlinewidth": 0,
             "ticks": ""
            },
            "colorscale": [
             [
              0,
              "#0d0887"
             ],
             [
              0.1111111111111111,
              "#46039f"
             ],
             [
              0.2222222222222222,
              "#7201a8"
             ],
             [
              0.3333333333333333,
              "#9c179e"
             ],
             [
              0.4444444444444444,
              "#bd3786"
             ],
             [
              0.5555555555555556,
              "#d8576b"
             ],
             [
              0.6666666666666666,
              "#ed7953"
             ],
             [
              0.7777777777777778,
              "#fb9f3a"
             ],
             [
              0.8888888888888888,
              "#fdca26"
             ],
             [
              1,
              "#f0f921"
             ]
            ],
            "type": "heatmapgl"
           }
          ],
          "histogram": [
           {
            "marker": {
             "colorbar": {
              "outlinewidth": 0,
              "ticks": ""
             }
            },
            "type": "histogram"
           }
          ],
          "histogram2d": [
           {
            "colorbar": {
             "outlinewidth": 0,
             "ticks": ""
            },
            "colorscale": [
             [
              0,
              "#0d0887"
             ],
             [
              0.1111111111111111,
              "#46039f"
             ],
             [
              0.2222222222222222,
              "#7201a8"
             ],
             [
              0.3333333333333333,
              "#9c179e"
             ],
             [
              0.4444444444444444,
              "#bd3786"
             ],
             [
              0.5555555555555556,
              "#d8576b"
             ],
             [
              0.6666666666666666,
              "#ed7953"
             ],
             [
              0.7777777777777778,
              "#fb9f3a"
             ],
             [
              0.8888888888888888,
              "#fdca26"
             ],
             [
              1,
              "#f0f921"
             ]
            ],
            "type": "histogram2d"
           }
          ],
          "histogram2dcontour": [
           {
            "colorbar": {
             "outlinewidth": 0,
             "ticks": ""
            },
            "colorscale": [
             [
              0,
              "#0d0887"
             ],
             [
              0.1111111111111111,
              "#46039f"
             ],
             [
              0.2222222222222222,
              "#7201a8"
             ],
             [
              0.3333333333333333,
              "#9c179e"
             ],
             [
              0.4444444444444444,
              "#bd3786"
             ],
             [
              0.5555555555555556,
              "#d8576b"
             ],
             [
              0.6666666666666666,
              "#ed7953"
             ],
             [
              0.7777777777777778,
              "#fb9f3a"
             ],
             [
              0.8888888888888888,
              "#fdca26"
             ],
             [
              1,
              "#f0f921"
             ]
            ],
            "type": "histogram2dcontour"
           }
          ],
          "mesh3d": [
           {
            "colorbar": {
             "outlinewidth": 0,
             "ticks": ""
            },
            "type": "mesh3d"
           }
          ],
          "parcoords": [
           {
            "line": {
             "colorbar": {
              "outlinewidth": 0,
              "ticks": ""
             }
            },
            "type": "parcoords"
           }
          ],
          "pie": [
           {
            "automargin": true,
            "type": "pie"
           }
          ],
          "scatter": [
           {
            "marker": {
             "colorbar": {
              "outlinewidth": 0,
              "ticks": ""
             }
            },
            "type": "scatter"
           }
          ],
          "scatter3d": [
           {
            "line": {
             "colorbar": {
              "outlinewidth": 0,
              "ticks": ""
             }
            },
            "marker": {
             "colorbar": {
              "outlinewidth": 0,
              "ticks": ""
             }
            },
            "type": "scatter3d"
           }
          ],
          "scattercarpet": [
           {
            "marker": {
             "colorbar": {
              "outlinewidth": 0,
              "ticks": ""
             }
            },
            "type": "scattercarpet"
           }
          ],
          "scattergeo": [
           {
            "marker": {
             "colorbar": {
              "outlinewidth": 0,
              "ticks": ""
             }
            },
            "type": "scattergeo"
           }
          ],
          "scattergl": [
           {
            "marker": {
             "colorbar": {
              "outlinewidth": 0,
              "ticks": ""
             }
            },
            "type": "scattergl"
           }
          ],
          "scattermapbox": [
           {
            "marker": {
             "colorbar": {
              "outlinewidth": 0,
              "ticks": ""
             }
            },
            "type": "scattermapbox"
           }
          ],
          "scatterpolar": [
           {
            "marker": {
             "colorbar": {
              "outlinewidth": 0,
              "ticks": ""
             }
            },
            "type": "scatterpolar"
           }
          ],
          "scatterpolargl": [
           {
            "marker": {
             "colorbar": {
              "outlinewidth": 0,
              "ticks": ""
             }
            },
            "type": "scatterpolargl"
           }
          ],
          "scatterternary": [
           {
            "marker": {
             "colorbar": {
              "outlinewidth": 0,
              "ticks": ""
             }
            },
            "type": "scatterternary"
           }
          ],
          "surface": [
           {
            "colorbar": {
             "outlinewidth": 0,
             "ticks": ""
            },
            "colorscale": [
             [
              0,
              "#0d0887"
             ],
             [
              0.1111111111111111,
              "#46039f"
             ],
             [
              0.2222222222222222,
              "#7201a8"
             ],
             [
              0.3333333333333333,
              "#9c179e"
             ],
             [
              0.4444444444444444,
              "#bd3786"
             ],
             [
              0.5555555555555556,
              "#d8576b"
             ],
             [
              0.6666666666666666,
              "#ed7953"
             ],
             [
              0.7777777777777778,
              "#fb9f3a"
             ],
             [
              0.8888888888888888,
              "#fdca26"
             ],
             [
              1,
              "#f0f921"
             ]
            ],
            "type": "surface"
           }
          ],
          "table": [
           {
            "cells": {
             "fill": {
              "color": "#EBF0F8"
             },
             "line": {
              "color": "white"
             }
            },
            "header": {
             "fill": {
              "color": "#C8D4E3"
             },
             "line": {
              "color": "white"
             }
            },
            "type": "table"
           }
          ]
         },
         "layout": {
          "annotationdefaults": {
           "arrowcolor": "#2a3f5f",
           "arrowhead": 0,
           "arrowwidth": 1
          },
          "coloraxis": {
           "colorbar": {
            "outlinewidth": 0,
            "ticks": ""
           }
          },
          "colorscale": {
           "diverging": [
            [
             0,
             "#8e0152"
            ],
            [
             0.1,
             "#c51b7d"
            ],
            [
             0.2,
             "#de77ae"
            ],
            [
             0.3,
             "#f1b6da"
            ],
            [
             0.4,
             "#fde0ef"
            ],
            [
             0.5,
             "#f7f7f7"
            ],
            [
             0.6,
             "#e6f5d0"
            ],
            [
             0.7,
             "#b8e186"
            ],
            [
             0.8,
             "#7fbc41"
            ],
            [
             0.9,
             "#4d9221"
            ],
            [
             1,
             "#276419"
            ]
           ],
           "sequential": [
            [
             0,
             "#0d0887"
            ],
            [
             0.1111111111111111,
             "#46039f"
            ],
            [
             0.2222222222222222,
             "#7201a8"
            ],
            [
             0.3333333333333333,
             "#9c179e"
            ],
            [
             0.4444444444444444,
             "#bd3786"
            ],
            [
             0.5555555555555556,
             "#d8576b"
            ],
            [
             0.6666666666666666,
             "#ed7953"
            ],
            [
             0.7777777777777778,
             "#fb9f3a"
            ],
            [
             0.8888888888888888,
             "#fdca26"
            ],
            [
             1,
             "#f0f921"
            ]
           ],
           "sequentialminus": [
            [
             0,
             "#0d0887"
            ],
            [
             0.1111111111111111,
             "#46039f"
            ],
            [
             0.2222222222222222,
             "#7201a8"
            ],
            [
             0.3333333333333333,
             "#9c179e"
            ],
            [
             0.4444444444444444,
             "#bd3786"
            ],
            [
             0.5555555555555556,
             "#d8576b"
            ],
            [
             0.6666666666666666,
             "#ed7953"
            ],
            [
             0.7777777777777778,
             "#fb9f3a"
            ],
            [
             0.8888888888888888,
             "#fdca26"
            ],
            [
             1,
             "#f0f921"
            ]
           ]
          },
          "colorway": [
           "#636efa",
           "#EF553B",
           "#00cc96",
           "#ab63fa",
           "#FFA15A",
           "#19d3f3",
           "#FF6692",
           "#B6E880",
           "#FF97FF",
           "#FECB52"
          ],
          "font": {
           "color": "#2a3f5f"
          },
          "geo": {
           "bgcolor": "white",
           "lakecolor": "white",
           "landcolor": "#E5ECF6",
           "showlakes": true,
           "showland": true,
           "subunitcolor": "white"
          },
          "hoverlabel": {
           "align": "left"
          },
          "hovermode": "closest",
          "mapbox": {
           "style": "light"
          },
          "paper_bgcolor": "white",
          "plot_bgcolor": "#E5ECF6",
          "polar": {
           "angularaxis": {
            "gridcolor": "white",
            "linecolor": "white",
            "ticks": ""
           },
           "bgcolor": "#E5ECF6",
           "radialaxis": {
            "gridcolor": "white",
            "linecolor": "white",
            "ticks": ""
           }
          },
          "scene": {
           "xaxis": {
            "backgroundcolor": "#E5ECF6",
            "gridcolor": "white",
            "gridwidth": 2,
            "linecolor": "white",
            "showbackground": true,
            "ticks": "",
            "zerolinecolor": "white"
           },
           "yaxis": {
            "backgroundcolor": "#E5ECF6",
            "gridcolor": "white",
            "gridwidth": 2,
            "linecolor": "white",
            "showbackground": true,
            "ticks": "",
            "zerolinecolor": "white"
           },
           "zaxis": {
            "backgroundcolor": "#E5ECF6",
            "gridcolor": "white",
            "gridwidth": 2,
            "linecolor": "white",
            "showbackground": true,
            "ticks": "",
            "zerolinecolor": "white"
           }
          },
          "shapedefaults": {
           "line": {
            "color": "#2a3f5f"
           }
          },
          "ternary": {
           "aaxis": {
            "gridcolor": "white",
            "linecolor": "white",
            "ticks": ""
           },
           "baxis": {
            "gridcolor": "white",
            "linecolor": "white",
            "ticks": ""
           },
           "bgcolor": "#E5ECF6",
           "caxis": {
            "gridcolor": "white",
            "linecolor": "white",
            "ticks": ""
           }
          },
          "title": {
           "x": 0.05
          },
          "xaxis": {
           "automargin": true,
           "gridcolor": "white",
           "linecolor": "white",
           "ticks": "",
           "title": {
            "standoff": 15
           },
           "zerolinecolor": "white",
           "zerolinewidth": 2
          },
          "yaxis": {
           "automargin": true,
           "gridcolor": "white",
           "linecolor": "white",
           "ticks": "",
           "title": {
            "standoff": 15
           },
           "zerolinecolor": "white",
           "zerolinewidth": 2
          }
         }
        },
        "title": {
         "font": {
          "color": "#4D5663"
         }
        },
        "xaxis": {
         "gridcolor": "#E1E5ED",
         "showgrid": true,
         "tickfont": {
          "color": "#4D5663"
         },
         "title": {
          "font": {
           "color": "#4D5663"
          },
          "text": ""
         },
         "zerolinecolor": "#E1E5ED"
        },
        "yaxis": {
         "gridcolor": "#E1E5ED",
         "showgrid": true,
         "tickfont": {
          "color": "#4D5663"
         },
         "title": {
          "font": {
           "color": "#4D5663"
          },
          "text": ""
         },
         "zerolinecolor": "#E1E5ED"
        }
       }
      },
      "text/html": [
       "<div>\n",
       "        \n",
       "        \n",
       "            <div id=\"92ba60ee-a156-4292-9ffb-a7f476a1fb31\" class=\"plotly-graph-div\" style=\"height:525px; width:100%;\"></div>\n",
       "            <script type=\"text/javascript\">\n",
       "                require([\"plotly\"], function(Plotly) {\n",
       "                    window.PLOTLYENV=window.PLOTLYENV || {};\n",
       "                    window.PLOTLYENV.BASE_URL='https://plot.ly';\n",
       "                    \n",
       "                if (document.getElementById(\"92ba60ee-a156-4292-9ffb-a7f476a1fb31\")) {\n",
       "                    Plotly.newPlot(\n",
       "                        '92ba60ee-a156-4292-9ffb-a7f476a1fb31',\n",
       "                        [{\"line\": {\"color\": \"rgba(255, 153, 51, 1.0)\", \"dash\": \"solid\", \"shape\": \"linear\", \"width\": 1.3}, \"marker\": {\"size\": 10, \"symbol\": \"circle\"}, \"mode\": \"markers\", \"name\": \"B\", \"text\": \"\", \"type\": \"scatter\", \"x\": [-1.516267560230567, -1.9207884175074055, 1.0373966535124963, 0.14953510936685668, -3.999485447186093, 0.41440508516482133, 0.7429422015904862, -1.4289512487530127, 0.6905534850783236, 0.11506940258331375, 1.9618318262179413, 0.4820087067882209, 0.010833293229753694, -0.595929986198764, -2.113531329590608, 1.3475913692139152, -0.17027902129753222, -1.7647043330033494, -0.7618858921940336, -0.32990065514115696, 0.5275932665014055, -0.012597174270982791, 0.977197771133166, -0.32632061640685095, 0.08292817175283175, -0.8344479918217037, 1.568391586495905, 0.35928326522581105, -0.6938103952930875, 0.2879566156066621, 0.020560596221972264, -0.6608720159459609, -1.3379447458259173, 0.09976969555504292, -1.8342513136627003, 0.9586876894546607, -1.1058337722839024, 0.5406356582921222, -1.9079890868367126, 0.25673390912073035, -0.09844552196478548, 0.547433763312957, -1.2925028155368672, -1.0266178727650466, 1.1507359785118991, -0.4331137041199937, 0.3750983126336917, -0.956571917947313, -0.6306287050127768, 1.1658314936903746, 0.20727664611040933, -0.7125620965948533, -1.2329857567549423, -1.19301842269195, 0.7344866094623589, 0.24825131328164876, -0.0703592808778631, -0.3940635524410132, 0.8837620159811025, -0.5882788998946945, 0.857686324715227, -1.2759414075844788, 0.1849841116242509, -0.9889213556524264, 0.37665713077589197, 0.06736189675688638, 0.7757816466321904, 1.0197517246852932, 2.1963839769565587, 1.6228329344349806, -0.417307672140243, 0.4883689747400217, 1.0063943302757847, -0.641507073385344, 0.2592738354357245, -1.115946078959094, 0.4121599174934557, -0.5158597744247898, 1.1280022315312952, -0.3627082124069788, 0.7816328424346314, 1.1133691254531146, 1.776942182023018, -0.2100716526582734, -0.8832821040096712, 0.10615505370341051, -1.2015298986284144, -1.6001804881901893, -1.0807816016045844, -0.9463689237520007, -0.5501717411155009, 0.6915172170167367, 1.3927574947291392, -1.4420007770037622, 0.9858512592211613, -0.6690552083723248, -0.23614428440751595, -0.30191933616375166, 1.1650348858496635, 0.12403058093384871], \"y\": [0.7560556932599837, 0.1861617358883027, -0.45946401974499407, 0.5363725650333798, -0.2826907049744466, 0.9869378586623979, -0.6293265326245278, 0.34986000372960885, -0.5320627851308627, -1.0447729626343751, -0.02070322248580189, 0.6798959897817697, 0.5763501818321275, 2.223053447818855, -0.8875788326999193, 0.1615787630842412, 0.3567709085089428, 0.5248938481707832, 0.9271245772107571, -0.7937188090872309, -0.6378307034357991, -0.17620310244789048, -0.23574356411919412, -1.527418059284275, -1.4533726991112783, -1.2953156503840655, 0.6210477547351118, 0.15506917930022304, 1.1950725809051264, -0.04247534795006339, 0.7659378064150684, -0.5615692618981515, 0.5737791878517139, -1.6006308572561425, -2.0333950285797724, 0.9346585456145193, 0.9488633527962949, -0.4745063070449874, -0.7734177445027147, 1.16465395450693, 1.4686285828616743, -0.7166223975541242, -1.2791480009837546, -1.3619596644254246, 0.7391929603399298, 1.1533967674155505, 0.3919443359002727, -0.9920921182175484, -0.9872936922072552, 0.9000315317637086, 0.004605680217882535, 0.1132365767180532, -2.435324506895573, -0.7597271181186379, -0.5264360772598415, -0.3121916127736122, 1.2307918201579024, 1.869523187447704, -0.8858686376106412, 0.543726783419556, -0.24643024780589254, -1.0030147432944985, -0.16165591281686184, 2.226299463444169, -0.9553257863435494, -0.29638314164963764, 3.0766450558184446, 0.5921688084872822, -0.5443244331161018, 0.34831653131719215, 0.07205649871924576, 1.6331107284138258, -0.5047645502368753, 1.9948204982562445, 0.24547203312160698, -0.27026650540474917, -0.08129411360953269, 0.5285605980807471, 0.5823235382880914, -0.2600138020280055, -0.16891644200176278, 0.1014571072555472, -0.3585139768204954, -1.6969407642537817, 0.9902414663906203, -0.7067845545991822, -1.3549550916722233, 0.3266717614722, 0.722908659201581, -0.48226300279897943, -2.6040444968163907, -1.1310424188559618, -2.016050162462118, -0.8432923110307549, 0.1718208037412506, -0.6124292996478096, -1.257773712778361, -1.6465683792803527, 0.14999425467185448, -0.24201883863756485]}],\n",
       "                        {\"legend\": {\"bgcolor\": \"#F5F6F9\", \"font\": {\"color\": \"#4D5663\"}}, \"paper_bgcolor\": \"#F5F6F9\", \"plot_bgcolor\": \"#F5F6F9\", \"template\": {\"data\": {\"bar\": [{\"error_x\": {\"color\": \"#2a3f5f\"}, \"error_y\": {\"color\": \"#2a3f5f\"}, \"marker\": {\"line\": {\"color\": \"#E5ECF6\", \"width\": 0.5}}, \"type\": \"bar\"}], \"barpolar\": [{\"marker\": {\"line\": {\"color\": \"#E5ECF6\", \"width\": 0.5}}, \"type\": \"barpolar\"}], \"carpet\": [{\"aaxis\": {\"endlinecolor\": \"#2a3f5f\", \"gridcolor\": \"white\", \"linecolor\": \"white\", \"minorgridcolor\": \"white\", \"startlinecolor\": \"#2a3f5f\"}, \"baxis\": {\"endlinecolor\": \"#2a3f5f\", \"gridcolor\": \"white\", \"linecolor\": \"white\", \"minorgridcolor\": \"white\", \"startlinecolor\": \"#2a3f5f\"}, \"type\": \"carpet\"}], \"choropleth\": [{\"colorbar\": {\"outlinewidth\": 0, \"ticks\": \"\"}, \"type\": \"choropleth\"}], \"contour\": [{\"colorbar\": {\"outlinewidth\": 0, \"ticks\": \"\"}, \"colorscale\": [[0.0, \"#0d0887\"], [0.1111111111111111, \"#46039f\"], [0.2222222222222222, \"#7201a8\"], [0.3333333333333333, \"#9c179e\"], [0.4444444444444444, \"#bd3786\"], [0.5555555555555556, \"#d8576b\"], [0.6666666666666666, \"#ed7953\"], [0.7777777777777778, \"#fb9f3a\"], [0.8888888888888888, \"#fdca26\"], [1.0, \"#f0f921\"]], \"type\": \"contour\"}], \"contourcarpet\": [{\"colorbar\": {\"outlinewidth\": 0, \"ticks\": \"\"}, \"type\": \"contourcarpet\"}], \"heatmap\": [{\"colorbar\": {\"outlinewidth\": 0, \"ticks\": \"\"}, \"colorscale\": [[0.0, \"#0d0887\"], [0.1111111111111111, \"#46039f\"], [0.2222222222222222, \"#7201a8\"], [0.3333333333333333, \"#9c179e\"], [0.4444444444444444, \"#bd3786\"], [0.5555555555555556, \"#d8576b\"], [0.6666666666666666, \"#ed7953\"], [0.7777777777777778, \"#fb9f3a\"], [0.8888888888888888, \"#fdca26\"], [1.0, \"#f0f921\"]], \"type\": \"heatmap\"}], \"heatmapgl\": [{\"colorbar\": {\"outlinewidth\": 0, \"ticks\": \"\"}, \"colorscale\": [[0.0, \"#0d0887\"], [0.1111111111111111, \"#46039f\"], [0.2222222222222222, \"#7201a8\"], [0.3333333333333333, \"#9c179e\"], [0.4444444444444444, \"#bd3786\"], [0.5555555555555556, \"#d8576b\"], [0.6666666666666666, \"#ed7953\"], [0.7777777777777778, \"#fb9f3a\"], [0.8888888888888888, \"#fdca26\"], [1.0, \"#f0f921\"]], \"type\": \"heatmapgl\"}], \"histogram\": [{\"marker\": {\"colorbar\": {\"outlinewidth\": 0, \"ticks\": \"\"}}, \"type\": \"histogram\"}], \"histogram2d\": [{\"colorbar\": {\"outlinewidth\": 0, \"ticks\": \"\"}, \"colorscale\": [[0.0, \"#0d0887\"], [0.1111111111111111, \"#46039f\"], [0.2222222222222222, \"#7201a8\"], [0.3333333333333333, \"#9c179e\"], [0.4444444444444444, \"#bd3786\"], [0.5555555555555556, \"#d8576b\"], [0.6666666666666666, \"#ed7953\"], [0.7777777777777778, \"#fb9f3a\"], [0.8888888888888888, \"#fdca26\"], [1.0, \"#f0f921\"]], \"type\": \"histogram2d\"}], \"histogram2dcontour\": [{\"colorbar\": {\"outlinewidth\": 0, \"ticks\": \"\"}, \"colorscale\": [[0.0, \"#0d0887\"], [0.1111111111111111, \"#46039f\"], [0.2222222222222222, \"#7201a8\"], [0.3333333333333333, \"#9c179e\"], [0.4444444444444444, \"#bd3786\"], [0.5555555555555556, \"#d8576b\"], [0.6666666666666666, \"#ed7953\"], [0.7777777777777778, \"#fb9f3a\"], [0.8888888888888888, \"#fdca26\"], [1.0, \"#f0f921\"]], \"type\": \"histogram2dcontour\"}], \"mesh3d\": [{\"colorbar\": {\"outlinewidth\": 0, \"ticks\": \"\"}, \"type\": \"mesh3d\"}], \"parcoords\": [{\"line\": {\"colorbar\": {\"outlinewidth\": 0, \"ticks\": \"\"}}, \"type\": \"parcoords\"}], \"pie\": [{\"automargin\": true, \"type\": \"pie\"}], \"scatter\": [{\"marker\": {\"colorbar\": {\"outlinewidth\": 0, \"ticks\": \"\"}}, \"type\": \"scatter\"}], \"scatter3d\": [{\"line\": {\"colorbar\": {\"outlinewidth\": 0, \"ticks\": \"\"}}, \"marker\": {\"colorbar\": {\"outlinewidth\": 0, \"ticks\": \"\"}}, \"type\": \"scatter3d\"}], \"scattercarpet\": [{\"marker\": {\"colorbar\": {\"outlinewidth\": 0, \"ticks\": \"\"}}, \"type\": \"scattercarpet\"}], \"scattergeo\": [{\"marker\": {\"colorbar\": {\"outlinewidth\": 0, \"ticks\": \"\"}}, \"type\": \"scattergeo\"}], \"scattergl\": [{\"marker\": {\"colorbar\": {\"outlinewidth\": 0, \"ticks\": \"\"}}, \"type\": \"scattergl\"}], \"scattermapbox\": [{\"marker\": {\"colorbar\": {\"outlinewidth\": 0, \"ticks\": \"\"}}, \"type\": \"scattermapbox\"}], \"scatterpolar\": [{\"marker\": {\"colorbar\": {\"outlinewidth\": 0, \"ticks\": \"\"}}, \"type\": \"scatterpolar\"}], \"scatterpolargl\": [{\"marker\": {\"colorbar\": {\"outlinewidth\": 0, \"ticks\": \"\"}}, \"type\": \"scatterpolargl\"}], \"scatterternary\": [{\"marker\": {\"colorbar\": {\"outlinewidth\": 0, \"ticks\": \"\"}}, \"type\": \"scatterternary\"}], \"surface\": [{\"colorbar\": {\"outlinewidth\": 0, \"ticks\": \"\"}, \"colorscale\": [[0.0, \"#0d0887\"], [0.1111111111111111, \"#46039f\"], [0.2222222222222222, \"#7201a8\"], [0.3333333333333333, \"#9c179e\"], [0.4444444444444444, \"#bd3786\"], [0.5555555555555556, \"#d8576b\"], [0.6666666666666666, \"#ed7953\"], [0.7777777777777778, \"#fb9f3a\"], [0.8888888888888888, \"#fdca26\"], [1.0, \"#f0f921\"]], \"type\": \"surface\"}], \"table\": [{\"cells\": {\"fill\": {\"color\": \"#EBF0F8\"}, \"line\": {\"color\": \"white\"}}, \"header\": {\"fill\": {\"color\": \"#C8D4E3\"}, \"line\": {\"color\": \"white\"}}, \"type\": \"table\"}]}, \"layout\": {\"annotationdefaults\": {\"arrowcolor\": \"#2a3f5f\", \"arrowhead\": 0, \"arrowwidth\": 1}, \"coloraxis\": {\"colorbar\": {\"outlinewidth\": 0, \"ticks\": \"\"}}, \"colorscale\": {\"diverging\": [[0, \"#8e0152\"], [0.1, \"#c51b7d\"], [0.2, \"#de77ae\"], [0.3, \"#f1b6da\"], [0.4, \"#fde0ef\"], [0.5, \"#f7f7f7\"], [0.6, \"#e6f5d0\"], [0.7, \"#b8e186\"], [0.8, \"#7fbc41\"], [0.9, \"#4d9221\"], [1, \"#276419\"]], \"sequential\": [[0.0, \"#0d0887\"], [0.1111111111111111, \"#46039f\"], [0.2222222222222222, \"#7201a8\"], [0.3333333333333333, \"#9c179e\"], [0.4444444444444444, \"#bd3786\"], [0.5555555555555556, \"#d8576b\"], [0.6666666666666666, \"#ed7953\"], [0.7777777777777778, \"#fb9f3a\"], [0.8888888888888888, \"#fdca26\"], [1.0, \"#f0f921\"]], \"sequentialminus\": [[0.0, \"#0d0887\"], [0.1111111111111111, \"#46039f\"], [0.2222222222222222, \"#7201a8\"], [0.3333333333333333, \"#9c179e\"], [0.4444444444444444, \"#bd3786\"], [0.5555555555555556, \"#d8576b\"], [0.6666666666666666, \"#ed7953\"], [0.7777777777777778, \"#fb9f3a\"], [0.8888888888888888, \"#fdca26\"], [1.0, \"#f0f921\"]]}, \"colorway\": [\"#636efa\", \"#EF553B\", \"#00cc96\", \"#ab63fa\", \"#FFA15A\", \"#19d3f3\", \"#FF6692\", \"#B6E880\", \"#FF97FF\", \"#FECB52\"], \"font\": {\"color\": \"#2a3f5f\"}, \"geo\": {\"bgcolor\": \"white\", \"lakecolor\": \"white\", \"landcolor\": \"#E5ECF6\", \"showlakes\": true, \"showland\": true, \"subunitcolor\": \"white\"}, \"hoverlabel\": {\"align\": \"left\"}, \"hovermode\": \"closest\", \"mapbox\": {\"style\": \"light\"}, \"paper_bgcolor\": \"white\", \"plot_bgcolor\": \"#E5ECF6\", \"polar\": {\"angularaxis\": {\"gridcolor\": \"white\", \"linecolor\": \"white\", \"ticks\": \"\"}, \"bgcolor\": \"#E5ECF6\", \"radialaxis\": {\"gridcolor\": \"white\", \"linecolor\": \"white\", \"ticks\": \"\"}}, \"scene\": {\"xaxis\": {\"backgroundcolor\": \"#E5ECF6\", \"gridcolor\": \"white\", \"gridwidth\": 2, \"linecolor\": \"white\", \"showbackground\": true, \"ticks\": \"\", \"zerolinecolor\": \"white\"}, \"yaxis\": {\"backgroundcolor\": \"#E5ECF6\", \"gridcolor\": \"white\", \"gridwidth\": 2, \"linecolor\": \"white\", \"showbackground\": true, \"ticks\": \"\", \"zerolinecolor\": \"white\"}, \"zaxis\": {\"backgroundcolor\": \"#E5ECF6\", \"gridcolor\": \"white\", \"gridwidth\": 2, \"linecolor\": \"white\", \"showbackground\": true, \"ticks\": \"\", \"zerolinecolor\": \"white\"}}, \"shapedefaults\": {\"line\": {\"color\": \"#2a3f5f\"}}, \"ternary\": {\"aaxis\": {\"gridcolor\": \"white\", \"linecolor\": \"white\", \"ticks\": \"\"}, \"baxis\": {\"gridcolor\": \"white\", \"linecolor\": \"white\", \"ticks\": \"\"}, \"bgcolor\": \"#E5ECF6\", \"caxis\": {\"gridcolor\": \"white\", \"linecolor\": \"white\", \"ticks\": \"\"}}, \"title\": {\"x\": 0.05}, \"xaxis\": {\"automargin\": true, \"gridcolor\": \"white\", \"linecolor\": \"white\", \"ticks\": \"\", \"title\": {\"standoff\": 15}, \"zerolinecolor\": \"white\", \"zerolinewidth\": 2}, \"yaxis\": {\"automargin\": true, \"gridcolor\": \"white\", \"linecolor\": \"white\", \"ticks\": \"\", \"title\": {\"standoff\": 15}, \"zerolinecolor\": \"white\", \"zerolinewidth\": 2}}}, \"title\": {\"font\": {\"color\": \"#4D5663\"}}, \"xaxis\": {\"gridcolor\": \"#E1E5ED\", \"showgrid\": true, \"tickfont\": {\"color\": \"#4D5663\"}, \"title\": {\"font\": {\"color\": \"#4D5663\"}, \"text\": \"\"}, \"zerolinecolor\": \"#E1E5ED\"}, \"yaxis\": {\"gridcolor\": \"#E1E5ED\", \"showgrid\": true, \"tickfont\": {\"color\": \"#4D5663\"}, \"title\": {\"font\": {\"color\": \"#4D5663\"}, \"text\": \"\"}, \"zerolinecolor\": \"#E1E5ED\"}},\n",
       "                        {\"showLink\": true, \"linkText\": \"Export to plot.ly\", \"plotlyServerURL\": \"https://plot.ly\", \"responsive\": true}\n",
       "                    ).then(function(){\n",
       "                            \n",
       "var gd = document.getElementById('92ba60ee-a156-4292-9ffb-a7f476a1fb31');\n",
       "var x = new MutationObserver(function (mutations, observer) {{\n",
       "        var display = window.getComputedStyle(gd).display;\n",
       "        if (!display || display === 'none') {{\n",
       "            console.log([gd, 'removed!']);\n",
       "            Plotly.purge(gd);\n",
       "            observer.disconnect();\n",
       "        }}\n",
       "}});\n",
       "\n",
       "// Listen for the removal of the full notebook cells\n",
       "var notebookContainer = gd.closest('#notebook-container');\n",
       "if (notebookContainer) {{\n",
       "    x.observe(notebookContainer, {childList: true});\n",
       "}}\n",
       "\n",
       "// Listen for the clearing of the current output cell\n",
       "var outputEl = gd.closest('.output');\n",
       "if (outputEl) {{\n",
       "    x.observe(outputEl, {childList: true});\n",
       "}}\n",
       "\n",
       "                        })\n",
       "                };\n",
       "                });\n",
       "            </script>\n",
       "        </div>"
      ]
     },
     "metadata": {},
     "output_type": "display_data"
    }
   ],
   "source": [
    "# need to add mode='markers'\n",
    "df.iplot(kind='scatter',x='A',y='B',mode='markers',size=10)"
   ]
  },
  {
   "cell_type": "code",
   "execution_count": 27,
   "metadata": {},
   "outputs": [
    {
     "data": {
      "application/vnd.plotly.v1+json": {
       "config": {
        "linkText": "Export to plot.ly",
        "plotlyServerURL": "https://plot.ly",
        "showLink": true
       },
       "data": [
        {
         "marker": {
          "color": "rgba(255, 153, 51, 0.6)",
          "line": {
           "color": "rgba(255, 153, 51, 1.0)",
           "width": 1
          }
         },
         "name": "Values",
         "orientation": "v",
         "text": "",
         "type": "bar",
         "x": [
          "A",
          "B",
          "C"
         ],
         "y": [
          32,
          43,
          50
         ]
        }
       ],
       "layout": {
        "legend": {
         "bgcolor": "#F5F6F9",
         "font": {
          "color": "#4D5663"
         }
        },
        "paper_bgcolor": "#F5F6F9",
        "plot_bgcolor": "#F5F6F9",
        "template": {
         "data": {
          "bar": [
           {
            "error_x": {
             "color": "#2a3f5f"
            },
            "error_y": {
             "color": "#2a3f5f"
            },
            "marker": {
             "line": {
              "color": "#E5ECF6",
              "width": 0.5
             }
            },
            "type": "bar"
           }
          ],
          "barpolar": [
           {
            "marker": {
             "line": {
              "color": "#E5ECF6",
              "width": 0.5
             }
            },
            "type": "barpolar"
           }
          ],
          "carpet": [
           {
            "aaxis": {
             "endlinecolor": "#2a3f5f",
             "gridcolor": "white",
             "linecolor": "white",
             "minorgridcolor": "white",
             "startlinecolor": "#2a3f5f"
            },
            "baxis": {
             "endlinecolor": "#2a3f5f",
             "gridcolor": "white",
             "linecolor": "white",
             "minorgridcolor": "white",
             "startlinecolor": "#2a3f5f"
            },
            "type": "carpet"
           }
          ],
          "choropleth": [
           {
            "colorbar": {
             "outlinewidth": 0,
             "ticks": ""
            },
            "type": "choropleth"
           }
          ],
          "contour": [
           {
            "colorbar": {
             "outlinewidth": 0,
             "ticks": ""
            },
            "colorscale": [
             [
              0,
              "#0d0887"
             ],
             [
              0.1111111111111111,
              "#46039f"
             ],
             [
              0.2222222222222222,
              "#7201a8"
             ],
             [
              0.3333333333333333,
              "#9c179e"
             ],
             [
              0.4444444444444444,
              "#bd3786"
             ],
             [
              0.5555555555555556,
              "#d8576b"
             ],
             [
              0.6666666666666666,
              "#ed7953"
             ],
             [
              0.7777777777777778,
              "#fb9f3a"
             ],
             [
              0.8888888888888888,
              "#fdca26"
             ],
             [
              1,
              "#f0f921"
             ]
            ],
            "type": "contour"
           }
          ],
          "contourcarpet": [
           {
            "colorbar": {
             "outlinewidth": 0,
             "ticks": ""
            },
            "type": "contourcarpet"
           }
          ],
          "heatmap": [
           {
            "colorbar": {
             "outlinewidth": 0,
             "ticks": ""
            },
            "colorscale": [
             [
              0,
              "#0d0887"
             ],
             [
              0.1111111111111111,
              "#46039f"
             ],
             [
              0.2222222222222222,
              "#7201a8"
             ],
             [
              0.3333333333333333,
              "#9c179e"
             ],
             [
              0.4444444444444444,
              "#bd3786"
             ],
             [
              0.5555555555555556,
              "#d8576b"
             ],
             [
              0.6666666666666666,
              "#ed7953"
             ],
             [
              0.7777777777777778,
              "#fb9f3a"
             ],
             [
              0.8888888888888888,
              "#fdca26"
             ],
             [
              1,
              "#f0f921"
             ]
            ],
            "type": "heatmap"
           }
          ],
          "heatmapgl": [
           {
            "colorbar": {
             "outlinewidth": 0,
             "ticks": ""
            },
            "colorscale": [
             [
              0,
              "#0d0887"
             ],
             [
              0.1111111111111111,
              "#46039f"
             ],
             [
              0.2222222222222222,
              "#7201a8"
             ],
             [
              0.3333333333333333,
              "#9c179e"
             ],
             [
              0.4444444444444444,
              "#bd3786"
             ],
             [
              0.5555555555555556,
              "#d8576b"
             ],
             [
              0.6666666666666666,
              "#ed7953"
             ],
             [
              0.7777777777777778,
              "#fb9f3a"
             ],
             [
              0.8888888888888888,
              "#fdca26"
             ],
             [
              1,
              "#f0f921"
             ]
            ],
            "type": "heatmapgl"
           }
          ],
          "histogram": [
           {
            "marker": {
             "colorbar": {
              "outlinewidth": 0,
              "ticks": ""
             }
            },
            "type": "histogram"
           }
          ],
          "histogram2d": [
           {
            "colorbar": {
             "outlinewidth": 0,
             "ticks": ""
            },
            "colorscale": [
             [
              0,
              "#0d0887"
             ],
             [
              0.1111111111111111,
              "#46039f"
             ],
             [
              0.2222222222222222,
              "#7201a8"
             ],
             [
              0.3333333333333333,
              "#9c179e"
             ],
             [
              0.4444444444444444,
              "#bd3786"
             ],
             [
              0.5555555555555556,
              "#d8576b"
             ],
             [
              0.6666666666666666,
              "#ed7953"
             ],
             [
              0.7777777777777778,
              "#fb9f3a"
             ],
             [
              0.8888888888888888,
              "#fdca26"
             ],
             [
              1,
              "#f0f921"
             ]
            ],
            "type": "histogram2d"
           }
          ],
          "histogram2dcontour": [
           {
            "colorbar": {
             "outlinewidth": 0,
             "ticks": ""
            },
            "colorscale": [
             [
              0,
              "#0d0887"
             ],
             [
              0.1111111111111111,
              "#46039f"
             ],
             [
              0.2222222222222222,
              "#7201a8"
             ],
             [
              0.3333333333333333,
              "#9c179e"
             ],
             [
              0.4444444444444444,
              "#bd3786"
             ],
             [
              0.5555555555555556,
              "#d8576b"
             ],
             [
              0.6666666666666666,
              "#ed7953"
             ],
             [
              0.7777777777777778,
              "#fb9f3a"
             ],
             [
              0.8888888888888888,
              "#fdca26"
             ],
             [
              1,
              "#f0f921"
             ]
            ],
            "type": "histogram2dcontour"
           }
          ],
          "mesh3d": [
           {
            "colorbar": {
             "outlinewidth": 0,
             "ticks": ""
            },
            "type": "mesh3d"
           }
          ],
          "parcoords": [
           {
            "line": {
             "colorbar": {
              "outlinewidth": 0,
              "ticks": ""
             }
            },
            "type": "parcoords"
           }
          ],
          "pie": [
           {
            "automargin": true,
            "type": "pie"
           }
          ],
          "scatter": [
           {
            "marker": {
             "colorbar": {
              "outlinewidth": 0,
              "ticks": ""
             }
            },
            "type": "scatter"
           }
          ],
          "scatter3d": [
           {
            "line": {
             "colorbar": {
              "outlinewidth": 0,
              "ticks": ""
             }
            },
            "marker": {
             "colorbar": {
              "outlinewidth": 0,
              "ticks": ""
             }
            },
            "type": "scatter3d"
           }
          ],
          "scattercarpet": [
           {
            "marker": {
             "colorbar": {
              "outlinewidth": 0,
              "ticks": ""
             }
            },
            "type": "scattercarpet"
           }
          ],
          "scattergeo": [
           {
            "marker": {
             "colorbar": {
              "outlinewidth": 0,
              "ticks": ""
             }
            },
            "type": "scattergeo"
           }
          ],
          "scattergl": [
           {
            "marker": {
             "colorbar": {
              "outlinewidth": 0,
              "ticks": ""
             }
            },
            "type": "scattergl"
           }
          ],
          "scattermapbox": [
           {
            "marker": {
             "colorbar": {
              "outlinewidth": 0,
              "ticks": ""
             }
            },
            "type": "scattermapbox"
           }
          ],
          "scatterpolar": [
           {
            "marker": {
             "colorbar": {
              "outlinewidth": 0,
              "ticks": ""
             }
            },
            "type": "scatterpolar"
           }
          ],
          "scatterpolargl": [
           {
            "marker": {
             "colorbar": {
              "outlinewidth": 0,
              "ticks": ""
             }
            },
            "type": "scatterpolargl"
           }
          ],
          "scatterternary": [
           {
            "marker": {
             "colorbar": {
              "outlinewidth": 0,
              "ticks": ""
             }
            },
            "type": "scatterternary"
           }
          ],
          "surface": [
           {
            "colorbar": {
             "outlinewidth": 0,
             "ticks": ""
            },
            "colorscale": [
             [
              0,
              "#0d0887"
             ],
             [
              0.1111111111111111,
              "#46039f"
             ],
             [
              0.2222222222222222,
              "#7201a8"
             ],
             [
              0.3333333333333333,
              "#9c179e"
             ],
             [
              0.4444444444444444,
              "#bd3786"
             ],
             [
              0.5555555555555556,
              "#d8576b"
             ],
             [
              0.6666666666666666,
              "#ed7953"
             ],
             [
              0.7777777777777778,
              "#fb9f3a"
             ],
             [
              0.8888888888888888,
              "#fdca26"
             ],
             [
              1,
              "#f0f921"
             ]
            ],
            "type": "surface"
           }
          ],
          "table": [
           {
            "cells": {
             "fill": {
              "color": "#EBF0F8"
             },
             "line": {
              "color": "white"
             }
            },
            "header": {
             "fill": {
              "color": "#C8D4E3"
             },
             "line": {
              "color": "white"
             }
            },
            "type": "table"
           }
          ]
         },
         "layout": {
          "annotationdefaults": {
           "arrowcolor": "#2a3f5f",
           "arrowhead": 0,
           "arrowwidth": 1
          },
          "coloraxis": {
           "colorbar": {
            "outlinewidth": 0,
            "ticks": ""
           }
          },
          "colorscale": {
           "diverging": [
            [
             0,
             "#8e0152"
            ],
            [
             0.1,
             "#c51b7d"
            ],
            [
             0.2,
             "#de77ae"
            ],
            [
             0.3,
             "#f1b6da"
            ],
            [
             0.4,
             "#fde0ef"
            ],
            [
             0.5,
             "#f7f7f7"
            ],
            [
             0.6,
             "#e6f5d0"
            ],
            [
             0.7,
             "#b8e186"
            ],
            [
             0.8,
             "#7fbc41"
            ],
            [
             0.9,
             "#4d9221"
            ],
            [
             1,
             "#276419"
            ]
           ],
           "sequential": [
            [
             0,
             "#0d0887"
            ],
            [
             0.1111111111111111,
             "#46039f"
            ],
            [
             0.2222222222222222,
             "#7201a8"
            ],
            [
             0.3333333333333333,
             "#9c179e"
            ],
            [
             0.4444444444444444,
             "#bd3786"
            ],
            [
             0.5555555555555556,
             "#d8576b"
            ],
            [
             0.6666666666666666,
             "#ed7953"
            ],
            [
             0.7777777777777778,
             "#fb9f3a"
            ],
            [
             0.8888888888888888,
             "#fdca26"
            ],
            [
             1,
             "#f0f921"
            ]
           ],
           "sequentialminus": [
            [
             0,
             "#0d0887"
            ],
            [
             0.1111111111111111,
             "#46039f"
            ],
            [
             0.2222222222222222,
             "#7201a8"
            ],
            [
             0.3333333333333333,
             "#9c179e"
            ],
            [
             0.4444444444444444,
             "#bd3786"
            ],
            [
             0.5555555555555556,
             "#d8576b"
            ],
            [
             0.6666666666666666,
             "#ed7953"
            ],
            [
             0.7777777777777778,
             "#fb9f3a"
            ],
            [
             0.8888888888888888,
             "#fdca26"
            ],
            [
             1,
             "#f0f921"
            ]
           ]
          },
          "colorway": [
           "#636efa",
           "#EF553B",
           "#00cc96",
           "#ab63fa",
           "#FFA15A",
           "#19d3f3",
           "#FF6692",
           "#B6E880",
           "#FF97FF",
           "#FECB52"
          ],
          "font": {
           "color": "#2a3f5f"
          },
          "geo": {
           "bgcolor": "white",
           "lakecolor": "white",
           "landcolor": "#E5ECF6",
           "showlakes": true,
           "showland": true,
           "subunitcolor": "white"
          },
          "hoverlabel": {
           "align": "left"
          },
          "hovermode": "closest",
          "mapbox": {
           "style": "light"
          },
          "paper_bgcolor": "white",
          "plot_bgcolor": "#E5ECF6",
          "polar": {
           "angularaxis": {
            "gridcolor": "white",
            "linecolor": "white",
            "ticks": ""
           },
           "bgcolor": "#E5ECF6",
           "radialaxis": {
            "gridcolor": "white",
            "linecolor": "white",
            "ticks": ""
           }
          },
          "scene": {
           "xaxis": {
            "backgroundcolor": "#E5ECF6",
            "gridcolor": "white",
            "gridwidth": 2,
            "linecolor": "white",
            "showbackground": true,
            "ticks": "",
            "zerolinecolor": "white"
           },
           "yaxis": {
            "backgroundcolor": "#E5ECF6",
            "gridcolor": "white",
            "gridwidth": 2,
            "linecolor": "white",
            "showbackground": true,
            "ticks": "",
            "zerolinecolor": "white"
           },
           "zaxis": {
            "backgroundcolor": "#E5ECF6",
            "gridcolor": "white",
            "gridwidth": 2,
            "linecolor": "white",
            "showbackground": true,
            "ticks": "",
            "zerolinecolor": "white"
           }
          },
          "shapedefaults": {
           "line": {
            "color": "#2a3f5f"
           }
          },
          "ternary": {
           "aaxis": {
            "gridcolor": "white",
            "linecolor": "white",
            "ticks": ""
           },
           "baxis": {
            "gridcolor": "white",
            "linecolor": "white",
            "ticks": ""
           },
           "bgcolor": "#E5ECF6",
           "caxis": {
            "gridcolor": "white",
            "linecolor": "white",
            "ticks": ""
           }
          },
          "title": {
           "x": 0.05
          },
          "xaxis": {
           "automargin": true,
           "gridcolor": "white",
           "linecolor": "white",
           "ticks": "",
           "title": {
            "standoff": 15
           },
           "zerolinecolor": "white",
           "zerolinewidth": 2
          },
          "yaxis": {
           "automargin": true,
           "gridcolor": "white",
           "linecolor": "white",
           "ticks": "",
           "title": {
            "standoff": 15
           },
           "zerolinecolor": "white",
           "zerolinewidth": 2
          }
         }
        },
        "title": {
         "font": {
          "color": "#4D5663"
         }
        },
        "xaxis": {
         "gridcolor": "#E1E5ED",
         "showgrid": true,
         "tickfont": {
          "color": "#4D5663"
         },
         "title": {
          "font": {
           "color": "#4D5663"
          },
          "text": ""
         },
         "zerolinecolor": "#E1E5ED"
        },
        "yaxis": {
         "gridcolor": "#E1E5ED",
         "showgrid": true,
         "tickfont": {
          "color": "#4D5663"
         },
         "title": {
          "font": {
           "color": "#4D5663"
          },
          "text": ""
         },
         "zerolinecolor": "#E1E5ED"
        }
       }
      },
      "text/html": [
       "<div>\n",
       "        \n",
       "        \n",
       "            <div id=\"a0e3bb2e-580e-49dc-8fa4-4670487b9bce\" class=\"plotly-graph-div\" style=\"height:525px; width:100%;\"></div>\n",
       "            <script type=\"text/javascript\">\n",
       "                require([\"plotly\"], function(Plotly) {\n",
       "                    window.PLOTLYENV=window.PLOTLYENV || {};\n",
       "                    window.PLOTLYENV.BASE_URL='https://plot.ly';\n",
       "                    \n",
       "                if (document.getElementById(\"a0e3bb2e-580e-49dc-8fa4-4670487b9bce\")) {\n",
       "                    Plotly.newPlot(\n",
       "                        'a0e3bb2e-580e-49dc-8fa4-4670487b9bce',\n",
       "                        [{\"marker\": {\"color\": \"rgba(255, 153, 51, 0.6)\", \"line\": {\"color\": \"rgba(255, 153, 51, 1.0)\", \"width\": 1}}, \"name\": \"Values\", \"orientation\": \"v\", \"text\": \"\", \"type\": \"bar\", \"x\": [\"A\", \"B\", \"C\"], \"y\": [32, 43, 50]}],\n",
       "                        {\"legend\": {\"bgcolor\": \"#F5F6F9\", \"font\": {\"color\": \"#4D5663\"}}, \"paper_bgcolor\": \"#F5F6F9\", \"plot_bgcolor\": \"#F5F6F9\", \"template\": {\"data\": {\"bar\": [{\"error_x\": {\"color\": \"#2a3f5f\"}, \"error_y\": {\"color\": \"#2a3f5f\"}, \"marker\": {\"line\": {\"color\": \"#E5ECF6\", \"width\": 0.5}}, \"type\": \"bar\"}], \"barpolar\": [{\"marker\": {\"line\": {\"color\": \"#E5ECF6\", \"width\": 0.5}}, \"type\": \"barpolar\"}], \"carpet\": [{\"aaxis\": {\"endlinecolor\": \"#2a3f5f\", \"gridcolor\": \"white\", \"linecolor\": \"white\", \"minorgridcolor\": \"white\", \"startlinecolor\": \"#2a3f5f\"}, \"baxis\": {\"endlinecolor\": \"#2a3f5f\", \"gridcolor\": \"white\", \"linecolor\": \"white\", \"minorgridcolor\": \"white\", \"startlinecolor\": \"#2a3f5f\"}, \"type\": \"carpet\"}], \"choropleth\": [{\"colorbar\": {\"outlinewidth\": 0, \"ticks\": \"\"}, \"type\": \"choropleth\"}], \"contour\": [{\"colorbar\": {\"outlinewidth\": 0, \"ticks\": \"\"}, \"colorscale\": [[0.0, \"#0d0887\"], [0.1111111111111111, \"#46039f\"], [0.2222222222222222, \"#7201a8\"], [0.3333333333333333, \"#9c179e\"], [0.4444444444444444, \"#bd3786\"], [0.5555555555555556, \"#d8576b\"], [0.6666666666666666, \"#ed7953\"], [0.7777777777777778, \"#fb9f3a\"], [0.8888888888888888, \"#fdca26\"], [1.0, \"#f0f921\"]], \"type\": \"contour\"}], \"contourcarpet\": [{\"colorbar\": {\"outlinewidth\": 0, \"ticks\": \"\"}, \"type\": \"contourcarpet\"}], \"heatmap\": [{\"colorbar\": {\"outlinewidth\": 0, \"ticks\": \"\"}, \"colorscale\": [[0.0, \"#0d0887\"], [0.1111111111111111, \"#46039f\"], [0.2222222222222222, \"#7201a8\"], [0.3333333333333333, \"#9c179e\"], [0.4444444444444444, \"#bd3786\"], [0.5555555555555556, \"#d8576b\"], [0.6666666666666666, \"#ed7953\"], [0.7777777777777778, \"#fb9f3a\"], [0.8888888888888888, \"#fdca26\"], [1.0, \"#f0f921\"]], \"type\": \"heatmap\"}], \"heatmapgl\": [{\"colorbar\": {\"outlinewidth\": 0, \"ticks\": \"\"}, \"colorscale\": [[0.0, \"#0d0887\"], [0.1111111111111111, \"#46039f\"], [0.2222222222222222, \"#7201a8\"], [0.3333333333333333, \"#9c179e\"], [0.4444444444444444, \"#bd3786\"], [0.5555555555555556, \"#d8576b\"], [0.6666666666666666, \"#ed7953\"], [0.7777777777777778, \"#fb9f3a\"], [0.8888888888888888, \"#fdca26\"], [1.0, \"#f0f921\"]], \"type\": \"heatmapgl\"}], \"histogram\": [{\"marker\": {\"colorbar\": {\"outlinewidth\": 0, \"ticks\": \"\"}}, \"type\": \"histogram\"}], \"histogram2d\": [{\"colorbar\": {\"outlinewidth\": 0, \"ticks\": \"\"}, \"colorscale\": [[0.0, \"#0d0887\"], [0.1111111111111111, \"#46039f\"], [0.2222222222222222, \"#7201a8\"], [0.3333333333333333, \"#9c179e\"], [0.4444444444444444, \"#bd3786\"], [0.5555555555555556, \"#d8576b\"], [0.6666666666666666, \"#ed7953\"], [0.7777777777777778, \"#fb9f3a\"], [0.8888888888888888, \"#fdca26\"], [1.0, \"#f0f921\"]], \"type\": \"histogram2d\"}], \"histogram2dcontour\": [{\"colorbar\": {\"outlinewidth\": 0, \"ticks\": \"\"}, \"colorscale\": [[0.0, \"#0d0887\"], [0.1111111111111111, \"#46039f\"], [0.2222222222222222, \"#7201a8\"], [0.3333333333333333, \"#9c179e\"], [0.4444444444444444, \"#bd3786\"], [0.5555555555555556, \"#d8576b\"], [0.6666666666666666, \"#ed7953\"], [0.7777777777777778, \"#fb9f3a\"], [0.8888888888888888, \"#fdca26\"], [1.0, \"#f0f921\"]], \"type\": \"histogram2dcontour\"}], \"mesh3d\": [{\"colorbar\": {\"outlinewidth\": 0, \"ticks\": \"\"}, \"type\": \"mesh3d\"}], \"parcoords\": [{\"line\": {\"colorbar\": {\"outlinewidth\": 0, \"ticks\": \"\"}}, \"type\": \"parcoords\"}], \"pie\": [{\"automargin\": true, \"type\": \"pie\"}], \"scatter\": [{\"marker\": {\"colorbar\": {\"outlinewidth\": 0, \"ticks\": \"\"}}, \"type\": \"scatter\"}], \"scatter3d\": [{\"line\": {\"colorbar\": {\"outlinewidth\": 0, \"ticks\": \"\"}}, \"marker\": {\"colorbar\": {\"outlinewidth\": 0, \"ticks\": \"\"}}, \"type\": \"scatter3d\"}], \"scattercarpet\": [{\"marker\": {\"colorbar\": {\"outlinewidth\": 0, \"ticks\": \"\"}}, \"type\": \"scattercarpet\"}], \"scattergeo\": [{\"marker\": {\"colorbar\": {\"outlinewidth\": 0, \"ticks\": \"\"}}, \"type\": \"scattergeo\"}], \"scattergl\": [{\"marker\": {\"colorbar\": {\"outlinewidth\": 0, \"ticks\": \"\"}}, \"type\": \"scattergl\"}], \"scattermapbox\": [{\"marker\": {\"colorbar\": {\"outlinewidth\": 0, \"ticks\": \"\"}}, \"type\": \"scattermapbox\"}], \"scatterpolar\": [{\"marker\": {\"colorbar\": {\"outlinewidth\": 0, \"ticks\": \"\"}}, \"type\": \"scatterpolar\"}], \"scatterpolargl\": [{\"marker\": {\"colorbar\": {\"outlinewidth\": 0, \"ticks\": \"\"}}, \"type\": \"scatterpolargl\"}], \"scatterternary\": [{\"marker\": {\"colorbar\": {\"outlinewidth\": 0, \"ticks\": \"\"}}, \"type\": \"scatterternary\"}], \"surface\": [{\"colorbar\": {\"outlinewidth\": 0, \"ticks\": \"\"}, \"colorscale\": [[0.0, \"#0d0887\"], [0.1111111111111111, \"#46039f\"], [0.2222222222222222, \"#7201a8\"], [0.3333333333333333, \"#9c179e\"], [0.4444444444444444, \"#bd3786\"], [0.5555555555555556, \"#d8576b\"], [0.6666666666666666, \"#ed7953\"], [0.7777777777777778, \"#fb9f3a\"], [0.8888888888888888, \"#fdca26\"], [1.0, \"#f0f921\"]], \"type\": \"surface\"}], \"table\": [{\"cells\": {\"fill\": {\"color\": \"#EBF0F8\"}, \"line\": {\"color\": \"white\"}}, \"header\": {\"fill\": {\"color\": \"#C8D4E3\"}, \"line\": {\"color\": \"white\"}}, \"type\": \"table\"}]}, \"layout\": {\"annotationdefaults\": {\"arrowcolor\": \"#2a3f5f\", \"arrowhead\": 0, \"arrowwidth\": 1}, \"coloraxis\": {\"colorbar\": {\"outlinewidth\": 0, \"ticks\": \"\"}}, \"colorscale\": {\"diverging\": [[0, \"#8e0152\"], [0.1, \"#c51b7d\"], [0.2, \"#de77ae\"], [0.3, \"#f1b6da\"], [0.4, \"#fde0ef\"], [0.5, \"#f7f7f7\"], [0.6, \"#e6f5d0\"], [0.7, \"#b8e186\"], [0.8, \"#7fbc41\"], [0.9, \"#4d9221\"], [1, \"#276419\"]], \"sequential\": [[0.0, \"#0d0887\"], [0.1111111111111111, \"#46039f\"], [0.2222222222222222, \"#7201a8\"], [0.3333333333333333, \"#9c179e\"], [0.4444444444444444, \"#bd3786\"], [0.5555555555555556, \"#d8576b\"], [0.6666666666666666, \"#ed7953\"], [0.7777777777777778, \"#fb9f3a\"], [0.8888888888888888, \"#fdca26\"], [1.0, \"#f0f921\"]], \"sequentialminus\": [[0.0, \"#0d0887\"], [0.1111111111111111, \"#46039f\"], [0.2222222222222222, \"#7201a8\"], [0.3333333333333333, \"#9c179e\"], [0.4444444444444444, \"#bd3786\"], [0.5555555555555556, \"#d8576b\"], [0.6666666666666666, \"#ed7953\"], [0.7777777777777778, \"#fb9f3a\"], [0.8888888888888888, \"#fdca26\"], [1.0, \"#f0f921\"]]}, \"colorway\": [\"#636efa\", \"#EF553B\", \"#00cc96\", \"#ab63fa\", \"#FFA15A\", \"#19d3f3\", \"#FF6692\", \"#B6E880\", \"#FF97FF\", \"#FECB52\"], \"font\": {\"color\": \"#2a3f5f\"}, \"geo\": {\"bgcolor\": \"white\", \"lakecolor\": \"white\", \"landcolor\": \"#E5ECF6\", \"showlakes\": true, \"showland\": true, \"subunitcolor\": \"white\"}, \"hoverlabel\": {\"align\": \"left\"}, \"hovermode\": \"closest\", \"mapbox\": {\"style\": \"light\"}, \"paper_bgcolor\": \"white\", \"plot_bgcolor\": \"#E5ECF6\", \"polar\": {\"angularaxis\": {\"gridcolor\": \"white\", \"linecolor\": \"white\", \"ticks\": \"\"}, \"bgcolor\": \"#E5ECF6\", \"radialaxis\": {\"gridcolor\": \"white\", \"linecolor\": \"white\", \"ticks\": \"\"}}, \"scene\": {\"xaxis\": {\"backgroundcolor\": \"#E5ECF6\", \"gridcolor\": \"white\", \"gridwidth\": 2, \"linecolor\": \"white\", \"showbackground\": true, \"ticks\": \"\", \"zerolinecolor\": \"white\"}, \"yaxis\": {\"backgroundcolor\": \"#E5ECF6\", \"gridcolor\": \"white\", \"gridwidth\": 2, \"linecolor\": \"white\", \"showbackground\": true, \"ticks\": \"\", \"zerolinecolor\": \"white\"}, \"zaxis\": {\"backgroundcolor\": \"#E5ECF6\", \"gridcolor\": \"white\", \"gridwidth\": 2, \"linecolor\": \"white\", \"showbackground\": true, \"ticks\": \"\", \"zerolinecolor\": \"white\"}}, \"shapedefaults\": {\"line\": {\"color\": \"#2a3f5f\"}}, \"ternary\": {\"aaxis\": {\"gridcolor\": \"white\", \"linecolor\": \"white\", \"ticks\": \"\"}, \"baxis\": {\"gridcolor\": \"white\", \"linecolor\": \"white\", \"ticks\": \"\"}, \"bgcolor\": \"#E5ECF6\", \"caxis\": {\"gridcolor\": \"white\", \"linecolor\": \"white\", \"ticks\": \"\"}}, \"title\": {\"x\": 0.05}, \"xaxis\": {\"automargin\": true, \"gridcolor\": \"white\", \"linecolor\": \"white\", \"ticks\": \"\", \"title\": {\"standoff\": 15}, \"zerolinecolor\": \"white\", \"zerolinewidth\": 2}, \"yaxis\": {\"automargin\": true, \"gridcolor\": \"white\", \"linecolor\": \"white\", \"ticks\": \"\", \"title\": {\"standoff\": 15}, \"zerolinecolor\": \"white\", \"zerolinewidth\": 2}}}, \"title\": {\"font\": {\"color\": \"#4D5663\"}}, \"xaxis\": {\"gridcolor\": \"#E1E5ED\", \"showgrid\": true, \"tickfont\": {\"color\": \"#4D5663\"}, \"title\": {\"font\": {\"color\": \"#4D5663\"}, \"text\": \"\"}, \"zerolinecolor\": \"#E1E5ED\"}, \"yaxis\": {\"gridcolor\": \"#E1E5ED\", \"showgrid\": true, \"tickfont\": {\"color\": \"#4D5663\"}, \"title\": {\"font\": {\"color\": \"#4D5663\"}, \"text\": \"\"}, \"zerolinecolor\": \"#E1E5ED\"}},\n",
       "                        {\"showLink\": true, \"linkText\": \"Export to plot.ly\", \"plotlyServerURL\": \"https://plot.ly\", \"responsive\": true}\n",
       "                    ).then(function(){\n",
       "                            \n",
       "var gd = document.getElementById('a0e3bb2e-580e-49dc-8fa4-4670487b9bce');\n",
       "var x = new MutationObserver(function (mutations, observer) {{\n",
       "        var display = window.getComputedStyle(gd).display;\n",
       "        if (!display || display === 'none') {{\n",
       "            console.log([gd, 'removed!']);\n",
       "            Plotly.purge(gd);\n",
       "            observer.disconnect();\n",
       "        }}\n",
       "}});\n",
       "\n",
       "// Listen for the removal of the full notebook cells\n",
       "var notebookContainer = gd.closest('#notebook-container');\n",
       "if (notebookContainer) {{\n",
       "    x.observe(notebookContainer, {childList: true});\n",
       "}}\n",
       "\n",
       "// Listen for the clearing of the current output cell\n",
       "var outputEl = gd.closest('.output');\n",
       "if (outputEl) {{\n",
       "    x.observe(outputEl, {childList: true});\n",
       "}}\n",
       "\n",
       "                        })\n",
       "                };\n",
       "                });\n",
       "            </script>\n",
       "        </div>"
      ]
     },
     "metadata": {},
     "output_type": "display_data"
    }
   ],
   "source": [
    "# bar plot\n",
    "df2.iplot(kind='bar',x='Category',y='Values')"
   ]
  },
  {
   "cell_type": "code",
   "execution_count": 28,
   "metadata": {},
   "outputs": [
    {
     "data": {
      "application/vnd.plotly.v1+json": {
       "config": {
        "linkText": "Export to plot.ly",
        "plotlyServerURL": "https://plot.ly",
        "showLink": true
       },
       "data": [
        {
         "marker": {
          "color": "rgba(255, 153, 51, 0.6)",
          "line": {
           "color": "rgba(255, 153, 51, 1.0)",
           "width": 1
          }
         },
         "name": "None",
         "orientation": "v",
         "text": "",
         "type": "bar",
         "x": [
          "A",
          "B",
          "C",
          "D"
         ],
         "y": [
          -9.90692597199862,
          -8.361842741376073,
          11.735313247062768,
          3.1178548580630054
         ]
        }
       ],
       "layout": {
        "legend": {
         "bgcolor": "#F5F6F9",
         "font": {
          "color": "#4D5663"
         }
        },
        "paper_bgcolor": "#F5F6F9",
        "plot_bgcolor": "#F5F6F9",
        "template": {
         "data": {
          "bar": [
           {
            "error_x": {
             "color": "#2a3f5f"
            },
            "error_y": {
             "color": "#2a3f5f"
            },
            "marker": {
             "line": {
              "color": "#E5ECF6",
              "width": 0.5
             }
            },
            "type": "bar"
           }
          ],
          "barpolar": [
           {
            "marker": {
             "line": {
              "color": "#E5ECF6",
              "width": 0.5
             }
            },
            "type": "barpolar"
           }
          ],
          "carpet": [
           {
            "aaxis": {
             "endlinecolor": "#2a3f5f",
             "gridcolor": "white",
             "linecolor": "white",
             "minorgridcolor": "white",
             "startlinecolor": "#2a3f5f"
            },
            "baxis": {
             "endlinecolor": "#2a3f5f",
             "gridcolor": "white",
             "linecolor": "white",
             "minorgridcolor": "white",
             "startlinecolor": "#2a3f5f"
            },
            "type": "carpet"
           }
          ],
          "choropleth": [
           {
            "colorbar": {
             "outlinewidth": 0,
             "ticks": ""
            },
            "type": "choropleth"
           }
          ],
          "contour": [
           {
            "colorbar": {
             "outlinewidth": 0,
             "ticks": ""
            },
            "colorscale": [
             [
              0,
              "#0d0887"
             ],
             [
              0.1111111111111111,
              "#46039f"
             ],
             [
              0.2222222222222222,
              "#7201a8"
             ],
             [
              0.3333333333333333,
              "#9c179e"
             ],
             [
              0.4444444444444444,
              "#bd3786"
             ],
             [
              0.5555555555555556,
              "#d8576b"
             ],
             [
              0.6666666666666666,
              "#ed7953"
             ],
             [
              0.7777777777777778,
              "#fb9f3a"
             ],
             [
              0.8888888888888888,
              "#fdca26"
             ],
             [
              1,
              "#f0f921"
             ]
            ],
            "type": "contour"
           }
          ],
          "contourcarpet": [
           {
            "colorbar": {
             "outlinewidth": 0,
             "ticks": ""
            },
            "type": "contourcarpet"
           }
          ],
          "heatmap": [
           {
            "colorbar": {
             "outlinewidth": 0,
             "ticks": ""
            },
            "colorscale": [
             [
              0,
              "#0d0887"
             ],
             [
              0.1111111111111111,
              "#46039f"
             ],
             [
              0.2222222222222222,
              "#7201a8"
             ],
             [
              0.3333333333333333,
              "#9c179e"
             ],
             [
              0.4444444444444444,
              "#bd3786"
             ],
             [
              0.5555555555555556,
              "#d8576b"
             ],
             [
              0.6666666666666666,
              "#ed7953"
             ],
             [
              0.7777777777777778,
              "#fb9f3a"
             ],
             [
              0.8888888888888888,
              "#fdca26"
             ],
             [
              1,
              "#f0f921"
             ]
            ],
            "type": "heatmap"
           }
          ],
          "heatmapgl": [
           {
            "colorbar": {
             "outlinewidth": 0,
             "ticks": ""
            },
            "colorscale": [
             [
              0,
              "#0d0887"
             ],
             [
              0.1111111111111111,
              "#46039f"
             ],
             [
              0.2222222222222222,
              "#7201a8"
             ],
             [
              0.3333333333333333,
              "#9c179e"
             ],
             [
              0.4444444444444444,
              "#bd3786"
             ],
             [
              0.5555555555555556,
              "#d8576b"
             ],
             [
              0.6666666666666666,
              "#ed7953"
             ],
             [
              0.7777777777777778,
              "#fb9f3a"
             ],
             [
              0.8888888888888888,
              "#fdca26"
             ],
             [
              1,
              "#f0f921"
             ]
            ],
            "type": "heatmapgl"
           }
          ],
          "histogram": [
           {
            "marker": {
             "colorbar": {
              "outlinewidth": 0,
              "ticks": ""
             }
            },
            "type": "histogram"
           }
          ],
          "histogram2d": [
           {
            "colorbar": {
             "outlinewidth": 0,
             "ticks": ""
            },
            "colorscale": [
             [
              0,
              "#0d0887"
             ],
             [
              0.1111111111111111,
              "#46039f"
             ],
             [
              0.2222222222222222,
              "#7201a8"
             ],
             [
              0.3333333333333333,
              "#9c179e"
             ],
             [
              0.4444444444444444,
              "#bd3786"
             ],
             [
              0.5555555555555556,
              "#d8576b"
             ],
             [
              0.6666666666666666,
              "#ed7953"
             ],
             [
              0.7777777777777778,
              "#fb9f3a"
             ],
             [
              0.8888888888888888,
              "#fdca26"
             ],
             [
              1,
              "#f0f921"
             ]
            ],
            "type": "histogram2d"
           }
          ],
          "histogram2dcontour": [
           {
            "colorbar": {
             "outlinewidth": 0,
             "ticks": ""
            },
            "colorscale": [
             [
              0,
              "#0d0887"
             ],
             [
              0.1111111111111111,
              "#46039f"
             ],
             [
              0.2222222222222222,
              "#7201a8"
             ],
             [
              0.3333333333333333,
              "#9c179e"
             ],
             [
              0.4444444444444444,
              "#bd3786"
             ],
             [
              0.5555555555555556,
              "#d8576b"
             ],
             [
              0.6666666666666666,
              "#ed7953"
             ],
             [
              0.7777777777777778,
              "#fb9f3a"
             ],
             [
              0.8888888888888888,
              "#fdca26"
             ],
             [
              1,
              "#f0f921"
             ]
            ],
            "type": "histogram2dcontour"
           }
          ],
          "mesh3d": [
           {
            "colorbar": {
             "outlinewidth": 0,
             "ticks": ""
            },
            "type": "mesh3d"
           }
          ],
          "parcoords": [
           {
            "line": {
             "colorbar": {
              "outlinewidth": 0,
              "ticks": ""
             }
            },
            "type": "parcoords"
           }
          ],
          "pie": [
           {
            "automargin": true,
            "type": "pie"
           }
          ],
          "scatter": [
           {
            "marker": {
             "colorbar": {
              "outlinewidth": 0,
              "ticks": ""
             }
            },
            "type": "scatter"
           }
          ],
          "scatter3d": [
           {
            "line": {
             "colorbar": {
              "outlinewidth": 0,
              "ticks": ""
             }
            },
            "marker": {
             "colorbar": {
              "outlinewidth": 0,
              "ticks": ""
             }
            },
            "type": "scatter3d"
           }
          ],
          "scattercarpet": [
           {
            "marker": {
             "colorbar": {
              "outlinewidth": 0,
              "ticks": ""
             }
            },
            "type": "scattercarpet"
           }
          ],
          "scattergeo": [
           {
            "marker": {
             "colorbar": {
              "outlinewidth": 0,
              "ticks": ""
             }
            },
            "type": "scattergeo"
           }
          ],
          "scattergl": [
           {
            "marker": {
             "colorbar": {
              "outlinewidth": 0,
              "ticks": ""
             }
            },
            "type": "scattergl"
           }
          ],
          "scattermapbox": [
           {
            "marker": {
             "colorbar": {
              "outlinewidth": 0,
              "ticks": ""
             }
            },
            "type": "scattermapbox"
           }
          ],
          "scatterpolar": [
           {
            "marker": {
             "colorbar": {
              "outlinewidth": 0,
              "ticks": ""
             }
            },
            "type": "scatterpolar"
           }
          ],
          "scatterpolargl": [
           {
            "marker": {
             "colorbar": {
              "outlinewidth": 0,
              "ticks": ""
             }
            },
            "type": "scatterpolargl"
           }
          ],
          "scatterternary": [
           {
            "marker": {
             "colorbar": {
              "outlinewidth": 0,
              "ticks": ""
             }
            },
            "type": "scatterternary"
           }
          ],
          "surface": [
           {
            "colorbar": {
             "outlinewidth": 0,
             "ticks": ""
            },
            "colorscale": [
             [
              0,
              "#0d0887"
             ],
             [
              0.1111111111111111,
              "#46039f"
             ],
             [
              0.2222222222222222,
              "#7201a8"
             ],
             [
              0.3333333333333333,
              "#9c179e"
             ],
             [
              0.4444444444444444,
              "#bd3786"
             ],
             [
              0.5555555555555556,
              "#d8576b"
             ],
             [
              0.6666666666666666,
              "#ed7953"
             ],
             [
              0.7777777777777778,
              "#fb9f3a"
             ],
             [
              0.8888888888888888,
              "#fdca26"
             ],
             [
              1,
              "#f0f921"
             ]
            ],
            "type": "surface"
           }
          ],
          "table": [
           {
            "cells": {
             "fill": {
              "color": "#EBF0F8"
             },
             "line": {
              "color": "white"
             }
            },
            "header": {
             "fill": {
              "color": "#C8D4E3"
             },
             "line": {
              "color": "white"
             }
            },
            "type": "table"
           }
          ]
         },
         "layout": {
          "annotationdefaults": {
           "arrowcolor": "#2a3f5f",
           "arrowhead": 0,
           "arrowwidth": 1
          },
          "coloraxis": {
           "colorbar": {
            "outlinewidth": 0,
            "ticks": ""
           }
          },
          "colorscale": {
           "diverging": [
            [
             0,
             "#8e0152"
            ],
            [
             0.1,
             "#c51b7d"
            ],
            [
             0.2,
             "#de77ae"
            ],
            [
             0.3,
             "#f1b6da"
            ],
            [
             0.4,
             "#fde0ef"
            ],
            [
             0.5,
             "#f7f7f7"
            ],
            [
             0.6,
             "#e6f5d0"
            ],
            [
             0.7,
             "#b8e186"
            ],
            [
             0.8,
             "#7fbc41"
            ],
            [
             0.9,
             "#4d9221"
            ],
            [
             1,
             "#276419"
            ]
           ],
           "sequential": [
            [
             0,
             "#0d0887"
            ],
            [
             0.1111111111111111,
             "#46039f"
            ],
            [
             0.2222222222222222,
             "#7201a8"
            ],
            [
             0.3333333333333333,
             "#9c179e"
            ],
            [
             0.4444444444444444,
             "#bd3786"
            ],
            [
             0.5555555555555556,
             "#d8576b"
            ],
            [
             0.6666666666666666,
             "#ed7953"
            ],
            [
             0.7777777777777778,
             "#fb9f3a"
            ],
            [
             0.8888888888888888,
             "#fdca26"
            ],
            [
             1,
             "#f0f921"
            ]
           ],
           "sequentialminus": [
            [
             0,
             "#0d0887"
            ],
            [
             0.1111111111111111,
             "#46039f"
            ],
            [
             0.2222222222222222,
             "#7201a8"
            ],
            [
             0.3333333333333333,
             "#9c179e"
            ],
            [
             0.4444444444444444,
             "#bd3786"
            ],
            [
             0.5555555555555556,
             "#d8576b"
            ],
            [
             0.6666666666666666,
             "#ed7953"
            ],
            [
             0.7777777777777778,
             "#fb9f3a"
            ],
            [
             0.8888888888888888,
             "#fdca26"
            ],
            [
             1,
             "#f0f921"
            ]
           ]
          },
          "colorway": [
           "#636efa",
           "#EF553B",
           "#00cc96",
           "#ab63fa",
           "#FFA15A",
           "#19d3f3",
           "#FF6692",
           "#B6E880",
           "#FF97FF",
           "#FECB52"
          ],
          "font": {
           "color": "#2a3f5f"
          },
          "geo": {
           "bgcolor": "white",
           "lakecolor": "white",
           "landcolor": "#E5ECF6",
           "showlakes": true,
           "showland": true,
           "subunitcolor": "white"
          },
          "hoverlabel": {
           "align": "left"
          },
          "hovermode": "closest",
          "mapbox": {
           "style": "light"
          },
          "paper_bgcolor": "white",
          "plot_bgcolor": "#E5ECF6",
          "polar": {
           "angularaxis": {
            "gridcolor": "white",
            "linecolor": "white",
            "ticks": ""
           },
           "bgcolor": "#E5ECF6",
           "radialaxis": {
            "gridcolor": "white",
            "linecolor": "white",
            "ticks": ""
           }
          },
          "scene": {
           "xaxis": {
            "backgroundcolor": "#E5ECF6",
            "gridcolor": "white",
            "gridwidth": 2,
            "linecolor": "white",
            "showbackground": true,
            "ticks": "",
            "zerolinecolor": "white"
           },
           "yaxis": {
            "backgroundcolor": "#E5ECF6",
            "gridcolor": "white",
            "gridwidth": 2,
            "linecolor": "white",
            "showbackground": true,
            "ticks": "",
            "zerolinecolor": "white"
           },
           "zaxis": {
            "backgroundcolor": "#E5ECF6",
            "gridcolor": "white",
            "gridwidth": 2,
            "linecolor": "white",
            "showbackground": true,
            "ticks": "",
            "zerolinecolor": "white"
           }
          },
          "shapedefaults": {
           "line": {
            "color": "#2a3f5f"
           }
          },
          "ternary": {
           "aaxis": {
            "gridcolor": "white",
            "linecolor": "white",
            "ticks": ""
           },
           "baxis": {
            "gridcolor": "white",
            "linecolor": "white",
            "ticks": ""
           },
           "bgcolor": "#E5ECF6",
           "caxis": {
            "gridcolor": "white",
            "linecolor": "white",
            "ticks": ""
           }
          },
          "title": {
           "x": 0.05
          },
          "xaxis": {
           "automargin": true,
           "gridcolor": "white",
           "linecolor": "white",
           "ticks": "",
           "title": {
            "standoff": 15
           },
           "zerolinecolor": "white",
           "zerolinewidth": 2
          },
          "yaxis": {
           "automargin": true,
           "gridcolor": "white",
           "linecolor": "white",
           "ticks": "",
           "title": {
            "standoff": 15
           },
           "zerolinecolor": "white",
           "zerolinewidth": 2
          }
         }
        },
        "title": {
         "font": {
          "color": "#4D5663"
         }
        },
        "xaxis": {
         "gridcolor": "#E1E5ED",
         "showgrid": true,
         "tickfont": {
          "color": "#4D5663"
         },
         "title": {
          "font": {
           "color": "#4D5663"
          },
          "text": ""
         },
         "zerolinecolor": "#E1E5ED"
        },
        "yaxis": {
         "gridcolor": "#E1E5ED",
         "showgrid": true,
         "tickfont": {
          "color": "#4D5663"
         },
         "title": {
          "font": {
           "color": "#4D5663"
          },
          "text": ""
         },
         "zerolinecolor": "#E1E5ED"
        }
       }
      },
      "text/html": [
       "<div>\n",
       "        \n",
       "        \n",
       "            <div id=\"1370fc81-bbe7-40e4-9711-43c79b0ea0f0\" class=\"plotly-graph-div\" style=\"height:525px; width:100%;\"></div>\n",
       "            <script type=\"text/javascript\">\n",
       "                require([\"plotly\"], function(Plotly) {\n",
       "                    window.PLOTLYENV=window.PLOTLYENV || {};\n",
       "                    window.PLOTLYENV.BASE_URL='https://plot.ly';\n",
       "                    \n",
       "                if (document.getElementById(\"1370fc81-bbe7-40e4-9711-43c79b0ea0f0\")) {\n",
       "                    Plotly.newPlot(\n",
       "                        '1370fc81-bbe7-40e4-9711-43c79b0ea0f0',\n",
       "                        [{\"marker\": {\"color\": \"rgba(255, 153, 51, 0.6)\", \"line\": {\"color\": \"rgba(255, 153, 51, 1.0)\", \"width\": 1}}, \"name\": \"None\", \"orientation\": \"v\", \"text\": \"\", \"type\": \"bar\", \"x\": [\"A\", \"B\", \"C\", \"D\"], \"y\": [-9.90692597199862, -8.361842741376073, 11.735313247062768, 3.1178548580630054]}],\n",
       "                        {\"legend\": {\"bgcolor\": \"#F5F6F9\", \"font\": {\"color\": \"#4D5663\"}}, \"paper_bgcolor\": \"#F5F6F9\", \"plot_bgcolor\": \"#F5F6F9\", \"template\": {\"data\": {\"bar\": [{\"error_x\": {\"color\": \"#2a3f5f\"}, \"error_y\": {\"color\": \"#2a3f5f\"}, \"marker\": {\"line\": {\"color\": \"#E5ECF6\", \"width\": 0.5}}, \"type\": \"bar\"}], \"barpolar\": [{\"marker\": {\"line\": {\"color\": \"#E5ECF6\", \"width\": 0.5}}, \"type\": \"barpolar\"}], \"carpet\": [{\"aaxis\": {\"endlinecolor\": \"#2a3f5f\", \"gridcolor\": \"white\", \"linecolor\": \"white\", \"minorgridcolor\": \"white\", \"startlinecolor\": \"#2a3f5f\"}, \"baxis\": {\"endlinecolor\": \"#2a3f5f\", \"gridcolor\": \"white\", \"linecolor\": \"white\", \"minorgridcolor\": \"white\", \"startlinecolor\": \"#2a3f5f\"}, \"type\": \"carpet\"}], \"choropleth\": [{\"colorbar\": {\"outlinewidth\": 0, \"ticks\": \"\"}, \"type\": \"choropleth\"}], \"contour\": [{\"colorbar\": {\"outlinewidth\": 0, \"ticks\": \"\"}, \"colorscale\": [[0.0, \"#0d0887\"], [0.1111111111111111, \"#46039f\"], [0.2222222222222222, \"#7201a8\"], [0.3333333333333333, \"#9c179e\"], [0.4444444444444444, \"#bd3786\"], [0.5555555555555556, \"#d8576b\"], [0.6666666666666666, \"#ed7953\"], [0.7777777777777778, \"#fb9f3a\"], [0.8888888888888888, \"#fdca26\"], [1.0, \"#f0f921\"]], \"type\": \"contour\"}], \"contourcarpet\": [{\"colorbar\": {\"outlinewidth\": 0, \"ticks\": \"\"}, \"type\": \"contourcarpet\"}], \"heatmap\": [{\"colorbar\": {\"outlinewidth\": 0, \"ticks\": \"\"}, \"colorscale\": [[0.0, \"#0d0887\"], [0.1111111111111111, \"#46039f\"], [0.2222222222222222, \"#7201a8\"], [0.3333333333333333, \"#9c179e\"], [0.4444444444444444, \"#bd3786\"], [0.5555555555555556, \"#d8576b\"], [0.6666666666666666, \"#ed7953\"], [0.7777777777777778, \"#fb9f3a\"], [0.8888888888888888, \"#fdca26\"], [1.0, \"#f0f921\"]], \"type\": \"heatmap\"}], \"heatmapgl\": [{\"colorbar\": {\"outlinewidth\": 0, \"ticks\": \"\"}, \"colorscale\": [[0.0, \"#0d0887\"], [0.1111111111111111, \"#46039f\"], [0.2222222222222222, \"#7201a8\"], [0.3333333333333333, \"#9c179e\"], [0.4444444444444444, \"#bd3786\"], [0.5555555555555556, \"#d8576b\"], [0.6666666666666666, \"#ed7953\"], [0.7777777777777778, \"#fb9f3a\"], [0.8888888888888888, \"#fdca26\"], [1.0, \"#f0f921\"]], \"type\": \"heatmapgl\"}], \"histogram\": [{\"marker\": {\"colorbar\": {\"outlinewidth\": 0, \"ticks\": \"\"}}, \"type\": \"histogram\"}], \"histogram2d\": [{\"colorbar\": {\"outlinewidth\": 0, \"ticks\": \"\"}, \"colorscale\": [[0.0, \"#0d0887\"], [0.1111111111111111, \"#46039f\"], [0.2222222222222222, \"#7201a8\"], [0.3333333333333333, \"#9c179e\"], [0.4444444444444444, \"#bd3786\"], [0.5555555555555556, \"#d8576b\"], [0.6666666666666666, \"#ed7953\"], [0.7777777777777778, \"#fb9f3a\"], [0.8888888888888888, \"#fdca26\"], [1.0, \"#f0f921\"]], \"type\": \"histogram2d\"}], \"histogram2dcontour\": [{\"colorbar\": {\"outlinewidth\": 0, \"ticks\": \"\"}, \"colorscale\": [[0.0, \"#0d0887\"], [0.1111111111111111, \"#46039f\"], [0.2222222222222222, \"#7201a8\"], [0.3333333333333333, \"#9c179e\"], [0.4444444444444444, \"#bd3786\"], [0.5555555555555556, \"#d8576b\"], [0.6666666666666666, \"#ed7953\"], [0.7777777777777778, \"#fb9f3a\"], [0.8888888888888888, \"#fdca26\"], [1.0, \"#f0f921\"]], \"type\": \"histogram2dcontour\"}], \"mesh3d\": [{\"colorbar\": {\"outlinewidth\": 0, \"ticks\": \"\"}, \"type\": \"mesh3d\"}], \"parcoords\": [{\"line\": {\"colorbar\": {\"outlinewidth\": 0, \"ticks\": \"\"}}, \"type\": \"parcoords\"}], \"pie\": [{\"automargin\": true, \"type\": \"pie\"}], \"scatter\": [{\"marker\": {\"colorbar\": {\"outlinewidth\": 0, \"ticks\": \"\"}}, \"type\": \"scatter\"}], \"scatter3d\": [{\"line\": {\"colorbar\": {\"outlinewidth\": 0, \"ticks\": \"\"}}, \"marker\": {\"colorbar\": {\"outlinewidth\": 0, \"ticks\": \"\"}}, \"type\": \"scatter3d\"}], \"scattercarpet\": [{\"marker\": {\"colorbar\": {\"outlinewidth\": 0, \"ticks\": \"\"}}, \"type\": \"scattercarpet\"}], \"scattergeo\": [{\"marker\": {\"colorbar\": {\"outlinewidth\": 0, \"ticks\": \"\"}}, \"type\": \"scattergeo\"}], \"scattergl\": [{\"marker\": {\"colorbar\": {\"outlinewidth\": 0, \"ticks\": \"\"}}, \"type\": \"scattergl\"}], \"scattermapbox\": [{\"marker\": {\"colorbar\": {\"outlinewidth\": 0, \"ticks\": \"\"}}, \"type\": \"scattermapbox\"}], \"scatterpolar\": [{\"marker\": {\"colorbar\": {\"outlinewidth\": 0, \"ticks\": \"\"}}, \"type\": \"scatterpolar\"}], \"scatterpolargl\": [{\"marker\": {\"colorbar\": {\"outlinewidth\": 0, \"ticks\": \"\"}}, \"type\": \"scatterpolargl\"}], \"scatterternary\": [{\"marker\": {\"colorbar\": {\"outlinewidth\": 0, \"ticks\": \"\"}}, \"type\": \"scatterternary\"}], \"surface\": [{\"colorbar\": {\"outlinewidth\": 0, \"ticks\": \"\"}, \"colorscale\": [[0.0, \"#0d0887\"], [0.1111111111111111, \"#46039f\"], [0.2222222222222222, \"#7201a8\"], [0.3333333333333333, \"#9c179e\"], [0.4444444444444444, \"#bd3786\"], [0.5555555555555556, \"#d8576b\"], [0.6666666666666666, \"#ed7953\"], [0.7777777777777778, \"#fb9f3a\"], [0.8888888888888888, \"#fdca26\"], [1.0, \"#f0f921\"]], \"type\": \"surface\"}], \"table\": [{\"cells\": {\"fill\": {\"color\": \"#EBF0F8\"}, \"line\": {\"color\": \"white\"}}, \"header\": {\"fill\": {\"color\": \"#C8D4E3\"}, \"line\": {\"color\": \"white\"}}, \"type\": \"table\"}]}, \"layout\": {\"annotationdefaults\": {\"arrowcolor\": \"#2a3f5f\", \"arrowhead\": 0, \"arrowwidth\": 1}, \"coloraxis\": {\"colorbar\": {\"outlinewidth\": 0, \"ticks\": \"\"}}, \"colorscale\": {\"diverging\": [[0, \"#8e0152\"], [0.1, \"#c51b7d\"], [0.2, \"#de77ae\"], [0.3, \"#f1b6da\"], [0.4, \"#fde0ef\"], [0.5, \"#f7f7f7\"], [0.6, \"#e6f5d0\"], [0.7, \"#b8e186\"], [0.8, \"#7fbc41\"], [0.9, \"#4d9221\"], [1, \"#276419\"]], \"sequential\": [[0.0, \"#0d0887\"], [0.1111111111111111, \"#46039f\"], [0.2222222222222222, \"#7201a8\"], [0.3333333333333333, \"#9c179e\"], [0.4444444444444444, \"#bd3786\"], [0.5555555555555556, \"#d8576b\"], [0.6666666666666666, \"#ed7953\"], [0.7777777777777778, \"#fb9f3a\"], [0.8888888888888888, \"#fdca26\"], [1.0, \"#f0f921\"]], \"sequentialminus\": [[0.0, \"#0d0887\"], [0.1111111111111111, \"#46039f\"], [0.2222222222222222, \"#7201a8\"], [0.3333333333333333, \"#9c179e\"], [0.4444444444444444, \"#bd3786\"], [0.5555555555555556, \"#d8576b\"], [0.6666666666666666, \"#ed7953\"], [0.7777777777777778, \"#fb9f3a\"], [0.8888888888888888, \"#fdca26\"], [1.0, \"#f0f921\"]]}, \"colorway\": [\"#636efa\", \"#EF553B\", \"#00cc96\", \"#ab63fa\", \"#FFA15A\", \"#19d3f3\", \"#FF6692\", \"#B6E880\", \"#FF97FF\", \"#FECB52\"], \"font\": {\"color\": \"#2a3f5f\"}, \"geo\": {\"bgcolor\": \"white\", \"lakecolor\": \"white\", \"landcolor\": \"#E5ECF6\", \"showlakes\": true, \"showland\": true, \"subunitcolor\": \"white\"}, \"hoverlabel\": {\"align\": \"left\"}, \"hovermode\": \"closest\", \"mapbox\": {\"style\": \"light\"}, \"paper_bgcolor\": \"white\", \"plot_bgcolor\": \"#E5ECF6\", \"polar\": {\"angularaxis\": {\"gridcolor\": \"white\", \"linecolor\": \"white\", \"ticks\": \"\"}, \"bgcolor\": \"#E5ECF6\", \"radialaxis\": {\"gridcolor\": \"white\", \"linecolor\": \"white\", \"ticks\": \"\"}}, \"scene\": {\"xaxis\": {\"backgroundcolor\": \"#E5ECF6\", \"gridcolor\": \"white\", \"gridwidth\": 2, \"linecolor\": \"white\", \"showbackground\": true, \"ticks\": \"\", \"zerolinecolor\": \"white\"}, \"yaxis\": {\"backgroundcolor\": \"#E5ECF6\", \"gridcolor\": \"white\", \"gridwidth\": 2, \"linecolor\": \"white\", \"showbackground\": true, \"ticks\": \"\", \"zerolinecolor\": \"white\"}, \"zaxis\": {\"backgroundcolor\": \"#E5ECF6\", \"gridcolor\": \"white\", \"gridwidth\": 2, \"linecolor\": \"white\", \"showbackground\": true, \"ticks\": \"\", \"zerolinecolor\": \"white\"}}, \"shapedefaults\": {\"line\": {\"color\": \"#2a3f5f\"}}, \"ternary\": {\"aaxis\": {\"gridcolor\": \"white\", \"linecolor\": \"white\", \"ticks\": \"\"}, \"baxis\": {\"gridcolor\": \"white\", \"linecolor\": \"white\", \"ticks\": \"\"}, \"bgcolor\": \"#E5ECF6\", \"caxis\": {\"gridcolor\": \"white\", \"linecolor\": \"white\", \"ticks\": \"\"}}, \"title\": {\"x\": 0.05}, \"xaxis\": {\"automargin\": true, \"gridcolor\": \"white\", \"linecolor\": \"white\", \"ticks\": \"\", \"title\": {\"standoff\": 15}, \"zerolinecolor\": \"white\", \"zerolinewidth\": 2}, \"yaxis\": {\"automargin\": true, \"gridcolor\": \"white\", \"linecolor\": \"white\", \"ticks\": \"\", \"title\": {\"standoff\": 15}, \"zerolinecolor\": \"white\", \"zerolinewidth\": 2}}}, \"title\": {\"font\": {\"color\": \"#4D5663\"}}, \"xaxis\": {\"gridcolor\": \"#E1E5ED\", \"showgrid\": true, \"tickfont\": {\"color\": \"#4D5663\"}, \"title\": {\"font\": {\"color\": \"#4D5663\"}, \"text\": \"\"}, \"zerolinecolor\": \"#E1E5ED\"}, \"yaxis\": {\"gridcolor\": \"#E1E5ED\", \"showgrid\": true, \"tickfont\": {\"color\": \"#4D5663\"}, \"title\": {\"font\": {\"color\": \"#4D5663\"}, \"text\": \"\"}, \"zerolinecolor\": \"#E1E5ED\"}},\n",
       "                        {\"showLink\": true, \"linkText\": \"Export to plot.ly\", \"plotlyServerURL\": \"https://plot.ly\", \"responsive\": true}\n",
       "                    ).then(function(){\n",
       "                            \n",
       "var gd = document.getElementById('1370fc81-bbe7-40e4-9711-43c79b0ea0f0');\n",
       "var x = new MutationObserver(function (mutations, observer) {{\n",
       "        var display = window.getComputedStyle(gd).display;\n",
       "        if (!display || display === 'none') {{\n",
       "            console.log([gd, 'removed!']);\n",
       "            Plotly.purge(gd);\n",
       "            observer.disconnect();\n",
       "        }}\n",
       "}});\n",
       "\n",
       "// Listen for the removal of the full notebook cells\n",
       "var notebookContainer = gd.closest('#notebook-container');\n",
       "if (notebookContainer) {{\n",
       "    x.observe(notebookContainer, {childList: true});\n",
       "}}\n",
       "\n",
       "// Listen for the clearing of the current output cell\n",
       "var outputEl = gd.closest('.output');\n",
       "if (outputEl) {{\n",
       "    x.observe(outputEl, {childList: true});\n",
       "}}\n",
       "\n",
       "                        })\n",
       "                };\n",
       "                });\n",
       "            </script>\n",
       "        </div>"
      ]
     },
     "metadata": {},
     "output_type": "display_data"
    }
   ],
   "source": [
    "# can use aggregate function or groupby to make bar plot for larger dataframes\n",
    "df.sum().iplot(kind='bar')"
   ]
  },
  {
   "cell_type": "code",
   "execution_count": 29,
   "metadata": {},
   "outputs": [
    {
     "data": {
      "application/vnd.plotly.v1+json": {
       "config": {
        "linkText": "Export to plot.ly",
        "plotlyServerURL": "https://plot.ly",
        "showLink": true
       },
       "data": [
        {
         "boxpoints": false,
         "line": {
          "width": 1.3
         },
         "marker": {
          "color": "rgba(255, 153, 51, 1.0)"
         },
         "name": "A",
         "orientation": "v",
         "type": "box",
         "y": [
          -1.516267560230567,
          -1.9207884175074055,
          1.0373966535124963,
          0.14953510936685668,
          -3.999485447186093,
          0.41440508516482133,
          0.7429422015904862,
          -1.4289512487530127,
          0.6905534850783236,
          0.11506940258331375,
          1.9618318262179413,
          0.4820087067882209,
          0.010833293229753694,
          -0.595929986198764,
          -2.113531329590608,
          1.3475913692139152,
          -0.17027902129753222,
          -1.7647043330033494,
          -0.7618858921940336,
          -0.32990065514115696,
          0.5275932665014055,
          -0.012597174270982791,
          0.977197771133166,
          -0.32632061640685095,
          0.08292817175283175,
          -0.8344479918217037,
          1.568391586495905,
          0.35928326522581105,
          -0.6938103952930875,
          0.2879566156066621,
          0.020560596221972264,
          -0.6608720159459609,
          -1.3379447458259173,
          0.09976969555504292,
          -1.8342513136627003,
          0.9586876894546607,
          -1.1058337722839024,
          0.5406356582921222,
          -1.9079890868367126,
          0.25673390912073035,
          -0.09844552196478548,
          0.547433763312957,
          -1.2925028155368672,
          -1.0266178727650466,
          1.1507359785118991,
          -0.4331137041199937,
          0.3750983126336917,
          -0.956571917947313,
          -0.6306287050127768,
          1.1658314936903746,
          0.20727664611040933,
          -0.7125620965948533,
          -1.2329857567549423,
          -1.19301842269195,
          0.7344866094623589,
          0.24825131328164876,
          -0.0703592808778631,
          -0.3940635524410132,
          0.8837620159811025,
          -0.5882788998946945,
          0.857686324715227,
          -1.2759414075844788,
          0.1849841116242509,
          -0.9889213556524264,
          0.37665713077589197,
          0.06736189675688638,
          0.7757816466321904,
          1.0197517246852932,
          2.1963839769565587,
          1.6228329344349806,
          -0.417307672140243,
          0.4883689747400217,
          1.0063943302757847,
          -0.641507073385344,
          0.2592738354357245,
          -1.115946078959094,
          0.4121599174934557,
          -0.5158597744247898,
          1.1280022315312952,
          -0.3627082124069788,
          0.7816328424346314,
          1.1133691254531146,
          1.776942182023018,
          -0.2100716526582734,
          -0.8832821040096712,
          0.10615505370341051,
          -1.2015298986284144,
          -1.6001804881901893,
          -1.0807816016045844,
          -0.9463689237520007,
          -0.5501717411155009,
          0.6915172170167367,
          1.3927574947291392,
          -1.4420007770037622,
          0.9858512592211613,
          -0.6690552083723248,
          -0.23614428440751595,
          -0.30191933616375166,
          1.1650348858496635,
          0.12403058093384871
         ]
        },
        {
         "boxpoints": false,
         "line": {
          "width": 1.3
         },
         "marker": {
          "color": "rgba(55, 128, 191, 1.0)"
         },
         "name": "B",
         "orientation": "v",
         "type": "box",
         "y": [
          0.7560556932599837,
          0.1861617358883027,
          -0.45946401974499407,
          0.5363725650333798,
          -0.2826907049744466,
          0.9869378586623979,
          -0.6293265326245278,
          0.34986000372960885,
          -0.5320627851308627,
          -1.0447729626343751,
          -0.02070322248580189,
          0.6798959897817697,
          0.5763501818321275,
          2.223053447818855,
          -0.8875788326999193,
          0.1615787630842412,
          0.3567709085089428,
          0.5248938481707832,
          0.9271245772107571,
          -0.7937188090872309,
          -0.6378307034357991,
          -0.17620310244789048,
          -0.23574356411919412,
          -1.527418059284275,
          -1.4533726991112783,
          -1.2953156503840655,
          0.6210477547351118,
          0.15506917930022304,
          1.1950725809051264,
          -0.04247534795006339,
          0.7659378064150684,
          -0.5615692618981515,
          0.5737791878517139,
          -1.6006308572561425,
          -2.0333950285797724,
          0.9346585456145193,
          0.9488633527962949,
          -0.4745063070449874,
          -0.7734177445027147,
          1.16465395450693,
          1.4686285828616743,
          -0.7166223975541242,
          -1.2791480009837546,
          -1.3619596644254246,
          0.7391929603399298,
          1.1533967674155505,
          0.3919443359002727,
          -0.9920921182175484,
          -0.9872936922072552,
          0.9000315317637086,
          0.004605680217882535,
          0.1132365767180532,
          -2.435324506895573,
          -0.7597271181186379,
          -0.5264360772598415,
          -0.3121916127736122,
          1.2307918201579024,
          1.869523187447704,
          -0.8858686376106412,
          0.543726783419556,
          -0.24643024780589254,
          -1.0030147432944985,
          -0.16165591281686184,
          2.226299463444169,
          -0.9553257863435494,
          -0.29638314164963764,
          3.0766450558184446,
          0.5921688084872822,
          -0.5443244331161018,
          0.34831653131719215,
          0.07205649871924576,
          1.6331107284138258,
          -0.5047645502368753,
          1.9948204982562445,
          0.24547203312160698,
          -0.27026650540474917,
          -0.08129411360953269,
          0.5285605980807471,
          0.5823235382880914,
          -0.2600138020280055,
          -0.16891644200176278,
          0.1014571072555472,
          -0.3585139768204954,
          -1.6969407642537817,
          0.9902414663906203,
          -0.7067845545991822,
          -1.3549550916722233,
          0.3266717614722,
          0.722908659201581,
          -0.48226300279897943,
          -2.6040444968163907,
          -1.1310424188559618,
          -2.016050162462118,
          -0.8432923110307549,
          0.1718208037412506,
          -0.6124292996478096,
          -1.257773712778361,
          -1.6465683792803527,
          0.14999425467185448,
          -0.24201883863756485
         ]
        },
        {
         "boxpoints": false,
         "line": {
          "width": 1.3
         },
         "marker": {
          "color": "rgba(50, 171, 96, 1.0)"
         },
         "name": "C",
         "orientation": "v",
         "type": "box",
         "y": [
          0.8075329633556021,
          1.1774280375163513,
          -0.6014210535259376,
          0.07832612005513975,
          -1.7155009840661166,
          0.7035414537135141,
          0.8417927248686057,
          0.3748580340476217,
          -0.304945229712358,
          0.4211204380864479,
          0.735136750654394,
          -0.2741375696064217,
          -0.9351479186335825,
          -1.1396293625847214,
          0.6140068231092876,
          0.3562576971054651,
          -0.7047026891394264,
          -0.9432943051102678,
          0.7597156187613746,
          0.8464495262910379,
          0.6868534419181007,
          -0.8562197378807854,
          -0.5815031808440854,
          0.051146836255641655,
          1.367564231862464,
          -0.46229837263073564,
          2.2475048457753886,
          -0.8619959017315432,
          -0.908873144834571,
          -0.39423141306929993,
          0.1891999834297446,
          1.3165420591801689,
          0.3529560878107613,
          1.05534709251322,
          0.7731486762660107,
          1.6042316111721489,
          -0.4105421652787086,
          0.21597120648202386,
          -0.4048423743583727,
          -0.5410710325474366,
          1.3029986750296814,
          -1.2216582067120945,
          -0.2877632187371062,
          0.2864779198647285,
          1.212951585281548,
          0.6485129056737563,
          0.18531217997808083,
          -0.680445857051702,
          0.5170626300905937,
          -0.8328571848850191,
          1.0089132907191372,
          0.5605661111024343,
          -0.5418390448470031,
          -0.057394466151699276,
          -0.02762680605564009,
          -1.2589958382873707,
          0.9175957862194427,
          1.3027871559059288,
          -0.4184142964253094,
          -0.015556868338890308,
          -0.7472347864718828,
          -0.641803946445278,
          1.0688577905407268,
          0.2479386831831523,
          0.8015844949247076,
          -0.7586268387861957,
          -0.38405669593162456,
          -0.8505493494111646,
          -0.42971382252105217,
          0.5971083106876616,
          -1.1080763354452292,
          0.9126658039380318,
          0.8368071245792087,
          0.4160418406091262,
          2.3259294956907732,
          0.6625347106516749,
          1.1190819353211914,
          -0.18104618713916434,
          -0.01837031625668125,
          0.4562313734425662,
          -0.7531440947132809,
          -0.9683539960380266,
          -0.10537954212188595,
          -0.6149617031626683,
          -0.04292467163872477,
          -0.18099266235163322,
          -0.33022789800633723,
          0.9596997277449528,
          0.12471184363949661,
          0.522556467422449,
          0.871303923310238,
          -1.4661486934626757,
          0.24887468376197597,
          2.256319398182052,
          1.16405886946189,
          0.5128261275993566,
          -0.768220685178201,
          -0.09127765202544696,
          -1.0973940577290768,
          -0.9682176998418792
         ]
        },
        {
         "boxpoints": false,
         "line": {
          "width": 1.3
         },
         "marker": {
          "color": "rgba(128, 0, 128, 1.0)"
         },
         "name": "D",
         "orientation": "v",
         "type": "box",
         "y": [
          0.4014918667753453,
          -1.0527835785103015,
          0.6783187881078234,
          0.7649936889727516,
          -1.1274163808466917,
          0.23231053135724067,
          -0.6234847256031335,
          0.5177435401456703,
          -1.3497744575101418,
          -0.9445947799978384,
          0.9993230603164184,
          -0.32813659124069827,
          -2.4873454326976416,
          0.23373081431391704,
          -1.2698236657889295,
          -1.0819958194740864,
          0.48944497238523554,
          -0.0870913581820666,
          0.4520894854769399,
          0.3685869778498855,
          -0.018623861888844594,
          -0.7361625385230917,
          -0.9379072634960933,
          -0.43271162020157156,
          0.5717431862977355,
          -1.0863445421513354,
          0.6895465419898549,
          -0.02104765288212073,
          0.21044849744988786,
          -0.21060376326527153,
          -0.1751901167494546,
          2.4267729695171383,
          1.1144251258610327,
          0.6088822364466963,
          1.0742530678495064,
          -1.673162766707186,
          0.8141293794284068,
          -0.671250126501007,
          -0.1119807844623894,
          0.6827059956836821,
          -2.0086429350470563,
          -0.3182967446586569,
          0.7566624514615232,
          -0.25674945298533824,
          0.5397642656518596,
          -2.1227957924654897,
          1.5314276962262283,
          1.4919611694698254,
          1.269574054782094,
          -1.0916311869393023,
          -0.3437996306930975,
          1.4347510492864688,
          1.2762427379159493,
          0.21416609162142103,
          -0.197175852514856,
          0.3223939268519974,
          0.4770435887408125,
          -1.2437863927715238,
          0.026588683601995435,
          0.32869167896277063,
          1.5214987121045702,
          0.821282750843137,
          0.4796940104196587,
          -0.8907667152685849,
          0.537578488866459,
          0.4846947974682395,
          -0.8342563397109818,
          0.9012246659006108,
          -0.031084575491218874,
          -0.4390259765356436,
          2.6497943870848877,
          0.15636182258080236,
          -0.04297633147906922,
          0.09414708464977088,
          -1.2680837159614444,
          -0.331002953982354,
          0.6895397124327335,
          -0.8093776634653645,
          -2.0170703969219725,
          0.33936665036701874,
          0.6943810852290068,
          0.624720221317302,
          0.5049175711349475,
          -0.11540280204630413,
          0.27341016033136567,
          0.8854226746417551,
          -0.3493524737887093,
          0.00017440721187257863,
          0.4571801241143655,
          -1.0474263154899806,
          -0.06046386609324998,
          -0.6420828131993251,
          -0.6128988878340906,
          0.8707626928414187,
          0.779901154494852,
          -0.762949383763312,
          -0.3161555736028018,
          0.9312707513336201,
          0.2176505285610799,
          -0.2166411172749589
         ]
        }
       ],
       "layout": {
        "legend": {
         "bgcolor": "#F5F6F9",
         "font": {
          "color": "#4D5663"
         }
        },
        "paper_bgcolor": "#F5F6F9",
        "plot_bgcolor": "#F5F6F9",
        "template": {
         "data": {
          "bar": [
           {
            "error_x": {
             "color": "#2a3f5f"
            },
            "error_y": {
             "color": "#2a3f5f"
            },
            "marker": {
             "line": {
              "color": "#E5ECF6",
              "width": 0.5
             }
            },
            "type": "bar"
           }
          ],
          "barpolar": [
           {
            "marker": {
             "line": {
              "color": "#E5ECF6",
              "width": 0.5
             }
            },
            "type": "barpolar"
           }
          ],
          "carpet": [
           {
            "aaxis": {
             "endlinecolor": "#2a3f5f",
             "gridcolor": "white",
             "linecolor": "white",
             "minorgridcolor": "white",
             "startlinecolor": "#2a3f5f"
            },
            "baxis": {
             "endlinecolor": "#2a3f5f",
             "gridcolor": "white",
             "linecolor": "white",
             "minorgridcolor": "white",
             "startlinecolor": "#2a3f5f"
            },
            "type": "carpet"
           }
          ],
          "choropleth": [
           {
            "colorbar": {
             "outlinewidth": 0,
             "ticks": ""
            },
            "type": "choropleth"
           }
          ],
          "contour": [
           {
            "colorbar": {
             "outlinewidth": 0,
             "ticks": ""
            },
            "colorscale": [
             [
              0,
              "#0d0887"
             ],
             [
              0.1111111111111111,
              "#46039f"
             ],
             [
              0.2222222222222222,
              "#7201a8"
             ],
             [
              0.3333333333333333,
              "#9c179e"
             ],
             [
              0.4444444444444444,
              "#bd3786"
             ],
             [
              0.5555555555555556,
              "#d8576b"
             ],
             [
              0.6666666666666666,
              "#ed7953"
             ],
             [
              0.7777777777777778,
              "#fb9f3a"
             ],
             [
              0.8888888888888888,
              "#fdca26"
             ],
             [
              1,
              "#f0f921"
             ]
            ],
            "type": "contour"
           }
          ],
          "contourcarpet": [
           {
            "colorbar": {
             "outlinewidth": 0,
             "ticks": ""
            },
            "type": "contourcarpet"
           }
          ],
          "heatmap": [
           {
            "colorbar": {
             "outlinewidth": 0,
             "ticks": ""
            },
            "colorscale": [
             [
              0,
              "#0d0887"
             ],
             [
              0.1111111111111111,
              "#46039f"
             ],
             [
              0.2222222222222222,
              "#7201a8"
             ],
             [
              0.3333333333333333,
              "#9c179e"
             ],
             [
              0.4444444444444444,
              "#bd3786"
             ],
             [
              0.5555555555555556,
              "#d8576b"
             ],
             [
              0.6666666666666666,
              "#ed7953"
             ],
             [
              0.7777777777777778,
              "#fb9f3a"
             ],
             [
              0.8888888888888888,
              "#fdca26"
             ],
             [
              1,
              "#f0f921"
             ]
            ],
            "type": "heatmap"
           }
          ],
          "heatmapgl": [
           {
            "colorbar": {
             "outlinewidth": 0,
             "ticks": ""
            },
            "colorscale": [
             [
              0,
              "#0d0887"
             ],
             [
              0.1111111111111111,
              "#46039f"
             ],
             [
              0.2222222222222222,
              "#7201a8"
             ],
             [
              0.3333333333333333,
              "#9c179e"
             ],
             [
              0.4444444444444444,
              "#bd3786"
             ],
             [
              0.5555555555555556,
              "#d8576b"
             ],
             [
              0.6666666666666666,
              "#ed7953"
             ],
             [
              0.7777777777777778,
              "#fb9f3a"
             ],
             [
              0.8888888888888888,
              "#fdca26"
             ],
             [
              1,
              "#f0f921"
             ]
            ],
            "type": "heatmapgl"
           }
          ],
          "histogram": [
           {
            "marker": {
             "colorbar": {
              "outlinewidth": 0,
              "ticks": ""
             }
            },
            "type": "histogram"
           }
          ],
          "histogram2d": [
           {
            "colorbar": {
             "outlinewidth": 0,
             "ticks": ""
            },
            "colorscale": [
             [
              0,
              "#0d0887"
             ],
             [
              0.1111111111111111,
              "#46039f"
             ],
             [
              0.2222222222222222,
              "#7201a8"
             ],
             [
              0.3333333333333333,
              "#9c179e"
             ],
             [
              0.4444444444444444,
              "#bd3786"
             ],
             [
              0.5555555555555556,
              "#d8576b"
             ],
             [
              0.6666666666666666,
              "#ed7953"
             ],
             [
              0.7777777777777778,
              "#fb9f3a"
             ],
             [
              0.8888888888888888,
              "#fdca26"
             ],
             [
              1,
              "#f0f921"
             ]
            ],
            "type": "histogram2d"
           }
          ],
          "histogram2dcontour": [
           {
            "colorbar": {
             "outlinewidth": 0,
             "ticks": ""
            },
            "colorscale": [
             [
              0,
              "#0d0887"
             ],
             [
              0.1111111111111111,
              "#46039f"
             ],
             [
              0.2222222222222222,
              "#7201a8"
             ],
             [
              0.3333333333333333,
              "#9c179e"
             ],
             [
              0.4444444444444444,
              "#bd3786"
             ],
             [
              0.5555555555555556,
              "#d8576b"
             ],
             [
              0.6666666666666666,
              "#ed7953"
             ],
             [
              0.7777777777777778,
              "#fb9f3a"
             ],
             [
              0.8888888888888888,
              "#fdca26"
             ],
             [
              1,
              "#f0f921"
             ]
            ],
            "type": "histogram2dcontour"
           }
          ],
          "mesh3d": [
           {
            "colorbar": {
             "outlinewidth": 0,
             "ticks": ""
            },
            "type": "mesh3d"
           }
          ],
          "parcoords": [
           {
            "line": {
             "colorbar": {
              "outlinewidth": 0,
              "ticks": ""
             }
            },
            "type": "parcoords"
           }
          ],
          "pie": [
           {
            "automargin": true,
            "type": "pie"
           }
          ],
          "scatter": [
           {
            "marker": {
             "colorbar": {
              "outlinewidth": 0,
              "ticks": ""
             }
            },
            "type": "scatter"
           }
          ],
          "scatter3d": [
           {
            "line": {
             "colorbar": {
              "outlinewidth": 0,
              "ticks": ""
             }
            },
            "marker": {
             "colorbar": {
              "outlinewidth": 0,
              "ticks": ""
             }
            },
            "type": "scatter3d"
           }
          ],
          "scattercarpet": [
           {
            "marker": {
             "colorbar": {
              "outlinewidth": 0,
              "ticks": ""
             }
            },
            "type": "scattercarpet"
           }
          ],
          "scattergeo": [
           {
            "marker": {
             "colorbar": {
              "outlinewidth": 0,
              "ticks": ""
             }
            },
            "type": "scattergeo"
           }
          ],
          "scattergl": [
           {
            "marker": {
             "colorbar": {
              "outlinewidth": 0,
              "ticks": ""
             }
            },
            "type": "scattergl"
           }
          ],
          "scattermapbox": [
           {
            "marker": {
             "colorbar": {
              "outlinewidth": 0,
              "ticks": ""
             }
            },
            "type": "scattermapbox"
           }
          ],
          "scatterpolar": [
           {
            "marker": {
             "colorbar": {
              "outlinewidth": 0,
              "ticks": ""
             }
            },
            "type": "scatterpolar"
           }
          ],
          "scatterpolargl": [
           {
            "marker": {
             "colorbar": {
              "outlinewidth": 0,
              "ticks": ""
             }
            },
            "type": "scatterpolargl"
           }
          ],
          "scatterternary": [
           {
            "marker": {
             "colorbar": {
              "outlinewidth": 0,
              "ticks": ""
             }
            },
            "type": "scatterternary"
           }
          ],
          "surface": [
           {
            "colorbar": {
             "outlinewidth": 0,
             "ticks": ""
            },
            "colorscale": [
             [
              0,
              "#0d0887"
             ],
             [
              0.1111111111111111,
              "#46039f"
             ],
             [
              0.2222222222222222,
              "#7201a8"
             ],
             [
              0.3333333333333333,
              "#9c179e"
             ],
             [
              0.4444444444444444,
              "#bd3786"
             ],
             [
              0.5555555555555556,
              "#d8576b"
             ],
             [
              0.6666666666666666,
              "#ed7953"
             ],
             [
              0.7777777777777778,
              "#fb9f3a"
             ],
             [
              0.8888888888888888,
              "#fdca26"
             ],
             [
              1,
              "#f0f921"
             ]
            ],
            "type": "surface"
           }
          ],
          "table": [
           {
            "cells": {
             "fill": {
              "color": "#EBF0F8"
             },
             "line": {
              "color": "white"
             }
            },
            "header": {
             "fill": {
              "color": "#C8D4E3"
             },
             "line": {
              "color": "white"
             }
            },
            "type": "table"
           }
          ]
         },
         "layout": {
          "annotationdefaults": {
           "arrowcolor": "#2a3f5f",
           "arrowhead": 0,
           "arrowwidth": 1
          },
          "coloraxis": {
           "colorbar": {
            "outlinewidth": 0,
            "ticks": ""
           }
          },
          "colorscale": {
           "diverging": [
            [
             0,
             "#8e0152"
            ],
            [
             0.1,
             "#c51b7d"
            ],
            [
             0.2,
             "#de77ae"
            ],
            [
             0.3,
             "#f1b6da"
            ],
            [
             0.4,
             "#fde0ef"
            ],
            [
             0.5,
             "#f7f7f7"
            ],
            [
             0.6,
             "#e6f5d0"
            ],
            [
             0.7,
             "#b8e186"
            ],
            [
             0.8,
             "#7fbc41"
            ],
            [
             0.9,
             "#4d9221"
            ],
            [
             1,
             "#276419"
            ]
           ],
           "sequential": [
            [
             0,
             "#0d0887"
            ],
            [
             0.1111111111111111,
             "#46039f"
            ],
            [
             0.2222222222222222,
             "#7201a8"
            ],
            [
             0.3333333333333333,
             "#9c179e"
            ],
            [
             0.4444444444444444,
             "#bd3786"
            ],
            [
             0.5555555555555556,
             "#d8576b"
            ],
            [
             0.6666666666666666,
             "#ed7953"
            ],
            [
             0.7777777777777778,
             "#fb9f3a"
            ],
            [
             0.8888888888888888,
             "#fdca26"
            ],
            [
             1,
             "#f0f921"
            ]
           ],
           "sequentialminus": [
            [
             0,
             "#0d0887"
            ],
            [
             0.1111111111111111,
             "#46039f"
            ],
            [
             0.2222222222222222,
             "#7201a8"
            ],
            [
             0.3333333333333333,
             "#9c179e"
            ],
            [
             0.4444444444444444,
             "#bd3786"
            ],
            [
             0.5555555555555556,
             "#d8576b"
            ],
            [
             0.6666666666666666,
             "#ed7953"
            ],
            [
             0.7777777777777778,
             "#fb9f3a"
            ],
            [
             0.8888888888888888,
             "#fdca26"
            ],
            [
             1,
             "#f0f921"
            ]
           ]
          },
          "colorway": [
           "#636efa",
           "#EF553B",
           "#00cc96",
           "#ab63fa",
           "#FFA15A",
           "#19d3f3",
           "#FF6692",
           "#B6E880",
           "#FF97FF",
           "#FECB52"
          ],
          "font": {
           "color": "#2a3f5f"
          },
          "geo": {
           "bgcolor": "white",
           "lakecolor": "white",
           "landcolor": "#E5ECF6",
           "showlakes": true,
           "showland": true,
           "subunitcolor": "white"
          },
          "hoverlabel": {
           "align": "left"
          },
          "hovermode": "closest",
          "mapbox": {
           "style": "light"
          },
          "paper_bgcolor": "white",
          "plot_bgcolor": "#E5ECF6",
          "polar": {
           "angularaxis": {
            "gridcolor": "white",
            "linecolor": "white",
            "ticks": ""
           },
           "bgcolor": "#E5ECF6",
           "radialaxis": {
            "gridcolor": "white",
            "linecolor": "white",
            "ticks": ""
           }
          },
          "scene": {
           "xaxis": {
            "backgroundcolor": "#E5ECF6",
            "gridcolor": "white",
            "gridwidth": 2,
            "linecolor": "white",
            "showbackground": true,
            "ticks": "",
            "zerolinecolor": "white"
           },
           "yaxis": {
            "backgroundcolor": "#E5ECF6",
            "gridcolor": "white",
            "gridwidth": 2,
            "linecolor": "white",
            "showbackground": true,
            "ticks": "",
            "zerolinecolor": "white"
           },
           "zaxis": {
            "backgroundcolor": "#E5ECF6",
            "gridcolor": "white",
            "gridwidth": 2,
            "linecolor": "white",
            "showbackground": true,
            "ticks": "",
            "zerolinecolor": "white"
           }
          },
          "shapedefaults": {
           "line": {
            "color": "#2a3f5f"
           }
          },
          "ternary": {
           "aaxis": {
            "gridcolor": "white",
            "linecolor": "white",
            "ticks": ""
           },
           "baxis": {
            "gridcolor": "white",
            "linecolor": "white",
            "ticks": ""
           },
           "bgcolor": "#E5ECF6",
           "caxis": {
            "gridcolor": "white",
            "linecolor": "white",
            "ticks": ""
           }
          },
          "title": {
           "x": 0.05
          },
          "xaxis": {
           "automargin": true,
           "gridcolor": "white",
           "linecolor": "white",
           "ticks": "",
           "title": {
            "standoff": 15
           },
           "zerolinecolor": "white",
           "zerolinewidth": 2
          },
          "yaxis": {
           "automargin": true,
           "gridcolor": "white",
           "linecolor": "white",
           "ticks": "",
           "title": {
            "standoff": 15
           },
           "zerolinecolor": "white",
           "zerolinewidth": 2
          }
         }
        },
        "title": {
         "font": {
          "color": "#4D5663"
         }
        },
        "xaxis": {
         "gridcolor": "#E1E5ED",
         "showgrid": true,
         "tickfont": {
          "color": "#4D5663"
         },
         "title": {
          "font": {
           "color": "#4D5663"
          },
          "text": ""
         },
         "zerolinecolor": "#E1E5ED"
        },
        "yaxis": {
         "gridcolor": "#E1E5ED",
         "showgrid": true,
         "tickfont": {
          "color": "#4D5663"
         },
         "title": {
          "font": {
           "color": "#4D5663"
          },
          "text": ""
         },
         "zerolinecolor": "#E1E5ED"
        }
       }
      },
      "text/html": [
       "<div>\n",
       "        \n",
       "        \n",
       "            <div id=\"a16de283-ff89-4439-90ba-db7f1f4dbf6e\" class=\"plotly-graph-div\" style=\"height:525px; width:100%;\"></div>\n",
       "            <script type=\"text/javascript\">\n",
       "                require([\"plotly\"], function(Plotly) {\n",
       "                    window.PLOTLYENV=window.PLOTLYENV || {};\n",
       "                    window.PLOTLYENV.BASE_URL='https://plot.ly';\n",
       "                    \n",
       "                if (document.getElementById(\"a16de283-ff89-4439-90ba-db7f1f4dbf6e\")) {\n",
       "                    Plotly.newPlot(\n",
       "                        'a16de283-ff89-4439-90ba-db7f1f4dbf6e',\n",
       "                        [{\"boxpoints\": false, \"line\": {\"width\": 1.3}, \"marker\": {\"color\": \"rgba(255, 153, 51, 1.0)\"}, \"name\": \"A\", \"orientation\": \"v\", \"type\": \"box\", \"y\": [-1.516267560230567, -1.9207884175074055, 1.0373966535124963, 0.14953510936685668, -3.999485447186093, 0.41440508516482133, 0.7429422015904862, -1.4289512487530127, 0.6905534850783236, 0.11506940258331375, 1.9618318262179413, 0.4820087067882209, 0.010833293229753694, -0.595929986198764, -2.113531329590608, 1.3475913692139152, -0.17027902129753222, -1.7647043330033494, -0.7618858921940336, -0.32990065514115696, 0.5275932665014055, -0.012597174270982791, 0.977197771133166, -0.32632061640685095, 0.08292817175283175, -0.8344479918217037, 1.568391586495905, 0.35928326522581105, -0.6938103952930875, 0.2879566156066621, 0.020560596221972264, -0.6608720159459609, -1.3379447458259173, 0.09976969555504292, -1.8342513136627003, 0.9586876894546607, -1.1058337722839024, 0.5406356582921222, -1.9079890868367126, 0.25673390912073035, -0.09844552196478548, 0.547433763312957, -1.2925028155368672, -1.0266178727650466, 1.1507359785118991, -0.4331137041199937, 0.3750983126336917, -0.956571917947313, -0.6306287050127768, 1.1658314936903746, 0.20727664611040933, -0.7125620965948533, -1.2329857567549423, -1.19301842269195, 0.7344866094623589, 0.24825131328164876, -0.0703592808778631, -0.3940635524410132, 0.8837620159811025, -0.5882788998946945, 0.857686324715227, -1.2759414075844788, 0.1849841116242509, -0.9889213556524264, 0.37665713077589197, 0.06736189675688638, 0.7757816466321904, 1.0197517246852932, 2.1963839769565587, 1.6228329344349806, -0.417307672140243, 0.4883689747400217, 1.0063943302757847, -0.641507073385344, 0.2592738354357245, -1.115946078959094, 0.4121599174934557, -0.5158597744247898, 1.1280022315312952, -0.3627082124069788, 0.7816328424346314, 1.1133691254531146, 1.776942182023018, -0.2100716526582734, -0.8832821040096712, 0.10615505370341051, -1.2015298986284144, -1.6001804881901893, -1.0807816016045844, -0.9463689237520007, -0.5501717411155009, 0.6915172170167367, 1.3927574947291392, -1.4420007770037622, 0.9858512592211613, -0.6690552083723248, -0.23614428440751595, -0.30191933616375166, 1.1650348858496635, 0.12403058093384871]}, {\"boxpoints\": false, \"line\": {\"width\": 1.3}, \"marker\": {\"color\": \"rgba(55, 128, 191, 1.0)\"}, \"name\": \"B\", \"orientation\": \"v\", \"type\": \"box\", \"y\": [0.7560556932599837, 0.1861617358883027, -0.45946401974499407, 0.5363725650333798, -0.2826907049744466, 0.9869378586623979, -0.6293265326245278, 0.34986000372960885, -0.5320627851308627, -1.0447729626343751, -0.02070322248580189, 0.6798959897817697, 0.5763501818321275, 2.223053447818855, -0.8875788326999193, 0.1615787630842412, 0.3567709085089428, 0.5248938481707832, 0.9271245772107571, -0.7937188090872309, -0.6378307034357991, -0.17620310244789048, -0.23574356411919412, -1.527418059284275, -1.4533726991112783, -1.2953156503840655, 0.6210477547351118, 0.15506917930022304, 1.1950725809051264, -0.04247534795006339, 0.7659378064150684, -0.5615692618981515, 0.5737791878517139, -1.6006308572561425, -2.0333950285797724, 0.9346585456145193, 0.9488633527962949, -0.4745063070449874, -0.7734177445027147, 1.16465395450693, 1.4686285828616743, -0.7166223975541242, -1.2791480009837546, -1.3619596644254246, 0.7391929603399298, 1.1533967674155505, 0.3919443359002727, -0.9920921182175484, -0.9872936922072552, 0.9000315317637086, 0.004605680217882535, 0.1132365767180532, -2.435324506895573, -0.7597271181186379, -0.5264360772598415, -0.3121916127736122, 1.2307918201579024, 1.869523187447704, -0.8858686376106412, 0.543726783419556, -0.24643024780589254, -1.0030147432944985, -0.16165591281686184, 2.226299463444169, -0.9553257863435494, -0.29638314164963764, 3.0766450558184446, 0.5921688084872822, -0.5443244331161018, 0.34831653131719215, 0.07205649871924576, 1.6331107284138258, -0.5047645502368753, 1.9948204982562445, 0.24547203312160698, -0.27026650540474917, -0.08129411360953269, 0.5285605980807471, 0.5823235382880914, -0.2600138020280055, -0.16891644200176278, 0.1014571072555472, -0.3585139768204954, -1.6969407642537817, 0.9902414663906203, -0.7067845545991822, -1.3549550916722233, 0.3266717614722, 0.722908659201581, -0.48226300279897943, -2.6040444968163907, -1.1310424188559618, -2.016050162462118, -0.8432923110307549, 0.1718208037412506, -0.6124292996478096, -1.257773712778361, -1.6465683792803527, 0.14999425467185448, -0.24201883863756485]}, {\"boxpoints\": false, \"line\": {\"width\": 1.3}, \"marker\": {\"color\": \"rgba(50, 171, 96, 1.0)\"}, \"name\": \"C\", \"orientation\": \"v\", \"type\": \"box\", \"y\": [0.8075329633556021, 1.1774280375163513, -0.6014210535259376, 0.07832612005513975, -1.7155009840661166, 0.7035414537135141, 0.8417927248686057, 0.3748580340476217, -0.304945229712358, 0.4211204380864479, 0.735136750654394, -0.2741375696064217, -0.9351479186335825, -1.1396293625847214, 0.6140068231092876, 0.3562576971054651, -0.7047026891394264, -0.9432943051102678, 0.7597156187613746, 0.8464495262910379, 0.6868534419181007, -0.8562197378807854, -0.5815031808440854, 0.051146836255641655, 1.367564231862464, -0.46229837263073564, 2.2475048457753886, -0.8619959017315432, -0.908873144834571, -0.39423141306929993, 0.1891999834297446, 1.3165420591801689, 0.3529560878107613, 1.05534709251322, 0.7731486762660107, 1.6042316111721489, -0.4105421652787086, 0.21597120648202386, -0.4048423743583727, -0.5410710325474366, 1.3029986750296814, -1.2216582067120945, -0.2877632187371062, 0.2864779198647285, 1.212951585281548, 0.6485129056737563, 0.18531217997808083, -0.680445857051702, 0.5170626300905937, -0.8328571848850191, 1.0089132907191372, 0.5605661111024343, -0.5418390448470031, -0.057394466151699276, -0.02762680605564009, -1.2589958382873707, 0.9175957862194427, 1.3027871559059288, -0.4184142964253094, -0.015556868338890308, -0.7472347864718828, -0.641803946445278, 1.0688577905407268, 0.2479386831831523, 0.8015844949247076, -0.7586268387861957, -0.38405669593162456, -0.8505493494111646, -0.42971382252105217, 0.5971083106876616, -1.1080763354452292, 0.9126658039380318, 0.8368071245792087, 0.4160418406091262, 2.3259294956907732, 0.6625347106516749, 1.1190819353211914, -0.18104618713916434, -0.01837031625668125, 0.4562313734425662, -0.7531440947132809, -0.9683539960380266, -0.10537954212188595, -0.6149617031626683, -0.04292467163872477, -0.18099266235163322, -0.33022789800633723, 0.9596997277449528, 0.12471184363949661, 0.522556467422449, 0.871303923310238, -1.4661486934626757, 0.24887468376197597, 2.256319398182052, 1.16405886946189, 0.5128261275993566, -0.768220685178201, -0.09127765202544696, -1.0973940577290768, -0.9682176998418792]}, {\"boxpoints\": false, \"line\": {\"width\": 1.3}, \"marker\": {\"color\": \"rgba(128, 0, 128, 1.0)\"}, \"name\": \"D\", \"orientation\": \"v\", \"type\": \"box\", \"y\": [0.4014918667753453, -1.0527835785103015, 0.6783187881078234, 0.7649936889727516, -1.1274163808466917, 0.23231053135724067, -0.6234847256031335, 0.5177435401456703, -1.3497744575101418, -0.9445947799978384, 0.9993230603164184, -0.32813659124069827, -2.4873454326976416, 0.23373081431391704, -1.2698236657889295, -1.0819958194740864, 0.48944497238523554, -0.0870913581820666, 0.4520894854769399, 0.3685869778498855, -0.018623861888844594, -0.7361625385230917, -0.9379072634960933, -0.43271162020157156, 0.5717431862977355, -1.0863445421513354, 0.6895465419898549, -0.02104765288212073, 0.21044849744988786, -0.21060376326527153, -0.1751901167494546, 2.4267729695171383, 1.1144251258610327, 0.6088822364466963, 1.0742530678495064, -1.673162766707186, 0.8141293794284068, -0.671250126501007, -0.1119807844623894, 0.6827059956836821, -2.0086429350470563, -0.3182967446586569, 0.7566624514615232, -0.25674945298533824, 0.5397642656518596, -2.1227957924654897, 1.5314276962262283, 1.4919611694698254, 1.269574054782094, -1.0916311869393023, -0.3437996306930975, 1.4347510492864688, 1.2762427379159493, 0.21416609162142103, -0.197175852514856, 0.3223939268519974, 0.4770435887408125, -1.2437863927715238, 0.026588683601995435, 0.32869167896277063, 1.5214987121045702, 0.821282750843137, 0.4796940104196587, -0.8907667152685849, 0.537578488866459, 0.4846947974682395, -0.8342563397109818, 0.9012246659006108, -0.031084575491218874, -0.4390259765356436, 2.6497943870848877, 0.15636182258080236, -0.04297633147906922, 0.09414708464977088, -1.2680837159614444, -0.331002953982354, 0.6895397124327335, -0.8093776634653645, -2.0170703969219725, 0.33936665036701874, 0.6943810852290068, 0.624720221317302, 0.5049175711349475, -0.11540280204630413, 0.27341016033136567, 0.8854226746417551, -0.3493524737887093, 0.00017440721187257863, 0.4571801241143655, -1.0474263154899806, -0.06046386609324998, -0.6420828131993251, -0.6128988878340906, 0.8707626928414187, 0.779901154494852, -0.762949383763312, -0.3161555736028018, 0.9312707513336201, 0.2176505285610799, -0.2166411172749589]}],\n",
       "                        {\"legend\": {\"bgcolor\": \"#F5F6F9\", \"font\": {\"color\": \"#4D5663\"}}, \"paper_bgcolor\": \"#F5F6F9\", \"plot_bgcolor\": \"#F5F6F9\", \"template\": {\"data\": {\"bar\": [{\"error_x\": {\"color\": \"#2a3f5f\"}, \"error_y\": {\"color\": \"#2a3f5f\"}, \"marker\": {\"line\": {\"color\": \"#E5ECF6\", \"width\": 0.5}}, \"type\": \"bar\"}], \"barpolar\": [{\"marker\": {\"line\": {\"color\": \"#E5ECF6\", \"width\": 0.5}}, \"type\": \"barpolar\"}], \"carpet\": [{\"aaxis\": {\"endlinecolor\": \"#2a3f5f\", \"gridcolor\": \"white\", \"linecolor\": \"white\", \"minorgridcolor\": \"white\", \"startlinecolor\": \"#2a3f5f\"}, \"baxis\": {\"endlinecolor\": \"#2a3f5f\", \"gridcolor\": \"white\", \"linecolor\": \"white\", \"minorgridcolor\": \"white\", \"startlinecolor\": \"#2a3f5f\"}, \"type\": \"carpet\"}], \"choropleth\": [{\"colorbar\": {\"outlinewidth\": 0, \"ticks\": \"\"}, \"type\": \"choropleth\"}], \"contour\": [{\"colorbar\": {\"outlinewidth\": 0, \"ticks\": \"\"}, \"colorscale\": [[0.0, \"#0d0887\"], [0.1111111111111111, \"#46039f\"], [0.2222222222222222, \"#7201a8\"], [0.3333333333333333, \"#9c179e\"], [0.4444444444444444, \"#bd3786\"], [0.5555555555555556, \"#d8576b\"], [0.6666666666666666, \"#ed7953\"], [0.7777777777777778, \"#fb9f3a\"], [0.8888888888888888, \"#fdca26\"], [1.0, \"#f0f921\"]], \"type\": \"contour\"}], \"contourcarpet\": [{\"colorbar\": {\"outlinewidth\": 0, \"ticks\": \"\"}, \"type\": \"contourcarpet\"}], \"heatmap\": [{\"colorbar\": {\"outlinewidth\": 0, \"ticks\": \"\"}, \"colorscale\": [[0.0, \"#0d0887\"], [0.1111111111111111, \"#46039f\"], [0.2222222222222222, \"#7201a8\"], [0.3333333333333333, \"#9c179e\"], [0.4444444444444444, \"#bd3786\"], [0.5555555555555556, \"#d8576b\"], [0.6666666666666666, \"#ed7953\"], [0.7777777777777778, \"#fb9f3a\"], [0.8888888888888888, \"#fdca26\"], [1.0, \"#f0f921\"]], \"type\": \"heatmap\"}], \"heatmapgl\": [{\"colorbar\": {\"outlinewidth\": 0, \"ticks\": \"\"}, \"colorscale\": [[0.0, \"#0d0887\"], [0.1111111111111111, \"#46039f\"], [0.2222222222222222, \"#7201a8\"], [0.3333333333333333, \"#9c179e\"], [0.4444444444444444, \"#bd3786\"], [0.5555555555555556, \"#d8576b\"], [0.6666666666666666, \"#ed7953\"], [0.7777777777777778, \"#fb9f3a\"], [0.8888888888888888, \"#fdca26\"], [1.0, \"#f0f921\"]], \"type\": \"heatmapgl\"}], \"histogram\": [{\"marker\": {\"colorbar\": {\"outlinewidth\": 0, \"ticks\": \"\"}}, \"type\": \"histogram\"}], \"histogram2d\": [{\"colorbar\": {\"outlinewidth\": 0, \"ticks\": \"\"}, \"colorscale\": [[0.0, \"#0d0887\"], [0.1111111111111111, \"#46039f\"], [0.2222222222222222, \"#7201a8\"], [0.3333333333333333, \"#9c179e\"], [0.4444444444444444, \"#bd3786\"], [0.5555555555555556, \"#d8576b\"], [0.6666666666666666, \"#ed7953\"], [0.7777777777777778, \"#fb9f3a\"], [0.8888888888888888, \"#fdca26\"], [1.0, \"#f0f921\"]], \"type\": \"histogram2d\"}], \"histogram2dcontour\": [{\"colorbar\": {\"outlinewidth\": 0, \"ticks\": \"\"}, \"colorscale\": [[0.0, \"#0d0887\"], [0.1111111111111111, \"#46039f\"], [0.2222222222222222, \"#7201a8\"], [0.3333333333333333, \"#9c179e\"], [0.4444444444444444, \"#bd3786\"], [0.5555555555555556, \"#d8576b\"], [0.6666666666666666, \"#ed7953\"], [0.7777777777777778, \"#fb9f3a\"], [0.8888888888888888, \"#fdca26\"], [1.0, \"#f0f921\"]], \"type\": \"histogram2dcontour\"}], \"mesh3d\": [{\"colorbar\": {\"outlinewidth\": 0, \"ticks\": \"\"}, \"type\": \"mesh3d\"}], \"parcoords\": [{\"line\": {\"colorbar\": {\"outlinewidth\": 0, \"ticks\": \"\"}}, \"type\": \"parcoords\"}], \"pie\": [{\"automargin\": true, \"type\": \"pie\"}], \"scatter\": [{\"marker\": {\"colorbar\": {\"outlinewidth\": 0, \"ticks\": \"\"}}, \"type\": \"scatter\"}], \"scatter3d\": [{\"line\": {\"colorbar\": {\"outlinewidth\": 0, \"ticks\": \"\"}}, \"marker\": {\"colorbar\": {\"outlinewidth\": 0, \"ticks\": \"\"}}, \"type\": \"scatter3d\"}], \"scattercarpet\": [{\"marker\": {\"colorbar\": {\"outlinewidth\": 0, \"ticks\": \"\"}}, \"type\": \"scattercarpet\"}], \"scattergeo\": [{\"marker\": {\"colorbar\": {\"outlinewidth\": 0, \"ticks\": \"\"}}, \"type\": \"scattergeo\"}], \"scattergl\": [{\"marker\": {\"colorbar\": {\"outlinewidth\": 0, \"ticks\": \"\"}}, \"type\": \"scattergl\"}], \"scattermapbox\": [{\"marker\": {\"colorbar\": {\"outlinewidth\": 0, \"ticks\": \"\"}}, \"type\": \"scattermapbox\"}], \"scatterpolar\": [{\"marker\": {\"colorbar\": {\"outlinewidth\": 0, \"ticks\": \"\"}}, \"type\": \"scatterpolar\"}], \"scatterpolargl\": [{\"marker\": {\"colorbar\": {\"outlinewidth\": 0, \"ticks\": \"\"}}, \"type\": \"scatterpolargl\"}], \"scatterternary\": [{\"marker\": {\"colorbar\": {\"outlinewidth\": 0, \"ticks\": \"\"}}, \"type\": \"scatterternary\"}], \"surface\": [{\"colorbar\": {\"outlinewidth\": 0, \"ticks\": \"\"}, \"colorscale\": [[0.0, \"#0d0887\"], [0.1111111111111111, \"#46039f\"], [0.2222222222222222, \"#7201a8\"], [0.3333333333333333, \"#9c179e\"], [0.4444444444444444, \"#bd3786\"], [0.5555555555555556, \"#d8576b\"], [0.6666666666666666, \"#ed7953\"], [0.7777777777777778, \"#fb9f3a\"], [0.8888888888888888, \"#fdca26\"], [1.0, \"#f0f921\"]], \"type\": \"surface\"}], \"table\": [{\"cells\": {\"fill\": {\"color\": \"#EBF0F8\"}, \"line\": {\"color\": \"white\"}}, \"header\": {\"fill\": {\"color\": \"#C8D4E3\"}, \"line\": {\"color\": \"white\"}}, \"type\": \"table\"}]}, \"layout\": {\"annotationdefaults\": {\"arrowcolor\": \"#2a3f5f\", \"arrowhead\": 0, \"arrowwidth\": 1}, \"coloraxis\": {\"colorbar\": {\"outlinewidth\": 0, \"ticks\": \"\"}}, \"colorscale\": {\"diverging\": [[0, \"#8e0152\"], [0.1, \"#c51b7d\"], [0.2, \"#de77ae\"], [0.3, \"#f1b6da\"], [0.4, \"#fde0ef\"], [0.5, \"#f7f7f7\"], [0.6, \"#e6f5d0\"], [0.7, \"#b8e186\"], [0.8, \"#7fbc41\"], [0.9, \"#4d9221\"], [1, \"#276419\"]], \"sequential\": [[0.0, \"#0d0887\"], [0.1111111111111111, \"#46039f\"], [0.2222222222222222, \"#7201a8\"], [0.3333333333333333, \"#9c179e\"], [0.4444444444444444, \"#bd3786\"], [0.5555555555555556, \"#d8576b\"], [0.6666666666666666, \"#ed7953\"], [0.7777777777777778, \"#fb9f3a\"], [0.8888888888888888, \"#fdca26\"], [1.0, \"#f0f921\"]], \"sequentialminus\": [[0.0, \"#0d0887\"], [0.1111111111111111, \"#46039f\"], [0.2222222222222222, \"#7201a8\"], [0.3333333333333333, \"#9c179e\"], [0.4444444444444444, \"#bd3786\"], [0.5555555555555556, \"#d8576b\"], [0.6666666666666666, \"#ed7953\"], [0.7777777777777778, \"#fb9f3a\"], [0.8888888888888888, \"#fdca26\"], [1.0, \"#f0f921\"]]}, \"colorway\": [\"#636efa\", \"#EF553B\", \"#00cc96\", \"#ab63fa\", \"#FFA15A\", \"#19d3f3\", \"#FF6692\", \"#B6E880\", \"#FF97FF\", \"#FECB52\"], \"font\": {\"color\": \"#2a3f5f\"}, \"geo\": {\"bgcolor\": \"white\", \"lakecolor\": \"white\", \"landcolor\": \"#E5ECF6\", \"showlakes\": true, \"showland\": true, \"subunitcolor\": \"white\"}, \"hoverlabel\": {\"align\": \"left\"}, \"hovermode\": \"closest\", \"mapbox\": {\"style\": \"light\"}, \"paper_bgcolor\": \"white\", \"plot_bgcolor\": \"#E5ECF6\", \"polar\": {\"angularaxis\": {\"gridcolor\": \"white\", \"linecolor\": \"white\", \"ticks\": \"\"}, \"bgcolor\": \"#E5ECF6\", \"radialaxis\": {\"gridcolor\": \"white\", \"linecolor\": \"white\", \"ticks\": \"\"}}, \"scene\": {\"xaxis\": {\"backgroundcolor\": \"#E5ECF6\", \"gridcolor\": \"white\", \"gridwidth\": 2, \"linecolor\": \"white\", \"showbackground\": true, \"ticks\": \"\", \"zerolinecolor\": \"white\"}, \"yaxis\": {\"backgroundcolor\": \"#E5ECF6\", \"gridcolor\": \"white\", \"gridwidth\": 2, \"linecolor\": \"white\", \"showbackground\": true, \"ticks\": \"\", \"zerolinecolor\": \"white\"}, \"zaxis\": {\"backgroundcolor\": \"#E5ECF6\", \"gridcolor\": \"white\", \"gridwidth\": 2, \"linecolor\": \"white\", \"showbackground\": true, \"ticks\": \"\", \"zerolinecolor\": \"white\"}}, \"shapedefaults\": {\"line\": {\"color\": \"#2a3f5f\"}}, \"ternary\": {\"aaxis\": {\"gridcolor\": \"white\", \"linecolor\": \"white\", \"ticks\": \"\"}, \"baxis\": {\"gridcolor\": \"white\", \"linecolor\": \"white\", \"ticks\": \"\"}, \"bgcolor\": \"#E5ECF6\", \"caxis\": {\"gridcolor\": \"white\", \"linecolor\": \"white\", \"ticks\": \"\"}}, \"title\": {\"x\": 0.05}, \"xaxis\": {\"automargin\": true, \"gridcolor\": \"white\", \"linecolor\": \"white\", \"ticks\": \"\", \"title\": {\"standoff\": 15}, \"zerolinecolor\": \"white\", \"zerolinewidth\": 2}, \"yaxis\": {\"automargin\": true, \"gridcolor\": \"white\", \"linecolor\": \"white\", \"ticks\": \"\", \"title\": {\"standoff\": 15}, \"zerolinecolor\": \"white\", \"zerolinewidth\": 2}}}, \"title\": {\"font\": {\"color\": \"#4D5663\"}}, \"xaxis\": {\"gridcolor\": \"#E1E5ED\", \"showgrid\": true, \"tickfont\": {\"color\": \"#4D5663\"}, \"title\": {\"font\": {\"color\": \"#4D5663\"}, \"text\": \"\"}, \"zerolinecolor\": \"#E1E5ED\"}, \"yaxis\": {\"gridcolor\": \"#E1E5ED\", \"showgrid\": true, \"tickfont\": {\"color\": \"#4D5663\"}, \"title\": {\"font\": {\"color\": \"#4D5663\"}, \"text\": \"\"}, \"zerolinecolor\": \"#E1E5ED\"}},\n",
       "                        {\"showLink\": true, \"linkText\": \"Export to plot.ly\", \"plotlyServerURL\": \"https://plot.ly\", \"responsive\": true}\n",
       "                    ).then(function(){\n",
       "                            \n",
       "var gd = document.getElementById('a16de283-ff89-4439-90ba-db7f1f4dbf6e');\n",
       "var x = new MutationObserver(function (mutations, observer) {{\n",
       "        var display = window.getComputedStyle(gd).display;\n",
       "        if (!display || display === 'none') {{\n",
       "            console.log([gd, 'removed!']);\n",
       "            Plotly.purge(gd);\n",
       "            observer.disconnect();\n",
       "        }}\n",
       "}});\n",
       "\n",
       "// Listen for the removal of the full notebook cells\n",
       "var notebookContainer = gd.closest('#notebook-container');\n",
       "if (notebookContainer) {{\n",
       "    x.observe(notebookContainer, {childList: true});\n",
       "}}\n",
       "\n",
       "// Listen for the clearing of the current output cell\n",
       "var outputEl = gd.closest('.output');\n",
       "if (outputEl) {{\n",
       "    x.observe(outputEl, {childList: true});\n",
       "}}\n",
       "\n",
       "                        })\n",
       "                };\n",
       "                });\n",
       "            </script>\n",
       "        </div>"
      ]
     },
     "metadata": {},
     "output_type": "display_data"
    }
   ],
   "source": [
    "# box plots\n",
    "df.iplot(kind='box')"
   ]
  },
  {
   "cell_type": "code",
   "execution_count": 31,
   "metadata": {},
   "outputs": [
    {
     "data": {
      "text/html": [
       "<div>\n",
       "<style scoped>\n",
       "    .dataframe tbody tr th:only-of-type {\n",
       "        vertical-align: middle;\n",
       "    }\n",
       "\n",
       "    .dataframe tbody tr th {\n",
       "        vertical-align: top;\n",
       "    }\n",
       "\n",
       "    .dataframe thead th {\n",
       "        text-align: right;\n",
       "    }\n",
       "</style>\n",
       "<table border=\"1\" class=\"dataframe\">\n",
       "  <thead>\n",
       "    <tr style=\"text-align: right;\">\n",
       "      <th></th>\n",
       "      <th>x</th>\n",
       "      <th>y</th>\n",
       "      <th>z</th>\n",
       "    </tr>\n",
       "  </thead>\n",
       "  <tbody>\n",
       "    <tr>\n",
       "      <th>0</th>\n",
       "      <td>1</td>\n",
       "      <td>10</td>\n",
       "      <td>500</td>\n",
       "    </tr>\n",
       "    <tr>\n",
       "      <th>1</th>\n",
       "      <td>2</td>\n",
       "      <td>20</td>\n",
       "      <td>400</td>\n",
       "    </tr>\n",
       "    <tr>\n",
       "      <th>2</th>\n",
       "      <td>3</td>\n",
       "      <td>30</td>\n",
       "      <td>300</td>\n",
       "    </tr>\n",
       "    <tr>\n",
       "      <th>3</th>\n",
       "      <td>4</td>\n",
       "      <td>20</td>\n",
       "      <td>200</td>\n",
       "    </tr>\n",
       "    <tr>\n",
       "      <th>4</th>\n",
       "      <td>5</td>\n",
       "      <td>10</td>\n",
       "      <td>100</td>\n",
       "    </tr>\n",
       "  </tbody>\n",
       "</table>\n",
       "</div>"
      ],
      "text/plain": [
       "   x   y    z\n",
       "0  1  10  500\n",
       "1  2  20  400\n",
       "2  3  30  300\n",
       "3  4  20  200\n",
       "4  5  10  100"
      ]
     },
     "execution_count": 31,
     "metadata": {},
     "output_type": "execute_result"
    }
   ],
   "source": [
    "# data for 3d surface plot\n",
    "df3 = pd.DataFrame({'x':[1,2,3,4,5],'y':[10,20,30,20,10],'z':[500,400,300,200,100]})\n",
    "df3"
   ]
  },
  {
   "cell_type": "code",
   "execution_count": 32,
   "metadata": {},
   "outputs": [
    {
     "data": {
      "application/vnd.plotly.v1+json": {
       "config": {
        "linkText": "Export to plot.ly",
        "plotlyServerURL": "https://plot.ly",
        "showLink": true
       },
       "data": [
        {
         "colorscale": [
          [
           0,
           "rgb(255, 153, 51)"
          ],
          [
           0.1111111111111111,
           "rgb(55, 128, 191)"
          ],
          [
           0.2222222222222222,
           "rgb(50, 171, 96)"
          ],
          [
           0.3333333333333333,
           "rgb(128, 0, 128)"
          ],
          [
           0.4444444444444444,
           "rgb(219, 64, 82)"
          ],
          [
           0.5555555555555556,
           "rgb(0, 128, 128)"
          ],
          [
           0.6666666666666666,
           "rgb(255, 255, 51)"
          ],
          [
           0.7777777777777778,
           "rgb(128, 128, 0)"
          ],
          [
           0.8888888888888888,
           "rgb(251, 128, 114)"
          ],
          [
           1,
           "rgb(128, 177, 211)"
          ]
         ],
         "type": "surface",
         "x": [
          0,
          1,
          2,
          3,
          4
         ],
         "y": [
          "x",
          "y",
          "z"
         ],
         "z": [
          [
           1,
           2,
           3,
           4,
           5
          ],
          [
           10,
           20,
           30,
           20,
           10
          ],
          [
           500,
           400,
           300,
           200,
           100
          ]
         ]
        }
       ],
       "layout": {
        "legend": {
         "bgcolor": "#F5F6F9",
         "font": {
          "color": "#4D5663"
         }
        },
        "paper_bgcolor": "#F5F6F9",
        "plot_bgcolor": "#F5F6F9",
        "template": {
         "data": {
          "bar": [
           {
            "error_x": {
             "color": "#2a3f5f"
            },
            "error_y": {
             "color": "#2a3f5f"
            },
            "marker": {
             "line": {
              "color": "#E5ECF6",
              "width": 0.5
             }
            },
            "type": "bar"
           }
          ],
          "barpolar": [
           {
            "marker": {
             "line": {
              "color": "#E5ECF6",
              "width": 0.5
             }
            },
            "type": "barpolar"
           }
          ],
          "carpet": [
           {
            "aaxis": {
             "endlinecolor": "#2a3f5f",
             "gridcolor": "white",
             "linecolor": "white",
             "minorgridcolor": "white",
             "startlinecolor": "#2a3f5f"
            },
            "baxis": {
             "endlinecolor": "#2a3f5f",
             "gridcolor": "white",
             "linecolor": "white",
             "minorgridcolor": "white",
             "startlinecolor": "#2a3f5f"
            },
            "type": "carpet"
           }
          ],
          "choropleth": [
           {
            "colorbar": {
             "outlinewidth": 0,
             "ticks": ""
            },
            "type": "choropleth"
           }
          ],
          "contour": [
           {
            "colorbar": {
             "outlinewidth": 0,
             "ticks": ""
            },
            "colorscale": [
             [
              0,
              "#0d0887"
             ],
             [
              0.1111111111111111,
              "#46039f"
             ],
             [
              0.2222222222222222,
              "#7201a8"
             ],
             [
              0.3333333333333333,
              "#9c179e"
             ],
             [
              0.4444444444444444,
              "#bd3786"
             ],
             [
              0.5555555555555556,
              "#d8576b"
             ],
             [
              0.6666666666666666,
              "#ed7953"
             ],
             [
              0.7777777777777778,
              "#fb9f3a"
             ],
             [
              0.8888888888888888,
              "#fdca26"
             ],
             [
              1,
              "#f0f921"
             ]
            ],
            "type": "contour"
           }
          ],
          "contourcarpet": [
           {
            "colorbar": {
             "outlinewidth": 0,
             "ticks": ""
            },
            "type": "contourcarpet"
           }
          ],
          "heatmap": [
           {
            "colorbar": {
             "outlinewidth": 0,
             "ticks": ""
            },
            "colorscale": [
             [
              0,
              "#0d0887"
             ],
             [
              0.1111111111111111,
              "#46039f"
             ],
             [
              0.2222222222222222,
              "#7201a8"
             ],
             [
              0.3333333333333333,
              "#9c179e"
             ],
             [
              0.4444444444444444,
              "#bd3786"
             ],
             [
              0.5555555555555556,
              "#d8576b"
             ],
             [
              0.6666666666666666,
              "#ed7953"
             ],
             [
              0.7777777777777778,
              "#fb9f3a"
             ],
             [
              0.8888888888888888,
              "#fdca26"
             ],
             [
              1,
              "#f0f921"
             ]
            ],
            "type": "heatmap"
           }
          ],
          "heatmapgl": [
           {
            "colorbar": {
             "outlinewidth": 0,
             "ticks": ""
            },
            "colorscale": [
             [
              0,
              "#0d0887"
             ],
             [
              0.1111111111111111,
              "#46039f"
             ],
             [
              0.2222222222222222,
              "#7201a8"
             ],
             [
              0.3333333333333333,
              "#9c179e"
             ],
             [
              0.4444444444444444,
              "#bd3786"
             ],
             [
              0.5555555555555556,
              "#d8576b"
             ],
             [
              0.6666666666666666,
              "#ed7953"
             ],
             [
              0.7777777777777778,
              "#fb9f3a"
             ],
             [
              0.8888888888888888,
              "#fdca26"
             ],
             [
              1,
              "#f0f921"
             ]
            ],
            "type": "heatmapgl"
           }
          ],
          "histogram": [
           {
            "marker": {
             "colorbar": {
              "outlinewidth": 0,
              "ticks": ""
             }
            },
            "type": "histogram"
           }
          ],
          "histogram2d": [
           {
            "colorbar": {
             "outlinewidth": 0,
             "ticks": ""
            },
            "colorscale": [
             [
              0,
              "#0d0887"
             ],
             [
              0.1111111111111111,
              "#46039f"
             ],
             [
              0.2222222222222222,
              "#7201a8"
             ],
             [
              0.3333333333333333,
              "#9c179e"
             ],
             [
              0.4444444444444444,
              "#bd3786"
             ],
             [
              0.5555555555555556,
              "#d8576b"
             ],
             [
              0.6666666666666666,
              "#ed7953"
             ],
             [
              0.7777777777777778,
              "#fb9f3a"
             ],
             [
              0.8888888888888888,
              "#fdca26"
             ],
             [
              1,
              "#f0f921"
             ]
            ],
            "type": "histogram2d"
           }
          ],
          "histogram2dcontour": [
           {
            "colorbar": {
             "outlinewidth": 0,
             "ticks": ""
            },
            "colorscale": [
             [
              0,
              "#0d0887"
             ],
             [
              0.1111111111111111,
              "#46039f"
             ],
             [
              0.2222222222222222,
              "#7201a8"
             ],
             [
              0.3333333333333333,
              "#9c179e"
             ],
             [
              0.4444444444444444,
              "#bd3786"
             ],
             [
              0.5555555555555556,
              "#d8576b"
             ],
             [
              0.6666666666666666,
              "#ed7953"
             ],
             [
              0.7777777777777778,
              "#fb9f3a"
             ],
             [
              0.8888888888888888,
              "#fdca26"
             ],
             [
              1,
              "#f0f921"
             ]
            ],
            "type": "histogram2dcontour"
           }
          ],
          "mesh3d": [
           {
            "colorbar": {
             "outlinewidth": 0,
             "ticks": ""
            },
            "type": "mesh3d"
           }
          ],
          "parcoords": [
           {
            "line": {
             "colorbar": {
              "outlinewidth": 0,
              "ticks": ""
             }
            },
            "type": "parcoords"
           }
          ],
          "pie": [
           {
            "automargin": true,
            "type": "pie"
           }
          ],
          "scatter": [
           {
            "marker": {
             "colorbar": {
              "outlinewidth": 0,
              "ticks": ""
             }
            },
            "type": "scatter"
           }
          ],
          "scatter3d": [
           {
            "line": {
             "colorbar": {
              "outlinewidth": 0,
              "ticks": ""
             }
            },
            "marker": {
             "colorbar": {
              "outlinewidth": 0,
              "ticks": ""
             }
            },
            "type": "scatter3d"
           }
          ],
          "scattercarpet": [
           {
            "marker": {
             "colorbar": {
              "outlinewidth": 0,
              "ticks": ""
             }
            },
            "type": "scattercarpet"
           }
          ],
          "scattergeo": [
           {
            "marker": {
             "colorbar": {
              "outlinewidth": 0,
              "ticks": ""
             }
            },
            "type": "scattergeo"
           }
          ],
          "scattergl": [
           {
            "marker": {
             "colorbar": {
              "outlinewidth": 0,
              "ticks": ""
             }
            },
            "type": "scattergl"
           }
          ],
          "scattermapbox": [
           {
            "marker": {
             "colorbar": {
              "outlinewidth": 0,
              "ticks": ""
             }
            },
            "type": "scattermapbox"
           }
          ],
          "scatterpolar": [
           {
            "marker": {
             "colorbar": {
              "outlinewidth": 0,
              "ticks": ""
             }
            },
            "type": "scatterpolar"
           }
          ],
          "scatterpolargl": [
           {
            "marker": {
             "colorbar": {
              "outlinewidth": 0,
              "ticks": ""
             }
            },
            "type": "scatterpolargl"
           }
          ],
          "scatterternary": [
           {
            "marker": {
             "colorbar": {
              "outlinewidth": 0,
              "ticks": ""
             }
            },
            "type": "scatterternary"
           }
          ],
          "surface": [
           {
            "colorbar": {
             "outlinewidth": 0,
             "ticks": ""
            },
            "colorscale": [
             [
              0,
              "#0d0887"
             ],
             [
              0.1111111111111111,
              "#46039f"
             ],
             [
              0.2222222222222222,
              "#7201a8"
             ],
             [
              0.3333333333333333,
              "#9c179e"
             ],
             [
              0.4444444444444444,
              "#bd3786"
             ],
             [
              0.5555555555555556,
              "#d8576b"
             ],
             [
              0.6666666666666666,
              "#ed7953"
             ],
             [
              0.7777777777777778,
              "#fb9f3a"
             ],
             [
              0.8888888888888888,
              "#fdca26"
             ],
             [
              1,
              "#f0f921"
             ]
            ],
            "type": "surface"
           }
          ],
          "table": [
           {
            "cells": {
             "fill": {
              "color": "#EBF0F8"
             },
             "line": {
              "color": "white"
             }
            },
            "header": {
             "fill": {
              "color": "#C8D4E3"
             },
             "line": {
              "color": "white"
             }
            },
            "type": "table"
           }
          ]
         },
         "layout": {
          "annotationdefaults": {
           "arrowcolor": "#2a3f5f",
           "arrowhead": 0,
           "arrowwidth": 1
          },
          "coloraxis": {
           "colorbar": {
            "outlinewidth": 0,
            "ticks": ""
           }
          },
          "colorscale": {
           "diverging": [
            [
             0,
             "#8e0152"
            ],
            [
             0.1,
             "#c51b7d"
            ],
            [
             0.2,
             "#de77ae"
            ],
            [
             0.3,
             "#f1b6da"
            ],
            [
             0.4,
             "#fde0ef"
            ],
            [
             0.5,
             "#f7f7f7"
            ],
            [
             0.6,
             "#e6f5d0"
            ],
            [
             0.7,
             "#b8e186"
            ],
            [
             0.8,
             "#7fbc41"
            ],
            [
             0.9,
             "#4d9221"
            ],
            [
             1,
             "#276419"
            ]
           ],
           "sequential": [
            [
             0,
             "#0d0887"
            ],
            [
             0.1111111111111111,
             "#46039f"
            ],
            [
             0.2222222222222222,
             "#7201a8"
            ],
            [
             0.3333333333333333,
             "#9c179e"
            ],
            [
             0.4444444444444444,
             "#bd3786"
            ],
            [
             0.5555555555555556,
             "#d8576b"
            ],
            [
             0.6666666666666666,
             "#ed7953"
            ],
            [
             0.7777777777777778,
             "#fb9f3a"
            ],
            [
             0.8888888888888888,
             "#fdca26"
            ],
            [
             1,
             "#f0f921"
            ]
           ],
           "sequentialminus": [
            [
             0,
             "#0d0887"
            ],
            [
             0.1111111111111111,
             "#46039f"
            ],
            [
             0.2222222222222222,
             "#7201a8"
            ],
            [
             0.3333333333333333,
             "#9c179e"
            ],
            [
             0.4444444444444444,
             "#bd3786"
            ],
            [
             0.5555555555555556,
             "#d8576b"
            ],
            [
             0.6666666666666666,
             "#ed7953"
            ],
            [
             0.7777777777777778,
             "#fb9f3a"
            ],
            [
             0.8888888888888888,
             "#fdca26"
            ],
            [
             1,
             "#f0f921"
            ]
           ]
          },
          "colorway": [
           "#636efa",
           "#EF553B",
           "#00cc96",
           "#ab63fa",
           "#FFA15A",
           "#19d3f3",
           "#FF6692",
           "#B6E880",
           "#FF97FF",
           "#FECB52"
          ],
          "font": {
           "color": "#2a3f5f"
          },
          "geo": {
           "bgcolor": "white",
           "lakecolor": "white",
           "landcolor": "#E5ECF6",
           "showlakes": true,
           "showland": true,
           "subunitcolor": "white"
          },
          "hoverlabel": {
           "align": "left"
          },
          "hovermode": "closest",
          "mapbox": {
           "style": "light"
          },
          "paper_bgcolor": "white",
          "plot_bgcolor": "#E5ECF6",
          "polar": {
           "angularaxis": {
            "gridcolor": "white",
            "linecolor": "white",
            "ticks": ""
           },
           "bgcolor": "#E5ECF6",
           "radialaxis": {
            "gridcolor": "white",
            "linecolor": "white",
            "ticks": ""
           }
          },
          "scene": {
           "xaxis": {
            "backgroundcolor": "#E5ECF6",
            "gridcolor": "white",
            "gridwidth": 2,
            "linecolor": "white",
            "showbackground": true,
            "ticks": "",
            "zerolinecolor": "white"
           },
           "yaxis": {
            "backgroundcolor": "#E5ECF6",
            "gridcolor": "white",
            "gridwidth": 2,
            "linecolor": "white",
            "showbackground": true,
            "ticks": "",
            "zerolinecolor": "white"
           },
           "zaxis": {
            "backgroundcolor": "#E5ECF6",
            "gridcolor": "white",
            "gridwidth": 2,
            "linecolor": "white",
            "showbackground": true,
            "ticks": "",
            "zerolinecolor": "white"
           }
          },
          "shapedefaults": {
           "line": {
            "color": "#2a3f5f"
           }
          },
          "ternary": {
           "aaxis": {
            "gridcolor": "white",
            "linecolor": "white",
            "ticks": ""
           },
           "baxis": {
            "gridcolor": "white",
            "linecolor": "white",
            "ticks": ""
           },
           "bgcolor": "#E5ECF6",
           "caxis": {
            "gridcolor": "white",
            "linecolor": "white",
            "ticks": ""
           }
          },
          "title": {
           "x": 0.05
          },
          "xaxis": {
           "automargin": true,
           "gridcolor": "white",
           "linecolor": "white",
           "ticks": "",
           "title": {
            "standoff": 15
           },
           "zerolinecolor": "white",
           "zerolinewidth": 2
          },
          "yaxis": {
           "automargin": true,
           "gridcolor": "white",
           "linecolor": "white",
           "ticks": "",
           "title": {
            "standoff": 15
           },
           "zerolinecolor": "white",
           "zerolinewidth": 2
          }
         }
        },
        "title": {
         "font": {
          "color": "#4D5663"
         }
        },
        "xaxis": {
         "gridcolor": "#E1E5ED",
         "showgrid": true,
         "tickfont": {
          "color": "#4D5663"
         },
         "title": {
          "font": {
           "color": "#4D5663"
          },
          "text": ""
         },
         "zerolinecolor": "#E1E5ED"
        },
        "yaxis": {
         "gridcolor": "#E1E5ED",
         "showgrid": true,
         "tickfont": {
          "color": "#4D5663"
         },
         "title": {
          "font": {
           "color": "#4D5663"
          },
          "text": ""
         },
         "zerolinecolor": "#E1E5ED"
        }
       }
      },
      "text/html": [
       "<div>\n",
       "        \n",
       "        \n",
       "            <div id=\"ab7b4725-c579-4748-8e01-edf44827957d\" class=\"plotly-graph-div\" style=\"height:525px; width:100%;\"></div>\n",
       "            <script type=\"text/javascript\">\n",
       "                require([\"plotly\"], function(Plotly) {\n",
       "                    window.PLOTLYENV=window.PLOTLYENV || {};\n",
       "                    window.PLOTLYENV.BASE_URL='https://plot.ly';\n",
       "                    \n",
       "                if (document.getElementById(\"ab7b4725-c579-4748-8e01-edf44827957d\")) {\n",
       "                    Plotly.newPlot(\n",
       "                        'ab7b4725-c579-4748-8e01-edf44827957d',\n",
       "                        [{\"colorscale\": [[0.0, \"rgb(255, 153, 51)\"], [0.1111111111111111, \"rgb(55, 128, 191)\"], [0.2222222222222222, \"rgb(50, 171, 96)\"], [0.3333333333333333, \"rgb(128, 0, 128)\"], [0.4444444444444444, \"rgb(219, 64, 82)\"], [0.5555555555555556, \"rgb(0, 128, 128)\"], [0.6666666666666666, \"rgb(255, 255, 51)\"], [0.7777777777777778, \"rgb(128, 128, 0)\"], [0.8888888888888888, \"rgb(251, 128, 114)\"], [1.0, \"rgb(128, 177, 211)\"]], \"type\": \"surface\", \"x\": [0, 1, 2, 3, 4], \"y\": [\"x\", \"y\", \"z\"], \"z\": [[1, 2, 3, 4, 5], [10, 20, 30, 20, 10], [500, 400, 300, 200, 100]]}],\n",
       "                        {\"legend\": {\"bgcolor\": \"#F5F6F9\", \"font\": {\"color\": \"#4D5663\"}}, \"paper_bgcolor\": \"#F5F6F9\", \"plot_bgcolor\": \"#F5F6F9\", \"template\": {\"data\": {\"bar\": [{\"error_x\": {\"color\": \"#2a3f5f\"}, \"error_y\": {\"color\": \"#2a3f5f\"}, \"marker\": {\"line\": {\"color\": \"#E5ECF6\", \"width\": 0.5}}, \"type\": \"bar\"}], \"barpolar\": [{\"marker\": {\"line\": {\"color\": \"#E5ECF6\", \"width\": 0.5}}, \"type\": \"barpolar\"}], \"carpet\": [{\"aaxis\": {\"endlinecolor\": \"#2a3f5f\", \"gridcolor\": \"white\", \"linecolor\": \"white\", \"minorgridcolor\": \"white\", \"startlinecolor\": \"#2a3f5f\"}, \"baxis\": {\"endlinecolor\": \"#2a3f5f\", \"gridcolor\": \"white\", \"linecolor\": \"white\", \"minorgridcolor\": \"white\", \"startlinecolor\": \"#2a3f5f\"}, \"type\": \"carpet\"}], \"choropleth\": [{\"colorbar\": {\"outlinewidth\": 0, \"ticks\": \"\"}, \"type\": \"choropleth\"}], \"contour\": [{\"colorbar\": {\"outlinewidth\": 0, \"ticks\": \"\"}, \"colorscale\": [[0.0, \"#0d0887\"], [0.1111111111111111, \"#46039f\"], [0.2222222222222222, \"#7201a8\"], [0.3333333333333333, \"#9c179e\"], [0.4444444444444444, \"#bd3786\"], [0.5555555555555556, \"#d8576b\"], [0.6666666666666666, \"#ed7953\"], [0.7777777777777778, \"#fb9f3a\"], [0.8888888888888888, \"#fdca26\"], [1.0, \"#f0f921\"]], \"type\": \"contour\"}], \"contourcarpet\": [{\"colorbar\": {\"outlinewidth\": 0, \"ticks\": \"\"}, \"type\": \"contourcarpet\"}], \"heatmap\": [{\"colorbar\": {\"outlinewidth\": 0, \"ticks\": \"\"}, \"colorscale\": [[0.0, \"#0d0887\"], [0.1111111111111111, \"#46039f\"], [0.2222222222222222, \"#7201a8\"], [0.3333333333333333, \"#9c179e\"], [0.4444444444444444, \"#bd3786\"], [0.5555555555555556, \"#d8576b\"], [0.6666666666666666, \"#ed7953\"], [0.7777777777777778, \"#fb9f3a\"], [0.8888888888888888, \"#fdca26\"], [1.0, \"#f0f921\"]], \"type\": \"heatmap\"}], \"heatmapgl\": [{\"colorbar\": {\"outlinewidth\": 0, \"ticks\": \"\"}, \"colorscale\": [[0.0, \"#0d0887\"], [0.1111111111111111, \"#46039f\"], [0.2222222222222222, \"#7201a8\"], [0.3333333333333333, \"#9c179e\"], [0.4444444444444444, \"#bd3786\"], [0.5555555555555556, \"#d8576b\"], [0.6666666666666666, \"#ed7953\"], [0.7777777777777778, \"#fb9f3a\"], [0.8888888888888888, \"#fdca26\"], [1.0, \"#f0f921\"]], \"type\": \"heatmapgl\"}], \"histogram\": [{\"marker\": {\"colorbar\": {\"outlinewidth\": 0, \"ticks\": \"\"}}, \"type\": \"histogram\"}], \"histogram2d\": [{\"colorbar\": {\"outlinewidth\": 0, \"ticks\": \"\"}, \"colorscale\": [[0.0, \"#0d0887\"], [0.1111111111111111, \"#46039f\"], [0.2222222222222222, \"#7201a8\"], [0.3333333333333333, \"#9c179e\"], [0.4444444444444444, \"#bd3786\"], [0.5555555555555556, \"#d8576b\"], [0.6666666666666666, \"#ed7953\"], [0.7777777777777778, \"#fb9f3a\"], [0.8888888888888888, \"#fdca26\"], [1.0, \"#f0f921\"]], \"type\": \"histogram2d\"}], \"histogram2dcontour\": [{\"colorbar\": {\"outlinewidth\": 0, \"ticks\": \"\"}, \"colorscale\": [[0.0, \"#0d0887\"], [0.1111111111111111, \"#46039f\"], [0.2222222222222222, \"#7201a8\"], [0.3333333333333333, \"#9c179e\"], [0.4444444444444444, \"#bd3786\"], [0.5555555555555556, \"#d8576b\"], [0.6666666666666666, \"#ed7953\"], [0.7777777777777778, \"#fb9f3a\"], [0.8888888888888888, \"#fdca26\"], [1.0, \"#f0f921\"]], \"type\": \"histogram2dcontour\"}], \"mesh3d\": [{\"colorbar\": {\"outlinewidth\": 0, \"ticks\": \"\"}, \"type\": \"mesh3d\"}], \"parcoords\": [{\"line\": {\"colorbar\": {\"outlinewidth\": 0, \"ticks\": \"\"}}, \"type\": \"parcoords\"}], \"pie\": [{\"automargin\": true, \"type\": \"pie\"}], \"scatter\": [{\"marker\": {\"colorbar\": {\"outlinewidth\": 0, \"ticks\": \"\"}}, \"type\": \"scatter\"}], \"scatter3d\": [{\"line\": {\"colorbar\": {\"outlinewidth\": 0, \"ticks\": \"\"}}, \"marker\": {\"colorbar\": {\"outlinewidth\": 0, \"ticks\": \"\"}}, \"type\": \"scatter3d\"}], \"scattercarpet\": [{\"marker\": {\"colorbar\": {\"outlinewidth\": 0, \"ticks\": \"\"}}, \"type\": \"scattercarpet\"}], \"scattergeo\": [{\"marker\": {\"colorbar\": {\"outlinewidth\": 0, \"ticks\": \"\"}}, \"type\": \"scattergeo\"}], \"scattergl\": [{\"marker\": {\"colorbar\": {\"outlinewidth\": 0, \"ticks\": \"\"}}, \"type\": \"scattergl\"}], \"scattermapbox\": [{\"marker\": {\"colorbar\": {\"outlinewidth\": 0, \"ticks\": \"\"}}, \"type\": \"scattermapbox\"}], \"scatterpolar\": [{\"marker\": {\"colorbar\": {\"outlinewidth\": 0, \"ticks\": \"\"}}, \"type\": \"scatterpolar\"}], \"scatterpolargl\": [{\"marker\": {\"colorbar\": {\"outlinewidth\": 0, \"ticks\": \"\"}}, \"type\": \"scatterpolargl\"}], \"scatterternary\": [{\"marker\": {\"colorbar\": {\"outlinewidth\": 0, \"ticks\": \"\"}}, \"type\": \"scatterternary\"}], \"surface\": [{\"colorbar\": {\"outlinewidth\": 0, \"ticks\": \"\"}, \"colorscale\": [[0.0, \"#0d0887\"], [0.1111111111111111, \"#46039f\"], [0.2222222222222222, \"#7201a8\"], [0.3333333333333333, \"#9c179e\"], [0.4444444444444444, \"#bd3786\"], [0.5555555555555556, \"#d8576b\"], [0.6666666666666666, \"#ed7953\"], [0.7777777777777778, \"#fb9f3a\"], [0.8888888888888888, \"#fdca26\"], [1.0, \"#f0f921\"]], \"type\": \"surface\"}], \"table\": [{\"cells\": {\"fill\": {\"color\": \"#EBF0F8\"}, \"line\": {\"color\": \"white\"}}, \"header\": {\"fill\": {\"color\": \"#C8D4E3\"}, \"line\": {\"color\": \"white\"}}, \"type\": \"table\"}]}, \"layout\": {\"annotationdefaults\": {\"arrowcolor\": \"#2a3f5f\", \"arrowhead\": 0, \"arrowwidth\": 1}, \"coloraxis\": {\"colorbar\": {\"outlinewidth\": 0, \"ticks\": \"\"}}, \"colorscale\": {\"diverging\": [[0, \"#8e0152\"], [0.1, \"#c51b7d\"], [0.2, \"#de77ae\"], [0.3, \"#f1b6da\"], [0.4, \"#fde0ef\"], [0.5, \"#f7f7f7\"], [0.6, \"#e6f5d0\"], [0.7, \"#b8e186\"], [0.8, \"#7fbc41\"], [0.9, \"#4d9221\"], [1, \"#276419\"]], \"sequential\": [[0.0, \"#0d0887\"], [0.1111111111111111, \"#46039f\"], [0.2222222222222222, \"#7201a8\"], [0.3333333333333333, \"#9c179e\"], [0.4444444444444444, \"#bd3786\"], [0.5555555555555556, \"#d8576b\"], [0.6666666666666666, \"#ed7953\"], [0.7777777777777778, \"#fb9f3a\"], [0.8888888888888888, \"#fdca26\"], [1.0, \"#f0f921\"]], \"sequentialminus\": [[0.0, \"#0d0887\"], [0.1111111111111111, \"#46039f\"], [0.2222222222222222, \"#7201a8\"], [0.3333333333333333, \"#9c179e\"], [0.4444444444444444, \"#bd3786\"], [0.5555555555555556, \"#d8576b\"], [0.6666666666666666, \"#ed7953\"], [0.7777777777777778, \"#fb9f3a\"], [0.8888888888888888, \"#fdca26\"], [1.0, \"#f0f921\"]]}, \"colorway\": [\"#636efa\", \"#EF553B\", \"#00cc96\", \"#ab63fa\", \"#FFA15A\", \"#19d3f3\", \"#FF6692\", \"#B6E880\", \"#FF97FF\", \"#FECB52\"], \"font\": {\"color\": \"#2a3f5f\"}, \"geo\": {\"bgcolor\": \"white\", \"lakecolor\": \"white\", \"landcolor\": \"#E5ECF6\", \"showlakes\": true, \"showland\": true, \"subunitcolor\": \"white\"}, \"hoverlabel\": {\"align\": \"left\"}, \"hovermode\": \"closest\", \"mapbox\": {\"style\": \"light\"}, \"paper_bgcolor\": \"white\", \"plot_bgcolor\": \"#E5ECF6\", \"polar\": {\"angularaxis\": {\"gridcolor\": \"white\", \"linecolor\": \"white\", \"ticks\": \"\"}, \"bgcolor\": \"#E5ECF6\", \"radialaxis\": {\"gridcolor\": \"white\", \"linecolor\": \"white\", \"ticks\": \"\"}}, \"scene\": {\"xaxis\": {\"backgroundcolor\": \"#E5ECF6\", \"gridcolor\": \"white\", \"gridwidth\": 2, \"linecolor\": \"white\", \"showbackground\": true, \"ticks\": \"\", \"zerolinecolor\": \"white\"}, \"yaxis\": {\"backgroundcolor\": \"#E5ECF6\", \"gridcolor\": \"white\", \"gridwidth\": 2, \"linecolor\": \"white\", \"showbackground\": true, \"ticks\": \"\", \"zerolinecolor\": \"white\"}, \"zaxis\": {\"backgroundcolor\": \"#E5ECF6\", \"gridcolor\": \"white\", \"gridwidth\": 2, \"linecolor\": \"white\", \"showbackground\": true, \"ticks\": \"\", \"zerolinecolor\": \"white\"}}, \"shapedefaults\": {\"line\": {\"color\": \"#2a3f5f\"}}, \"ternary\": {\"aaxis\": {\"gridcolor\": \"white\", \"linecolor\": \"white\", \"ticks\": \"\"}, \"baxis\": {\"gridcolor\": \"white\", \"linecolor\": \"white\", \"ticks\": \"\"}, \"bgcolor\": \"#E5ECF6\", \"caxis\": {\"gridcolor\": \"white\", \"linecolor\": \"white\", \"ticks\": \"\"}}, \"title\": {\"x\": 0.05}, \"xaxis\": {\"automargin\": true, \"gridcolor\": \"white\", \"linecolor\": \"white\", \"ticks\": \"\", \"title\": {\"standoff\": 15}, \"zerolinecolor\": \"white\", \"zerolinewidth\": 2}, \"yaxis\": {\"automargin\": true, \"gridcolor\": \"white\", \"linecolor\": \"white\", \"ticks\": \"\", \"title\": {\"standoff\": 15}, \"zerolinecolor\": \"white\", \"zerolinewidth\": 2}}}, \"title\": {\"font\": {\"color\": \"#4D5663\"}}, \"xaxis\": {\"gridcolor\": \"#E1E5ED\", \"showgrid\": true, \"tickfont\": {\"color\": \"#4D5663\"}, \"title\": {\"font\": {\"color\": \"#4D5663\"}, \"text\": \"\"}, \"zerolinecolor\": \"#E1E5ED\"}, \"yaxis\": {\"gridcolor\": \"#E1E5ED\", \"showgrid\": true, \"tickfont\": {\"color\": \"#4D5663\"}, \"title\": {\"font\": {\"color\": \"#4D5663\"}, \"text\": \"\"}, \"zerolinecolor\": \"#E1E5ED\"}},\n",
       "                        {\"showLink\": true, \"linkText\": \"Export to plot.ly\", \"plotlyServerURL\": \"https://plot.ly\", \"responsive\": true}\n",
       "                    ).then(function(){\n",
       "                            \n",
       "var gd = document.getElementById('ab7b4725-c579-4748-8e01-edf44827957d');\n",
       "var x = new MutationObserver(function (mutations, observer) {{\n",
       "        var display = window.getComputedStyle(gd).display;\n",
       "        if (!display || display === 'none') {{\n",
       "            console.log([gd, 'removed!']);\n",
       "            Plotly.purge(gd);\n",
       "            observer.disconnect();\n",
       "        }}\n",
       "}});\n",
       "\n",
       "// Listen for the removal of the full notebook cells\n",
       "var notebookContainer = gd.closest('#notebook-container');\n",
       "if (notebookContainer) {{\n",
       "    x.observe(notebookContainer, {childList: true});\n",
       "}}\n",
       "\n",
       "// Listen for the clearing of the current output cell\n",
       "var outputEl = gd.closest('.output');\n",
       "if (outputEl) {{\n",
       "    x.observe(outputEl, {childList: true});\n",
       "}}\n",
       "\n",
       "                        })\n",
       "                };\n",
       "                });\n",
       "            </script>\n",
       "        </div>"
      ]
     },
     "metadata": {},
     "output_type": "display_data"
    }
   ],
   "source": [
    "# 3d surface plot\n",
    "df3.iplot(kind='surface')"
   ]
  },
  {
   "cell_type": "code",
   "execution_count": 33,
   "metadata": {},
   "outputs": [
    {
     "data": {
      "text/html": [
       "<div>\n",
       "<style scoped>\n",
       "    .dataframe tbody tr th:only-of-type {\n",
       "        vertical-align: middle;\n",
       "    }\n",
       "\n",
       "    .dataframe tbody tr th {\n",
       "        vertical-align: top;\n",
       "    }\n",
       "\n",
       "    .dataframe thead th {\n",
       "        text-align: right;\n",
       "    }\n",
       "</style>\n",
       "<table border=\"1\" class=\"dataframe\">\n",
       "  <thead>\n",
       "    <tr style=\"text-align: right;\">\n",
       "      <th></th>\n",
       "      <th>x</th>\n",
       "      <th>y</th>\n",
       "      <th>z</th>\n",
       "    </tr>\n",
       "  </thead>\n",
       "  <tbody>\n",
       "    <tr>\n",
       "      <th>0</th>\n",
       "      <td>1</td>\n",
       "      <td>10</td>\n",
       "      <td>5</td>\n",
       "    </tr>\n",
       "    <tr>\n",
       "      <th>1</th>\n",
       "      <td>2</td>\n",
       "      <td>20</td>\n",
       "      <td>4</td>\n",
       "    </tr>\n",
       "    <tr>\n",
       "      <th>2</th>\n",
       "      <td>3</td>\n",
       "      <td>30</td>\n",
       "      <td>3</td>\n",
       "    </tr>\n",
       "    <tr>\n",
       "      <th>3</th>\n",
       "      <td>4</td>\n",
       "      <td>20</td>\n",
       "      <td>2</td>\n",
       "    </tr>\n",
       "    <tr>\n",
       "      <th>4</th>\n",
       "      <td>5</td>\n",
       "      <td>10</td>\n",
       "      <td>1</td>\n",
       "    </tr>\n",
       "  </tbody>\n",
       "</table>\n",
       "</div>"
      ],
      "text/plain": [
       "   x   y  z\n",
       "0  1  10  5\n",
       "1  2  20  4\n",
       "2  3  30  3\n",
       "3  4  20  2\n",
       "4  5  10  1"
      ]
     },
     "execution_count": 33,
     "metadata": {},
     "output_type": "execute_result"
    }
   ],
   "source": [
    "df4 = pd.DataFrame({'x':[1,2,3,4,5],'y':[10,20,30,20,10],'z':[5,4,3,2,1]})\n",
    "df4"
   ]
  },
  {
   "cell_type": "code",
   "execution_count": 35,
   "metadata": {},
   "outputs": [
    {
     "data": {
      "application/vnd.plotly.v1+json": {
       "config": {
        "linkText": "Export to plot.ly",
        "plotlyServerURL": "https://plot.ly",
        "showLink": true
       },
       "data": [
        {
         "colorscale": [
          [
           0,
           "rgb(165,0,38)"
          ],
          [
           0.1,
           "rgb(215,48,39)"
          ],
          [
           0.2,
           "rgb(244,109,67)"
          ],
          [
           0.3,
           "rgb(253,174,97)"
          ],
          [
           0.4,
           "rgb(254,224,144)"
          ],
          [
           0.5,
           "rgb(255,255,191)"
          ],
          [
           0.6,
           "rgb(224,243,248)"
          ],
          [
           0.7,
           "rgb(171,217,233)"
          ],
          [
           0.8,
           "rgb(116,173,209)"
          ],
          [
           0.9,
           "rgb(69,117,180)"
          ],
          [
           1,
           "rgb(49,54,149)"
          ]
         ],
         "type": "surface",
         "x": [
          0,
          1,
          2,
          3,
          4
         ],
         "y": [
          "x",
          "y",
          "z"
         ],
         "z": [
          [
           1,
           2,
           3,
           4,
           5
          ],
          [
           10,
           20,
           30,
           20,
           10
          ],
          [
           5,
           4,
           3,
           2,
           1
          ]
         ]
        }
       ],
       "layout": {
        "legend": {
         "bgcolor": "#F5F6F9",
         "font": {
          "color": "#4D5663"
         }
        },
        "paper_bgcolor": "#F5F6F9",
        "plot_bgcolor": "#F5F6F9",
        "template": {
         "data": {
          "bar": [
           {
            "error_x": {
             "color": "#2a3f5f"
            },
            "error_y": {
             "color": "#2a3f5f"
            },
            "marker": {
             "line": {
              "color": "#E5ECF6",
              "width": 0.5
             }
            },
            "type": "bar"
           }
          ],
          "barpolar": [
           {
            "marker": {
             "line": {
              "color": "#E5ECF6",
              "width": 0.5
             }
            },
            "type": "barpolar"
           }
          ],
          "carpet": [
           {
            "aaxis": {
             "endlinecolor": "#2a3f5f",
             "gridcolor": "white",
             "linecolor": "white",
             "minorgridcolor": "white",
             "startlinecolor": "#2a3f5f"
            },
            "baxis": {
             "endlinecolor": "#2a3f5f",
             "gridcolor": "white",
             "linecolor": "white",
             "minorgridcolor": "white",
             "startlinecolor": "#2a3f5f"
            },
            "type": "carpet"
           }
          ],
          "choropleth": [
           {
            "colorbar": {
             "outlinewidth": 0,
             "ticks": ""
            },
            "type": "choropleth"
           }
          ],
          "contour": [
           {
            "colorbar": {
             "outlinewidth": 0,
             "ticks": ""
            },
            "colorscale": [
             [
              0,
              "#0d0887"
             ],
             [
              0.1111111111111111,
              "#46039f"
             ],
             [
              0.2222222222222222,
              "#7201a8"
             ],
             [
              0.3333333333333333,
              "#9c179e"
             ],
             [
              0.4444444444444444,
              "#bd3786"
             ],
             [
              0.5555555555555556,
              "#d8576b"
             ],
             [
              0.6666666666666666,
              "#ed7953"
             ],
             [
              0.7777777777777778,
              "#fb9f3a"
             ],
             [
              0.8888888888888888,
              "#fdca26"
             ],
             [
              1,
              "#f0f921"
             ]
            ],
            "type": "contour"
           }
          ],
          "contourcarpet": [
           {
            "colorbar": {
             "outlinewidth": 0,
             "ticks": ""
            },
            "type": "contourcarpet"
           }
          ],
          "heatmap": [
           {
            "colorbar": {
             "outlinewidth": 0,
             "ticks": ""
            },
            "colorscale": [
             [
              0,
              "#0d0887"
             ],
             [
              0.1111111111111111,
              "#46039f"
             ],
             [
              0.2222222222222222,
              "#7201a8"
             ],
             [
              0.3333333333333333,
              "#9c179e"
             ],
             [
              0.4444444444444444,
              "#bd3786"
             ],
             [
              0.5555555555555556,
              "#d8576b"
             ],
             [
              0.6666666666666666,
              "#ed7953"
             ],
             [
              0.7777777777777778,
              "#fb9f3a"
             ],
             [
              0.8888888888888888,
              "#fdca26"
             ],
             [
              1,
              "#f0f921"
             ]
            ],
            "type": "heatmap"
           }
          ],
          "heatmapgl": [
           {
            "colorbar": {
             "outlinewidth": 0,
             "ticks": ""
            },
            "colorscale": [
             [
              0,
              "#0d0887"
             ],
             [
              0.1111111111111111,
              "#46039f"
             ],
             [
              0.2222222222222222,
              "#7201a8"
             ],
             [
              0.3333333333333333,
              "#9c179e"
             ],
             [
              0.4444444444444444,
              "#bd3786"
             ],
             [
              0.5555555555555556,
              "#d8576b"
             ],
             [
              0.6666666666666666,
              "#ed7953"
             ],
             [
              0.7777777777777778,
              "#fb9f3a"
             ],
             [
              0.8888888888888888,
              "#fdca26"
             ],
             [
              1,
              "#f0f921"
             ]
            ],
            "type": "heatmapgl"
           }
          ],
          "histogram": [
           {
            "marker": {
             "colorbar": {
              "outlinewidth": 0,
              "ticks": ""
             }
            },
            "type": "histogram"
           }
          ],
          "histogram2d": [
           {
            "colorbar": {
             "outlinewidth": 0,
             "ticks": ""
            },
            "colorscale": [
             [
              0,
              "#0d0887"
             ],
             [
              0.1111111111111111,
              "#46039f"
             ],
             [
              0.2222222222222222,
              "#7201a8"
             ],
             [
              0.3333333333333333,
              "#9c179e"
             ],
             [
              0.4444444444444444,
              "#bd3786"
             ],
             [
              0.5555555555555556,
              "#d8576b"
             ],
             [
              0.6666666666666666,
              "#ed7953"
             ],
             [
              0.7777777777777778,
              "#fb9f3a"
             ],
             [
              0.8888888888888888,
              "#fdca26"
             ],
             [
              1,
              "#f0f921"
             ]
            ],
            "type": "histogram2d"
           }
          ],
          "histogram2dcontour": [
           {
            "colorbar": {
             "outlinewidth": 0,
             "ticks": ""
            },
            "colorscale": [
             [
              0,
              "#0d0887"
             ],
             [
              0.1111111111111111,
              "#46039f"
             ],
             [
              0.2222222222222222,
              "#7201a8"
             ],
             [
              0.3333333333333333,
              "#9c179e"
             ],
             [
              0.4444444444444444,
              "#bd3786"
             ],
             [
              0.5555555555555556,
              "#d8576b"
             ],
             [
              0.6666666666666666,
              "#ed7953"
             ],
             [
              0.7777777777777778,
              "#fb9f3a"
             ],
             [
              0.8888888888888888,
              "#fdca26"
             ],
             [
              1,
              "#f0f921"
             ]
            ],
            "type": "histogram2dcontour"
           }
          ],
          "mesh3d": [
           {
            "colorbar": {
             "outlinewidth": 0,
             "ticks": ""
            },
            "type": "mesh3d"
           }
          ],
          "parcoords": [
           {
            "line": {
             "colorbar": {
              "outlinewidth": 0,
              "ticks": ""
             }
            },
            "type": "parcoords"
           }
          ],
          "pie": [
           {
            "automargin": true,
            "type": "pie"
           }
          ],
          "scatter": [
           {
            "marker": {
             "colorbar": {
              "outlinewidth": 0,
              "ticks": ""
             }
            },
            "type": "scatter"
           }
          ],
          "scatter3d": [
           {
            "line": {
             "colorbar": {
              "outlinewidth": 0,
              "ticks": ""
             }
            },
            "marker": {
             "colorbar": {
              "outlinewidth": 0,
              "ticks": ""
             }
            },
            "type": "scatter3d"
           }
          ],
          "scattercarpet": [
           {
            "marker": {
             "colorbar": {
              "outlinewidth": 0,
              "ticks": ""
             }
            },
            "type": "scattercarpet"
           }
          ],
          "scattergeo": [
           {
            "marker": {
             "colorbar": {
              "outlinewidth": 0,
              "ticks": ""
             }
            },
            "type": "scattergeo"
           }
          ],
          "scattergl": [
           {
            "marker": {
             "colorbar": {
              "outlinewidth": 0,
              "ticks": ""
             }
            },
            "type": "scattergl"
           }
          ],
          "scattermapbox": [
           {
            "marker": {
             "colorbar": {
              "outlinewidth": 0,
              "ticks": ""
             }
            },
            "type": "scattermapbox"
           }
          ],
          "scatterpolar": [
           {
            "marker": {
             "colorbar": {
              "outlinewidth": 0,
              "ticks": ""
             }
            },
            "type": "scatterpolar"
           }
          ],
          "scatterpolargl": [
           {
            "marker": {
             "colorbar": {
              "outlinewidth": 0,
              "ticks": ""
             }
            },
            "type": "scatterpolargl"
           }
          ],
          "scatterternary": [
           {
            "marker": {
             "colorbar": {
              "outlinewidth": 0,
              "ticks": ""
             }
            },
            "type": "scatterternary"
           }
          ],
          "surface": [
           {
            "colorbar": {
             "outlinewidth": 0,
             "ticks": ""
            },
            "colorscale": [
             [
              0,
              "#0d0887"
             ],
             [
              0.1111111111111111,
              "#46039f"
             ],
             [
              0.2222222222222222,
              "#7201a8"
             ],
             [
              0.3333333333333333,
              "#9c179e"
             ],
             [
              0.4444444444444444,
              "#bd3786"
             ],
             [
              0.5555555555555556,
              "#d8576b"
             ],
             [
              0.6666666666666666,
              "#ed7953"
             ],
             [
              0.7777777777777778,
              "#fb9f3a"
             ],
             [
              0.8888888888888888,
              "#fdca26"
             ],
             [
              1,
              "#f0f921"
             ]
            ],
            "type": "surface"
           }
          ],
          "table": [
           {
            "cells": {
             "fill": {
              "color": "#EBF0F8"
             },
             "line": {
              "color": "white"
             }
            },
            "header": {
             "fill": {
              "color": "#C8D4E3"
             },
             "line": {
              "color": "white"
             }
            },
            "type": "table"
           }
          ]
         },
         "layout": {
          "annotationdefaults": {
           "arrowcolor": "#2a3f5f",
           "arrowhead": 0,
           "arrowwidth": 1
          },
          "coloraxis": {
           "colorbar": {
            "outlinewidth": 0,
            "ticks": ""
           }
          },
          "colorscale": {
           "diverging": [
            [
             0,
             "#8e0152"
            ],
            [
             0.1,
             "#c51b7d"
            ],
            [
             0.2,
             "#de77ae"
            ],
            [
             0.3,
             "#f1b6da"
            ],
            [
             0.4,
             "#fde0ef"
            ],
            [
             0.5,
             "#f7f7f7"
            ],
            [
             0.6,
             "#e6f5d0"
            ],
            [
             0.7,
             "#b8e186"
            ],
            [
             0.8,
             "#7fbc41"
            ],
            [
             0.9,
             "#4d9221"
            ],
            [
             1,
             "#276419"
            ]
           ],
           "sequential": [
            [
             0,
             "#0d0887"
            ],
            [
             0.1111111111111111,
             "#46039f"
            ],
            [
             0.2222222222222222,
             "#7201a8"
            ],
            [
             0.3333333333333333,
             "#9c179e"
            ],
            [
             0.4444444444444444,
             "#bd3786"
            ],
            [
             0.5555555555555556,
             "#d8576b"
            ],
            [
             0.6666666666666666,
             "#ed7953"
            ],
            [
             0.7777777777777778,
             "#fb9f3a"
            ],
            [
             0.8888888888888888,
             "#fdca26"
            ],
            [
             1,
             "#f0f921"
            ]
           ],
           "sequentialminus": [
            [
             0,
             "#0d0887"
            ],
            [
             0.1111111111111111,
             "#46039f"
            ],
            [
             0.2222222222222222,
             "#7201a8"
            ],
            [
             0.3333333333333333,
             "#9c179e"
            ],
            [
             0.4444444444444444,
             "#bd3786"
            ],
            [
             0.5555555555555556,
             "#d8576b"
            ],
            [
             0.6666666666666666,
             "#ed7953"
            ],
            [
             0.7777777777777778,
             "#fb9f3a"
            ],
            [
             0.8888888888888888,
             "#fdca26"
            ],
            [
             1,
             "#f0f921"
            ]
           ]
          },
          "colorway": [
           "#636efa",
           "#EF553B",
           "#00cc96",
           "#ab63fa",
           "#FFA15A",
           "#19d3f3",
           "#FF6692",
           "#B6E880",
           "#FF97FF",
           "#FECB52"
          ],
          "font": {
           "color": "#2a3f5f"
          },
          "geo": {
           "bgcolor": "white",
           "lakecolor": "white",
           "landcolor": "#E5ECF6",
           "showlakes": true,
           "showland": true,
           "subunitcolor": "white"
          },
          "hoverlabel": {
           "align": "left"
          },
          "hovermode": "closest",
          "mapbox": {
           "style": "light"
          },
          "paper_bgcolor": "white",
          "plot_bgcolor": "#E5ECF6",
          "polar": {
           "angularaxis": {
            "gridcolor": "white",
            "linecolor": "white",
            "ticks": ""
           },
           "bgcolor": "#E5ECF6",
           "radialaxis": {
            "gridcolor": "white",
            "linecolor": "white",
            "ticks": ""
           }
          },
          "scene": {
           "xaxis": {
            "backgroundcolor": "#E5ECF6",
            "gridcolor": "white",
            "gridwidth": 2,
            "linecolor": "white",
            "showbackground": true,
            "ticks": "",
            "zerolinecolor": "white"
           },
           "yaxis": {
            "backgroundcolor": "#E5ECF6",
            "gridcolor": "white",
            "gridwidth": 2,
            "linecolor": "white",
            "showbackground": true,
            "ticks": "",
            "zerolinecolor": "white"
           },
           "zaxis": {
            "backgroundcolor": "#E5ECF6",
            "gridcolor": "white",
            "gridwidth": 2,
            "linecolor": "white",
            "showbackground": true,
            "ticks": "",
            "zerolinecolor": "white"
           }
          },
          "shapedefaults": {
           "line": {
            "color": "#2a3f5f"
           }
          },
          "ternary": {
           "aaxis": {
            "gridcolor": "white",
            "linecolor": "white",
            "ticks": ""
           },
           "baxis": {
            "gridcolor": "white",
            "linecolor": "white",
            "ticks": ""
           },
           "bgcolor": "#E5ECF6",
           "caxis": {
            "gridcolor": "white",
            "linecolor": "white",
            "ticks": ""
           }
          },
          "title": {
           "x": 0.05
          },
          "xaxis": {
           "automargin": true,
           "gridcolor": "white",
           "linecolor": "white",
           "ticks": "",
           "title": {
            "standoff": 15
           },
           "zerolinecolor": "white",
           "zerolinewidth": 2
          },
          "yaxis": {
           "automargin": true,
           "gridcolor": "white",
           "linecolor": "white",
           "ticks": "",
           "title": {
            "standoff": 15
           },
           "zerolinecolor": "white",
           "zerolinewidth": 2
          }
         }
        },
        "title": {
         "font": {
          "color": "#4D5663"
         }
        },
        "xaxis": {
         "gridcolor": "#E1E5ED",
         "showgrid": true,
         "tickfont": {
          "color": "#4D5663"
         },
         "title": {
          "font": {
           "color": "#4D5663"
          },
          "text": ""
         },
         "zerolinecolor": "#E1E5ED"
        },
        "yaxis": {
         "gridcolor": "#E1E5ED",
         "showgrid": true,
         "tickfont": {
          "color": "#4D5663"
         },
         "title": {
          "font": {
           "color": "#4D5663"
          },
          "text": ""
         },
         "zerolinecolor": "#E1E5ED"
        }
       }
      },
      "text/html": [
       "<div>\n",
       "        \n",
       "        \n",
       "            <div id=\"99701f4b-25da-45f1-bbbf-6c9445bc81dd\" class=\"plotly-graph-div\" style=\"height:525px; width:100%;\"></div>\n",
       "            <script type=\"text/javascript\">\n",
       "                require([\"plotly\"], function(Plotly) {\n",
       "                    window.PLOTLYENV=window.PLOTLYENV || {};\n",
       "                    window.PLOTLYENV.BASE_URL='https://plot.ly';\n",
       "                    \n",
       "                if (document.getElementById(\"99701f4b-25da-45f1-bbbf-6c9445bc81dd\")) {\n",
       "                    Plotly.newPlot(\n",
       "                        '99701f4b-25da-45f1-bbbf-6c9445bc81dd',\n",
       "                        [{\"colorscale\": [[0.0, \"rgb(165,0,38)\"], [0.1, \"rgb(215,48,39)\"], [0.2, \"rgb(244,109,67)\"], [0.3, \"rgb(253,174,97)\"], [0.4, \"rgb(254,224,144)\"], [0.5, \"rgb(255,255,191)\"], [0.6, \"rgb(224,243,248)\"], [0.7, \"rgb(171,217,233)\"], [0.8, \"rgb(116,173,209)\"], [0.9, \"rgb(69,117,180)\"], [1.0, \"rgb(49,54,149)\"]], \"type\": \"surface\", \"x\": [0, 1, 2, 3, 4], \"y\": [\"x\", \"y\", \"z\"], \"z\": [[1, 2, 3, 4, 5], [10, 20, 30, 20, 10], [5, 4, 3, 2, 1]]}],\n",
       "                        {\"legend\": {\"bgcolor\": \"#F5F6F9\", \"font\": {\"color\": \"#4D5663\"}}, \"paper_bgcolor\": \"#F5F6F9\", \"plot_bgcolor\": \"#F5F6F9\", \"template\": {\"data\": {\"bar\": [{\"error_x\": {\"color\": \"#2a3f5f\"}, \"error_y\": {\"color\": \"#2a3f5f\"}, \"marker\": {\"line\": {\"color\": \"#E5ECF6\", \"width\": 0.5}}, \"type\": \"bar\"}], \"barpolar\": [{\"marker\": {\"line\": {\"color\": \"#E5ECF6\", \"width\": 0.5}}, \"type\": \"barpolar\"}], \"carpet\": [{\"aaxis\": {\"endlinecolor\": \"#2a3f5f\", \"gridcolor\": \"white\", \"linecolor\": \"white\", \"minorgridcolor\": \"white\", \"startlinecolor\": \"#2a3f5f\"}, \"baxis\": {\"endlinecolor\": \"#2a3f5f\", \"gridcolor\": \"white\", \"linecolor\": \"white\", \"minorgridcolor\": \"white\", \"startlinecolor\": \"#2a3f5f\"}, \"type\": \"carpet\"}], \"choropleth\": [{\"colorbar\": {\"outlinewidth\": 0, \"ticks\": \"\"}, \"type\": \"choropleth\"}], \"contour\": [{\"colorbar\": {\"outlinewidth\": 0, \"ticks\": \"\"}, \"colorscale\": [[0.0, \"#0d0887\"], [0.1111111111111111, \"#46039f\"], [0.2222222222222222, \"#7201a8\"], [0.3333333333333333, \"#9c179e\"], [0.4444444444444444, \"#bd3786\"], [0.5555555555555556, \"#d8576b\"], [0.6666666666666666, \"#ed7953\"], [0.7777777777777778, \"#fb9f3a\"], [0.8888888888888888, \"#fdca26\"], [1.0, \"#f0f921\"]], \"type\": \"contour\"}], \"contourcarpet\": [{\"colorbar\": {\"outlinewidth\": 0, \"ticks\": \"\"}, \"type\": \"contourcarpet\"}], \"heatmap\": [{\"colorbar\": {\"outlinewidth\": 0, \"ticks\": \"\"}, \"colorscale\": [[0.0, \"#0d0887\"], [0.1111111111111111, \"#46039f\"], [0.2222222222222222, \"#7201a8\"], [0.3333333333333333, \"#9c179e\"], [0.4444444444444444, \"#bd3786\"], [0.5555555555555556, \"#d8576b\"], [0.6666666666666666, \"#ed7953\"], [0.7777777777777778, \"#fb9f3a\"], [0.8888888888888888, \"#fdca26\"], [1.0, \"#f0f921\"]], \"type\": \"heatmap\"}], \"heatmapgl\": [{\"colorbar\": {\"outlinewidth\": 0, \"ticks\": \"\"}, \"colorscale\": [[0.0, \"#0d0887\"], [0.1111111111111111, \"#46039f\"], [0.2222222222222222, \"#7201a8\"], [0.3333333333333333, \"#9c179e\"], [0.4444444444444444, \"#bd3786\"], [0.5555555555555556, \"#d8576b\"], [0.6666666666666666, \"#ed7953\"], [0.7777777777777778, \"#fb9f3a\"], [0.8888888888888888, \"#fdca26\"], [1.0, \"#f0f921\"]], \"type\": \"heatmapgl\"}], \"histogram\": [{\"marker\": {\"colorbar\": {\"outlinewidth\": 0, \"ticks\": \"\"}}, \"type\": \"histogram\"}], \"histogram2d\": [{\"colorbar\": {\"outlinewidth\": 0, \"ticks\": \"\"}, \"colorscale\": [[0.0, \"#0d0887\"], [0.1111111111111111, \"#46039f\"], [0.2222222222222222, \"#7201a8\"], [0.3333333333333333, \"#9c179e\"], [0.4444444444444444, \"#bd3786\"], [0.5555555555555556, \"#d8576b\"], [0.6666666666666666, \"#ed7953\"], [0.7777777777777778, \"#fb9f3a\"], [0.8888888888888888, \"#fdca26\"], [1.0, \"#f0f921\"]], \"type\": \"histogram2d\"}], \"histogram2dcontour\": [{\"colorbar\": {\"outlinewidth\": 0, \"ticks\": \"\"}, \"colorscale\": [[0.0, \"#0d0887\"], [0.1111111111111111, \"#46039f\"], [0.2222222222222222, \"#7201a8\"], [0.3333333333333333, \"#9c179e\"], [0.4444444444444444, \"#bd3786\"], [0.5555555555555556, \"#d8576b\"], [0.6666666666666666, \"#ed7953\"], [0.7777777777777778, \"#fb9f3a\"], [0.8888888888888888, \"#fdca26\"], [1.0, \"#f0f921\"]], \"type\": \"histogram2dcontour\"}], \"mesh3d\": [{\"colorbar\": {\"outlinewidth\": 0, \"ticks\": \"\"}, \"type\": \"mesh3d\"}], \"parcoords\": [{\"line\": {\"colorbar\": {\"outlinewidth\": 0, \"ticks\": \"\"}}, \"type\": \"parcoords\"}], \"pie\": [{\"automargin\": true, \"type\": \"pie\"}], \"scatter\": [{\"marker\": {\"colorbar\": {\"outlinewidth\": 0, \"ticks\": \"\"}}, \"type\": \"scatter\"}], \"scatter3d\": [{\"line\": {\"colorbar\": {\"outlinewidth\": 0, \"ticks\": \"\"}}, \"marker\": {\"colorbar\": {\"outlinewidth\": 0, \"ticks\": \"\"}}, \"type\": \"scatter3d\"}], \"scattercarpet\": [{\"marker\": {\"colorbar\": {\"outlinewidth\": 0, \"ticks\": \"\"}}, \"type\": \"scattercarpet\"}], \"scattergeo\": [{\"marker\": {\"colorbar\": {\"outlinewidth\": 0, \"ticks\": \"\"}}, \"type\": \"scattergeo\"}], \"scattergl\": [{\"marker\": {\"colorbar\": {\"outlinewidth\": 0, \"ticks\": \"\"}}, \"type\": \"scattergl\"}], \"scattermapbox\": [{\"marker\": {\"colorbar\": {\"outlinewidth\": 0, \"ticks\": \"\"}}, \"type\": \"scattermapbox\"}], \"scatterpolar\": [{\"marker\": {\"colorbar\": {\"outlinewidth\": 0, \"ticks\": \"\"}}, \"type\": \"scatterpolar\"}], \"scatterpolargl\": [{\"marker\": {\"colorbar\": {\"outlinewidth\": 0, \"ticks\": \"\"}}, \"type\": \"scatterpolargl\"}], \"scatterternary\": [{\"marker\": {\"colorbar\": {\"outlinewidth\": 0, \"ticks\": \"\"}}, \"type\": \"scatterternary\"}], \"surface\": [{\"colorbar\": {\"outlinewidth\": 0, \"ticks\": \"\"}, \"colorscale\": [[0.0, \"#0d0887\"], [0.1111111111111111, \"#46039f\"], [0.2222222222222222, \"#7201a8\"], [0.3333333333333333, \"#9c179e\"], [0.4444444444444444, \"#bd3786\"], [0.5555555555555556, \"#d8576b\"], [0.6666666666666666, \"#ed7953\"], [0.7777777777777778, \"#fb9f3a\"], [0.8888888888888888, \"#fdca26\"], [1.0, \"#f0f921\"]], \"type\": \"surface\"}], \"table\": [{\"cells\": {\"fill\": {\"color\": \"#EBF0F8\"}, \"line\": {\"color\": \"white\"}}, \"header\": {\"fill\": {\"color\": \"#C8D4E3\"}, \"line\": {\"color\": \"white\"}}, \"type\": \"table\"}]}, \"layout\": {\"annotationdefaults\": {\"arrowcolor\": \"#2a3f5f\", \"arrowhead\": 0, \"arrowwidth\": 1}, \"coloraxis\": {\"colorbar\": {\"outlinewidth\": 0, \"ticks\": \"\"}}, \"colorscale\": {\"diverging\": [[0, \"#8e0152\"], [0.1, \"#c51b7d\"], [0.2, \"#de77ae\"], [0.3, \"#f1b6da\"], [0.4, \"#fde0ef\"], [0.5, \"#f7f7f7\"], [0.6, \"#e6f5d0\"], [0.7, \"#b8e186\"], [0.8, \"#7fbc41\"], [0.9, \"#4d9221\"], [1, \"#276419\"]], \"sequential\": [[0.0, \"#0d0887\"], [0.1111111111111111, \"#46039f\"], [0.2222222222222222, \"#7201a8\"], [0.3333333333333333, \"#9c179e\"], [0.4444444444444444, \"#bd3786\"], [0.5555555555555556, \"#d8576b\"], [0.6666666666666666, \"#ed7953\"], [0.7777777777777778, \"#fb9f3a\"], [0.8888888888888888, \"#fdca26\"], [1.0, \"#f0f921\"]], \"sequentialminus\": [[0.0, \"#0d0887\"], [0.1111111111111111, \"#46039f\"], [0.2222222222222222, \"#7201a8\"], [0.3333333333333333, \"#9c179e\"], [0.4444444444444444, \"#bd3786\"], [0.5555555555555556, \"#d8576b\"], [0.6666666666666666, \"#ed7953\"], [0.7777777777777778, \"#fb9f3a\"], [0.8888888888888888, \"#fdca26\"], [1.0, \"#f0f921\"]]}, \"colorway\": [\"#636efa\", \"#EF553B\", \"#00cc96\", \"#ab63fa\", \"#FFA15A\", \"#19d3f3\", \"#FF6692\", \"#B6E880\", \"#FF97FF\", \"#FECB52\"], \"font\": {\"color\": \"#2a3f5f\"}, \"geo\": {\"bgcolor\": \"white\", \"lakecolor\": \"white\", \"landcolor\": \"#E5ECF6\", \"showlakes\": true, \"showland\": true, \"subunitcolor\": \"white\"}, \"hoverlabel\": {\"align\": \"left\"}, \"hovermode\": \"closest\", \"mapbox\": {\"style\": \"light\"}, \"paper_bgcolor\": \"white\", \"plot_bgcolor\": \"#E5ECF6\", \"polar\": {\"angularaxis\": {\"gridcolor\": \"white\", \"linecolor\": \"white\", \"ticks\": \"\"}, \"bgcolor\": \"#E5ECF6\", \"radialaxis\": {\"gridcolor\": \"white\", \"linecolor\": \"white\", \"ticks\": \"\"}}, \"scene\": {\"xaxis\": {\"backgroundcolor\": \"#E5ECF6\", \"gridcolor\": \"white\", \"gridwidth\": 2, \"linecolor\": \"white\", \"showbackground\": true, \"ticks\": \"\", \"zerolinecolor\": \"white\"}, \"yaxis\": {\"backgroundcolor\": \"#E5ECF6\", \"gridcolor\": \"white\", \"gridwidth\": 2, \"linecolor\": \"white\", \"showbackground\": true, \"ticks\": \"\", \"zerolinecolor\": \"white\"}, \"zaxis\": {\"backgroundcolor\": \"#E5ECF6\", \"gridcolor\": \"white\", \"gridwidth\": 2, \"linecolor\": \"white\", \"showbackground\": true, \"ticks\": \"\", \"zerolinecolor\": \"white\"}}, \"shapedefaults\": {\"line\": {\"color\": \"#2a3f5f\"}}, \"ternary\": {\"aaxis\": {\"gridcolor\": \"white\", \"linecolor\": \"white\", \"ticks\": \"\"}, \"baxis\": {\"gridcolor\": \"white\", \"linecolor\": \"white\", \"ticks\": \"\"}, \"bgcolor\": \"#E5ECF6\", \"caxis\": {\"gridcolor\": \"white\", \"linecolor\": \"white\", \"ticks\": \"\"}}, \"title\": {\"x\": 0.05}, \"xaxis\": {\"automargin\": true, \"gridcolor\": \"white\", \"linecolor\": \"white\", \"ticks\": \"\", \"title\": {\"standoff\": 15}, \"zerolinecolor\": \"white\", \"zerolinewidth\": 2}, \"yaxis\": {\"automargin\": true, \"gridcolor\": \"white\", \"linecolor\": \"white\", \"ticks\": \"\", \"title\": {\"standoff\": 15}, \"zerolinecolor\": \"white\", \"zerolinewidth\": 2}}}, \"title\": {\"font\": {\"color\": \"#4D5663\"}}, \"xaxis\": {\"gridcolor\": \"#E1E5ED\", \"showgrid\": true, \"tickfont\": {\"color\": \"#4D5663\"}, \"title\": {\"font\": {\"color\": \"#4D5663\"}, \"text\": \"\"}, \"zerolinecolor\": \"#E1E5ED\"}, \"yaxis\": {\"gridcolor\": \"#E1E5ED\", \"showgrid\": true, \"tickfont\": {\"color\": \"#4D5663\"}, \"title\": {\"font\": {\"color\": \"#4D5663\"}, \"text\": \"\"}, \"zerolinecolor\": \"#E1E5ED\"}},\n",
       "                        {\"showLink\": true, \"linkText\": \"Export to plot.ly\", \"plotlyServerURL\": \"https://plot.ly\", \"responsive\": true}\n",
       "                    ).then(function(){\n",
       "                            \n",
       "var gd = document.getElementById('99701f4b-25da-45f1-bbbf-6c9445bc81dd');\n",
       "var x = new MutationObserver(function (mutations, observer) {{\n",
       "        var display = window.getComputedStyle(gd).display;\n",
       "        if (!display || display === 'none') {{\n",
       "            console.log([gd, 'removed!']);\n",
       "            Plotly.purge(gd);\n",
       "            observer.disconnect();\n",
       "        }}\n",
       "}});\n",
       "\n",
       "// Listen for the removal of the full notebook cells\n",
       "var notebookContainer = gd.closest('#notebook-container');\n",
       "if (notebookContainer) {{\n",
       "    x.observe(notebookContainer, {childList: true});\n",
       "}}\n",
       "\n",
       "// Listen for the clearing of the current output cell\n",
       "var outputEl = gd.closest('.output');\n",
       "if (outputEl) {{\n",
       "    x.observe(outputEl, {childList: true});\n",
       "}}\n",
       "\n",
       "                        })\n",
       "                };\n",
       "                });\n",
       "            </script>\n",
       "        </div>"
      ]
     },
     "metadata": {},
     "output_type": "display_data"
    }
   ],
   "source": [
    "# can change colour scale\n",
    "df4.iplot(kind='surface',colorscale='rdylbu')"
   ]
  },
  {
   "cell_type": "code",
   "execution_count": 37,
   "metadata": {},
   "outputs": [
    {
     "data": {
      "application/vnd.plotly.v1+json": {
       "config": {
        "linkText": "Export to plot.ly",
        "plotlyServerURL": "https://plot.ly",
        "showLink": true
       },
       "data": [
        {
         "histfunc": "count",
         "histnorm": "",
         "marker": {
          "color": "rgba(255, 153, 51, 1.0)",
          "line": {
           "color": "#4D5663",
           "width": 1.3
          }
         },
         "name": "A",
         "nbinsx": 50,
         "opacity": 0.8,
         "orientation": "v",
         "type": "histogram",
         "x": [
          -1.516267560230567,
          -1.9207884175074055,
          1.0373966535124963,
          0.14953510936685668,
          -3.999485447186093,
          0.41440508516482133,
          0.7429422015904862,
          -1.4289512487530127,
          0.6905534850783236,
          0.11506940258331375,
          1.9618318262179413,
          0.4820087067882209,
          0.010833293229753694,
          -0.595929986198764,
          -2.113531329590608,
          1.3475913692139152,
          -0.17027902129753222,
          -1.7647043330033494,
          -0.7618858921940336,
          -0.32990065514115696,
          0.5275932665014055,
          -0.012597174270982791,
          0.977197771133166,
          -0.32632061640685095,
          0.08292817175283175,
          -0.8344479918217037,
          1.568391586495905,
          0.35928326522581105,
          -0.6938103952930875,
          0.2879566156066621,
          0.020560596221972264,
          -0.6608720159459609,
          -1.3379447458259173,
          0.09976969555504292,
          -1.8342513136627003,
          0.9586876894546607,
          -1.1058337722839024,
          0.5406356582921222,
          -1.9079890868367126,
          0.25673390912073035,
          -0.09844552196478548,
          0.547433763312957,
          -1.2925028155368672,
          -1.0266178727650466,
          1.1507359785118991,
          -0.4331137041199937,
          0.3750983126336917,
          -0.956571917947313,
          -0.6306287050127768,
          1.1658314936903746,
          0.20727664611040933,
          -0.7125620965948533,
          -1.2329857567549423,
          -1.19301842269195,
          0.7344866094623589,
          0.24825131328164876,
          -0.0703592808778631,
          -0.3940635524410132,
          0.8837620159811025,
          -0.5882788998946945,
          0.857686324715227,
          -1.2759414075844788,
          0.1849841116242509,
          -0.9889213556524264,
          0.37665713077589197,
          0.06736189675688638,
          0.7757816466321904,
          1.0197517246852932,
          2.1963839769565587,
          1.6228329344349806,
          -0.417307672140243,
          0.4883689747400217,
          1.0063943302757847,
          -0.641507073385344,
          0.2592738354357245,
          -1.115946078959094,
          0.4121599174934557,
          -0.5158597744247898,
          1.1280022315312952,
          -0.3627082124069788,
          0.7816328424346314,
          1.1133691254531146,
          1.776942182023018,
          -0.2100716526582734,
          -0.8832821040096712,
          0.10615505370341051,
          -1.2015298986284144,
          -1.6001804881901893,
          -1.0807816016045844,
          -0.9463689237520007,
          -0.5501717411155009,
          0.6915172170167367,
          1.3927574947291392,
          -1.4420007770037622,
          0.9858512592211613,
          -0.6690552083723248,
          -0.23614428440751595,
          -0.30191933616375166,
          1.1650348858496635,
          0.12403058093384871
         ]
        }
       ],
       "layout": {
        "barmode": "overlay",
        "legend": {
         "bgcolor": "#F5F6F9",
         "font": {
          "color": "#4D5663"
         }
        },
        "paper_bgcolor": "#F5F6F9",
        "plot_bgcolor": "#F5F6F9",
        "template": {
         "data": {
          "bar": [
           {
            "error_x": {
             "color": "#2a3f5f"
            },
            "error_y": {
             "color": "#2a3f5f"
            },
            "marker": {
             "line": {
              "color": "#E5ECF6",
              "width": 0.5
             }
            },
            "type": "bar"
           }
          ],
          "barpolar": [
           {
            "marker": {
             "line": {
              "color": "#E5ECF6",
              "width": 0.5
             }
            },
            "type": "barpolar"
           }
          ],
          "carpet": [
           {
            "aaxis": {
             "endlinecolor": "#2a3f5f",
             "gridcolor": "white",
             "linecolor": "white",
             "minorgridcolor": "white",
             "startlinecolor": "#2a3f5f"
            },
            "baxis": {
             "endlinecolor": "#2a3f5f",
             "gridcolor": "white",
             "linecolor": "white",
             "minorgridcolor": "white",
             "startlinecolor": "#2a3f5f"
            },
            "type": "carpet"
           }
          ],
          "choropleth": [
           {
            "colorbar": {
             "outlinewidth": 0,
             "ticks": ""
            },
            "type": "choropleth"
           }
          ],
          "contour": [
           {
            "colorbar": {
             "outlinewidth": 0,
             "ticks": ""
            },
            "colorscale": [
             [
              0,
              "#0d0887"
             ],
             [
              0.1111111111111111,
              "#46039f"
             ],
             [
              0.2222222222222222,
              "#7201a8"
             ],
             [
              0.3333333333333333,
              "#9c179e"
             ],
             [
              0.4444444444444444,
              "#bd3786"
             ],
             [
              0.5555555555555556,
              "#d8576b"
             ],
             [
              0.6666666666666666,
              "#ed7953"
             ],
             [
              0.7777777777777778,
              "#fb9f3a"
             ],
             [
              0.8888888888888888,
              "#fdca26"
             ],
             [
              1,
              "#f0f921"
             ]
            ],
            "type": "contour"
           }
          ],
          "contourcarpet": [
           {
            "colorbar": {
             "outlinewidth": 0,
             "ticks": ""
            },
            "type": "contourcarpet"
           }
          ],
          "heatmap": [
           {
            "colorbar": {
             "outlinewidth": 0,
             "ticks": ""
            },
            "colorscale": [
             [
              0,
              "#0d0887"
             ],
             [
              0.1111111111111111,
              "#46039f"
             ],
             [
              0.2222222222222222,
              "#7201a8"
             ],
             [
              0.3333333333333333,
              "#9c179e"
             ],
             [
              0.4444444444444444,
              "#bd3786"
             ],
             [
              0.5555555555555556,
              "#d8576b"
             ],
             [
              0.6666666666666666,
              "#ed7953"
             ],
             [
              0.7777777777777778,
              "#fb9f3a"
             ],
             [
              0.8888888888888888,
              "#fdca26"
             ],
             [
              1,
              "#f0f921"
             ]
            ],
            "type": "heatmap"
           }
          ],
          "heatmapgl": [
           {
            "colorbar": {
             "outlinewidth": 0,
             "ticks": ""
            },
            "colorscale": [
             [
              0,
              "#0d0887"
             ],
             [
              0.1111111111111111,
              "#46039f"
             ],
             [
              0.2222222222222222,
              "#7201a8"
             ],
             [
              0.3333333333333333,
              "#9c179e"
             ],
             [
              0.4444444444444444,
              "#bd3786"
             ],
             [
              0.5555555555555556,
              "#d8576b"
             ],
             [
              0.6666666666666666,
              "#ed7953"
             ],
             [
              0.7777777777777778,
              "#fb9f3a"
             ],
             [
              0.8888888888888888,
              "#fdca26"
             ],
             [
              1,
              "#f0f921"
             ]
            ],
            "type": "heatmapgl"
           }
          ],
          "histogram": [
           {
            "marker": {
             "colorbar": {
              "outlinewidth": 0,
              "ticks": ""
             }
            },
            "type": "histogram"
           }
          ],
          "histogram2d": [
           {
            "colorbar": {
             "outlinewidth": 0,
             "ticks": ""
            },
            "colorscale": [
             [
              0,
              "#0d0887"
             ],
             [
              0.1111111111111111,
              "#46039f"
             ],
             [
              0.2222222222222222,
              "#7201a8"
             ],
             [
              0.3333333333333333,
              "#9c179e"
             ],
             [
              0.4444444444444444,
              "#bd3786"
             ],
             [
              0.5555555555555556,
              "#d8576b"
             ],
             [
              0.6666666666666666,
              "#ed7953"
             ],
             [
              0.7777777777777778,
              "#fb9f3a"
             ],
             [
              0.8888888888888888,
              "#fdca26"
             ],
             [
              1,
              "#f0f921"
             ]
            ],
            "type": "histogram2d"
           }
          ],
          "histogram2dcontour": [
           {
            "colorbar": {
             "outlinewidth": 0,
             "ticks": ""
            },
            "colorscale": [
             [
              0,
              "#0d0887"
             ],
             [
              0.1111111111111111,
              "#46039f"
             ],
             [
              0.2222222222222222,
              "#7201a8"
             ],
             [
              0.3333333333333333,
              "#9c179e"
             ],
             [
              0.4444444444444444,
              "#bd3786"
             ],
             [
              0.5555555555555556,
              "#d8576b"
             ],
             [
              0.6666666666666666,
              "#ed7953"
             ],
             [
              0.7777777777777778,
              "#fb9f3a"
             ],
             [
              0.8888888888888888,
              "#fdca26"
             ],
             [
              1,
              "#f0f921"
             ]
            ],
            "type": "histogram2dcontour"
           }
          ],
          "mesh3d": [
           {
            "colorbar": {
             "outlinewidth": 0,
             "ticks": ""
            },
            "type": "mesh3d"
           }
          ],
          "parcoords": [
           {
            "line": {
             "colorbar": {
              "outlinewidth": 0,
              "ticks": ""
             }
            },
            "type": "parcoords"
           }
          ],
          "pie": [
           {
            "automargin": true,
            "type": "pie"
           }
          ],
          "scatter": [
           {
            "marker": {
             "colorbar": {
              "outlinewidth": 0,
              "ticks": ""
             }
            },
            "type": "scatter"
           }
          ],
          "scatter3d": [
           {
            "line": {
             "colorbar": {
              "outlinewidth": 0,
              "ticks": ""
             }
            },
            "marker": {
             "colorbar": {
              "outlinewidth": 0,
              "ticks": ""
             }
            },
            "type": "scatter3d"
           }
          ],
          "scattercarpet": [
           {
            "marker": {
             "colorbar": {
              "outlinewidth": 0,
              "ticks": ""
             }
            },
            "type": "scattercarpet"
           }
          ],
          "scattergeo": [
           {
            "marker": {
             "colorbar": {
              "outlinewidth": 0,
              "ticks": ""
             }
            },
            "type": "scattergeo"
           }
          ],
          "scattergl": [
           {
            "marker": {
             "colorbar": {
              "outlinewidth": 0,
              "ticks": ""
             }
            },
            "type": "scattergl"
           }
          ],
          "scattermapbox": [
           {
            "marker": {
             "colorbar": {
              "outlinewidth": 0,
              "ticks": ""
             }
            },
            "type": "scattermapbox"
           }
          ],
          "scatterpolar": [
           {
            "marker": {
             "colorbar": {
              "outlinewidth": 0,
              "ticks": ""
             }
            },
            "type": "scatterpolar"
           }
          ],
          "scatterpolargl": [
           {
            "marker": {
             "colorbar": {
              "outlinewidth": 0,
              "ticks": ""
             }
            },
            "type": "scatterpolargl"
           }
          ],
          "scatterternary": [
           {
            "marker": {
             "colorbar": {
              "outlinewidth": 0,
              "ticks": ""
             }
            },
            "type": "scatterternary"
           }
          ],
          "surface": [
           {
            "colorbar": {
             "outlinewidth": 0,
             "ticks": ""
            },
            "colorscale": [
             [
              0,
              "#0d0887"
             ],
             [
              0.1111111111111111,
              "#46039f"
             ],
             [
              0.2222222222222222,
              "#7201a8"
             ],
             [
              0.3333333333333333,
              "#9c179e"
             ],
             [
              0.4444444444444444,
              "#bd3786"
             ],
             [
              0.5555555555555556,
              "#d8576b"
             ],
             [
              0.6666666666666666,
              "#ed7953"
             ],
             [
              0.7777777777777778,
              "#fb9f3a"
             ],
             [
              0.8888888888888888,
              "#fdca26"
             ],
             [
              1,
              "#f0f921"
             ]
            ],
            "type": "surface"
           }
          ],
          "table": [
           {
            "cells": {
             "fill": {
              "color": "#EBF0F8"
             },
             "line": {
              "color": "white"
             }
            },
            "header": {
             "fill": {
              "color": "#C8D4E3"
             },
             "line": {
              "color": "white"
             }
            },
            "type": "table"
           }
          ]
         },
         "layout": {
          "annotationdefaults": {
           "arrowcolor": "#2a3f5f",
           "arrowhead": 0,
           "arrowwidth": 1
          },
          "coloraxis": {
           "colorbar": {
            "outlinewidth": 0,
            "ticks": ""
           }
          },
          "colorscale": {
           "diverging": [
            [
             0,
             "#8e0152"
            ],
            [
             0.1,
             "#c51b7d"
            ],
            [
             0.2,
             "#de77ae"
            ],
            [
             0.3,
             "#f1b6da"
            ],
            [
             0.4,
             "#fde0ef"
            ],
            [
             0.5,
             "#f7f7f7"
            ],
            [
             0.6,
             "#e6f5d0"
            ],
            [
             0.7,
             "#b8e186"
            ],
            [
             0.8,
             "#7fbc41"
            ],
            [
             0.9,
             "#4d9221"
            ],
            [
             1,
             "#276419"
            ]
           ],
           "sequential": [
            [
             0,
             "#0d0887"
            ],
            [
             0.1111111111111111,
             "#46039f"
            ],
            [
             0.2222222222222222,
             "#7201a8"
            ],
            [
             0.3333333333333333,
             "#9c179e"
            ],
            [
             0.4444444444444444,
             "#bd3786"
            ],
            [
             0.5555555555555556,
             "#d8576b"
            ],
            [
             0.6666666666666666,
             "#ed7953"
            ],
            [
             0.7777777777777778,
             "#fb9f3a"
            ],
            [
             0.8888888888888888,
             "#fdca26"
            ],
            [
             1,
             "#f0f921"
            ]
           ],
           "sequentialminus": [
            [
             0,
             "#0d0887"
            ],
            [
             0.1111111111111111,
             "#46039f"
            ],
            [
             0.2222222222222222,
             "#7201a8"
            ],
            [
             0.3333333333333333,
             "#9c179e"
            ],
            [
             0.4444444444444444,
             "#bd3786"
            ],
            [
             0.5555555555555556,
             "#d8576b"
            ],
            [
             0.6666666666666666,
             "#ed7953"
            ],
            [
             0.7777777777777778,
             "#fb9f3a"
            ],
            [
             0.8888888888888888,
             "#fdca26"
            ],
            [
             1,
             "#f0f921"
            ]
           ]
          },
          "colorway": [
           "#636efa",
           "#EF553B",
           "#00cc96",
           "#ab63fa",
           "#FFA15A",
           "#19d3f3",
           "#FF6692",
           "#B6E880",
           "#FF97FF",
           "#FECB52"
          ],
          "font": {
           "color": "#2a3f5f"
          },
          "geo": {
           "bgcolor": "white",
           "lakecolor": "white",
           "landcolor": "#E5ECF6",
           "showlakes": true,
           "showland": true,
           "subunitcolor": "white"
          },
          "hoverlabel": {
           "align": "left"
          },
          "hovermode": "closest",
          "mapbox": {
           "style": "light"
          },
          "paper_bgcolor": "white",
          "plot_bgcolor": "#E5ECF6",
          "polar": {
           "angularaxis": {
            "gridcolor": "white",
            "linecolor": "white",
            "ticks": ""
           },
           "bgcolor": "#E5ECF6",
           "radialaxis": {
            "gridcolor": "white",
            "linecolor": "white",
            "ticks": ""
           }
          },
          "scene": {
           "xaxis": {
            "backgroundcolor": "#E5ECF6",
            "gridcolor": "white",
            "gridwidth": 2,
            "linecolor": "white",
            "showbackground": true,
            "ticks": "",
            "zerolinecolor": "white"
           },
           "yaxis": {
            "backgroundcolor": "#E5ECF6",
            "gridcolor": "white",
            "gridwidth": 2,
            "linecolor": "white",
            "showbackground": true,
            "ticks": "",
            "zerolinecolor": "white"
           },
           "zaxis": {
            "backgroundcolor": "#E5ECF6",
            "gridcolor": "white",
            "gridwidth": 2,
            "linecolor": "white",
            "showbackground": true,
            "ticks": "",
            "zerolinecolor": "white"
           }
          },
          "shapedefaults": {
           "line": {
            "color": "#2a3f5f"
           }
          },
          "ternary": {
           "aaxis": {
            "gridcolor": "white",
            "linecolor": "white",
            "ticks": ""
           },
           "baxis": {
            "gridcolor": "white",
            "linecolor": "white",
            "ticks": ""
           },
           "bgcolor": "#E5ECF6",
           "caxis": {
            "gridcolor": "white",
            "linecolor": "white",
            "ticks": ""
           }
          },
          "title": {
           "x": 0.05
          },
          "xaxis": {
           "automargin": true,
           "gridcolor": "white",
           "linecolor": "white",
           "ticks": "",
           "title": {
            "standoff": 15
           },
           "zerolinecolor": "white",
           "zerolinewidth": 2
          },
          "yaxis": {
           "automargin": true,
           "gridcolor": "white",
           "linecolor": "white",
           "ticks": "",
           "title": {
            "standoff": 15
           },
           "zerolinecolor": "white",
           "zerolinewidth": 2
          }
         }
        },
        "title": {
         "font": {
          "color": "#4D5663"
         }
        },
        "xaxis": {
         "gridcolor": "#E1E5ED",
         "showgrid": true,
         "tickfont": {
          "color": "#4D5663"
         },
         "title": {
          "font": {
           "color": "#4D5663"
          },
          "text": ""
         },
         "zerolinecolor": "#E1E5ED"
        },
        "yaxis": {
         "gridcolor": "#E1E5ED",
         "showgrid": true,
         "tickfont": {
          "color": "#4D5663"
         },
         "title": {
          "font": {
           "color": "#4D5663"
          },
          "text": ""
         },
         "zerolinecolor": "#E1E5ED"
        }
       }
      },
      "text/html": [
       "<div>\n",
       "        \n",
       "        \n",
       "            <div id=\"9ff7a712-9f41-4afe-87fc-ee77e7486e96\" class=\"plotly-graph-div\" style=\"height:525px; width:100%;\"></div>\n",
       "            <script type=\"text/javascript\">\n",
       "                require([\"plotly\"], function(Plotly) {\n",
       "                    window.PLOTLYENV=window.PLOTLYENV || {};\n",
       "                    window.PLOTLYENV.BASE_URL='https://plot.ly';\n",
       "                    \n",
       "                if (document.getElementById(\"9ff7a712-9f41-4afe-87fc-ee77e7486e96\")) {\n",
       "                    Plotly.newPlot(\n",
       "                        '9ff7a712-9f41-4afe-87fc-ee77e7486e96',\n",
       "                        [{\"histfunc\": \"count\", \"histnorm\": \"\", \"marker\": {\"color\": \"rgba(255, 153, 51, 1.0)\", \"line\": {\"color\": \"#4D5663\", \"width\": 1.3}}, \"name\": \"A\", \"nbinsx\": 50, \"opacity\": 0.8, \"orientation\": \"v\", \"type\": \"histogram\", \"x\": [-1.516267560230567, -1.9207884175074055, 1.0373966535124963, 0.14953510936685668, -3.999485447186093, 0.41440508516482133, 0.7429422015904862, -1.4289512487530127, 0.6905534850783236, 0.11506940258331375, 1.9618318262179413, 0.4820087067882209, 0.010833293229753694, -0.595929986198764, -2.113531329590608, 1.3475913692139152, -0.17027902129753222, -1.7647043330033494, -0.7618858921940336, -0.32990065514115696, 0.5275932665014055, -0.012597174270982791, 0.977197771133166, -0.32632061640685095, 0.08292817175283175, -0.8344479918217037, 1.568391586495905, 0.35928326522581105, -0.6938103952930875, 0.2879566156066621, 0.020560596221972264, -0.6608720159459609, -1.3379447458259173, 0.09976969555504292, -1.8342513136627003, 0.9586876894546607, -1.1058337722839024, 0.5406356582921222, -1.9079890868367126, 0.25673390912073035, -0.09844552196478548, 0.547433763312957, -1.2925028155368672, -1.0266178727650466, 1.1507359785118991, -0.4331137041199937, 0.3750983126336917, -0.956571917947313, -0.6306287050127768, 1.1658314936903746, 0.20727664611040933, -0.7125620965948533, -1.2329857567549423, -1.19301842269195, 0.7344866094623589, 0.24825131328164876, -0.0703592808778631, -0.3940635524410132, 0.8837620159811025, -0.5882788998946945, 0.857686324715227, -1.2759414075844788, 0.1849841116242509, -0.9889213556524264, 0.37665713077589197, 0.06736189675688638, 0.7757816466321904, 1.0197517246852932, 2.1963839769565587, 1.6228329344349806, -0.417307672140243, 0.4883689747400217, 1.0063943302757847, -0.641507073385344, 0.2592738354357245, -1.115946078959094, 0.4121599174934557, -0.5158597744247898, 1.1280022315312952, -0.3627082124069788, 0.7816328424346314, 1.1133691254531146, 1.776942182023018, -0.2100716526582734, -0.8832821040096712, 0.10615505370341051, -1.2015298986284144, -1.6001804881901893, -1.0807816016045844, -0.9463689237520007, -0.5501717411155009, 0.6915172170167367, 1.3927574947291392, -1.4420007770037622, 0.9858512592211613, -0.6690552083723248, -0.23614428440751595, -0.30191933616375166, 1.1650348858496635, 0.12403058093384871]}],\n",
       "                        {\"barmode\": \"overlay\", \"legend\": {\"bgcolor\": \"#F5F6F9\", \"font\": {\"color\": \"#4D5663\"}}, \"paper_bgcolor\": \"#F5F6F9\", \"plot_bgcolor\": \"#F5F6F9\", \"template\": {\"data\": {\"bar\": [{\"error_x\": {\"color\": \"#2a3f5f\"}, \"error_y\": {\"color\": \"#2a3f5f\"}, \"marker\": {\"line\": {\"color\": \"#E5ECF6\", \"width\": 0.5}}, \"type\": \"bar\"}], \"barpolar\": [{\"marker\": {\"line\": {\"color\": \"#E5ECF6\", \"width\": 0.5}}, \"type\": \"barpolar\"}], \"carpet\": [{\"aaxis\": {\"endlinecolor\": \"#2a3f5f\", \"gridcolor\": \"white\", \"linecolor\": \"white\", \"minorgridcolor\": \"white\", \"startlinecolor\": \"#2a3f5f\"}, \"baxis\": {\"endlinecolor\": \"#2a3f5f\", \"gridcolor\": \"white\", \"linecolor\": \"white\", \"minorgridcolor\": \"white\", \"startlinecolor\": \"#2a3f5f\"}, \"type\": \"carpet\"}], \"choropleth\": [{\"colorbar\": {\"outlinewidth\": 0, \"ticks\": \"\"}, \"type\": \"choropleth\"}], \"contour\": [{\"colorbar\": {\"outlinewidth\": 0, \"ticks\": \"\"}, \"colorscale\": [[0.0, \"#0d0887\"], [0.1111111111111111, \"#46039f\"], [0.2222222222222222, \"#7201a8\"], [0.3333333333333333, \"#9c179e\"], [0.4444444444444444, \"#bd3786\"], [0.5555555555555556, \"#d8576b\"], [0.6666666666666666, \"#ed7953\"], [0.7777777777777778, \"#fb9f3a\"], [0.8888888888888888, \"#fdca26\"], [1.0, \"#f0f921\"]], \"type\": \"contour\"}], \"contourcarpet\": [{\"colorbar\": {\"outlinewidth\": 0, \"ticks\": \"\"}, \"type\": \"contourcarpet\"}], \"heatmap\": [{\"colorbar\": {\"outlinewidth\": 0, \"ticks\": \"\"}, \"colorscale\": [[0.0, \"#0d0887\"], [0.1111111111111111, \"#46039f\"], [0.2222222222222222, \"#7201a8\"], [0.3333333333333333, \"#9c179e\"], [0.4444444444444444, \"#bd3786\"], [0.5555555555555556, \"#d8576b\"], [0.6666666666666666, \"#ed7953\"], [0.7777777777777778, \"#fb9f3a\"], [0.8888888888888888, \"#fdca26\"], [1.0, \"#f0f921\"]], \"type\": \"heatmap\"}], \"heatmapgl\": [{\"colorbar\": {\"outlinewidth\": 0, \"ticks\": \"\"}, \"colorscale\": [[0.0, \"#0d0887\"], [0.1111111111111111, \"#46039f\"], [0.2222222222222222, \"#7201a8\"], [0.3333333333333333, \"#9c179e\"], [0.4444444444444444, \"#bd3786\"], [0.5555555555555556, \"#d8576b\"], [0.6666666666666666, \"#ed7953\"], [0.7777777777777778, \"#fb9f3a\"], [0.8888888888888888, \"#fdca26\"], [1.0, \"#f0f921\"]], \"type\": \"heatmapgl\"}], \"histogram\": [{\"marker\": {\"colorbar\": {\"outlinewidth\": 0, \"ticks\": \"\"}}, \"type\": \"histogram\"}], \"histogram2d\": [{\"colorbar\": {\"outlinewidth\": 0, \"ticks\": \"\"}, \"colorscale\": [[0.0, \"#0d0887\"], [0.1111111111111111, \"#46039f\"], [0.2222222222222222, \"#7201a8\"], [0.3333333333333333, \"#9c179e\"], [0.4444444444444444, \"#bd3786\"], [0.5555555555555556, \"#d8576b\"], [0.6666666666666666, \"#ed7953\"], [0.7777777777777778, \"#fb9f3a\"], [0.8888888888888888, \"#fdca26\"], [1.0, \"#f0f921\"]], \"type\": \"histogram2d\"}], \"histogram2dcontour\": [{\"colorbar\": {\"outlinewidth\": 0, \"ticks\": \"\"}, \"colorscale\": [[0.0, \"#0d0887\"], [0.1111111111111111, \"#46039f\"], [0.2222222222222222, \"#7201a8\"], [0.3333333333333333, \"#9c179e\"], [0.4444444444444444, \"#bd3786\"], [0.5555555555555556, \"#d8576b\"], [0.6666666666666666, \"#ed7953\"], [0.7777777777777778, \"#fb9f3a\"], [0.8888888888888888, \"#fdca26\"], [1.0, \"#f0f921\"]], \"type\": \"histogram2dcontour\"}], \"mesh3d\": [{\"colorbar\": {\"outlinewidth\": 0, \"ticks\": \"\"}, \"type\": \"mesh3d\"}], \"parcoords\": [{\"line\": {\"colorbar\": {\"outlinewidth\": 0, \"ticks\": \"\"}}, \"type\": \"parcoords\"}], \"pie\": [{\"automargin\": true, \"type\": \"pie\"}], \"scatter\": [{\"marker\": {\"colorbar\": {\"outlinewidth\": 0, \"ticks\": \"\"}}, \"type\": \"scatter\"}], \"scatter3d\": [{\"line\": {\"colorbar\": {\"outlinewidth\": 0, \"ticks\": \"\"}}, \"marker\": {\"colorbar\": {\"outlinewidth\": 0, \"ticks\": \"\"}}, \"type\": \"scatter3d\"}], \"scattercarpet\": [{\"marker\": {\"colorbar\": {\"outlinewidth\": 0, \"ticks\": \"\"}}, \"type\": \"scattercarpet\"}], \"scattergeo\": [{\"marker\": {\"colorbar\": {\"outlinewidth\": 0, \"ticks\": \"\"}}, \"type\": \"scattergeo\"}], \"scattergl\": [{\"marker\": {\"colorbar\": {\"outlinewidth\": 0, \"ticks\": \"\"}}, \"type\": \"scattergl\"}], \"scattermapbox\": [{\"marker\": {\"colorbar\": {\"outlinewidth\": 0, \"ticks\": \"\"}}, \"type\": \"scattermapbox\"}], \"scatterpolar\": [{\"marker\": {\"colorbar\": {\"outlinewidth\": 0, \"ticks\": \"\"}}, \"type\": \"scatterpolar\"}], \"scatterpolargl\": [{\"marker\": {\"colorbar\": {\"outlinewidth\": 0, \"ticks\": \"\"}}, \"type\": \"scatterpolargl\"}], \"scatterternary\": [{\"marker\": {\"colorbar\": {\"outlinewidth\": 0, \"ticks\": \"\"}}, \"type\": \"scatterternary\"}], \"surface\": [{\"colorbar\": {\"outlinewidth\": 0, \"ticks\": \"\"}, \"colorscale\": [[0.0, \"#0d0887\"], [0.1111111111111111, \"#46039f\"], [0.2222222222222222, \"#7201a8\"], [0.3333333333333333, \"#9c179e\"], [0.4444444444444444, \"#bd3786\"], [0.5555555555555556, \"#d8576b\"], [0.6666666666666666, \"#ed7953\"], [0.7777777777777778, \"#fb9f3a\"], [0.8888888888888888, \"#fdca26\"], [1.0, \"#f0f921\"]], \"type\": \"surface\"}], \"table\": [{\"cells\": {\"fill\": {\"color\": \"#EBF0F8\"}, \"line\": {\"color\": \"white\"}}, \"header\": {\"fill\": {\"color\": \"#C8D4E3\"}, \"line\": {\"color\": \"white\"}}, \"type\": \"table\"}]}, \"layout\": {\"annotationdefaults\": {\"arrowcolor\": \"#2a3f5f\", \"arrowhead\": 0, \"arrowwidth\": 1}, \"coloraxis\": {\"colorbar\": {\"outlinewidth\": 0, \"ticks\": \"\"}}, \"colorscale\": {\"diverging\": [[0, \"#8e0152\"], [0.1, \"#c51b7d\"], [0.2, \"#de77ae\"], [0.3, \"#f1b6da\"], [0.4, \"#fde0ef\"], [0.5, \"#f7f7f7\"], [0.6, \"#e6f5d0\"], [0.7, \"#b8e186\"], [0.8, \"#7fbc41\"], [0.9, \"#4d9221\"], [1, \"#276419\"]], \"sequential\": [[0.0, \"#0d0887\"], [0.1111111111111111, \"#46039f\"], [0.2222222222222222, \"#7201a8\"], [0.3333333333333333, \"#9c179e\"], [0.4444444444444444, \"#bd3786\"], [0.5555555555555556, \"#d8576b\"], [0.6666666666666666, \"#ed7953\"], [0.7777777777777778, \"#fb9f3a\"], [0.8888888888888888, \"#fdca26\"], [1.0, \"#f0f921\"]], \"sequentialminus\": [[0.0, \"#0d0887\"], [0.1111111111111111, \"#46039f\"], [0.2222222222222222, \"#7201a8\"], [0.3333333333333333, \"#9c179e\"], [0.4444444444444444, \"#bd3786\"], [0.5555555555555556, \"#d8576b\"], [0.6666666666666666, \"#ed7953\"], [0.7777777777777778, \"#fb9f3a\"], [0.8888888888888888, \"#fdca26\"], [1.0, \"#f0f921\"]]}, \"colorway\": [\"#636efa\", \"#EF553B\", \"#00cc96\", \"#ab63fa\", \"#FFA15A\", \"#19d3f3\", \"#FF6692\", \"#B6E880\", \"#FF97FF\", \"#FECB52\"], \"font\": {\"color\": \"#2a3f5f\"}, \"geo\": {\"bgcolor\": \"white\", \"lakecolor\": \"white\", \"landcolor\": \"#E5ECF6\", \"showlakes\": true, \"showland\": true, \"subunitcolor\": \"white\"}, \"hoverlabel\": {\"align\": \"left\"}, \"hovermode\": \"closest\", \"mapbox\": {\"style\": \"light\"}, \"paper_bgcolor\": \"white\", \"plot_bgcolor\": \"#E5ECF6\", \"polar\": {\"angularaxis\": {\"gridcolor\": \"white\", \"linecolor\": \"white\", \"ticks\": \"\"}, \"bgcolor\": \"#E5ECF6\", \"radialaxis\": {\"gridcolor\": \"white\", \"linecolor\": \"white\", \"ticks\": \"\"}}, \"scene\": {\"xaxis\": {\"backgroundcolor\": \"#E5ECF6\", \"gridcolor\": \"white\", \"gridwidth\": 2, \"linecolor\": \"white\", \"showbackground\": true, \"ticks\": \"\", \"zerolinecolor\": \"white\"}, \"yaxis\": {\"backgroundcolor\": \"#E5ECF6\", \"gridcolor\": \"white\", \"gridwidth\": 2, \"linecolor\": \"white\", \"showbackground\": true, \"ticks\": \"\", \"zerolinecolor\": \"white\"}, \"zaxis\": {\"backgroundcolor\": \"#E5ECF6\", \"gridcolor\": \"white\", \"gridwidth\": 2, \"linecolor\": \"white\", \"showbackground\": true, \"ticks\": \"\", \"zerolinecolor\": \"white\"}}, \"shapedefaults\": {\"line\": {\"color\": \"#2a3f5f\"}}, \"ternary\": {\"aaxis\": {\"gridcolor\": \"white\", \"linecolor\": \"white\", \"ticks\": \"\"}, \"baxis\": {\"gridcolor\": \"white\", \"linecolor\": \"white\", \"ticks\": \"\"}, \"bgcolor\": \"#E5ECF6\", \"caxis\": {\"gridcolor\": \"white\", \"linecolor\": \"white\", \"ticks\": \"\"}}, \"title\": {\"x\": 0.05}, \"xaxis\": {\"automargin\": true, \"gridcolor\": \"white\", \"linecolor\": \"white\", \"ticks\": \"\", \"title\": {\"standoff\": 15}, \"zerolinecolor\": \"white\", \"zerolinewidth\": 2}, \"yaxis\": {\"automargin\": true, \"gridcolor\": \"white\", \"linecolor\": \"white\", \"ticks\": \"\", \"title\": {\"standoff\": 15}, \"zerolinecolor\": \"white\", \"zerolinewidth\": 2}}}, \"title\": {\"font\": {\"color\": \"#4D5663\"}}, \"xaxis\": {\"gridcolor\": \"#E1E5ED\", \"showgrid\": true, \"tickfont\": {\"color\": \"#4D5663\"}, \"title\": {\"font\": {\"color\": \"#4D5663\"}, \"text\": \"\"}, \"zerolinecolor\": \"#E1E5ED\"}, \"yaxis\": {\"gridcolor\": \"#E1E5ED\", \"showgrid\": true, \"tickfont\": {\"color\": \"#4D5663\"}, \"title\": {\"font\": {\"color\": \"#4D5663\"}, \"text\": \"\"}, \"zerolinecolor\": \"#E1E5ED\"}},\n",
       "                        {\"showLink\": true, \"linkText\": \"Export to plot.ly\", \"plotlyServerURL\": \"https://plot.ly\", \"responsive\": true}\n",
       "                    ).then(function(){\n",
       "                            \n",
       "var gd = document.getElementById('9ff7a712-9f41-4afe-87fc-ee77e7486e96');\n",
       "var x = new MutationObserver(function (mutations, observer) {{\n",
       "        var display = window.getComputedStyle(gd).display;\n",
       "        if (!display || display === 'none') {{\n",
       "            console.log([gd, 'removed!']);\n",
       "            Plotly.purge(gd);\n",
       "            observer.disconnect();\n",
       "        }}\n",
       "}});\n",
       "\n",
       "// Listen for the removal of the full notebook cells\n",
       "var notebookContainer = gd.closest('#notebook-container');\n",
       "if (notebookContainer) {{\n",
       "    x.observe(notebookContainer, {childList: true});\n",
       "}}\n",
       "\n",
       "// Listen for the clearing of the current output cell\n",
       "var outputEl = gd.closest('.output');\n",
       "if (outputEl) {{\n",
       "    x.observe(outputEl, {childList: true});\n",
       "}}\n",
       "\n",
       "                        })\n",
       "                };\n",
       "                });\n",
       "            </script>\n",
       "        </div>"
      ]
     },
     "metadata": {},
     "output_type": "display_data"
    }
   ],
   "source": [
    "# histogram\n",
    "df['A'].iplot(kind='hist',bins=50)"
   ]
  },
  {
   "cell_type": "code",
   "execution_count": 38,
   "metadata": {},
   "outputs": [
    {
     "data": {
      "application/vnd.plotly.v1+json": {
       "config": {
        "linkText": "Export to plot.ly",
        "plotlyServerURL": "https://plot.ly",
        "showLink": true
       },
       "data": [
        {
         "histfunc": "count",
         "histnorm": "",
         "marker": {
          "color": "rgba(255, 153, 51, 1.0)",
          "line": {
           "color": "#4D5663",
           "width": 1.3
          }
         },
         "name": "A",
         "opacity": 0.8,
         "orientation": "v",
         "type": "histogram",
         "x": [
          -1.516267560230567,
          -1.9207884175074055,
          1.0373966535124963,
          0.14953510936685668,
          -3.999485447186093,
          0.41440508516482133,
          0.7429422015904862,
          -1.4289512487530127,
          0.6905534850783236,
          0.11506940258331375,
          1.9618318262179413,
          0.4820087067882209,
          0.010833293229753694,
          -0.595929986198764,
          -2.113531329590608,
          1.3475913692139152,
          -0.17027902129753222,
          -1.7647043330033494,
          -0.7618858921940336,
          -0.32990065514115696,
          0.5275932665014055,
          -0.012597174270982791,
          0.977197771133166,
          -0.32632061640685095,
          0.08292817175283175,
          -0.8344479918217037,
          1.568391586495905,
          0.35928326522581105,
          -0.6938103952930875,
          0.2879566156066621,
          0.020560596221972264,
          -0.6608720159459609,
          -1.3379447458259173,
          0.09976969555504292,
          -1.8342513136627003,
          0.9586876894546607,
          -1.1058337722839024,
          0.5406356582921222,
          -1.9079890868367126,
          0.25673390912073035,
          -0.09844552196478548,
          0.547433763312957,
          -1.2925028155368672,
          -1.0266178727650466,
          1.1507359785118991,
          -0.4331137041199937,
          0.3750983126336917,
          -0.956571917947313,
          -0.6306287050127768,
          1.1658314936903746,
          0.20727664611040933,
          -0.7125620965948533,
          -1.2329857567549423,
          -1.19301842269195,
          0.7344866094623589,
          0.24825131328164876,
          -0.0703592808778631,
          -0.3940635524410132,
          0.8837620159811025,
          -0.5882788998946945,
          0.857686324715227,
          -1.2759414075844788,
          0.1849841116242509,
          -0.9889213556524264,
          0.37665713077589197,
          0.06736189675688638,
          0.7757816466321904,
          1.0197517246852932,
          2.1963839769565587,
          1.6228329344349806,
          -0.417307672140243,
          0.4883689747400217,
          1.0063943302757847,
          -0.641507073385344,
          0.2592738354357245,
          -1.115946078959094,
          0.4121599174934557,
          -0.5158597744247898,
          1.1280022315312952,
          -0.3627082124069788,
          0.7816328424346314,
          1.1133691254531146,
          1.776942182023018,
          -0.2100716526582734,
          -0.8832821040096712,
          0.10615505370341051,
          -1.2015298986284144,
          -1.6001804881901893,
          -1.0807816016045844,
          -0.9463689237520007,
          -0.5501717411155009,
          0.6915172170167367,
          1.3927574947291392,
          -1.4420007770037622,
          0.9858512592211613,
          -0.6690552083723248,
          -0.23614428440751595,
          -0.30191933616375166,
          1.1650348858496635,
          0.12403058093384871
         ]
        },
        {
         "histfunc": "count",
         "histnorm": "",
         "marker": {
          "color": "rgba(55, 128, 191, 1.0)",
          "line": {
           "color": "#4D5663",
           "width": 1.3
          }
         },
         "name": "B",
         "opacity": 0.8,
         "orientation": "v",
         "type": "histogram",
         "x": [
          0.7560556932599837,
          0.1861617358883027,
          -0.45946401974499407,
          0.5363725650333798,
          -0.2826907049744466,
          0.9869378586623979,
          -0.6293265326245278,
          0.34986000372960885,
          -0.5320627851308627,
          -1.0447729626343751,
          -0.02070322248580189,
          0.6798959897817697,
          0.5763501818321275,
          2.223053447818855,
          -0.8875788326999193,
          0.1615787630842412,
          0.3567709085089428,
          0.5248938481707832,
          0.9271245772107571,
          -0.7937188090872309,
          -0.6378307034357991,
          -0.17620310244789048,
          -0.23574356411919412,
          -1.527418059284275,
          -1.4533726991112783,
          -1.2953156503840655,
          0.6210477547351118,
          0.15506917930022304,
          1.1950725809051264,
          -0.04247534795006339,
          0.7659378064150684,
          -0.5615692618981515,
          0.5737791878517139,
          -1.6006308572561425,
          -2.0333950285797724,
          0.9346585456145193,
          0.9488633527962949,
          -0.4745063070449874,
          -0.7734177445027147,
          1.16465395450693,
          1.4686285828616743,
          -0.7166223975541242,
          -1.2791480009837546,
          -1.3619596644254246,
          0.7391929603399298,
          1.1533967674155505,
          0.3919443359002727,
          -0.9920921182175484,
          -0.9872936922072552,
          0.9000315317637086,
          0.004605680217882535,
          0.1132365767180532,
          -2.435324506895573,
          -0.7597271181186379,
          -0.5264360772598415,
          -0.3121916127736122,
          1.2307918201579024,
          1.869523187447704,
          -0.8858686376106412,
          0.543726783419556,
          -0.24643024780589254,
          -1.0030147432944985,
          -0.16165591281686184,
          2.226299463444169,
          -0.9553257863435494,
          -0.29638314164963764,
          3.0766450558184446,
          0.5921688084872822,
          -0.5443244331161018,
          0.34831653131719215,
          0.07205649871924576,
          1.6331107284138258,
          -0.5047645502368753,
          1.9948204982562445,
          0.24547203312160698,
          -0.27026650540474917,
          -0.08129411360953269,
          0.5285605980807471,
          0.5823235382880914,
          -0.2600138020280055,
          -0.16891644200176278,
          0.1014571072555472,
          -0.3585139768204954,
          -1.6969407642537817,
          0.9902414663906203,
          -0.7067845545991822,
          -1.3549550916722233,
          0.3266717614722,
          0.722908659201581,
          -0.48226300279897943,
          -2.6040444968163907,
          -1.1310424188559618,
          -2.016050162462118,
          -0.8432923110307549,
          0.1718208037412506,
          -0.6124292996478096,
          -1.257773712778361,
          -1.6465683792803527,
          0.14999425467185448,
          -0.24201883863756485
         ]
        },
        {
         "histfunc": "count",
         "histnorm": "",
         "marker": {
          "color": "rgba(50, 171, 96, 1.0)",
          "line": {
           "color": "#4D5663",
           "width": 1.3
          }
         },
         "name": "C",
         "opacity": 0.8,
         "orientation": "v",
         "type": "histogram",
         "x": [
          0.8075329633556021,
          1.1774280375163513,
          -0.6014210535259376,
          0.07832612005513975,
          -1.7155009840661166,
          0.7035414537135141,
          0.8417927248686057,
          0.3748580340476217,
          -0.304945229712358,
          0.4211204380864479,
          0.735136750654394,
          -0.2741375696064217,
          -0.9351479186335825,
          -1.1396293625847214,
          0.6140068231092876,
          0.3562576971054651,
          -0.7047026891394264,
          -0.9432943051102678,
          0.7597156187613746,
          0.8464495262910379,
          0.6868534419181007,
          -0.8562197378807854,
          -0.5815031808440854,
          0.051146836255641655,
          1.367564231862464,
          -0.46229837263073564,
          2.2475048457753886,
          -0.8619959017315432,
          -0.908873144834571,
          -0.39423141306929993,
          0.1891999834297446,
          1.3165420591801689,
          0.3529560878107613,
          1.05534709251322,
          0.7731486762660107,
          1.6042316111721489,
          -0.4105421652787086,
          0.21597120648202386,
          -0.4048423743583727,
          -0.5410710325474366,
          1.3029986750296814,
          -1.2216582067120945,
          -0.2877632187371062,
          0.2864779198647285,
          1.212951585281548,
          0.6485129056737563,
          0.18531217997808083,
          -0.680445857051702,
          0.5170626300905937,
          -0.8328571848850191,
          1.0089132907191372,
          0.5605661111024343,
          -0.5418390448470031,
          -0.057394466151699276,
          -0.02762680605564009,
          -1.2589958382873707,
          0.9175957862194427,
          1.3027871559059288,
          -0.4184142964253094,
          -0.015556868338890308,
          -0.7472347864718828,
          -0.641803946445278,
          1.0688577905407268,
          0.2479386831831523,
          0.8015844949247076,
          -0.7586268387861957,
          -0.38405669593162456,
          -0.8505493494111646,
          -0.42971382252105217,
          0.5971083106876616,
          -1.1080763354452292,
          0.9126658039380318,
          0.8368071245792087,
          0.4160418406091262,
          2.3259294956907732,
          0.6625347106516749,
          1.1190819353211914,
          -0.18104618713916434,
          -0.01837031625668125,
          0.4562313734425662,
          -0.7531440947132809,
          -0.9683539960380266,
          -0.10537954212188595,
          -0.6149617031626683,
          -0.04292467163872477,
          -0.18099266235163322,
          -0.33022789800633723,
          0.9596997277449528,
          0.12471184363949661,
          0.522556467422449,
          0.871303923310238,
          -1.4661486934626757,
          0.24887468376197597,
          2.256319398182052,
          1.16405886946189,
          0.5128261275993566,
          -0.768220685178201,
          -0.09127765202544696,
          -1.0973940577290768,
          -0.9682176998418792
         ]
        },
        {
         "histfunc": "count",
         "histnorm": "",
         "marker": {
          "color": "rgba(128, 0, 128, 1.0)",
          "line": {
           "color": "#4D5663",
           "width": 1.3
          }
         },
         "name": "D",
         "opacity": 0.8,
         "orientation": "v",
         "type": "histogram",
         "x": [
          0.4014918667753453,
          -1.0527835785103015,
          0.6783187881078234,
          0.7649936889727516,
          -1.1274163808466917,
          0.23231053135724067,
          -0.6234847256031335,
          0.5177435401456703,
          -1.3497744575101418,
          -0.9445947799978384,
          0.9993230603164184,
          -0.32813659124069827,
          -2.4873454326976416,
          0.23373081431391704,
          -1.2698236657889295,
          -1.0819958194740864,
          0.48944497238523554,
          -0.0870913581820666,
          0.4520894854769399,
          0.3685869778498855,
          -0.018623861888844594,
          -0.7361625385230917,
          -0.9379072634960933,
          -0.43271162020157156,
          0.5717431862977355,
          -1.0863445421513354,
          0.6895465419898549,
          -0.02104765288212073,
          0.21044849744988786,
          -0.21060376326527153,
          -0.1751901167494546,
          2.4267729695171383,
          1.1144251258610327,
          0.6088822364466963,
          1.0742530678495064,
          -1.673162766707186,
          0.8141293794284068,
          -0.671250126501007,
          -0.1119807844623894,
          0.6827059956836821,
          -2.0086429350470563,
          -0.3182967446586569,
          0.7566624514615232,
          -0.25674945298533824,
          0.5397642656518596,
          -2.1227957924654897,
          1.5314276962262283,
          1.4919611694698254,
          1.269574054782094,
          -1.0916311869393023,
          -0.3437996306930975,
          1.4347510492864688,
          1.2762427379159493,
          0.21416609162142103,
          -0.197175852514856,
          0.3223939268519974,
          0.4770435887408125,
          -1.2437863927715238,
          0.026588683601995435,
          0.32869167896277063,
          1.5214987121045702,
          0.821282750843137,
          0.4796940104196587,
          -0.8907667152685849,
          0.537578488866459,
          0.4846947974682395,
          -0.8342563397109818,
          0.9012246659006108,
          -0.031084575491218874,
          -0.4390259765356436,
          2.6497943870848877,
          0.15636182258080236,
          -0.04297633147906922,
          0.09414708464977088,
          -1.2680837159614444,
          -0.331002953982354,
          0.6895397124327335,
          -0.8093776634653645,
          -2.0170703969219725,
          0.33936665036701874,
          0.6943810852290068,
          0.624720221317302,
          0.5049175711349475,
          -0.11540280204630413,
          0.27341016033136567,
          0.8854226746417551,
          -0.3493524737887093,
          0.00017440721187257863,
          0.4571801241143655,
          -1.0474263154899806,
          -0.06046386609324998,
          -0.6420828131993251,
          -0.6128988878340906,
          0.8707626928414187,
          0.779901154494852,
          -0.762949383763312,
          -0.3161555736028018,
          0.9312707513336201,
          0.2176505285610799,
          -0.2166411172749589
         ]
        }
       ],
       "layout": {
        "barmode": "overlay",
        "legend": {
         "bgcolor": "#F5F6F9",
         "font": {
          "color": "#4D5663"
         }
        },
        "paper_bgcolor": "#F5F6F9",
        "plot_bgcolor": "#F5F6F9",
        "template": {
         "data": {
          "bar": [
           {
            "error_x": {
             "color": "#2a3f5f"
            },
            "error_y": {
             "color": "#2a3f5f"
            },
            "marker": {
             "line": {
              "color": "#E5ECF6",
              "width": 0.5
             }
            },
            "type": "bar"
           }
          ],
          "barpolar": [
           {
            "marker": {
             "line": {
              "color": "#E5ECF6",
              "width": 0.5
             }
            },
            "type": "barpolar"
           }
          ],
          "carpet": [
           {
            "aaxis": {
             "endlinecolor": "#2a3f5f",
             "gridcolor": "white",
             "linecolor": "white",
             "minorgridcolor": "white",
             "startlinecolor": "#2a3f5f"
            },
            "baxis": {
             "endlinecolor": "#2a3f5f",
             "gridcolor": "white",
             "linecolor": "white",
             "minorgridcolor": "white",
             "startlinecolor": "#2a3f5f"
            },
            "type": "carpet"
           }
          ],
          "choropleth": [
           {
            "colorbar": {
             "outlinewidth": 0,
             "ticks": ""
            },
            "type": "choropleth"
           }
          ],
          "contour": [
           {
            "colorbar": {
             "outlinewidth": 0,
             "ticks": ""
            },
            "colorscale": [
             [
              0,
              "#0d0887"
             ],
             [
              0.1111111111111111,
              "#46039f"
             ],
             [
              0.2222222222222222,
              "#7201a8"
             ],
             [
              0.3333333333333333,
              "#9c179e"
             ],
             [
              0.4444444444444444,
              "#bd3786"
             ],
             [
              0.5555555555555556,
              "#d8576b"
             ],
             [
              0.6666666666666666,
              "#ed7953"
             ],
             [
              0.7777777777777778,
              "#fb9f3a"
             ],
             [
              0.8888888888888888,
              "#fdca26"
             ],
             [
              1,
              "#f0f921"
             ]
            ],
            "type": "contour"
           }
          ],
          "contourcarpet": [
           {
            "colorbar": {
             "outlinewidth": 0,
             "ticks": ""
            },
            "type": "contourcarpet"
           }
          ],
          "heatmap": [
           {
            "colorbar": {
             "outlinewidth": 0,
             "ticks": ""
            },
            "colorscale": [
             [
              0,
              "#0d0887"
             ],
             [
              0.1111111111111111,
              "#46039f"
             ],
             [
              0.2222222222222222,
              "#7201a8"
             ],
             [
              0.3333333333333333,
              "#9c179e"
             ],
             [
              0.4444444444444444,
              "#bd3786"
             ],
             [
              0.5555555555555556,
              "#d8576b"
             ],
             [
              0.6666666666666666,
              "#ed7953"
             ],
             [
              0.7777777777777778,
              "#fb9f3a"
             ],
             [
              0.8888888888888888,
              "#fdca26"
             ],
             [
              1,
              "#f0f921"
             ]
            ],
            "type": "heatmap"
           }
          ],
          "heatmapgl": [
           {
            "colorbar": {
             "outlinewidth": 0,
             "ticks": ""
            },
            "colorscale": [
             [
              0,
              "#0d0887"
             ],
             [
              0.1111111111111111,
              "#46039f"
             ],
             [
              0.2222222222222222,
              "#7201a8"
             ],
             [
              0.3333333333333333,
              "#9c179e"
             ],
             [
              0.4444444444444444,
              "#bd3786"
             ],
             [
              0.5555555555555556,
              "#d8576b"
             ],
             [
              0.6666666666666666,
              "#ed7953"
             ],
             [
              0.7777777777777778,
              "#fb9f3a"
             ],
             [
              0.8888888888888888,
              "#fdca26"
             ],
             [
              1,
              "#f0f921"
             ]
            ],
            "type": "heatmapgl"
           }
          ],
          "histogram": [
           {
            "marker": {
             "colorbar": {
              "outlinewidth": 0,
              "ticks": ""
             }
            },
            "type": "histogram"
           }
          ],
          "histogram2d": [
           {
            "colorbar": {
             "outlinewidth": 0,
             "ticks": ""
            },
            "colorscale": [
             [
              0,
              "#0d0887"
             ],
             [
              0.1111111111111111,
              "#46039f"
             ],
             [
              0.2222222222222222,
              "#7201a8"
             ],
             [
              0.3333333333333333,
              "#9c179e"
             ],
             [
              0.4444444444444444,
              "#bd3786"
             ],
             [
              0.5555555555555556,
              "#d8576b"
             ],
             [
              0.6666666666666666,
              "#ed7953"
             ],
             [
              0.7777777777777778,
              "#fb9f3a"
             ],
             [
              0.8888888888888888,
              "#fdca26"
             ],
             [
              1,
              "#f0f921"
             ]
            ],
            "type": "histogram2d"
           }
          ],
          "histogram2dcontour": [
           {
            "colorbar": {
             "outlinewidth": 0,
             "ticks": ""
            },
            "colorscale": [
             [
              0,
              "#0d0887"
             ],
             [
              0.1111111111111111,
              "#46039f"
             ],
             [
              0.2222222222222222,
              "#7201a8"
             ],
             [
              0.3333333333333333,
              "#9c179e"
             ],
             [
              0.4444444444444444,
              "#bd3786"
             ],
             [
              0.5555555555555556,
              "#d8576b"
             ],
             [
              0.6666666666666666,
              "#ed7953"
             ],
             [
              0.7777777777777778,
              "#fb9f3a"
             ],
             [
              0.8888888888888888,
              "#fdca26"
             ],
             [
              1,
              "#f0f921"
             ]
            ],
            "type": "histogram2dcontour"
           }
          ],
          "mesh3d": [
           {
            "colorbar": {
             "outlinewidth": 0,
             "ticks": ""
            },
            "type": "mesh3d"
           }
          ],
          "parcoords": [
           {
            "line": {
             "colorbar": {
              "outlinewidth": 0,
              "ticks": ""
             }
            },
            "type": "parcoords"
           }
          ],
          "pie": [
           {
            "automargin": true,
            "type": "pie"
           }
          ],
          "scatter": [
           {
            "marker": {
             "colorbar": {
              "outlinewidth": 0,
              "ticks": ""
             }
            },
            "type": "scatter"
           }
          ],
          "scatter3d": [
           {
            "line": {
             "colorbar": {
              "outlinewidth": 0,
              "ticks": ""
             }
            },
            "marker": {
             "colorbar": {
              "outlinewidth": 0,
              "ticks": ""
             }
            },
            "type": "scatter3d"
           }
          ],
          "scattercarpet": [
           {
            "marker": {
             "colorbar": {
              "outlinewidth": 0,
              "ticks": ""
             }
            },
            "type": "scattercarpet"
           }
          ],
          "scattergeo": [
           {
            "marker": {
             "colorbar": {
              "outlinewidth": 0,
              "ticks": ""
             }
            },
            "type": "scattergeo"
           }
          ],
          "scattergl": [
           {
            "marker": {
             "colorbar": {
              "outlinewidth": 0,
              "ticks": ""
             }
            },
            "type": "scattergl"
           }
          ],
          "scattermapbox": [
           {
            "marker": {
             "colorbar": {
              "outlinewidth": 0,
              "ticks": ""
             }
            },
            "type": "scattermapbox"
           }
          ],
          "scatterpolar": [
           {
            "marker": {
             "colorbar": {
              "outlinewidth": 0,
              "ticks": ""
             }
            },
            "type": "scatterpolar"
           }
          ],
          "scatterpolargl": [
           {
            "marker": {
             "colorbar": {
              "outlinewidth": 0,
              "ticks": ""
             }
            },
            "type": "scatterpolargl"
           }
          ],
          "scatterternary": [
           {
            "marker": {
             "colorbar": {
              "outlinewidth": 0,
              "ticks": ""
             }
            },
            "type": "scatterternary"
           }
          ],
          "surface": [
           {
            "colorbar": {
             "outlinewidth": 0,
             "ticks": ""
            },
            "colorscale": [
             [
              0,
              "#0d0887"
             ],
             [
              0.1111111111111111,
              "#46039f"
             ],
             [
              0.2222222222222222,
              "#7201a8"
             ],
             [
              0.3333333333333333,
              "#9c179e"
             ],
             [
              0.4444444444444444,
              "#bd3786"
             ],
             [
              0.5555555555555556,
              "#d8576b"
             ],
             [
              0.6666666666666666,
              "#ed7953"
             ],
             [
              0.7777777777777778,
              "#fb9f3a"
             ],
             [
              0.8888888888888888,
              "#fdca26"
             ],
             [
              1,
              "#f0f921"
             ]
            ],
            "type": "surface"
           }
          ],
          "table": [
           {
            "cells": {
             "fill": {
              "color": "#EBF0F8"
             },
             "line": {
              "color": "white"
             }
            },
            "header": {
             "fill": {
              "color": "#C8D4E3"
             },
             "line": {
              "color": "white"
             }
            },
            "type": "table"
           }
          ]
         },
         "layout": {
          "annotationdefaults": {
           "arrowcolor": "#2a3f5f",
           "arrowhead": 0,
           "arrowwidth": 1
          },
          "coloraxis": {
           "colorbar": {
            "outlinewidth": 0,
            "ticks": ""
           }
          },
          "colorscale": {
           "diverging": [
            [
             0,
             "#8e0152"
            ],
            [
             0.1,
             "#c51b7d"
            ],
            [
             0.2,
             "#de77ae"
            ],
            [
             0.3,
             "#f1b6da"
            ],
            [
             0.4,
             "#fde0ef"
            ],
            [
             0.5,
             "#f7f7f7"
            ],
            [
             0.6,
             "#e6f5d0"
            ],
            [
             0.7,
             "#b8e186"
            ],
            [
             0.8,
             "#7fbc41"
            ],
            [
             0.9,
             "#4d9221"
            ],
            [
             1,
             "#276419"
            ]
           ],
           "sequential": [
            [
             0,
             "#0d0887"
            ],
            [
             0.1111111111111111,
             "#46039f"
            ],
            [
             0.2222222222222222,
             "#7201a8"
            ],
            [
             0.3333333333333333,
             "#9c179e"
            ],
            [
             0.4444444444444444,
             "#bd3786"
            ],
            [
             0.5555555555555556,
             "#d8576b"
            ],
            [
             0.6666666666666666,
             "#ed7953"
            ],
            [
             0.7777777777777778,
             "#fb9f3a"
            ],
            [
             0.8888888888888888,
             "#fdca26"
            ],
            [
             1,
             "#f0f921"
            ]
           ],
           "sequentialminus": [
            [
             0,
             "#0d0887"
            ],
            [
             0.1111111111111111,
             "#46039f"
            ],
            [
             0.2222222222222222,
             "#7201a8"
            ],
            [
             0.3333333333333333,
             "#9c179e"
            ],
            [
             0.4444444444444444,
             "#bd3786"
            ],
            [
             0.5555555555555556,
             "#d8576b"
            ],
            [
             0.6666666666666666,
             "#ed7953"
            ],
            [
             0.7777777777777778,
             "#fb9f3a"
            ],
            [
             0.8888888888888888,
             "#fdca26"
            ],
            [
             1,
             "#f0f921"
            ]
           ]
          },
          "colorway": [
           "#636efa",
           "#EF553B",
           "#00cc96",
           "#ab63fa",
           "#FFA15A",
           "#19d3f3",
           "#FF6692",
           "#B6E880",
           "#FF97FF",
           "#FECB52"
          ],
          "font": {
           "color": "#2a3f5f"
          },
          "geo": {
           "bgcolor": "white",
           "lakecolor": "white",
           "landcolor": "#E5ECF6",
           "showlakes": true,
           "showland": true,
           "subunitcolor": "white"
          },
          "hoverlabel": {
           "align": "left"
          },
          "hovermode": "closest",
          "mapbox": {
           "style": "light"
          },
          "paper_bgcolor": "white",
          "plot_bgcolor": "#E5ECF6",
          "polar": {
           "angularaxis": {
            "gridcolor": "white",
            "linecolor": "white",
            "ticks": ""
           },
           "bgcolor": "#E5ECF6",
           "radialaxis": {
            "gridcolor": "white",
            "linecolor": "white",
            "ticks": ""
           }
          },
          "scene": {
           "xaxis": {
            "backgroundcolor": "#E5ECF6",
            "gridcolor": "white",
            "gridwidth": 2,
            "linecolor": "white",
            "showbackground": true,
            "ticks": "",
            "zerolinecolor": "white"
           },
           "yaxis": {
            "backgroundcolor": "#E5ECF6",
            "gridcolor": "white",
            "gridwidth": 2,
            "linecolor": "white",
            "showbackground": true,
            "ticks": "",
            "zerolinecolor": "white"
           },
           "zaxis": {
            "backgroundcolor": "#E5ECF6",
            "gridcolor": "white",
            "gridwidth": 2,
            "linecolor": "white",
            "showbackground": true,
            "ticks": "",
            "zerolinecolor": "white"
           }
          },
          "shapedefaults": {
           "line": {
            "color": "#2a3f5f"
           }
          },
          "ternary": {
           "aaxis": {
            "gridcolor": "white",
            "linecolor": "white",
            "ticks": ""
           },
           "baxis": {
            "gridcolor": "white",
            "linecolor": "white",
            "ticks": ""
           },
           "bgcolor": "#E5ECF6",
           "caxis": {
            "gridcolor": "white",
            "linecolor": "white",
            "ticks": ""
           }
          },
          "title": {
           "x": 0.05
          },
          "xaxis": {
           "automargin": true,
           "gridcolor": "white",
           "linecolor": "white",
           "ticks": "",
           "title": {
            "standoff": 15
           },
           "zerolinecolor": "white",
           "zerolinewidth": 2
          },
          "yaxis": {
           "automargin": true,
           "gridcolor": "white",
           "linecolor": "white",
           "ticks": "",
           "title": {
            "standoff": 15
           },
           "zerolinecolor": "white",
           "zerolinewidth": 2
          }
         }
        },
        "title": {
         "font": {
          "color": "#4D5663"
         }
        },
        "xaxis": {
         "gridcolor": "#E1E5ED",
         "showgrid": true,
         "tickfont": {
          "color": "#4D5663"
         },
         "title": {
          "font": {
           "color": "#4D5663"
          },
          "text": ""
         },
         "zerolinecolor": "#E1E5ED"
        },
        "yaxis": {
         "gridcolor": "#E1E5ED",
         "showgrid": true,
         "tickfont": {
          "color": "#4D5663"
         },
         "title": {
          "font": {
           "color": "#4D5663"
          },
          "text": ""
         },
         "zerolinecolor": "#E1E5ED"
        }
       }
      },
      "text/html": [
       "<div>\n",
       "        \n",
       "        \n",
       "            <div id=\"53a34975-7703-4d68-ac97-b701c2c87bed\" class=\"plotly-graph-div\" style=\"height:525px; width:100%;\"></div>\n",
       "            <script type=\"text/javascript\">\n",
       "                require([\"plotly\"], function(Plotly) {\n",
       "                    window.PLOTLYENV=window.PLOTLYENV || {};\n",
       "                    window.PLOTLYENV.BASE_URL='https://plot.ly';\n",
       "                    \n",
       "                if (document.getElementById(\"53a34975-7703-4d68-ac97-b701c2c87bed\")) {\n",
       "                    Plotly.newPlot(\n",
       "                        '53a34975-7703-4d68-ac97-b701c2c87bed',\n",
       "                        [{\"histfunc\": \"count\", \"histnorm\": \"\", \"marker\": {\"color\": \"rgba(255, 153, 51, 1.0)\", \"line\": {\"color\": \"#4D5663\", \"width\": 1.3}}, \"name\": \"A\", \"opacity\": 0.8, \"orientation\": \"v\", \"type\": \"histogram\", \"x\": [-1.516267560230567, -1.9207884175074055, 1.0373966535124963, 0.14953510936685668, -3.999485447186093, 0.41440508516482133, 0.7429422015904862, -1.4289512487530127, 0.6905534850783236, 0.11506940258331375, 1.9618318262179413, 0.4820087067882209, 0.010833293229753694, -0.595929986198764, -2.113531329590608, 1.3475913692139152, -0.17027902129753222, -1.7647043330033494, -0.7618858921940336, -0.32990065514115696, 0.5275932665014055, -0.012597174270982791, 0.977197771133166, -0.32632061640685095, 0.08292817175283175, -0.8344479918217037, 1.568391586495905, 0.35928326522581105, -0.6938103952930875, 0.2879566156066621, 0.020560596221972264, -0.6608720159459609, -1.3379447458259173, 0.09976969555504292, -1.8342513136627003, 0.9586876894546607, -1.1058337722839024, 0.5406356582921222, -1.9079890868367126, 0.25673390912073035, -0.09844552196478548, 0.547433763312957, -1.2925028155368672, -1.0266178727650466, 1.1507359785118991, -0.4331137041199937, 0.3750983126336917, -0.956571917947313, -0.6306287050127768, 1.1658314936903746, 0.20727664611040933, -0.7125620965948533, -1.2329857567549423, -1.19301842269195, 0.7344866094623589, 0.24825131328164876, -0.0703592808778631, -0.3940635524410132, 0.8837620159811025, -0.5882788998946945, 0.857686324715227, -1.2759414075844788, 0.1849841116242509, -0.9889213556524264, 0.37665713077589197, 0.06736189675688638, 0.7757816466321904, 1.0197517246852932, 2.1963839769565587, 1.6228329344349806, -0.417307672140243, 0.4883689747400217, 1.0063943302757847, -0.641507073385344, 0.2592738354357245, -1.115946078959094, 0.4121599174934557, -0.5158597744247898, 1.1280022315312952, -0.3627082124069788, 0.7816328424346314, 1.1133691254531146, 1.776942182023018, -0.2100716526582734, -0.8832821040096712, 0.10615505370341051, -1.2015298986284144, -1.6001804881901893, -1.0807816016045844, -0.9463689237520007, -0.5501717411155009, 0.6915172170167367, 1.3927574947291392, -1.4420007770037622, 0.9858512592211613, -0.6690552083723248, -0.23614428440751595, -0.30191933616375166, 1.1650348858496635, 0.12403058093384871]}, {\"histfunc\": \"count\", \"histnorm\": \"\", \"marker\": {\"color\": \"rgba(55, 128, 191, 1.0)\", \"line\": {\"color\": \"#4D5663\", \"width\": 1.3}}, \"name\": \"B\", \"opacity\": 0.8, \"orientation\": \"v\", \"type\": \"histogram\", \"x\": [0.7560556932599837, 0.1861617358883027, -0.45946401974499407, 0.5363725650333798, -0.2826907049744466, 0.9869378586623979, -0.6293265326245278, 0.34986000372960885, -0.5320627851308627, -1.0447729626343751, -0.02070322248580189, 0.6798959897817697, 0.5763501818321275, 2.223053447818855, -0.8875788326999193, 0.1615787630842412, 0.3567709085089428, 0.5248938481707832, 0.9271245772107571, -0.7937188090872309, -0.6378307034357991, -0.17620310244789048, -0.23574356411919412, -1.527418059284275, -1.4533726991112783, -1.2953156503840655, 0.6210477547351118, 0.15506917930022304, 1.1950725809051264, -0.04247534795006339, 0.7659378064150684, -0.5615692618981515, 0.5737791878517139, -1.6006308572561425, -2.0333950285797724, 0.9346585456145193, 0.9488633527962949, -0.4745063070449874, -0.7734177445027147, 1.16465395450693, 1.4686285828616743, -0.7166223975541242, -1.2791480009837546, -1.3619596644254246, 0.7391929603399298, 1.1533967674155505, 0.3919443359002727, -0.9920921182175484, -0.9872936922072552, 0.9000315317637086, 0.004605680217882535, 0.1132365767180532, -2.435324506895573, -0.7597271181186379, -0.5264360772598415, -0.3121916127736122, 1.2307918201579024, 1.869523187447704, -0.8858686376106412, 0.543726783419556, -0.24643024780589254, -1.0030147432944985, -0.16165591281686184, 2.226299463444169, -0.9553257863435494, -0.29638314164963764, 3.0766450558184446, 0.5921688084872822, -0.5443244331161018, 0.34831653131719215, 0.07205649871924576, 1.6331107284138258, -0.5047645502368753, 1.9948204982562445, 0.24547203312160698, -0.27026650540474917, -0.08129411360953269, 0.5285605980807471, 0.5823235382880914, -0.2600138020280055, -0.16891644200176278, 0.1014571072555472, -0.3585139768204954, -1.6969407642537817, 0.9902414663906203, -0.7067845545991822, -1.3549550916722233, 0.3266717614722, 0.722908659201581, -0.48226300279897943, -2.6040444968163907, -1.1310424188559618, -2.016050162462118, -0.8432923110307549, 0.1718208037412506, -0.6124292996478096, -1.257773712778361, -1.6465683792803527, 0.14999425467185448, -0.24201883863756485]}, {\"histfunc\": \"count\", \"histnorm\": \"\", \"marker\": {\"color\": \"rgba(50, 171, 96, 1.0)\", \"line\": {\"color\": \"#4D5663\", \"width\": 1.3}}, \"name\": \"C\", \"opacity\": 0.8, \"orientation\": \"v\", \"type\": \"histogram\", \"x\": [0.8075329633556021, 1.1774280375163513, -0.6014210535259376, 0.07832612005513975, -1.7155009840661166, 0.7035414537135141, 0.8417927248686057, 0.3748580340476217, -0.304945229712358, 0.4211204380864479, 0.735136750654394, -0.2741375696064217, -0.9351479186335825, -1.1396293625847214, 0.6140068231092876, 0.3562576971054651, -0.7047026891394264, -0.9432943051102678, 0.7597156187613746, 0.8464495262910379, 0.6868534419181007, -0.8562197378807854, -0.5815031808440854, 0.051146836255641655, 1.367564231862464, -0.46229837263073564, 2.2475048457753886, -0.8619959017315432, -0.908873144834571, -0.39423141306929993, 0.1891999834297446, 1.3165420591801689, 0.3529560878107613, 1.05534709251322, 0.7731486762660107, 1.6042316111721489, -0.4105421652787086, 0.21597120648202386, -0.4048423743583727, -0.5410710325474366, 1.3029986750296814, -1.2216582067120945, -0.2877632187371062, 0.2864779198647285, 1.212951585281548, 0.6485129056737563, 0.18531217997808083, -0.680445857051702, 0.5170626300905937, -0.8328571848850191, 1.0089132907191372, 0.5605661111024343, -0.5418390448470031, -0.057394466151699276, -0.02762680605564009, -1.2589958382873707, 0.9175957862194427, 1.3027871559059288, -0.4184142964253094, -0.015556868338890308, -0.7472347864718828, -0.641803946445278, 1.0688577905407268, 0.2479386831831523, 0.8015844949247076, -0.7586268387861957, -0.38405669593162456, -0.8505493494111646, -0.42971382252105217, 0.5971083106876616, -1.1080763354452292, 0.9126658039380318, 0.8368071245792087, 0.4160418406091262, 2.3259294956907732, 0.6625347106516749, 1.1190819353211914, -0.18104618713916434, -0.01837031625668125, 0.4562313734425662, -0.7531440947132809, -0.9683539960380266, -0.10537954212188595, -0.6149617031626683, -0.04292467163872477, -0.18099266235163322, -0.33022789800633723, 0.9596997277449528, 0.12471184363949661, 0.522556467422449, 0.871303923310238, -1.4661486934626757, 0.24887468376197597, 2.256319398182052, 1.16405886946189, 0.5128261275993566, -0.768220685178201, -0.09127765202544696, -1.0973940577290768, -0.9682176998418792]}, {\"histfunc\": \"count\", \"histnorm\": \"\", \"marker\": {\"color\": \"rgba(128, 0, 128, 1.0)\", \"line\": {\"color\": \"#4D5663\", \"width\": 1.3}}, \"name\": \"D\", \"opacity\": 0.8, \"orientation\": \"v\", \"type\": \"histogram\", \"x\": [0.4014918667753453, -1.0527835785103015, 0.6783187881078234, 0.7649936889727516, -1.1274163808466917, 0.23231053135724067, -0.6234847256031335, 0.5177435401456703, -1.3497744575101418, -0.9445947799978384, 0.9993230603164184, -0.32813659124069827, -2.4873454326976416, 0.23373081431391704, -1.2698236657889295, -1.0819958194740864, 0.48944497238523554, -0.0870913581820666, 0.4520894854769399, 0.3685869778498855, -0.018623861888844594, -0.7361625385230917, -0.9379072634960933, -0.43271162020157156, 0.5717431862977355, -1.0863445421513354, 0.6895465419898549, -0.02104765288212073, 0.21044849744988786, -0.21060376326527153, -0.1751901167494546, 2.4267729695171383, 1.1144251258610327, 0.6088822364466963, 1.0742530678495064, -1.673162766707186, 0.8141293794284068, -0.671250126501007, -0.1119807844623894, 0.6827059956836821, -2.0086429350470563, -0.3182967446586569, 0.7566624514615232, -0.25674945298533824, 0.5397642656518596, -2.1227957924654897, 1.5314276962262283, 1.4919611694698254, 1.269574054782094, -1.0916311869393023, -0.3437996306930975, 1.4347510492864688, 1.2762427379159493, 0.21416609162142103, -0.197175852514856, 0.3223939268519974, 0.4770435887408125, -1.2437863927715238, 0.026588683601995435, 0.32869167896277063, 1.5214987121045702, 0.821282750843137, 0.4796940104196587, -0.8907667152685849, 0.537578488866459, 0.4846947974682395, -0.8342563397109818, 0.9012246659006108, -0.031084575491218874, -0.4390259765356436, 2.6497943870848877, 0.15636182258080236, -0.04297633147906922, 0.09414708464977088, -1.2680837159614444, -0.331002953982354, 0.6895397124327335, -0.8093776634653645, -2.0170703969219725, 0.33936665036701874, 0.6943810852290068, 0.624720221317302, 0.5049175711349475, -0.11540280204630413, 0.27341016033136567, 0.8854226746417551, -0.3493524737887093, 0.00017440721187257863, 0.4571801241143655, -1.0474263154899806, -0.06046386609324998, -0.6420828131993251, -0.6128988878340906, 0.8707626928414187, 0.779901154494852, -0.762949383763312, -0.3161555736028018, 0.9312707513336201, 0.2176505285610799, -0.2166411172749589]}],\n",
       "                        {\"barmode\": \"overlay\", \"legend\": {\"bgcolor\": \"#F5F6F9\", \"font\": {\"color\": \"#4D5663\"}}, \"paper_bgcolor\": \"#F5F6F9\", \"plot_bgcolor\": \"#F5F6F9\", \"template\": {\"data\": {\"bar\": [{\"error_x\": {\"color\": \"#2a3f5f\"}, \"error_y\": {\"color\": \"#2a3f5f\"}, \"marker\": {\"line\": {\"color\": \"#E5ECF6\", \"width\": 0.5}}, \"type\": \"bar\"}], \"barpolar\": [{\"marker\": {\"line\": {\"color\": \"#E5ECF6\", \"width\": 0.5}}, \"type\": \"barpolar\"}], \"carpet\": [{\"aaxis\": {\"endlinecolor\": \"#2a3f5f\", \"gridcolor\": \"white\", \"linecolor\": \"white\", \"minorgridcolor\": \"white\", \"startlinecolor\": \"#2a3f5f\"}, \"baxis\": {\"endlinecolor\": \"#2a3f5f\", \"gridcolor\": \"white\", \"linecolor\": \"white\", \"minorgridcolor\": \"white\", \"startlinecolor\": \"#2a3f5f\"}, \"type\": \"carpet\"}], \"choropleth\": [{\"colorbar\": {\"outlinewidth\": 0, \"ticks\": \"\"}, \"type\": \"choropleth\"}], \"contour\": [{\"colorbar\": {\"outlinewidth\": 0, \"ticks\": \"\"}, \"colorscale\": [[0.0, \"#0d0887\"], [0.1111111111111111, \"#46039f\"], [0.2222222222222222, \"#7201a8\"], [0.3333333333333333, \"#9c179e\"], [0.4444444444444444, \"#bd3786\"], [0.5555555555555556, \"#d8576b\"], [0.6666666666666666, \"#ed7953\"], [0.7777777777777778, \"#fb9f3a\"], [0.8888888888888888, \"#fdca26\"], [1.0, \"#f0f921\"]], \"type\": \"contour\"}], \"contourcarpet\": [{\"colorbar\": {\"outlinewidth\": 0, \"ticks\": \"\"}, \"type\": \"contourcarpet\"}], \"heatmap\": [{\"colorbar\": {\"outlinewidth\": 0, \"ticks\": \"\"}, \"colorscale\": [[0.0, \"#0d0887\"], [0.1111111111111111, \"#46039f\"], [0.2222222222222222, \"#7201a8\"], [0.3333333333333333, \"#9c179e\"], [0.4444444444444444, \"#bd3786\"], [0.5555555555555556, \"#d8576b\"], [0.6666666666666666, \"#ed7953\"], [0.7777777777777778, \"#fb9f3a\"], [0.8888888888888888, \"#fdca26\"], [1.0, \"#f0f921\"]], \"type\": \"heatmap\"}], \"heatmapgl\": [{\"colorbar\": {\"outlinewidth\": 0, \"ticks\": \"\"}, \"colorscale\": [[0.0, \"#0d0887\"], [0.1111111111111111, \"#46039f\"], [0.2222222222222222, \"#7201a8\"], [0.3333333333333333, \"#9c179e\"], [0.4444444444444444, \"#bd3786\"], [0.5555555555555556, \"#d8576b\"], [0.6666666666666666, \"#ed7953\"], [0.7777777777777778, \"#fb9f3a\"], [0.8888888888888888, \"#fdca26\"], [1.0, \"#f0f921\"]], \"type\": \"heatmapgl\"}], \"histogram\": [{\"marker\": {\"colorbar\": {\"outlinewidth\": 0, \"ticks\": \"\"}}, \"type\": \"histogram\"}], \"histogram2d\": [{\"colorbar\": {\"outlinewidth\": 0, \"ticks\": \"\"}, \"colorscale\": [[0.0, \"#0d0887\"], [0.1111111111111111, \"#46039f\"], [0.2222222222222222, \"#7201a8\"], [0.3333333333333333, \"#9c179e\"], [0.4444444444444444, \"#bd3786\"], [0.5555555555555556, \"#d8576b\"], [0.6666666666666666, \"#ed7953\"], [0.7777777777777778, \"#fb9f3a\"], [0.8888888888888888, \"#fdca26\"], [1.0, \"#f0f921\"]], \"type\": \"histogram2d\"}], \"histogram2dcontour\": [{\"colorbar\": {\"outlinewidth\": 0, \"ticks\": \"\"}, \"colorscale\": [[0.0, \"#0d0887\"], [0.1111111111111111, \"#46039f\"], [0.2222222222222222, \"#7201a8\"], [0.3333333333333333, \"#9c179e\"], [0.4444444444444444, \"#bd3786\"], [0.5555555555555556, \"#d8576b\"], [0.6666666666666666, \"#ed7953\"], [0.7777777777777778, \"#fb9f3a\"], [0.8888888888888888, \"#fdca26\"], [1.0, \"#f0f921\"]], \"type\": \"histogram2dcontour\"}], \"mesh3d\": [{\"colorbar\": {\"outlinewidth\": 0, \"ticks\": \"\"}, \"type\": \"mesh3d\"}], \"parcoords\": [{\"line\": {\"colorbar\": {\"outlinewidth\": 0, \"ticks\": \"\"}}, \"type\": \"parcoords\"}], \"pie\": [{\"automargin\": true, \"type\": \"pie\"}], \"scatter\": [{\"marker\": {\"colorbar\": {\"outlinewidth\": 0, \"ticks\": \"\"}}, \"type\": \"scatter\"}], \"scatter3d\": [{\"line\": {\"colorbar\": {\"outlinewidth\": 0, \"ticks\": \"\"}}, \"marker\": {\"colorbar\": {\"outlinewidth\": 0, \"ticks\": \"\"}}, \"type\": \"scatter3d\"}], \"scattercarpet\": [{\"marker\": {\"colorbar\": {\"outlinewidth\": 0, \"ticks\": \"\"}}, \"type\": \"scattercarpet\"}], \"scattergeo\": [{\"marker\": {\"colorbar\": {\"outlinewidth\": 0, \"ticks\": \"\"}}, \"type\": \"scattergeo\"}], \"scattergl\": [{\"marker\": {\"colorbar\": {\"outlinewidth\": 0, \"ticks\": \"\"}}, \"type\": \"scattergl\"}], \"scattermapbox\": [{\"marker\": {\"colorbar\": {\"outlinewidth\": 0, \"ticks\": \"\"}}, \"type\": \"scattermapbox\"}], \"scatterpolar\": [{\"marker\": {\"colorbar\": {\"outlinewidth\": 0, \"ticks\": \"\"}}, \"type\": \"scatterpolar\"}], \"scatterpolargl\": [{\"marker\": {\"colorbar\": {\"outlinewidth\": 0, \"ticks\": \"\"}}, \"type\": \"scatterpolargl\"}], \"scatterternary\": [{\"marker\": {\"colorbar\": {\"outlinewidth\": 0, \"ticks\": \"\"}}, \"type\": \"scatterternary\"}], \"surface\": [{\"colorbar\": {\"outlinewidth\": 0, \"ticks\": \"\"}, \"colorscale\": [[0.0, \"#0d0887\"], [0.1111111111111111, \"#46039f\"], [0.2222222222222222, \"#7201a8\"], [0.3333333333333333, \"#9c179e\"], [0.4444444444444444, \"#bd3786\"], [0.5555555555555556, \"#d8576b\"], [0.6666666666666666, \"#ed7953\"], [0.7777777777777778, \"#fb9f3a\"], [0.8888888888888888, \"#fdca26\"], [1.0, \"#f0f921\"]], \"type\": \"surface\"}], \"table\": [{\"cells\": {\"fill\": {\"color\": \"#EBF0F8\"}, \"line\": {\"color\": \"white\"}}, \"header\": {\"fill\": {\"color\": \"#C8D4E3\"}, \"line\": {\"color\": \"white\"}}, \"type\": \"table\"}]}, \"layout\": {\"annotationdefaults\": {\"arrowcolor\": \"#2a3f5f\", \"arrowhead\": 0, \"arrowwidth\": 1}, \"coloraxis\": {\"colorbar\": {\"outlinewidth\": 0, \"ticks\": \"\"}}, \"colorscale\": {\"diverging\": [[0, \"#8e0152\"], [0.1, \"#c51b7d\"], [0.2, \"#de77ae\"], [0.3, \"#f1b6da\"], [0.4, \"#fde0ef\"], [0.5, \"#f7f7f7\"], [0.6, \"#e6f5d0\"], [0.7, \"#b8e186\"], [0.8, \"#7fbc41\"], [0.9, \"#4d9221\"], [1, \"#276419\"]], \"sequential\": [[0.0, \"#0d0887\"], [0.1111111111111111, \"#46039f\"], [0.2222222222222222, \"#7201a8\"], [0.3333333333333333, \"#9c179e\"], [0.4444444444444444, \"#bd3786\"], [0.5555555555555556, \"#d8576b\"], [0.6666666666666666, \"#ed7953\"], [0.7777777777777778, \"#fb9f3a\"], [0.8888888888888888, \"#fdca26\"], [1.0, \"#f0f921\"]], \"sequentialminus\": [[0.0, \"#0d0887\"], [0.1111111111111111, \"#46039f\"], [0.2222222222222222, \"#7201a8\"], [0.3333333333333333, \"#9c179e\"], [0.4444444444444444, \"#bd3786\"], [0.5555555555555556, \"#d8576b\"], [0.6666666666666666, \"#ed7953\"], [0.7777777777777778, \"#fb9f3a\"], [0.8888888888888888, \"#fdca26\"], [1.0, \"#f0f921\"]]}, \"colorway\": [\"#636efa\", \"#EF553B\", \"#00cc96\", \"#ab63fa\", \"#FFA15A\", \"#19d3f3\", \"#FF6692\", \"#B6E880\", \"#FF97FF\", \"#FECB52\"], \"font\": {\"color\": \"#2a3f5f\"}, \"geo\": {\"bgcolor\": \"white\", \"lakecolor\": \"white\", \"landcolor\": \"#E5ECF6\", \"showlakes\": true, \"showland\": true, \"subunitcolor\": \"white\"}, \"hoverlabel\": {\"align\": \"left\"}, \"hovermode\": \"closest\", \"mapbox\": {\"style\": \"light\"}, \"paper_bgcolor\": \"white\", \"plot_bgcolor\": \"#E5ECF6\", \"polar\": {\"angularaxis\": {\"gridcolor\": \"white\", \"linecolor\": \"white\", \"ticks\": \"\"}, \"bgcolor\": \"#E5ECF6\", \"radialaxis\": {\"gridcolor\": \"white\", \"linecolor\": \"white\", \"ticks\": \"\"}}, \"scene\": {\"xaxis\": {\"backgroundcolor\": \"#E5ECF6\", \"gridcolor\": \"white\", \"gridwidth\": 2, \"linecolor\": \"white\", \"showbackground\": true, \"ticks\": \"\", \"zerolinecolor\": \"white\"}, \"yaxis\": {\"backgroundcolor\": \"#E5ECF6\", \"gridcolor\": \"white\", \"gridwidth\": 2, \"linecolor\": \"white\", \"showbackground\": true, \"ticks\": \"\", \"zerolinecolor\": \"white\"}, \"zaxis\": {\"backgroundcolor\": \"#E5ECF6\", \"gridcolor\": \"white\", \"gridwidth\": 2, \"linecolor\": \"white\", \"showbackground\": true, \"ticks\": \"\", \"zerolinecolor\": \"white\"}}, \"shapedefaults\": {\"line\": {\"color\": \"#2a3f5f\"}}, \"ternary\": {\"aaxis\": {\"gridcolor\": \"white\", \"linecolor\": \"white\", \"ticks\": \"\"}, \"baxis\": {\"gridcolor\": \"white\", \"linecolor\": \"white\", \"ticks\": \"\"}, \"bgcolor\": \"#E5ECF6\", \"caxis\": {\"gridcolor\": \"white\", \"linecolor\": \"white\", \"ticks\": \"\"}}, \"title\": {\"x\": 0.05}, \"xaxis\": {\"automargin\": true, \"gridcolor\": \"white\", \"linecolor\": \"white\", \"ticks\": \"\", \"title\": {\"standoff\": 15}, \"zerolinecolor\": \"white\", \"zerolinewidth\": 2}, \"yaxis\": {\"automargin\": true, \"gridcolor\": \"white\", \"linecolor\": \"white\", \"ticks\": \"\", \"title\": {\"standoff\": 15}, \"zerolinecolor\": \"white\", \"zerolinewidth\": 2}}}, \"title\": {\"font\": {\"color\": \"#4D5663\"}}, \"xaxis\": {\"gridcolor\": \"#E1E5ED\", \"showgrid\": true, \"tickfont\": {\"color\": \"#4D5663\"}, \"title\": {\"font\": {\"color\": \"#4D5663\"}, \"text\": \"\"}, \"zerolinecolor\": \"#E1E5ED\"}, \"yaxis\": {\"gridcolor\": \"#E1E5ED\", \"showgrid\": true, \"tickfont\": {\"color\": \"#4D5663\"}, \"title\": {\"font\": {\"color\": \"#4D5663\"}, \"text\": \"\"}, \"zerolinecolor\": \"#E1E5ED\"}},\n",
       "                        {\"showLink\": true, \"linkText\": \"Export to plot.ly\", \"plotlyServerURL\": \"https://plot.ly\", \"responsive\": true}\n",
       "                    ).then(function(){\n",
       "                            \n",
       "var gd = document.getElementById('53a34975-7703-4d68-ac97-b701c2c87bed');\n",
       "var x = new MutationObserver(function (mutations, observer) {{\n",
       "        var display = window.getComputedStyle(gd).display;\n",
       "        if (!display || display === 'none') {{\n",
       "            console.log([gd, 'removed!']);\n",
       "            Plotly.purge(gd);\n",
       "            observer.disconnect();\n",
       "        }}\n",
       "}});\n",
       "\n",
       "// Listen for the removal of the full notebook cells\n",
       "var notebookContainer = gd.closest('#notebook-container');\n",
       "if (notebookContainer) {{\n",
       "    x.observe(notebookContainer, {childList: true});\n",
       "}}\n",
       "\n",
       "// Listen for the clearing of the current output cell\n",
       "var outputEl = gd.closest('.output');\n",
       "if (outputEl) {{\n",
       "    x.observe(outputEl, {childList: true});\n",
       "}}\n",
       "\n",
       "                        })\n",
       "                };\n",
       "                });\n",
       "            </script>\n",
       "        </div>"
      ]
     },
     "metadata": {},
     "output_type": "display_data"
    }
   ],
   "source": [
    "# overlapping histogram, can turn off and on variables\n",
    "df.iplot(kind='hist')"
   ]
  },
  {
   "cell_type": "code",
   "execution_count": 40,
   "metadata": {},
   "outputs": [
    {
     "name": "stderr",
     "output_type": "stream",
     "text": [
      "C:\\Users\\vinhe\\anaconda3\\lib\\site-packages\\cufflinks\\plotlytools.py:849: FutureWarning:\n",
      "\n",
      "The pandas.np module is deprecated and will be removed from pandas in a future version. Import numpy directly instead\n",
      "\n",
      "C:\\Users\\vinhe\\anaconda3\\lib\\site-packages\\cufflinks\\plotlytools.py:850: FutureWarning:\n",
      "\n",
      "The pandas.np module is deprecated and will be removed from pandas in a future version. Import numpy directly instead\n",
      "\n"
     ]
    },
    {
     "data": {
      "application/vnd.plotly.v1+json": {
       "config": {
        "linkText": "Export to plot.ly",
        "plotlyServerURL": "https://plot.ly",
        "showLink": true
       },
       "data": [
        {
         "line": {
          "color": "rgba(255, 153, 51, 1.0)",
          "dash": "solid",
          "shape": "linear",
          "width": 1.3
         },
         "mode": "lines",
         "name": "A",
         "text": "",
         "type": "scatter",
         "x": [
          0,
          1,
          2,
          3,
          4,
          5,
          6,
          7,
          8,
          9,
          10,
          11,
          12,
          13,
          14,
          15,
          16,
          17,
          18,
          19,
          20,
          21,
          22,
          23,
          24,
          25,
          26,
          27,
          28,
          29,
          30,
          31,
          32,
          33,
          34,
          35,
          36,
          37,
          38,
          39,
          40,
          41,
          42,
          43,
          44,
          45,
          46,
          47,
          48,
          49,
          50,
          51,
          52,
          53,
          54,
          55,
          56,
          57,
          58,
          59,
          60,
          61,
          62,
          63,
          64,
          65,
          66,
          67,
          68,
          69,
          70,
          71,
          72,
          73,
          74,
          75,
          76,
          77,
          78,
          79,
          80,
          81,
          82,
          83,
          84,
          85,
          86,
          87,
          88,
          89,
          90,
          91,
          92,
          93,
          94,
          95,
          96,
          97,
          98,
          99
         ],
         "y": [
          -1.516267560230567,
          -1.9207884175074055,
          1.0373966535124963,
          0.14953510936685668,
          -3.999485447186093,
          0.41440508516482133,
          0.7429422015904862,
          -1.4289512487530127,
          0.6905534850783236,
          0.11506940258331375,
          1.9618318262179413,
          0.4820087067882209,
          0.010833293229753694,
          -0.595929986198764,
          -2.113531329590608,
          1.3475913692139152,
          -0.17027902129753222,
          -1.7647043330033494,
          -0.7618858921940336,
          -0.32990065514115696,
          0.5275932665014055,
          -0.012597174270982791,
          0.977197771133166,
          -0.32632061640685095,
          0.08292817175283175,
          -0.8344479918217037,
          1.568391586495905,
          0.35928326522581105,
          -0.6938103952930875,
          0.2879566156066621,
          0.020560596221972264,
          -0.6608720159459609,
          -1.3379447458259173,
          0.09976969555504292,
          -1.8342513136627003,
          0.9586876894546607,
          -1.1058337722839024,
          0.5406356582921222,
          -1.9079890868367126,
          0.25673390912073035,
          -0.09844552196478548,
          0.547433763312957,
          -1.2925028155368672,
          -1.0266178727650466,
          1.1507359785118991,
          -0.4331137041199937,
          0.3750983126336917,
          -0.956571917947313,
          -0.6306287050127768,
          1.1658314936903746,
          0.20727664611040933,
          -0.7125620965948533,
          -1.2329857567549423,
          -1.19301842269195,
          0.7344866094623589,
          0.24825131328164876,
          -0.0703592808778631,
          -0.3940635524410132,
          0.8837620159811025,
          -0.5882788998946945,
          0.857686324715227,
          -1.2759414075844788,
          0.1849841116242509,
          -0.9889213556524264,
          0.37665713077589197,
          0.06736189675688638,
          0.7757816466321904,
          1.0197517246852932,
          2.1963839769565587,
          1.6228329344349806,
          -0.417307672140243,
          0.4883689747400217,
          1.0063943302757847,
          -0.641507073385344,
          0.2592738354357245,
          -1.115946078959094,
          0.4121599174934557,
          -0.5158597744247898,
          1.1280022315312952,
          -0.3627082124069788,
          0.7816328424346314,
          1.1133691254531146,
          1.776942182023018,
          -0.2100716526582734,
          -0.8832821040096712,
          0.10615505370341051,
          -1.2015298986284144,
          -1.6001804881901893,
          -1.0807816016045844,
          -0.9463689237520007,
          -0.5501717411155009,
          0.6915172170167367,
          1.3927574947291392,
          -1.4420007770037622,
          0.9858512592211613,
          -0.6690552083723248,
          -0.23614428440751595,
          -0.30191933616375166,
          1.1650348858496635,
          0.12403058093384871
         ]
        },
        {
         "line": {
          "color": "rgba(55, 128, 191, 1.0)",
          "dash": "solid",
          "shape": "linear",
          "width": 1.3
         },
         "mode": "lines",
         "name": "B",
         "text": "",
         "type": "scatter",
         "x": [
          0,
          1,
          2,
          3,
          4,
          5,
          6,
          7,
          8,
          9,
          10,
          11,
          12,
          13,
          14,
          15,
          16,
          17,
          18,
          19,
          20,
          21,
          22,
          23,
          24,
          25,
          26,
          27,
          28,
          29,
          30,
          31,
          32,
          33,
          34,
          35,
          36,
          37,
          38,
          39,
          40,
          41,
          42,
          43,
          44,
          45,
          46,
          47,
          48,
          49,
          50,
          51,
          52,
          53,
          54,
          55,
          56,
          57,
          58,
          59,
          60,
          61,
          62,
          63,
          64,
          65,
          66,
          67,
          68,
          69,
          70,
          71,
          72,
          73,
          74,
          75,
          76,
          77,
          78,
          79,
          80,
          81,
          82,
          83,
          84,
          85,
          86,
          87,
          88,
          89,
          90,
          91,
          92,
          93,
          94,
          95,
          96,
          97,
          98,
          99
         ],
         "y": [
          0.7560556932599837,
          0.1861617358883027,
          -0.45946401974499407,
          0.5363725650333798,
          -0.2826907049744466,
          0.9869378586623979,
          -0.6293265326245278,
          0.34986000372960885,
          -0.5320627851308627,
          -1.0447729626343751,
          -0.02070322248580189,
          0.6798959897817697,
          0.5763501818321275,
          2.223053447818855,
          -0.8875788326999193,
          0.1615787630842412,
          0.3567709085089428,
          0.5248938481707832,
          0.9271245772107571,
          -0.7937188090872309,
          -0.6378307034357991,
          -0.17620310244789048,
          -0.23574356411919412,
          -1.527418059284275,
          -1.4533726991112783,
          -1.2953156503840655,
          0.6210477547351118,
          0.15506917930022304,
          1.1950725809051264,
          -0.04247534795006339,
          0.7659378064150684,
          -0.5615692618981515,
          0.5737791878517139,
          -1.6006308572561425,
          -2.0333950285797724,
          0.9346585456145193,
          0.9488633527962949,
          -0.4745063070449874,
          -0.7734177445027147,
          1.16465395450693,
          1.4686285828616743,
          -0.7166223975541242,
          -1.2791480009837546,
          -1.3619596644254246,
          0.7391929603399298,
          1.1533967674155505,
          0.3919443359002727,
          -0.9920921182175484,
          -0.9872936922072552,
          0.9000315317637086,
          0.004605680217882535,
          0.1132365767180532,
          -2.435324506895573,
          -0.7597271181186379,
          -0.5264360772598415,
          -0.3121916127736122,
          1.2307918201579024,
          1.869523187447704,
          -0.8858686376106412,
          0.543726783419556,
          -0.24643024780589254,
          -1.0030147432944985,
          -0.16165591281686184,
          2.226299463444169,
          -0.9553257863435494,
          -0.29638314164963764,
          3.0766450558184446,
          0.5921688084872822,
          -0.5443244331161018,
          0.34831653131719215,
          0.07205649871924576,
          1.6331107284138258,
          -0.5047645502368753,
          1.9948204982562445,
          0.24547203312160698,
          -0.27026650540474917,
          -0.08129411360953269,
          0.5285605980807471,
          0.5823235382880914,
          -0.2600138020280055,
          -0.16891644200176278,
          0.1014571072555472,
          -0.3585139768204954,
          -1.6969407642537817,
          0.9902414663906203,
          -0.7067845545991822,
          -1.3549550916722233,
          0.3266717614722,
          0.722908659201581,
          -0.48226300279897943,
          -2.6040444968163907,
          -1.1310424188559618,
          -2.016050162462118,
          -0.8432923110307549,
          0.1718208037412506,
          -0.6124292996478096,
          -1.257773712778361,
          -1.6465683792803527,
          0.14999425467185448,
          -0.24201883863756485
         ]
        },
        {
         "connectgaps": false,
         "fill": "tozeroy",
         "line": {
          "color": "green",
          "dash": "solid",
          "shape": "linear",
          "width": 0.5
         },
         "mode": "lines",
         "name": "Spread",
         "showlegend": false,
         "type": "scatter",
         "x": [
          0,
          1,
          2,
          3,
          4,
          5,
          6,
          7,
          8,
          9,
          10,
          11,
          12,
          13,
          14,
          15,
          16,
          17,
          18,
          19,
          20,
          21,
          22,
          23,
          24,
          25,
          26,
          27,
          28,
          29,
          30,
          31,
          32,
          33,
          34,
          35,
          36,
          37,
          38,
          39,
          40,
          41,
          42,
          43,
          44,
          45,
          46,
          47,
          48,
          49,
          50,
          51,
          52,
          53,
          54,
          55,
          56,
          57,
          58,
          59,
          60,
          61,
          62,
          63,
          64,
          65,
          66,
          67,
          68,
          69,
          70,
          71,
          72,
          73,
          74,
          75,
          76,
          77,
          78,
          79,
          80,
          81,
          82,
          83,
          84,
          85,
          86,
          87,
          88,
          89,
          90,
          91,
          92,
          93,
          94,
          95,
          96,
          97,
          98,
          99
         ],
         "xaxis": "x2",
         "y": [
          "",
          "",
          1.4968606732574905,
          "",
          "",
          "",
          1.372268734215014,
          "",
          1.2226162702091863,
          1.1598423652176888,
          1.9825350487037432,
          "",
          "",
          "",
          "",
          1.186012606129674,
          "",
          "",
          "",
          0.46381815394607395,
          1.1654239699372044,
          0.1636059281769077,
          1.2129413352523601,
          1.201097442877424,
          1.5363008708641102,
          0.4608676585623618,
          0.9473438317607933,
          0.204214085925588,
          "",
          0.3304319635567255,
          "",
          "",
          "",
          1.7004005528111854,
          0.19914371491707206,
          0.02402914384014132,
          "",
          1.0151419653371097,
          "",
          "",
          "",
          1.264056160867081,
          "",
          0.33534179166037803,
          0.41154301817196937,
          "",
          "",
          0.03552020027023539,
          0.35666498719447837,
          0.265799961926666,
          0.20267096589252678,
          "",
          1.2023387501406309,
          "",
          1.2609226867222003,
          0.5604429260552609,
          "",
          "",
          1.7696306535917437,
          "",
          1.1041165725211195,
          "",
          0.34664002444111275,
          "",
          1.3319829171194413,
          0.363745038406524,
          "",
          0.42758291619801103,
          2.7407084100726604,
          1.2745164031177885,
          "",
          "",
          1.5111588805126601,
          "",
          0.01380180231411754,
          "",
          0.4934540311029884,
          "",
          0.5456786932432038,
          "",
          0.9505492844363942,
          1.0119120181975674,
          2.1354561588435135,
          1.4868691115955084,
          "",
          0.8129396083025927,
          0.15342519304380886,
          "",
          "",
          "",
          2.0538727557008896,
          1.8225596358726985,
          3.4088076571912573,
          "",
          0.8140304554799107,
          "",
          1.0216294283708451,
          1.344649043116601,
          1.015040631177809,
          0.36604941957141357
         ],
         "yaxis": "y2"
        },
        {
         "connectgaps": false,
         "fill": "tozeroy",
         "line": {
          "color": "red",
          "dash": "solid",
          "shape": "linear",
          "width": 0.5
         },
         "mode": "lines",
         "name": "Spread",
         "showlegend": false,
         "type": "scatter",
         "x": [
          0,
          1,
          2,
          3,
          4,
          5,
          6,
          7,
          8,
          9,
          10,
          11,
          12,
          13,
          14,
          15,
          16,
          17,
          18,
          19,
          20,
          21,
          22,
          23,
          24,
          25,
          26,
          27,
          28,
          29,
          30,
          31,
          32,
          33,
          34,
          35,
          36,
          37,
          38,
          39,
          40,
          41,
          42,
          43,
          44,
          45,
          46,
          47,
          48,
          49,
          50,
          51,
          52,
          53,
          54,
          55,
          56,
          57,
          58,
          59,
          60,
          61,
          62,
          63,
          64,
          65,
          66,
          67,
          68,
          69,
          70,
          71,
          72,
          73,
          74,
          75,
          76,
          77,
          78,
          79,
          80,
          81,
          82,
          83,
          84,
          85,
          86,
          87,
          88,
          89,
          90,
          91,
          92,
          93,
          94,
          95,
          96,
          97,
          98,
          99
         ],
         "xaxis": "x2",
         "y": [
          -2.272323253490551,
          -2.106950153395708,
          "",
          -0.38683745566652317,
          -3.7167947422116465,
          -0.5725327734975766,
          "",
          -1.7788112524826216,
          "",
          "",
          "",
          -0.1978872829935488,
          -0.5655168886023738,
          -2.818983434017619,
          -1.225952496890689,
          "",
          -0.527049929806475,
          -2.2895981811741324,
          -1.6890104694047907,
          "",
          "",
          "",
          "",
          "",
          "",
          "",
          "",
          "",
          -1.888882976198214,
          "",
          -0.7453772101930961,
          -0.09930275404780942,
          -1.911723933677631,
          "",
          "",
          "",
          -2.0546971250801973,
          "",
          -1.1345713423339978,
          -0.9079200453861997,
          -1.5670741048264598,
          "",
          -0.013354814553112604,
          "",
          "",
          -1.5865104715355443,
          -0.016846023266581023,
          "",
          "",
          "",
          "",
          -0.8257986733129065,
          "",
          -0.4332913045733121,
          "",
          "",
          -1.3011511010357655,
          -2.2635867398887175,
          "",
          -1.1320056833142504,
          "",
          -0.27292666428998036,
          "",
          -3.2152208190965954,
          "",
          "",
          -2.3008634091862543,
          "",
          "",
          "",
          -0.48936417085948875,
          -1.144741753673804,
          "",
          -2.6363275716415884,
          "",
          -0.8456795735543449,
          "",
          -1.0444203725055368,
          "",
          -0.10269441037897331,
          "",
          "",
          "",
          "",
          -1.8735235704002915,
          "",
          "",
          -1.9268522496623892,
          -1.8036902608061653,
          -0.4641059209530212,
          "",
          "",
          "",
          -0.5987084659730073,
          "",
          -0.05662590872451523,
          "",
          "",
          "",
          ""
         ],
         "yaxis": "y2"
        }
       ],
       "layout": {
        "hovermode": "x",
        "legend": {
         "bgcolor": "#F5F6F9",
         "font": {
          "color": "#4D5663"
         }
        },
        "paper_bgcolor": "#F5F6F9",
        "plot_bgcolor": "#F5F6F9",
        "template": {
         "data": {
          "bar": [
           {
            "error_x": {
             "color": "#2a3f5f"
            },
            "error_y": {
             "color": "#2a3f5f"
            },
            "marker": {
             "line": {
              "color": "#E5ECF6",
              "width": 0.5
             }
            },
            "type": "bar"
           }
          ],
          "barpolar": [
           {
            "marker": {
             "line": {
              "color": "#E5ECF6",
              "width": 0.5
             }
            },
            "type": "barpolar"
           }
          ],
          "carpet": [
           {
            "aaxis": {
             "endlinecolor": "#2a3f5f",
             "gridcolor": "white",
             "linecolor": "white",
             "minorgridcolor": "white",
             "startlinecolor": "#2a3f5f"
            },
            "baxis": {
             "endlinecolor": "#2a3f5f",
             "gridcolor": "white",
             "linecolor": "white",
             "minorgridcolor": "white",
             "startlinecolor": "#2a3f5f"
            },
            "type": "carpet"
           }
          ],
          "choropleth": [
           {
            "colorbar": {
             "outlinewidth": 0,
             "ticks": ""
            },
            "type": "choropleth"
           }
          ],
          "contour": [
           {
            "colorbar": {
             "outlinewidth": 0,
             "ticks": ""
            },
            "colorscale": [
             [
              0,
              "#0d0887"
             ],
             [
              0.1111111111111111,
              "#46039f"
             ],
             [
              0.2222222222222222,
              "#7201a8"
             ],
             [
              0.3333333333333333,
              "#9c179e"
             ],
             [
              0.4444444444444444,
              "#bd3786"
             ],
             [
              0.5555555555555556,
              "#d8576b"
             ],
             [
              0.6666666666666666,
              "#ed7953"
             ],
             [
              0.7777777777777778,
              "#fb9f3a"
             ],
             [
              0.8888888888888888,
              "#fdca26"
             ],
             [
              1,
              "#f0f921"
             ]
            ],
            "type": "contour"
           }
          ],
          "contourcarpet": [
           {
            "colorbar": {
             "outlinewidth": 0,
             "ticks": ""
            },
            "type": "contourcarpet"
           }
          ],
          "heatmap": [
           {
            "colorbar": {
             "outlinewidth": 0,
             "ticks": ""
            },
            "colorscale": [
             [
              0,
              "#0d0887"
             ],
             [
              0.1111111111111111,
              "#46039f"
             ],
             [
              0.2222222222222222,
              "#7201a8"
             ],
             [
              0.3333333333333333,
              "#9c179e"
             ],
             [
              0.4444444444444444,
              "#bd3786"
             ],
             [
              0.5555555555555556,
              "#d8576b"
             ],
             [
              0.6666666666666666,
              "#ed7953"
             ],
             [
              0.7777777777777778,
              "#fb9f3a"
             ],
             [
              0.8888888888888888,
              "#fdca26"
             ],
             [
              1,
              "#f0f921"
             ]
            ],
            "type": "heatmap"
           }
          ],
          "heatmapgl": [
           {
            "colorbar": {
             "outlinewidth": 0,
             "ticks": ""
            },
            "colorscale": [
             [
              0,
              "#0d0887"
             ],
             [
              0.1111111111111111,
              "#46039f"
             ],
             [
              0.2222222222222222,
              "#7201a8"
             ],
             [
              0.3333333333333333,
              "#9c179e"
             ],
             [
              0.4444444444444444,
              "#bd3786"
             ],
             [
              0.5555555555555556,
              "#d8576b"
             ],
             [
              0.6666666666666666,
              "#ed7953"
             ],
             [
              0.7777777777777778,
              "#fb9f3a"
             ],
             [
              0.8888888888888888,
              "#fdca26"
             ],
             [
              1,
              "#f0f921"
             ]
            ],
            "type": "heatmapgl"
           }
          ],
          "histogram": [
           {
            "marker": {
             "colorbar": {
              "outlinewidth": 0,
              "ticks": ""
             }
            },
            "type": "histogram"
           }
          ],
          "histogram2d": [
           {
            "colorbar": {
             "outlinewidth": 0,
             "ticks": ""
            },
            "colorscale": [
             [
              0,
              "#0d0887"
             ],
             [
              0.1111111111111111,
              "#46039f"
             ],
             [
              0.2222222222222222,
              "#7201a8"
             ],
             [
              0.3333333333333333,
              "#9c179e"
             ],
             [
              0.4444444444444444,
              "#bd3786"
             ],
             [
              0.5555555555555556,
              "#d8576b"
             ],
             [
              0.6666666666666666,
              "#ed7953"
             ],
             [
              0.7777777777777778,
              "#fb9f3a"
             ],
             [
              0.8888888888888888,
              "#fdca26"
             ],
             [
              1,
              "#f0f921"
             ]
            ],
            "type": "histogram2d"
           }
          ],
          "histogram2dcontour": [
           {
            "colorbar": {
             "outlinewidth": 0,
             "ticks": ""
            },
            "colorscale": [
             [
              0,
              "#0d0887"
             ],
             [
              0.1111111111111111,
              "#46039f"
             ],
             [
              0.2222222222222222,
              "#7201a8"
             ],
             [
              0.3333333333333333,
              "#9c179e"
             ],
             [
              0.4444444444444444,
              "#bd3786"
             ],
             [
              0.5555555555555556,
              "#d8576b"
             ],
             [
              0.6666666666666666,
              "#ed7953"
             ],
             [
              0.7777777777777778,
              "#fb9f3a"
             ],
             [
              0.8888888888888888,
              "#fdca26"
             ],
             [
              1,
              "#f0f921"
             ]
            ],
            "type": "histogram2dcontour"
           }
          ],
          "mesh3d": [
           {
            "colorbar": {
             "outlinewidth": 0,
             "ticks": ""
            },
            "type": "mesh3d"
           }
          ],
          "parcoords": [
           {
            "line": {
             "colorbar": {
              "outlinewidth": 0,
              "ticks": ""
             }
            },
            "type": "parcoords"
           }
          ],
          "pie": [
           {
            "automargin": true,
            "type": "pie"
           }
          ],
          "scatter": [
           {
            "marker": {
             "colorbar": {
              "outlinewidth": 0,
              "ticks": ""
             }
            },
            "type": "scatter"
           }
          ],
          "scatter3d": [
           {
            "line": {
             "colorbar": {
              "outlinewidth": 0,
              "ticks": ""
             }
            },
            "marker": {
             "colorbar": {
              "outlinewidth": 0,
              "ticks": ""
             }
            },
            "type": "scatter3d"
           }
          ],
          "scattercarpet": [
           {
            "marker": {
             "colorbar": {
              "outlinewidth": 0,
              "ticks": ""
             }
            },
            "type": "scattercarpet"
           }
          ],
          "scattergeo": [
           {
            "marker": {
             "colorbar": {
              "outlinewidth": 0,
              "ticks": ""
             }
            },
            "type": "scattergeo"
           }
          ],
          "scattergl": [
           {
            "marker": {
             "colorbar": {
              "outlinewidth": 0,
              "ticks": ""
             }
            },
            "type": "scattergl"
           }
          ],
          "scattermapbox": [
           {
            "marker": {
             "colorbar": {
              "outlinewidth": 0,
              "ticks": ""
             }
            },
            "type": "scattermapbox"
           }
          ],
          "scatterpolar": [
           {
            "marker": {
             "colorbar": {
              "outlinewidth": 0,
              "ticks": ""
             }
            },
            "type": "scatterpolar"
           }
          ],
          "scatterpolargl": [
           {
            "marker": {
             "colorbar": {
              "outlinewidth": 0,
              "ticks": ""
             }
            },
            "type": "scatterpolargl"
           }
          ],
          "scatterternary": [
           {
            "marker": {
             "colorbar": {
              "outlinewidth": 0,
              "ticks": ""
             }
            },
            "type": "scatterternary"
           }
          ],
          "surface": [
           {
            "colorbar": {
             "outlinewidth": 0,
             "ticks": ""
            },
            "colorscale": [
             [
              0,
              "#0d0887"
             ],
             [
              0.1111111111111111,
              "#46039f"
             ],
             [
              0.2222222222222222,
              "#7201a8"
             ],
             [
              0.3333333333333333,
              "#9c179e"
             ],
             [
              0.4444444444444444,
              "#bd3786"
             ],
             [
              0.5555555555555556,
              "#d8576b"
             ],
             [
              0.6666666666666666,
              "#ed7953"
             ],
             [
              0.7777777777777778,
              "#fb9f3a"
             ],
             [
              0.8888888888888888,
              "#fdca26"
             ],
             [
              1,
              "#f0f921"
             ]
            ],
            "type": "surface"
           }
          ],
          "table": [
           {
            "cells": {
             "fill": {
              "color": "#EBF0F8"
             },
             "line": {
              "color": "white"
             }
            },
            "header": {
             "fill": {
              "color": "#C8D4E3"
             },
             "line": {
              "color": "white"
             }
            },
            "type": "table"
           }
          ]
         },
         "layout": {
          "annotationdefaults": {
           "arrowcolor": "#2a3f5f",
           "arrowhead": 0,
           "arrowwidth": 1
          },
          "coloraxis": {
           "colorbar": {
            "outlinewidth": 0,
            "ticks": ""
           }
          },
          "colorscale": {
           "diverging": [
            [
             0,
             "#8e0152"
            ],
            [
             0.1,
             "#c51b7d"
            ],
            [
             0.2,
             "#de77ae"
            ],
            [
             0.3,
             "#f1b6da"
            ],
            [
             0.4,
             "#fde0ef"
            ],
            [
             0.5,
             "#f7f7f7"
            ],
            [
             0.6,
             "#e6f5d0"
            ],
            [
             0.7,
             "#b8e186"
            ],
            [
             0.8,
             "#7fbc41"
            ],
            [
             0.9,
             "#4d9221"
            ],
            [
             1,
             "#276419"
            ]
           ],
           "sequential": [
            [
             0,
             "#0d0887"
            ],
            [
             0.1111111111111111,
             "#46039f"
            ],
            [
             0.2222222222222222,
             "#7201a8"
            ],
            [
             0.3333333333333333,
             "#9c179e"
            ],
            [
             0.4444444444444444,
             "#bd3786"
            ],
            [
             0.5555555555555556,
             "#d8576b"
            ],
            [
             0.6666666666666666,
             "#ed7953"
            ],
            [
             0.7777777777777778,
             "#fb9f3a"
            ],
            [
             0.8888888888888888,
             "#fdca26"
            ],
            [
             1,
             "#f0f921"
            ]
           ],
           "sequentialminus": [
            [
             0,
             "#0d0887"
            ],
            [
             0.1111111111111111,
             "#46039f"
            ],
            [
             0.2222222222222222,
             "#7201a8"
            ],
            [
             0.3333333333333333,
             "#9c179e"
            ],
            [
             0.4444444444444444,
             "#bd3786"
            ],
            [
             0.5555555555555556,
             "#d8576b"
            ],
            [
             0.6666666666666666,
             "#ed7953"
            ],
            [
             0.7777777777777778,
             "#fb9f3a"
            ],
            [
             0.8888888888888888,
             "#fdca26"
            ],
            [
             1,
             "#f0f921"
            ]
           ]
          },
          "colorway": [
           "#636efa",
           "#EF553B",
           "#00cc96",
           "#ab63fa",
           "#FFA15A",
           "#19d3f3",
           "#FF6692",
           "#B6E880",
           "#FF97FF",
           "#FECB52"
          ],
          "font": {
           "color": "#2a3f5f"
          },
          "geo": {
           "bgcolor": "white",
           "lakecolor": "white",
           "landcolor": "#E5ECF6",
           "showlakes": true,
           "showland": true,
           "subunitcolor": "white"
          },
          "hoverlabel": {
           "align": "left"
          },
          "hovermode": "closest",
          "mapbox": {
           "style": "light"
          },
          "paper_bgcolor": "white",
          "plot_bgcolor": "#E5ECF6",
          "polar": {
           "angularaxis": {
            "gridcolor": "white",
            "linecolor": "white",
            "ticks": ""
           },
           "bgcolor": "#E5ECF6",
           "radialaxis": {
            "gridcolor": "white",
            "linecolor": "white",
            "ticks": ""
           }
          },
          "scene": {
           "xaxis": {
            "backgroundcolor": "#E5ECF6",
            "gridcolor": "white",
            "gridwidth": 2,
            "linecolor": "white",
            "showbackground": true,
            "ticks": "",
            "zerolinecolor": "white"
           },
           "yaxis": {
            "backgroundcolor": "#E5ECF6",
            "gridcolor": "white",
            "gridwidth": 2,
            "linecolor": "white",
            "showbackground": true,
            "ticks": "",
            "zerolinecolor": "white"
           },
           "zaxis": {
            "backgroundcolor": "#E5ECF6",
            "gridcolor": "white",
            "gridwidth": 2,
            "linecolor": "white",
            "showbackground": true,
            "ticks": "",
            "zerolinecolor": "white"
           }
          },
          "shapedefaults": {
           "line": {
            "color": "#2a3f5f"
           }
          },
          "ternary": {
           "aaxis": {
            "gridcolor": "white",
            "linecolor": "white",
            "ticks": ""
           },
           "baxis": {
            "gridcolor": "white",
            "linecolor": "white",
            "ticks": ""
           },
           "bgcolor": "#E5ECF6",
           "caxis": {
            "gridcolor": "white",
            "linecolor": "white",
            "ticks": ""
           }
          },
          "title": {
           "x": 0.05
          },
          "xaxis": {
           "automargin": true,
           "gridcolor": "white",
           "linecolor": "white",
           "ticks": "",
           "title": {
            "standoff": 15
           },
           "zerolinecolor": "white",
           "zerolinewidth": 2
          },
          "yaxis": {
           "automargin": true,
           "gridcolor": "white",
           "linecolor": "white",
           "ticks": "",
           "title": {
            "standoff": 15
           },
           "zerolinecolor": "white",
           "zerolinewidth": 2
          }
         }
        },
        "title": {
         "font": {
          "color": "#4D5663"
         }
        },
        "xaxis": {
         "gridcolor": "#E1E5ED",
         "showgrid": true,
         "tickfont": {
          "color": "#4D5663"
         },
         "title": {
          "font": {
           "color": "#4D5663"
          },
          "text": ""
         },
         "zerolinecolor": "#E1E5ED"
        },
        "xaxis2": {
         "anchor": "y2",
         "gridcolor": "#E1E5ED",
         "showgrid": true,
         "showticklabels": false,
         "tickfont": {
          "color": "#4D5663"
         },
         "title": {
          "font": {
           "color": "#4D5663"
          },
          "text": ""
         },
         "zerolinecolor": "#E1E5ED"
        },
        "yaxis": {
         "domain": [
          0.3,
          1
         ],
         "gridcolor": "#E1E5ED",
         "showgrid": true,
         "tickfont": {
          "color": "#4D5663"
         },
         "title": {
          "font": {
           "color": "#4D5663"
          },
          "text": ""
         },
         "zerolinecolor": "#E1E5ED"
        },
        "yaxis2": {
         "domain": [
          0,
          0.25
         ],
         "gridcolor": "#E1E5ED",
         "showgrid": true,
         "tickfont": {
          "color": "#4D5663"
         },
         "title": {
          "font": {
           "color": "#4D5663"
          },
          "text": "Spread"
         },
         "zerolinecolor": "#E1E5ED"
        }
       }
      },
      "text/html": [
       "<div>\n",
       "        \n",
       "        \n",
       "            <div id=\"bba26e3c-7749-459d-8d99-676fe2d95b9b\" class=\"plotly-graph-div\" style=\"height:525px; width:100%;\"></div>\n",
       "            <script type=\"text/javascript\">\n",
       "                require([\"plotly\"], function(Plotly) {\n",
       "                    window.PLOTLYENV=window.PLOTLYENV || {};\n",
       "                    window.PLOTLYENV.BASE_URL='https://plot.ly';\n",
       "                    \n",
       "                if (document.getElementById(\"bba26e3c-7749-459d-8d99-676fe2d95b9b\")) {\n",
       "                    Plotly.newPlot(\n",
       "                        'bba26e3c-7749-459d-8d99-676fe2d95b9b',\n",
       "                        [{\"line\": {\"color\": \"rgba(255, 153, 51, 1.0)\", \"dash\": \"solid\", \"shape\": \"linear\", \"width\": 1.3}, \"mode\": \"lines\", \"name\": \"A\", \"text\": \"\", \"type\": \"scatter\", \"x\": [0, 1, 2, 3, 4, 5, 6, 7, 8, 9, 10, 11, 12, 13, 14, 15, 16, 17, 18, 19, 20, 21, 22, 23, 24, 25, 26, 27, 28, 29, 30, 31, 32, 33, 34, 35, 36, 37, 38, 39, 40, 41, 42, 43, 44, 45, 46, 47, 48, 49, 50, 51, 52, 53, 54, 55, 56, 57, 58, 59, 60, 61, 62, 63, 64, 65, 66, 67, 68, 69, 70, 71, 72, 73, 74, 75, 76, 77, 78, 79, 80, 81, 82, 83, 84, 85, 86, 87, 88, 89, 90, 91, 92, 93, 94, 95, 96, 97, 98, 99], \"y\": [-1.516267560230567, -1.9207884175074055, 1.0373966535124963, 0.14953510936685668, -3.999485447186093, 0.41440508516482133, 0.7429422015904862, -1.4289512487530127, 0.6905534850783236, 0.11506940258331375, 1.9618318262179413, 0.4820087067882209, 0.010833293229753694, -0.595929986198764, -2.113531329590608, 1.3475913692139152, -0.17027902129753222, -1.7647043330033494, -0.7618858921940336, -0.32990065514115696, 0.5275932665014055, -0.012597174270982791, 0.977197771133166, -0.32632061640685095, 0.08292817175283175, -0.8344479918217037, 1.568391586495905, 0.35928326522581105, -0.6938103952930875, 0.2879566156066621, 0.020560596221972264, -0.6608720159459609, -1.3379447458259173, 0.09976969555504292, -1.8342513136627003, 0.9586876894546607, -1.1058337722839024, 0.5406356582921222, -1.9079890868367126, 0.25673390912073035, -0.09844552196478548, 0.547433763312957, -1.2925028155368672, -1.0266178727650466, 1.1507359785118991, -0.4331137041199937, 0.3750983126336917, -0.956571917947313, -0.6306287050127768, 1.1658314936903746, 0.20727664611040933, -0.7125620965948533, -1.2329857567549423, -1.19301842269195, 0.7344866094623589, 0.24825131328164876, -0.0703592808778631, -0.3940635524410132, 0.8837620159811025, -0.5882788998946945, 0.857686324715227, -1.2759414075844788, 0.1849841116242509, -0.9889213556524264, 0.37665713077589197, 0.06736189675688638, 0.7757816466321904, 1.0197517246852932, 2.1963839769565587, 1.6228329344349806, -0.417307672140243, 0.4883689747400217, 1.0063943302757847, -0.641507073385344, 0.2592738354357245, -1.115946078959094, 0.4121599174934557, -0.5158597744247898, 1.1280022315312952, -0.3627082124069788, 0.7816328424346314, 1.1133691254531146, 1.776942182023018, -0.2100716526582734, -0.8832821040096712, 0.10615505370341051, -1.2015298986284144, -1.6001804881901893, -1.0807816016045844, -0.9463689237520007, -0.5501717411155009, 0.6915172170167367, 1.3927574947291392, -1.4420007770037622, 0.9858512592211613, -0.6690552083723248, -0.23614428440751595, -0.30191933616375166, 1.1650348858496635, 0.12403058093384871]}, {\"line\": {\"color\": \"rgba(55, 128, 191, 1.0)\", \"dash\": \"solid\", \"shape\": \"linear\", \"width\": 1.3}, \"mode\": \"lines\", \"name\": \"B\", \"text\": \"\", \"type\": \"scatter\", \"x\": [0, 1, 2, 3, 4, 5, 6, 7, 8, 9, 10, 11, 12, 13, 14, 15, 16, 17, 18, 19, 20, 21, 22, 23, 24, 25, 26, 27, 28, 29, 30, 31, 32, 33, 34, 35, 36, 37, 38, 39, 40, 41, 42, 43, 44, 45, 46, 47, 48, 49, 50, 51, 52, 53, 54, 55, 56, 57, 58, 59, 60, 61, 62, 63, 64, 65, 66, 67, 68, 69, 70, 71, 72, 73, 74, 75, 76, 77, 78, 79, 80, 81, 82, 83, 84, 85, 86, 87, 88, 89, 90, 91, 92, 93, 94, 95, 96, 97, 98, 99], \"y\": [0.7560556932599837, 0.1861617358883027, -0.45946401974499407, 0.5363725650333798, -0.2826907049744466, 0.9869378586623979, -0.6293265326245278, 0.34986000372960885, -0.5320627851308627, -1.0447729626343751, -0.02070322248580189, 0.6798959897817697, 0.5763501818321275, 2.223053447818855, -0.8875788326999193, 0.1615787630842412, 0.3567709085089428, 0.5248938481707832, 0.9271245772107571, -0.7937188090872309, -0.6378307034357991, -0.17620310244789048, -0.23574356411919412, -1.527418059284275, -1.4533726991112783, -1.2953156503840655, 0.6210477547351118, 0.15506917930022304, 1.1950725809051264, -0.04247534795006339, 0.7659378064150684, -0.5615692618981515, 0.5737791878517139, -1.6006308572561425, -2.0333950285797724, 0.9346585456145193, 0.9488633527962949, -0.4745063070449874, -0.7734177445027147, 1.16465395450693, 1.4686285828616743, -0.7166223975541242, -1.2791480009837546, -1.3619596644254246, 0.7391929603399298, 1.1533967674155505, 0.3919443359002727, -0.9920921182175484, -0.9872936922072552, 0.9000315317637086, 0.004605680217882535, 0.1132365767180532, -2.435324506895573, -0.7597271181186379, -0.5264360772598415, -0.3121916127736122, 1.2307918201579024, 1.869523187447704, -0.8858686376106412, 0.543726783419556, -0.24643024780589254, -1.0030147432944985, -0.16165591281686184, 2.226299463444169, -0.9553257863435494, -0.29638314164963764, 3.0766450558184446, 0.5921688084872822, -0.5443244331161018, 0.34831653131719215, 0.07205649871924576, 1.6331107284138258, -0.5047645502368753, 1.9948204982562445, 0.24547203312160698, -0.27026650540474917, -0.08129411360953269, 0.5285605980807471, 0.5823235382880914, -0.2600138020280055, -0.16891644200176278, 0.1014571072555472, -0.3585139768204954, -1.6969407642537817, 0.9902414663906203, -0.7067845545991822, -1.3549550916722233, 0.3266717614722, 0.722908659201581, -0.48226300279897943, -2.6040444968163907, -1.1310424188559618, -2.016050162462118, -0.8432923110307549, 0.1718208037412506, -0.6124292996478096, -1.257773712778361, -1.6465683792803527, 0.14999425467185448, -0.24201883863756485]}, {\"connectgaps\": false, \"fill\": \"tozeroy\", \"line\": {\"color\": \"green\", \"dash\": \"solid\", \"shape\": \"linear\", \"width\": 0.5}, \"mode\": \"lines\", \"name\": \"Spread\", \"showlegend\": false, \"type\": \"scatter\", \"x\": [0, 1, 2, 3, 4, 5, 6, 7, 8, 9, 10, 11, 12, 13, 14, 15, 16, 17, 18, 19, 20, 21, 22, 23, 24, 25, 26, 27, 28, 29, 30, 31, 32, 33, 34, 35, 36, 37, 38, 39, 40, 41, 42, 43, 44, 45, 46, 47, 48, 49, 50, 51, 52, 53, 54, 55, 56, 57, 58, 59, 60, 61, 62, 63, 64, 65, 66, 67, 68, 69, 70, 71, 72, 73, 74, 75, 76, 77, 78, 79, 80, 81, 82, 83, 84, 85, 86, 87, 88, 89, 90, 91, 92, 93, 94, 95, 96, 97, 98, 99], \"xaxis\": \"x2\", \"y\": [\"\", \"\", 1.4968606732574905, \"\", \"\", \"\", 1.372268734215014, \"\", 1.2226162702091863, 1.1598423652176888, 1.9825350487037432, \"\", \"\", \"\", \"\", 1.186012606129674, \"\", \"\", \"\", 0.46381815394607395, 1.1654239699372044, 0.1636059281769077, 1.2129413352523601, 1.201097442877424, 1.5363008708641102, 0.4608676585623618, 0.9473438317607933, 0.204214085925588, \"\", 0.3304319635567255, \"\", \"\", \"\", 1.7004005528111854, 0.19914371491707206, 0.02402914384014132, \"\", 1.0151419653371097, \"\", \"\", \"\", 1.264056160867081, \"\", 0.33534179166037803, 0.41154301817196937, \"\", \"\", 0.03552020027023539, 0.35666498719447837, 0.265799961926666, 0.20267096589252678, \"\", 1.2023387501406309, \"\", 1.2609226867222003, 0.5604429260552609, \"\", \"\", 1.7696306535917437, \"\", 1.1041165725211195, \"\", 0.34664002444111275, \"\", 1.3319829171194413, 0.363745038406524, \"\", 0.42758291619801103, 2.7407084100726604, 1.2745164031177885, \"\", \"\", 1.5111588805126601, \"\", 0.01380180231411754, \"\", 0.4934540311029884, \"\", 0.5456786932432038, \"\", 0.9505492844363942, 1.0119120181975674, 2.1354561588435135, 1.4868691115955084, \"\", 0.8129396083025927, 0.15342519304380886, \"\", \"\", \"\", 2.0538727557008896, 1.8225596358726985, 3.4088076571912573, \"\", 0.8140304554799107, \"\", 1.0216294283708451, 1.344649043116601, 1.015040631177809, 0.36604941957141357], \"yaxis\": \"y2\"}, {\"connectgaps\": false, \"fill\": \"tozeroy\", \"line\": {\"color\": \"red\", \"dash\": \"solid\", \"shape\": \"linear\", \"width\": 0.5}, \"mode\": \"lines\", \"name\": \"Spread\", \"showlegend\": false, \"type\": \"scatter\", \"x\": [0, 1, 2, 3, 4, 5, 6, 7, 8, 9, 10, 11, 12, 13, 14, 15, 16, 17, 18, 19, 20, 21, 22, 23, 24, 25, 26, 27, 28, 29, 30, 31, 32, 33, 34, 35, 36, 37, 38, 39, 40, 41, 42, 43, 44, 45, 46, 47, 48, 49, 50, 51, 52, 53, 54, 55, 56, 57, 58, 59, 60, 61, 62, 63, 64, 65, 66, 67, 68, 69, 70, 71, 72, 73, 74, 75, 76, 77, 78, 79, 80, 81, 82, 83, 84, 85, 86, 87, 88, 89, 90, 91, 92, 93, 94, 95, 96, 97, 98, 99], \"xaxis\": \"x2\", \"y\": [-2.272323253490551, -2.106950153395708, \"\", -0.38683745566652317, -3.7167947422116465, -0.5725327734975766, \"\", -1.7788112524826216, \"\", \"\", \"\", -0.1978872829935488, -0.5655168886023738, -2.818983434017619, -1.225952496890689, \"\", -0.527049929806475, -2.2895981811741324, -1.6890104694047907, \"\", \"\", \"\", \"\", \"\", \"\", \"\", \"\", \"\", -1.888882976198214, \"\", -0.7453772101930961, -0.09930275404780942, -1.911723933677631, \"\", \"\", \"\", -2.0546971250801973, \"\", -1.1345713423339978, -0.9079200453861997, -1.5670741048264598, \"\", -0.013354814553112604, \"\", \"\", -1.5865104715355443, -0.016846023266581023, \"\", \"\", \"\", \"\", -0.8257986733129065, \"\", -0.4332913045733121, \"\", \"\", -1.3011511010357655, -2.2635867398887175, \"\", -1.1320056833142504, \"\", -0.27292666428998036, \"\", -3.2152208190965954, \"\", \"\", -2.3008634091862543, \"\", \"\", \"\", -0.48936417085948875, -1.144741753673804, \"\", -2.6363275716415884, \"\", -0.8456795735543449, \"\", -1.0444203725055368, \"\", -0.10269441037897331, \"\", \"\", \"\", \"\", -1.8735235704002915, \"\", \"\", -1.9268522496623892, -1.8036902608061653, -0.4641059209530212, \"\", \"\", \"\", -0.5987084659730073, \"\", -0.05662590872451523, \"\", \"\", \"\", \"\"], \"yaxis\": \"y2\"}],\n",
       "                        {\"hovermode\": \"x\", \"legend\": {\"bgcolor\": \"#F5F6F9\", \"font\": {\"color\": \"#4D5663\"}}, \"paper_bgcolor\": \"#F5F6F9\", \"plot_bgcolor\": \"#F5F6F9\", \"template\": {\"data\": {\"bar\": [{\"error_x\": {\"color\": \"#2a3f5f\"}, \"error_y\": {\"color\": \"#2a3f5f\"}, \"marker\": {\"line\": {\"color\": \"#E5ECF6\", \"width\": 0.5}}, \"type\": \"bar\"}], \"barpolar\": [{\"marker\": {\"line\": {\"color\": \"#E5ECF6\", \"width\": 0.5}}, \"type\": \"barpolar\"}], \"carpet\": [{\"aaxis\": {\"endlinecolor\": \"#2a3f5f\", \"gridcolor\": \"white\", \"linecolor\": \"white\", \"minorgridcolor\": \"white\", \"startlinecolor\": \"#2a3f5f\"}, \"baxis\": {\"endlinecolor\": \"#2a3f5f\", \"gridcolor\": \"white\", \"linecolor\": \"white\", \"minorgridcolor\": \"white\", \"startlinecolor\": \"#2a3f5f\"}, \"type\": \"carpet\"}], \"choropleth\": [{\"colorbar\": {\"outlinewidth\": 0, \"ticks\": \"\"}, \"type\": \"choropleth\"}], \"contour\": [{\"colorbar\": {\"outlinewidth\": 0, \"ticks\": \"\"}, \"colorscale\": [[0.0, \"#0d0887\"], [0.1111111111111111, \"#46039f\"], [0.2222222222222222, \"#7201a8\"], [0.3333333333333333, \"#9c179e\"], [0.4444444444444444, \"#bd3786\"], [0.5555555555555556, \"#d8576b\"], [0.6666666666666666, \"#ed7953\"], [0.7777777777777778, \"#fb9f3a\"], [0.8888888888888888, \"#fdca26\"], [1.0, \"#f0f921\"]], \"type\": \"contour\"}], \"contourcarpet\": [{\"colorbar\": {\"outlinewidth\": 0, \"ticks\": \"\"}, \"type\": \"contourcarpet\"}], \"heatmap\": [{\"colorbar\": {\"outlinewidth\": 0, \"ticks\": \"\"}, \"colorscale\": [[0.0, \"#0d0887\"], [0.1111111111111111, \"#46039f\"], [0.2222222222222222, \"#7201a8\"], [0.3333333333333333, \"#9c179e\"], [0.4444444444444444, \"#bd3786\"], [0.5555555555555556, \"#d8576b\"], [0.6666666666666666, \"#ed7953\"], [0.7777777777777778, \"#fb9f3a\"], [0.8888888888888888, \"#fdca26\"], [1.0, \"#f0f921\"]], \"type\": \"heatmap\"}], \"heatmapgl\": [{\"colorbar\": {\"outlinewidth\": 0, \"ticks\": \"\"}, \"colorscale\": [[0.0, \"#0d0887\"], [0.1111111111111111, \"#46039f\"], [0.2222222222222222, \"#7201a8\"], [0.3333333333333333, \"#9c179e\"], [0.4444444444444444, \"#bd3786\"], [0.5555555555555556, \"#d8576b\"], [0.6666666666666666, \"#ed7953\"], [0.7777777777777778, \"#fb9f3a\"], [0.8888888888888888, \"#fdca26\"], [1.0, \"#f0f921\"]], \"type\": \"heatmapgl\"}], \"histogram\": [{\"marker\": {\"colorbar\": {\"outlinewidth\": 0, \"ticks\": \"\"}}, \"type\": \"histogram\"}], \"histogram2d\": [{\"colorbar\": {\"outlinewidth\": 0, \"ticks\": \"\"}, \"colorscale\": [[0.0, \"#0d0887\"], [0.1111111111111111, \"#46039f\"], [0.2222222222222222, \"#7201a8\"], [0.3333333333333333, \"#9c179e\"], [0.4444444444444444, \"#bd3786\"], [0.5555555555555556, \"#d8576b\"], [0.6666666666666666, \"#ed7953\"], [0.7777777777777778, \"#fb9f3a\"], [0.8888888888888888, \"#fdca26\"], [1.0, \"#f0f921\"]], \"type\": \"histogram2d\"}], \"histogram2dcontour\": [{\"colorbar\": {\"outlinewidth\": 0, \"ticks\": \"\"}, \"colorscale\": [[0.0, \"#0d0887\"], [0.1111111111111111, \"#46039f\"], [0.2222222222222222, \"#7201a8\"], [0.3333333333333333, \"#9c179e\"], [0.4444444444444444, \"#bd3786\"], [0.5555555555555556, \"#d8576b\"], [0.6666666666666666, \"#ed7953\"], [0.7777777777777778, \"#fb9f3a\"], [0.8888888888888888, \"#fdca26\"], [1.0, \"#f0f921\"]], \"type\": \"histogram2dcontour\"}], \"mesh3d\": [{\"colorbar\": {\"outlinewidth\": 0, \"ticks\": \"\"}, \"type\": \"mesh3d\"}], \"parcoords\": [{\"line\": {\"colorbar\": {\"outlinewidth\": 0, \"ticks\": \"\"}}, \"type\": \"parcoords\"}], \"pie\": [{\"automargin\": true, \"type\": \"pie\"}], \"scatter\": [{\"marker\": {\"colorbar\": {\"outlinewidth\": 0, \"ticks\": \"\"}}, \"type\": \"scatter\"}], \"scatter3d\": [{\"line\": {\"colorbar\": {\"outlinewidth\": 0, \"ticks\": \"\"}}, \"marker\": {\"colorbar\": {\"outlinewidth\": 0, \"ticks\": \"\"}}, \"type\": \"scatter3d\"}], \"scattercarpet\": [{\"marker\": {\"colorbar\": {\"outlinewidth\": 0, \"ticks\": \"\"}}, \"type\": \"scattercarpet\"}], \"scattergeo\": [{\"marker\": {\"colorbar\": {\"outlinewidth\": 0, \"ticks\": \"\"}}, \"type\": \"scattergeo\"}], \"scattergl\": [{\"marker\": {\"colorbar\": {\"outlinewidth\": 0, \"ticks\": \"\"}}, \"type\": \"scattergl\"}], \"scattermapbox\": [{\"marker\": {\"colorbar\": {\"outlinewidth\": 0, \"ticks\": \"\"}}, \"type\": \"scattermapbox\"}], \"scatterpolar\": [{\"marker\": {\"colorbar\": {\"outlinewidth\": 0, \"ticks\": \"\"}}, \"type\": \"scatterpolar\"}], \"scatterpolargl\": [{\"marker\": {\"colorbar\": {\"outlinewidth\": 0, \"ticks\": \"\"}}, \"type\": \"scatterpolargl\"}], \"scatterternary\": [{\"marker\": {\"colorbar\": {\"outlinewidth\": 0, \"ticks\": \"\"}}, \"type\": \"scatterternary\"}], \"surface\": [{\"colorbar\": {\"outlinewidth\": 0, \"ticks\": \"\"}, \"colorscale\": [[0.0, \"#0d0887\"], [0.1111111111111111, \"#46039f\"], [0.2222222222222222, \"#7201a8\"], [0.3333333333333333, \"#9c179e\"], [0.4444444444444444, \"#bd3786\"], [0.5555555555555556, \"#d8576b\"], [0.6666666666666666, \"#ed7953\"], [0.7777777777777778, \"#fb9f3a\"], [0.8888888888888888, \"#fdca26\"], [1.0, \"#f0f921\"]], \"type\": \"surface\"}], \"table\": [{\"cells\": {\"fill\": {\"color\": \"#EBF0F8\"}, \"line\": {\"color\": \"white\"}}, \"header\": {\"fill\": {\"color\": \"#C8D4E3\"}, \"line\": {\"color\": \"white\"}}, \"type\": \"table\"}]}, \"layout\": {\"annotationdefaults\": {\"arrowcolor\": \"#2a3f5f\", \"arrowhead\": 0, \"arrowwidth\": 1}, \"coloraxis\": {\"colorbar\": {\"outlinewidth\": 0, \"ticks\": \"\"}}, \"colorscale\": {\"diverging\": [[0, \"#8e0152\"], [0.1, \"#c51b7d\"], [0.2, \"#de77ae\"], [0.3, \"#f1b6da\"], [0.4, \"#fde0ef\"], [0.5, \"#f7f7f7\"], [0.6, \"#e6f5d0\"], [0.7, \"#b8e186\"], [0.8, \"#7fbc41\"], [0.9, \"#4d9221\"], [1, \"#276419\"]], \"sequential\": [[0.0, \"#0d0887\"], [0.1111111111111111, \"#46039f\"], [0.2222222222222222, \"#7201a8\"], [0.3333333333333333, \"#9c179e\"], [0.4444444444444444, \"#bd3786\"], [0.5555555555555556, \"#d8576b\"], [0.6666666666666666, \"#ed7953\"], [0.7777777777777778, \"#fb9f3a\"], [0.8888888888888888, \"#fdca26\"], [1.0, \"#f0f921\"]], \"sequentialminus\": [[0.0, \"#0d0887\"], [0.1111111111111111, \"#46039f\"], [0.2222222222222222, \"#7201a8\"], [0.3333333333333333, \"#9c179e\"], [0.4444444444444444, \"#bd3786\"], [0.5555555555555556, \"#d8576b\"], [0.6666666666666666, \"#ed7953\"], [0.7777777777777778, \"#fb9f3a\"], [0.8888888888888888, \"#fdca26\"], [1.0, \"#f0f921\"]]}, \"colorway\": [\"#636efa\", \"#EF553B\", \"#00cc96\", \"#ab63fa\", \"#FFA15A\", \"#19d3f3\", \"#FF6692\", \"#B6E880\", \"#FF97FF\", \"#FECB52\"], \"font\": {\"color\": \"#2a3f5f\"}, \"geo\": {\"bgcolor\": \"white\", \"lakecolor\": \"white\", \"landcolor\": \"#E5ECF6\", \"showlakes\": true, \"showland\": true, \"subunitcolor\": \"white\"}, \"hoverlabel\": {\"align\": \"left\"}, \"hovermode\": \"closest\", \"mapbox\": {\"style\": \"light\"}, \"paper_bgcolor\": \"white\", \"plot_bgcolor\": \"#E5ECF6\", \"polar\": {\"angularaxis\": {\"gridcolor\": \"white\", \"linecolor\": \"white\", \"ticks\": \"\"}, \"bgcolor\": \"#E5ECF6\", \"radialaxis\": {\"gridcolor\": \"white\", \"linecolor\": \"white\", \"ticks\": \"\"}}, \"scene\": {\"xaxis\": {\"backgroundcolor\": \"#E5ECF6\", \"gridcolor\": \"white\", \"gridwidth\": 2, \"linecolor\": \"white\", \"showbackground\": true, \"ticks\": \"\", \"zerolinecolor\": \"white\"}, \"yaxis\": {\"backgroundcolor\": \"#E5ECF6\", \"gridcolor\": \"white\", \"gridwidth\": 2, \"linecolor\": \"white\", \"showbackground\": true, \"ticks\": \"\", \"zerolinecolor\": \"white\"}, \"zaxis\": {\"backgroundcolor\": \"#E5ECF6\", \"gridcolor\": \"white\", \"gridwidth\": 2, \"linecolor\": \"white\", \"showbackground\": true, \"ticks\": \"\", \"zerolinecolor\": \"white\"}}, \"shapedefaults\": {\"line\": {\"color\": \"#2a3f5f\"}}, \"ternary\": {\"aaxis\": {\"gridcolor\": \"white\", \"linecolor\": \"white\", \"ticks\": \"\"}, \"baxis\": {\"gridcolor\": \"white\", \"linecolor\": \"white\", \"ticks\": \"\"}, \"bgcolor\": \"#E5ECF6\", \"caxis\": {\"gridcolor\": \"white\", \"linecolor\": \"white\", \"ticks\": \"\"}}, \"title\": {\"x\": 0.05}, \"xaxis\": {\"automargin\": true, \"gridcolor\": \"white\", \"linecolor\": \"white\", \"ticks\": \"\", \"title\": {\"standoff\": 15}, \"zerolinecolor\": \"white\", \"zerolinewidth\": 2}, \"yaxis\": {\"automargin\": true, \"gridcolor\": \"white\", \"linecolor\": \"white\", \"ticks\": \"\", \"title\": {\"standoff\": 15}, \"zerolinecolor\": \"white\", \"zerolinewidth\": 2}}}, \"title\": {\"font\": {\"color\": \"#4D5663\"}}, \"xaxis\": {\"gridcolor\": \"#E1E5ED\", \"showgrid\": true, \"tickfont\": {\"color\": \"#4D5663\"}, \"title\": {\"font\": {\"color\": \"#4D5663\"}, \"text\": \"\"}, \"zerolinecolor\": \"#E1E5ED\"}, \"xaxis2\": {\"anchor\": \"y2\", \"gridcolor\": \"#E1E5ED\", \"showgrid\": true, \"showticklabels\": false, \"tickfont\": {\"color\": \"#4D5663\"}, \"title\": {\"font\": {\"color\": \"#4D5663\"}, \"text\": \"\"}, \"zerolinecolor\": \"#E1E5ED\"}, \"yaxis\": {\"domain\": [0.3, 1], \"gridcolor\": \"#E1E5ED\", \"showgrid\": true, \"tickfont\": {\"color\": \"#4D5663\"}, \"title\": {\"font\": {\"color\": \"#4D5663\"}, \"text\": \"\"}, \"zerolinecolor\": \"#E1E5ED\"}, \"yaxis2\": {\"domain\": [0, 0.25], \"gridcolor\": \"#E1E5ED\", \"showgrid\": true, \"tickfont\": {\"color\": \"#4D5663\"}, \"title\": {\"font\": {\"color\": \"#4D5663\"}, \"text\": \"Spread\"}, \"zerolinecolor\": \"#E1E5ED\"}},\n",
       "                        {\"showLink\": true, \"linkText\": \"Export to plot.ly\", \"plotlyServerURL\": \"https://plot.ly\", \"responsive\": true}\n",
       "                    ).then(function(){\n",
       "                            \n",
       "var gd = document.getElementById('bba26e3c-7749-459d-8d99-676fe2d95b9b');\n",
       "var x = new MutationObserver(function (mutations, observer) {{\n",
       "        var display = window.getComputedStyle(gd).display;\n",
       "        if (!display || display === 'none') {{\n",
       "            console.log([gd, 'removed!']);\n",
       "            Plotly.purge(gd);\n",
       "            observer.disconnect();\n",
       "        }}\n",
       "}});\n",
       "\n",
       "// Listen for the removal of the full notebook cells\n",
       "var notebookContainer = gd.closest('#notebook-container');\n",
       "if (notebookContainer) {{\n",
       "    x.observe(notebookContainer, {childList: true});\n",
       "}}\n",
       "\n",
       "// Listen for the clearing of the current output cell\n",
       "var outputEl = gd.closest('.output');\n",
       "if (outputEl) {{\n",
       "    x.observe(outputEl, {childList: true});\n",
       "}}\n",
       "\n",
       "                        })\n",
       "                };\n",
       "                });\n",
       "            </script>\n",
       "        </div>"
      ]
     },
     "metadata": {},
     "output_type": "display_data"
    }
   ],
   "source": [
    "# spread plot, typically used for stocks e.g. to compare the spread between 2 stocks. shows line plot and spread plot\n",
    "df[['A','B']].iplot(kind='spread')"
   ]
  },
  {
   "cell_type": "code",
   "execution_count": 42,
   "metadata": {},
   "outputs": [
    {
     "data": {
      "application/vnd.plotly.v1+json": {
       "config": {
        "linkText": "Export to plot.ly",
        "plotlyServerURL": "https://plot.ly",
        "showLink": true
       },
       "data": [
        {
         "marker": {
          "color": [
           "rgb(255, 153, 51)",
           "rgb(55, 128, 191)",
           "rgb(50, 171, 96)",
           "rgb(128, 0, 128)",
           "rgb(219, 64, 82)",
           "rgb(0, 128, 128)",
           "rgb(255, 255, 51)",
           "rgb(128, 128, 0)",
           "rgb(251, 128, 114)",
           "rgb(128, 177, 211)"
          ],
          "line": {
           "width": 1.3
          },
          "size": [
           74,
           83,
           39,
           56,
           12,
           71,
           75,
           63,
           46,
           64,
           72,
           47,
           31,
           26,
           69,
           63,
           37,
           31,
           73,
           75,
           71,
           33,
           40,
           55,
           88,
           43,
           110,
           33,
           31,
           44,
           59,
           87,
           63,
           80,
           73,
           94,
           44,
           59,
           44,
           41,
           86,
           24,
           47,
           61,
           84,
           70,
           59,
           37,
           67,
           33,
           79,
           68,
           41,
           53,
           53,
           23,
           77,
           86,
           44,
           54,
           35,
           38,
           80,
           60,
           74,
           35,
           44,
           33,
           43,
           69,
           27,
           77,
           75,
           64,
           112,
           70,
           82,
           49,
           53,
           65,
           35,
           30,
           51,
           39,
           53,
           49,
           46,
           78,
           57,
           67,
           76,
           18,
           60,
           110,
           83,
           67,
           35,
           52,
           27,
           30
          ],
          "symbol": "circle"
         },
         "mode": "markers",
         "text": "",
         "type": "scatter",
         "x": [
          -1.516267560230567,
          -1.9207884175074055,
          1.0373966535124963,
          0.14953510936685668,
          -3.999485447186093,
          0.41440508516482133,
          0.7429422015904862,
          -1.4289512487530127,
          0.6905534850783236,
          0.11506940258331375,
          1.9618318262179413,
          0.4820087067882209,
          0.010833293229753694,
          -0.595929986198764,
          -2.113531329590608,
          1.3475913692139152,
          -0.17027902129753222,
          -1.7647043330033494,
          -0.7618858921940336,
          -0.32990065514115696,
          0.5275932665014055,
          -0.012597174270982791,
          0.977197771133166,
          -0.32632061640685095,
          0.08292817175283175,
          -0.8344479918217037,
          1.568391586495905,
          0.35928326522581105,
          -0.6938103952930875,
          0.2879566156066621,
          0.020560596221972264,
          -0.6608720159459609,
          -1.3379447458259173,
          0.09976969555504292,
          -1.8342513136627003,
          0.9586876894546607,
          -1.1058337722839024,
          0.5406356582921222,
          -1.9079890868367126,
          0.25673390912073035,
          -0.09844552196478548,
          0.547433763312957,
          -1.2925028155368672,
          -1.0266178727650466,
          1.1507359785118991,
          -0.4331137041199937,
          0.3750983126336917,
          -0.956571917947313,
          -0.6306287050127768,
          1.1658314936903746,
          0.20727664611040933,
          -0.7125620965948533,
          -1.2329857567549423,
          -1.19301842269195,
          0.7344866094623589,
          0.24825131328164876,
          -0.0703592808778631,
          -0.3940635524410132,
          0.8837620159811025,
          -0.5882788998946945,
          0.857686324715227,
          -1.2759414075844788,
          0.1849841116242509,
          -0.9889213556524264,
          0.37665713077589197,
          0.06736189675688638,
          0.7757816466321904,
          1.0197517246852932,
          2.1963839769565587,
          1.6228329344349806,
          -0.417307672140243,
          0.4883689747400217,
          1.0063943302757847,
          -0.641507073385344,
          0.2592738354357245,
          -1.115946078959094,
          0.4121599174934557,
          -0.5158597744247898,
          1.1280022315312952,
          -0.3627082124069788,
          0.7816328424346314,
          1.1133691254531146,
          1.776942182023018,
          -0.2100716526582734,
          -0.8832821040096712,
          0.10615505370341051,
          -1.2015298986284144,
          -1.6001804881901893,
          -1.0807816016045844,
          -0.9463689237520007,
          -0.5501717411155009,
          0.6915172170167367,
          1.3927574947291392,
          -1.4420007770037622,
          0.9858512592211613,
          -0.6690552083723248,
          -0.23614428440751595,
          -0.30191933616375166,
          1.1650348858496635,
          0.12403058093384871
         ],
         "y": [
          0.7560556932599837,
          0.1861617358883027,
          -0.45946401974499407,
          0.5363725650333798,
          -0.2826907049744466,
          0.9869378586623979,
          -0.6293265326245278,
          0.34986000372960885,
          -0.5320627851308627,
          -1.0447729626343751,
          -0.02070322248580189,
          0.6798959897817697,
          0.5763501818321275,
          2.223053447818855,
          -0.8875788326999193,
          0.1615787630842412,
          0.3567709085089428,
          0.5248938481707832,
          0.9271245772107571,
          -0.7937188090872309,
          -0.6378307034357991,
          -0.17620310244789048,
          -0.23574356411919412,
          -1.527418059284275,
          -1.4533726991112783,
          -1.2953156503840655,
          0.6210477547351118,
          0.15506917930022304,
          1.1950725809051264,
          -0.04247534795006339,
          0.7659378064150684,
          -0.5615692618981515,
          0.5737791878517139,
          -1.6006308572561425,
          -2.0333950285797724,
          0.9346585456145193,
          0.9488633527962949,
          -0.4745063070449874,
          -0.7734177445027147,
          1.16465395450693,
          1.4686285828616743,
          -0.7166223975541242,
          -1.2791480009837546,
          -1.3619596644254246,
          0.7391929603399298,
          1.1533967674155505,
          0.3919443359002727,
          -0.9920921182175484,
          -0.9872936922072552,
          0.9000315317637086,
          0.004605680217882535,
          0.1132365767180532,
          -2.435324506895573,
          -0.7597271181186379,
          -0.5264360772598415,
          -0.3121916127736122,
          1.2307918201579024,
          1.869523187447704,
          -0.8858686376106412,
          0.543726783419556,
          -0.24643024780589254,
          -1.0030147432944985,
          -0.16165591281686184,
          2.226299463444169,
          -0.9553257863435494,
          -0.29638314164963764,
          3.0766450558184446,
          0.5921688084872822,
          -0.5443244331161018,
          0.34831653131719215,
          0.07205649871924576,
          1.6331107284138258,
          -0.5047645502368753,
          1.9948204982562445,
          0.24547203312160698,
          -0.27026650540474917,
          -0.08129411360953269,
          0.5285605980807471,
          0.5823235382880914,
          -0.2600138020280055,
          -0.16891644200176278,
          0.1014571072555472,
          -0.3585139768204954,
          -1.6969407642537817,
          0.9902414663906203,
          -0.7067845545991822,
          -1.3549550916722233,
          0.3266717614722,
          0.722908659201581,
          -0.48226300279897943,
          -2.6040444968163907,
          -1.1310424188559618,
          -2.016050162462118,
          -0.8432923110307549,
          0.1718208037412506,
          -0.6124292996478096,
          -1.257773712778361,
          -1.6465683792803527,
          0.14999425467185448,
          -0.24201883863756485
         ]
        }
       ],
       "layout": {
        "legend": {
         "bgcolor": "#F5F6F9",
         "font": {
          "color": "#4D5663"
         }
        },
        "paper_bgcolor": "#F5F6F9",
        "plot_bgcolor": "#F5F6F9",
        "template": {
         "data": {
          "bar": [
           {
            "error_x": {
             "color": "#2a3f5f"
            },
            "error_y": {
             "color": "#2a3f5f"
            },
            "marker": {
             "line": {
              "color": "#E5ECF6",
              "width": 0.5
             }
            },
            "type": "bar"
           }
          ],
          "barpolar": [
           {
            "marker": {
             "line": {
              "color": "#E5ECF6",
              "width": 0.5
             }
            },
            "type": "barpolar"
           }
          ],
          "carpet": [
           {
            "aaxis": {
             "endlinecolor": "#2a3f5f",
             "gridcolor": "white",
             "linecolor": "white",
             "minorgridcolor": "white",
             "startlinecolor": "#2a3f5f"
            },
            "baxis": {
             "endlinecolor": "#2a3f5f",
             "gridcolor": "white",
             "linecolor": "white",
             "minorgridcolor": "white",
             "startlinecolor": "#2a3f5f"
            },
            "type": "carpet"
           }
          ],
          "choropleth": [
           {
            "colorbar": {
             "outlinewidth": 0,
             "ticks": ""
            },
            "type": "choropleth"
           }
          ],
          "contour": [
           {
            "colorbar": {
             "outlinewidth": 0,
             "ticks": ""
            },
            "colorscale": [
             [
              0,
              "#0d0887"
             ],
             [
              0.1111111111111111,
              "#46039f"
             ],
             [
              0.2222222222222222,
              "#7201a8"
             ],
             [
              0.3333333333333333,
              "#9c179e"
             ],
             [
              0.4444444444444444,
              "#bd3786"
             ],
             [
              0.5555555555555556,
              "#d8576b"
             ],
             [
              0.6666666666666666,
              "#ed7953"
             ],
             [
              0.7777777777777778,
              "#fb9f3a"
             ],
             [
              0.8888888888888888,
              "#fdca26"
             ],
             [
              1,
              "#f0f921"
             ]
            ],
            "type": "contour"
           }
          ],
          "contourcarpet": [
           {
            "colorbar": {
             "outlinewidth": 0,
             "ticks": ""
            },
            "type": "contourcarpet"
           }
          ],
          "heatmap": [
           {
            "colorbar": {
             "outlinewidth": 0,
             "ticks": ""
            },
            "colorscale": [
             [
              0,
              "#0d0887"
             ],
             [
              0.1111111111111111,
              "#46039f"
             ],
             [
              0.2222222222222222,
              "#7201a8"
             ],
             [
              0.3333333333333333,
              "#9c179e"
             ],
             [
              0.4444444444444444,
              "#bd3786"
             ],
             [
              0.5555555555555556,
              "#d8576b"
             ],
             [
              0.6666666666666666,
              "#ed7953"
             ],
             [
              0.7777777777777778,
              "#fb9f3a"
             ],
             [
              0.8888888888888888,
              "#fdca26"
             ],
             [
              1,
              "#f0f921"
             ]
            ],
            "type": "heatmap"
           }
          ],
          "heatmapgl": [
           {
            "colorbar": {
             "outlinewidth": 0,
             "ticks": ""
            },
            "colorscale": [
             [
              0,
              "#0d0887"
             ],
             [
              0.1111111111111111,
              "#46039f"
             ],
             [
              0.2222222222222222,
              "#7201a8"
             ],
             [
              0.3333333333333333,
              "#9c179e"
             ],
             [
              0.4444444444444444,
              "#bd3786"
             ],
             [
              0.5555555555555556,
              "#d8576b"
             ],
             [
              0.6666666666666666,
              "#ed7953"
             ],
             [
              0.7777777777777778,
              "#fb9f3a"
             ],
             [
              0.8888888888888888,
              "#fdca26"
             ],
             [
              1,
              "#f0f921"
             ]
            ],
            "type": "heatmapgl"
           }
          ],
          "histogram": [
           {
            "marker": {
             "colorbar": {
              "outlinewidth": 0,
              "ticks": ""
             }
            },
            "type": "histogram"
           }
          ],
          "histogram2d": [
           {
            "colorbar": {
             "outlinewidth": 0,
             "ticks": ""
            },
            "colorscale": [
             [
              0,
              "#0d0887"
             ],
             [
              0.1111111111111111,
              "#46039f"
             ],
             [
              0.2222222222222222,
              "#7201a8"
             ],
             [
              0.3333333333333333,
              "#9c179e"
             ],
             [
              0.4444444444444444,
              "#bd3786"
             ],
             [
              0.5555555555555556,
              "#d8576b"
             ],
             [
              0.6666666666666666,
              "#ed7953"
             ],
             [
              0.7777777777777778,
              "#fb9f3a"
             ],
             [
              0.8888888888888888,
              "#fdca26"
             ],
             [
              1,
              "#f0f921"
             ]
            ],
            "type": "histogram2d"
           }
          ],
          "histogram2dcontour": [
           {
            "colorbar": {
             "outlinewidth": 0,
             "ticks": ""
            },
            "colorscale": [
             [
              0,
              "#0d0887"
             ],
             [
              0.1111111111111111,
              "#46039f"
             ],
             [
              0.2222222222222222,
              "#7201a8"
             ],
             [
              0.3333333333333333,
              "#9c179e"
             ],
             [
              0.4444444444444444,
              "#bd3786"
             ],
             [
              0.5555555555555556,
              "#d8576b"
             ],
             [
              0.6666666666666666,
              "#ed7953"
             ],
             [
              0.7777777777777778,
              "#fb9f3a"
             ],
             [
              0.8888888888888888,
              "#fdca26"
             ],
             [
              1,
              "#f0f921"
             ]
            ],
            "type": "histogram2dcontour"
           }
          ],
          "mesh3d": [
           {
            "colorbar": {
             "outlinewidth": 0,
             "ticks": ""
            },
            "type": "mesh3d"
           }
          ],
          "parcoords": [
           {
            "line": {
             "colorbar": {
              "outlinewidth": 0,
              "ticks": ""
             }
            },
            "type": "parcoords"
           }
          ],
          "pie": [
           {
            "automargin": true,
            "type": "pie"
           }
          ],
          "scatter": [
           {
            "marker": {
             "colorbar": {
              "outlinewidth": 0,
              "ticks": ""
             }
            },
            "type": "scatter"
           }
          ],
          "scatter3d": [
           {
            "line": {
             "colorbar": {
              "outlinewidth": 0,
              "ticks": ""
             }
            },
            "marker": {
             "colorbar": {
              "outlinewidth": 0,
              "ticks": ""
             }
            },
            "type": "scatter3d"
           }
          ],
          "scattercarpet": [
           {
            "marker": {
             "colorbar": {
              "outlinewidth": 0,
              "ticks": ""
             }
            },
            "type": "scattercarpet"
           }
          ],
          "scattergeo": [
           {
            "marker": {
             "colorbar": {
              "outlinewidth": 0,
              "ticks": ""
             }
            },
            "type": "scattergeo"
           }
          ],
          "scattergl": [
           {
            "marker": {
             "colorbar": {
              "outlinewidth": 0,
              "ticks": ""
             }
            },
            "type": "scattergl"
           }
          ],
          "scattermapbox": [
           {
            "marker": {
             "colorbar": {
              "outlinewidth": 0,
              "ticks": ""
             }
            },
            "type": "scattermapbox"
           }
          ],
          "scatterpolar": [
           {
            "marker": {
             "colorbar": {
              "outlinewidth": 0,
              "ticks": ""
             }
            },
            "type": "scatterpolar"
           }
          ],
          "scatterpolargl": [
           {
            "marker": {
             "colorbar": {
              "outlinewidth": 0,
              "ticks": ""
             }
            },
            "type": "scatterpolargl"
           }
          ],
          "scatterternary": [
           {
            "marker": {
             "colorbar": {
              "outlinewidth": 0,
              "ticks": ""
             }
            },
            "type": "scatterternary"
           }
          ],
          "surface": [
           {
            "colorbar": {
             "outlinewidth": 0,
             "ticks": ""
            },
            "colorscale": [
             [
              0,
              "#0d0887"
             ],
             [
              0.1111111111111111,
              "#46039f"
             ],
             [
              0.2222222222222222,
              "#7201a8"
             ],
             [
              0.3333333333333333,
              "#9c179e"
             ],
             [
              0.4444444444444444,
              "#bd3786"
             ],
             [
              0.5555555555555556,
              "#d8576b"
             ],
             [
              0.6666666666666666,
              "#ed7953"
             ],
             [
              0.7777777777777778,
              "#fb9f3a"
             ],
             [
              0.8888888888888888,
              "#fdca26"
             ],
             [
              1,
              "#f0f921"
             ]
            ],
            "type": "surface"
           }
          ],
          "table": [
           {
            "cells": {
             "fill": {
              "color": "#EBF0F8"
             },
             "line": {
              "color": "white"
             }
            },
            "header": {
             "fill": {
              "color": "#C8D4E3"
             },
             "line": {
              "color": "white"
             }
            },
            "type": "table"
           }
          ]
         },
         "layout": {
          "annotationdefaults": {
           "arrowcolor": "#2a3f5f",
           "arrowhead": 0,
           "arrowwidth": 1
          },
          "coloraxis": {
           "colorbar": {
            "outlinewidth": 0,
            "ticks": ""
           }
          },
          "colorscale": {
           "diverging": [
            [
             0,
             "#8e0152"
            ],
            [
             0.1,
             "#c51b7d"
            ],
            [
             0.2,
             "#de77ae"
            ],
            [
             0.3,
             "#f1b6da"
            ],
            [
             0.4,
             "#fde0ef"
            ],
            [
             0.5,
             "#f7f7f7"
            ],
            [
             0.6,
             "#e6f5d0"
            ],
            [
             0.7,
             "#b8e186"
            ],
            [
             0.8,
             "#7fbc41"
            ],
            [
             0.9,
             "#4d9221"
            ],
            [
             1,
             "#276419"
            ]
           ],
           "sequential": [
            [
             0,
             "#0d0887"
            ],
            [
             0.1111111111111111,
             "#46039f"
            ],
            [
             0.2222222222222222,
             "#7201a8"
            ],
            [
             0.3333333333333333,
             "#9c179e"
            ],
            [
             0.4444444444444444,
             "#bd3786"
            ],
            [
             0.5555555555555556,
             "#d8576b"
            ],
            [
             0.6666666666666666,
             "#ed7953"
            ],
            [
             0.7777777777777778,
             "#fb9f3a"
            ],
            [
             0.8888888888888888,
             "#fdca26"
            ],
            [
             1,
             "#f0f921"
            ]
           ],
           "sequentialminus": [
            [
             0,
             "#0d0887"
            ],
            [
             0.1111111111111111,
             "#46039f"
            ],
            [
             0.2222222222222222,
             "#7201a8"
            ],
            [
             0.3333333333333333,
             "#9c179e"
            ],
            [
             0.4444444444444444,
             "#bd3786"
            ],
            [
             0.5555555555555556,
             "#d8576b"
            ],
            [
             0.6666666666666666,
             "#ed7953"
            ],
            [
             0.7777777777777778,
             "#fb9f3a"
            ],
            [
             0.8888888888888888,
             "#fdca26"
            ],
            [
             1,
             "#f0f921"
            ]
           ]
          },
          "colorway": [
           "#636efa",
           "#EF553B",
           "#00cc96",
           "#ab63fa",
           "#FFA15A",
           "#19d3f3",
           "#FF6692",
           "#B6E880",
           "#FF97FF",
           "#FECB52"
          ],
          "font": {
           "color": "#2a3f5f"
          },
          "geo": {
           "bgcolor": "white",
           "lakecolor": "white",
           "landcolor": "#E5ECF6",
           "showlakes": true,
           "showland": true,
           "subunitcolor": "white"
          },
          "hoverlabel": {
           "align": "left"
          },
          "hovermode": "closest",
          "mapbox": {
           "style": "light"
          },
          "paper_bgcolor": "white",
          "plot_bgcolor": "#E5ECF6",
          "polar": {
           "angularaxis": {
            "gridcolor": "white",
            "linecolor": "white",
            "ticks": ""
           },
           "bgcolor": "#E5ECF6",
           "radialaxis": {
            "gridcolor": "white",
            "linecolor": "white",
            "ticks": ""
           }
          },
          "scene": {
           "xaxis": {
            "backgroundcolor": "#E5ECF6",
            "gridcolor": "white",
            "gridwidth": 2,
            "linecolor": "white",
            "showbackground": true,
            "ticks": "",
            "zerolinecolor": "white"
           },
           "yaxis": {
            "backgroundcolor": "#E5ECF6",
            "gridcolor": "white",
            "gridwidth": 2,
            "linecolor": "white",
            "showbackground": true,
            "ticks": "",
            "zerolinecolor": "white"
           },
           "zaxis": {
            "backgroundcolor": "#E5ECF6",
            "gridcolor": "white",
            "gridwidth": 2,
            "linecolor": "white",
            "showbackground": true,
            "ticks": "",
            "zerolinecolor": "white"
           }
          },
          "shapedefaults": {
           "line": {
            "color": "#2a3f5f"
           }
          },
          "ternary": {
           "aaxis": {
            "gridcolor": "white",
            "linecolor": "white",
            "ticks": ""
           },
           "baxis": {
            "gridcolor": "white",
            "linecolor": "white",
            "ticks": ""
           },
           "bgcolor": "#E5ECF6",
           "caxis": {
            "gridcolor": "white",
            "linecolor": "white",
            "ticks": ""
           }
          },
          "title": {
           "x": 0.05
          },
          "xaxis": {
           "automargin": true,
           "gridcolor": "white",
           "linecolor": "white",
           "ticks": "",
           "title": {
            "standoff": 15
           },
           "zerolinecolor": "white",
           "zerolinewidth": 2
          },
          "yaxis": {
           "automargin": true,
           "gridcolor": "white",
           "linecolor": "white",
           "ticks": "",
           "title": {
            "standoff": 15
           },
           "zerolinecolor": "white",
           "zerolinewidth": 2
          }
         }
        },
        "title": {
         "font": {
          "color": "#4D5663"
         }
        },
        "xaxis": {
         "gridcolor": "#E1E5ED",
         "showgrid": true,
         "tickfont": {
          "color": "#4D5663"
         },
         "title": {
          "font": {
           "color": "#4D5663"
          },
          "text": ""
         },
         "zerolinecolor": "#E1E5ED"
        },
        "yaxis": {
         "gridcolor": "#E1E5ED",
         "showgrid": true,
         "tickfont": {
          "color": "#4D5663"
         },
         "title": {
          "font": {
           "color": "#4D5663"
          },
          "text": ""
         },
         "zerolinecolor": "#E1E5ED"
        }
       }
      },
      "text/html": [
       "<div>\n",
       "        \n",
       "        \n",
       "            <div id=\"9f800552-3dde-42df-8495-37110bbdeab0\" class=\"plotly-graph-div\" style=\"height:525px; width:100%;\"></div>\n",
       "            <script type=\"text/javascript\">\n",
       "                require([\"plotly\"], function(Plotly) {\n",
       "                    window.PLOTLYENV=window.PLOTLYENV || {};\n",
       "                    window.PLOTLYENV.BASE_URL='https://plot.ly';\n",
       "                    \n",
       "                if (document.getElementById(\"9f800552-3dde-42df-8495-37110bbdeab0\")) {\n",
       "                    Plotly.newPlot(\n",
       "                        '9f800552-3dde-42df-8495-37110bbdeab0',\n",
       "                        [{\"marker\": {\"color\": [\"rgb(255, 153, 51)\", \"rgb(55, 128, 191)\", \"rgb(50, 171, 96)\", \"rgb(128, 0, 128)\", \"rgb(219, 64, 82)\", \"rgb(0, 128, 128)\", \"rgb(255, 255, 51)\", \"rgb(128, 128, 0)\", \"rgb(251, 128, 114)\", \"rgb(128, 177, 211)\"], \"line\": {\"width\": 1.3}, \"size\": [74, 83, 39, 56, 12, 71, 75, 63, 46, 64, 72, 47, 31, 26, 69, 63, 37, 31, 73, 75, 71, 33, 40, 55, 88, 43, 110, 33, 31, 44, 59, 87, 63, 80, 73, 94, 44, 59, 44, 41, 86, 24, 47, 61, 84, 70, 59, 37, 67, 33, 79, 68, 41, 53, 53, 23, 77, 86, 44, 54, 35, 38, 80, 60, 74, 35, 44, 33, 43, 69, 27, 77, 75, 64, 112, 70, 82, 49, 53, 65, 35, 30, 51, 39, 53, 49, 46, 78, 57, 67, 76, 18, 60, 110, 83, 67, 35, 52, 27, 30], \"symbol\": \"circle\"}, \"mode\": \"markers\", \"text\": \"\", \"type\": \"scatter\", \"x\": [-1.516267560230567, -1.9207884175074055, 1.0373966535124963, 0.14953510936685668, -3.999485447186093, 0.41440508516482133, 0.7429422015904862, -1.4289512487530127, 0.6905534850783236, 0.11506940258331375, 1.9618318262179413, 0.4820087067882209, 0.010833293229753694, -0.595929986198764, -2.113531329590608, 1.3475913692139152, -0.17027902129753222, -1.7647043330033494, -0.7618858921940336, -0.32990065514115696, 0.5275932665014055, -0.012597174270982791, 0.977197771133166, -0.32632061640685095, 0.08292817175283175, -0.8344479918217037, 1.568391586495905, 0.35928326522581105, -0.6938103952930875, 0.2879566156066621, 0.020560596221972264, -0.6608720159459609, -1.3379447458259173, 0.09976969555504292, -1.8342513136627003, 0.9586876894546607, -1.1058337722839024, 0.5406356582921222, -1.9079890868367126, 0.25673390912073035, -0.09844552196478548, 0.547433763312957, -1.2925028155368672, -1.0266178727650466, 1.1507359785118991, -0.4331137041199937, 0.3750983126336917, -0.956571917947313, -0.6306287050127768, 1.1658314936903746, 0.20727664611040933, -0.7125620965948533, -1.2329857567549423, -1.19301842269195, 0.7344866094623589, 0.24825131328164876, -0.0703592808778631, -0.3940635524410132, 0.8837620159811025, -0.5882788998946945, 0.857686324715227, -1.2759414075844788, 0.1849841116242509, -0.9889213556524264, 0.37665713077589197, 0.06736189675688638, 0.7757816466321904, 1.0197517246852932, 2.1963839769565587, 1.6228329344349806, -0.417307672140243, 0.4883689747400217, 1.0063943302757847, -0.641507073385344, 0.2592738354357245, -1.115946078959094, 0.4121599174934557, -0.5158597744247898, 1.1280022315312952, -0.3627082124069788, 0.7816328424346314, 1.1133691254531146, 1.776942182023018, -0.2100716526582734, -0.8832821040096712, 0.10615505370341051, -1.2015298986284144, -1.6001804881901893, -1.0807816016045844, -0.9463689237520007, -0.5501717411155009, 0.6915172170167367, 1.3927574947291392, -1.4420007770037622, 0.9858512592211613, -0.6690552083723248, -0.23614428440751595, -0.30191933616375166, 1.1650348858496635, 0.12403058093384871], \"y\": [0.7560556932599837, 0.1861617358883027, -0.45946401974499407, 0.5363725650333798, -0.2826907049744466, 0.9869378586623979, -0.6293265326245278, 0.34986000372960885, -0.5320627851308627, -1.0447729626343751, -0.02070322248580189, 0.6798959897817697, 0.5763501818321275, 2.223053447818855, -0.8875788326999193, 0.1615787630842412, 0.3567709085089428, 0.5248938481707832, 0.9271245772107571, -0.7937188090872309, -0.6378307034357991, -0.17620310244789048, -0.23574356411919412, -1.527418059284275, -1.4533726991112783, -1.2953156503840655, 0.6210477547351118, 0.15506917930022304, 1.1950725809051264, -0.04247534795006339, 0.7659378064150684, -0.5615692618981515, 0.5737791878517139, -1.6006308572561425, -2.0333950285797724, 0.9346585456145193, 0.9488633527962949, -0.4745063070449874, -0.7734177445027147, 1.16465395450693, 1.4686285828616743, -0.7166223975541242, -1.2791480009837546, -1.3619596644254246, 0.7391929603399298, 1.1533967674155505, 0.3919443359002727, -0.9920921182175484, -0.9872936922072552, 0.9000315317637086, 0.004605680217882535, 0.1132365767180532, -2.435324506895573, -0.7597271181186379, -0.5264360772598415, -0.3121916127736122, 1.2307918201579024, 1.869523187447704, -0.8858686376106412, 0.543726783419556, -0.24643024780589254, -1.0030147432944985, -0.16165591281686184, 2.226299463444169, -0.9553257863435494, -0.29638314164963764, 3.0766450558184446, 0.5921688084872822, -0.5443244331161018, 0.34831653131719215, 0.07205649871924576, 1.6331107284138258, -0.5047645502368753, 1.9948204982562445, 0.24547203312160698, -0.27026650540474917, -0.08129411360953269, 0.5285605980807471, 0.5823235382880914, -0.2600138020280055, -0.16891644200176278, 0.1014571072555472, -0.3585139768204954, -1.6969407642537817, 0.9902414663906203, -0.7067845545991822, -1.3549550916722233, 0.3266717614722, 0.722908659201581, -0.48226300279897943, -2.6040444968163907, -1.1310424188559618, -2.016050162462118, -0.8432923110307549, 0.1718208037412506, -0.6124292996478096, -1.257773712778361, -1.6465683792803527, 0.14999425467185448, -0.24201883863756485]}],\n",
       "                        {\"legend\": {\"bgcolor\": \"#F5F6F9\", \"font\": {\"color\": \"#4D5663\"}}, \"paper_bgcolor\": \"#F5F6F9\", \"plot_bgcolor\": \"#F5F6F9\", \"template\": {\"data\": {\"bar\": [{\"error_x\": {\"color\": \"#2a3f5f\"}, \"error_y\": {\"color\": \"#2a3f5f\"}, \"marker\": {\"line\": {\"color\": \"#E5ECF6\", \"width\": 0.5}}, \"type\": \"bar\"}], \"barpolar\": [{\"marker\": {\"line\": {\"color\": \"#E5ECF6\", \"width\": 0.5}}, \"type\": \"barpolar\"}], \"carpet\": [{\"aaxis\": {\"endlinecolor\": \"#2a3f5f\", \"gridcolor\": \"white\", \"linecolor\": \"white\", \"minorgridcolor\": \"white\", \"startlinecolor\": \"#2a3f5f\"}, \"baxis\": {\"endlinecolor\": \"#2a3f5f\", \"gridcolor\": \"white\", \"linecolor\": \"white\", \"minorgridcolor\": \"white\", \"startlinecolor\": \"#2a3f5f\"}, \"type\": \"carpet\"}], \"choropleth\": [{\"colorbar\": {\"outlinewidth\": 0, \"ticks\": \"\"}, \"type\": \"choropleth\"}], \"contour\": [{\"colorbar\": {\"outlinewidth\": 0, \"ticks\": \"\"}, \"colorscale\": [[0.0, \"#0d0887\"], [0.1111111111111111, \"#46039f\"], [0.2222222222222222, \"#7201a8\"], [0.3333333333333333, \"#9c179e\"], [0.4444444444444444, \"#bd3786\"], [0.5555555555555556, \"#d8576b\"], [0.6666666666666666, \"#ed7953\"], [0.7777777777777778, \"#fb9f3a\"], [0.8888888888888888, \"#fdca26\"], [1.0, \"#f0f921\"]], \"type\": \"contour\"}], \"contourcarpet\": [{\"colorbar\": {\"outlinewidth\": 0, \"ticks\": \"\"}, \"type\": \"contourcarpet\"}], \"heatmap\": [{\"colorbar\": {\"outlinewidth\": 0, \"ticks\": \"\"}, \"colorscale\": [[0.0, \"#0d0887\"], [0.1111111111111111, \"#46039f\"], [0.2222222222222222, \"#7201a8\"], [0.3333333333333333, \"#9c179e\"], [0.4444444444444444, \"#bd3786\"], [0.5555555555555556, \"#d8576b\"], [0.6666666666666666, \"#ed7953\"], [0.7777777777777778, \"#fb9f3a\"], [0.8888888888888888, \"#fdca26\"], [1.0, \"#f0f921\"]], \"type\": \"heatmap\"}], \"heatmapgl\": [{\"colorbar\": {\"outlinewidth\": 0, \"ticks\": \"\"}, \"colorscale\": [[0.0, \"#0d0887\"], [0.1111111111111111, \"#46039f\"], [0.2222222222222222, \"#7201a8\"], [0.3333333333333333, \"#9c179e\"], [0.4444444444444444, \"#bd3786\"], [0.5555555555555556, \"#d8576b\"], [0.6666666666666666, \"#ed7953\"], [0.7777777777777778, \"#fb9f3a\"], [0.8888888888888888, \"#fdca26\"], [1.0, \"#f0f921\"]], \"type\": \"heatmapgl\"}], \"histogram\": [{\"marker\": {\"colorbar\": {\"outlinewidth\": 0, \"ticks\": \"\"}}, \"type\": \"histogram\"}], \"histogram2d\": [{\"colorbar\": {\"outlinewidth\": 0, \"ticks\": \"\"}, \"colorscale\": [[0.0, \"#0d0887\"], [0.1111111111111111, \"#46039f\"], [0.2222222222222222, \"#7201a8\"], [0.3333333333333333, \"#9c179e\"], [0.4444444444444444, \"#bd3786\"], [0.5555555555555556, \"#d8576b\"], [0.6666666666666666, \"#ed7953\"], [0.7777777777777778, \"#fb9f3a\"], [0.8888888888888888, \"#fdca26\"], [1.0, \"#f0f921\"]], \"type\": \"histogram2d\"}], \"histogram2dcontour\": [{\"colorbar\": {\"outlinewidth\": 0, \"ticks\": \"\"}, \"colorscale\": [[0.0, \"#0d0887\"], [0.1111111111111111, \"#46039f\"], [0.2222222222222222, \"#7201a8\"], [0.3333333333333333, \"#9c179e\"], [0.4444444444444444, \"#bd3786\"], [0.5555555555555556, \"#d8576b\"], [0.6666666666666666, \"#ed7953\"], [0.7777777777777778, \"#fb9f3a\"], [0.8888888888888888, \"#fdca26\"], [1.0, \"#f0f921\"]], \"type\": \"histogram2dcontour\"}], \"mesh3d\": [{\"colorbar\": {\"outlinewidth\": 0, \"ticks\": \"\"}, \"type\": \"mesh3d\"}], \"parcoords\": [{\"line\": {\"colorbar\": {\"outlinewidth\": 0, \"ticks\": \"\"}}, \"type\": \"parcoords\"}], \"pie\": [{\"automargin\": true, \"type\": \"pie\"}], \"scatter\": [{\"marker\": {\"colorbar\": {\"outlinewidth\": 0, \"ticks\": \"\"}}, \"type\": \"scatter\"}], \"scatter3d\": [{\"line\": {\"colorbar\": {\"outlinewidth\": 0, \"ticks\": \"\"}}, \"marker\": {\"colorbar\": {\"outlinewidth\": 0, \"ticks\": \"\"}}, \"type\": \"scatter3d\"}], \"scattercarpet\": [{\"marker\": {\"colorbar\": {\"outlinewidth\": 0, \"ticks\": \"\"}}, \"type\": \"scattercarpet\"}], \"scattergeo\": [{\"marker\": {\"colorbar\": {\"outlinewidth\": 0, \"ticks\": \"\"}}, \"type\": \"scattergeo\"}], \"scattergl\": [{\"marker\": {\"colorbar\": {\"outlinewidth\": 0, \"ticks\": \"\"}}, \"type\": \"scattergl\"}], \"scattermapbox\": [{\"marker\": {\"colorbar\": {\"outlinewidth\": 0, \"ticks\": \"\"}}, \"type\": \"scattermapbox\"}], \"scatterpolar\": [{\"marker\": {\"colorbar\": {\"outlinewidth\": 0, \"ticks\": \"\"}}, \"type\": \"scatterpolar\"}], \"scatterpolargl\": [{\"marker\": {\"colorbar\": {\"outlinewidth\": 0, \"ticks\": \"\"}}, \"type\": \"scatterpolargl\"}], \"scatterternary\": [{\"marker\": {\"colorbar\": {\"outlinewidth\": 0, \"ticks\": \"\"}}, \"type\": \"scatterternary\"}], \"surface\": [{\"colorbar\": {\"outlinewidth\": 0, \"ticks\": \"\"}, \"colorscale\": [[0.0, \"#0d0887\"], [0.1111111111111111, \"#46039f\"], [0.2222222222222222, \"#7201a8\"], [0.3333333333333333, \"#9c179e\"], [0.4444444444444444, \"#bd3786\"], [0.5555555555555556, \"#d8576b\"], [0.6666666666666666, \"#ed7953\"], [0.7777777777777778, \"#fb9f3a\"], [0.8888888888888888, \"#fdca26\"], [1.0, \"#f0f921\"]], \"type\": \"surface\"}], \"table\": [{\"cells\": {\"fill\": {\"color\": \"#EBF0F8\"}, \"line\": {\"color\": \"white\"}}, \"header\": {\"fill\": {\"color\": \"#C8D4E3\"}, \"line\": {\"color\": \"white\"}}, \"type\": \"table\"}]}, \"layout\": {\"annotationdefaults\": {\"arrowcolor\": \"#2a3f5f\", \"arrowhead\": 0, \"arrowwidth\": 1}, \"coloraxis\": {\"colorbar\": {\"outlinewidth\": 0, \"ticks\": \"\"}}, \"colorscale\": {\"diverging\": [[0, \"#8e0152\"], [0.1, \"#c51b7d\"], [0.2, \"#de77ae\"], [0.3, \"#f1b6da\"], [0.4, \"#fde0ef\"], [0.5, \"#f7f7f7\"], [0.6, \"#e6f5d0\"], [0.7, \"#b8e186\"], [0.8, \"#7fbc41\"], [0.9, \"#4d9221\"], [1, \"#276419\"]], \"sequential\": [[0.0, \"#0d0887\"], [0.1111111111111111, \"#46039f\"], [0.2222222222222222, \"#7201a8\"], [0.3333333333333333, \"#9c179e\"], [0.4444444444444444, \"#bd3786\"], [0.5555555555555556, \"#d8576b\"], [0.6666666666666666, \"#ed7953\"], [0.7777777777777778, \"#fb9f3a\"], [0.8888888888888888, \"#fdca26\"], [1.0, \"#f0f921\"]], \"sequentialminus\": [[0.0, \"#0d0887\"], [0.1111111111111111, \"#46039f\"], [0.2222222222222222, \"#7201a8\"], [0.3333333333333333, \"#9c179e\"], [0.4444444444444444, \"#bd3786\"], [0.5555555555555556, \"#d8576b\"], [0.6666666666666666, \"#ed7953\"], [0.7777777777777778, \"#fb9f3a\"], [0.8888888888888888, \"#fdca26\"], [1.0, \"#f0f921\"]]}, \"colorway\": [\"#636efa\", \"#EF553B\", \"#00cc96\", \"#ab63fa\", \"#FFA15A\", \"#19d3f3\", \"#FF6692\", \"#B6E880\", \"#FF97FF\", \"#FECB52\"], \"font\": {\"color\": \"#2a3f5f\"}, \"geo\": {\"bgcolor\": \"white\", \"lakecolor\": \"white\", \"landcolor\": \"#E5ECF6\", \"showlakes\": true, \"showland\": true, \"subunitcolor\": \"white\"}, \"hoverlabel\": {\"align\": \"left\"}, \"hovermode\": \"closest\", \"mapbox\": {\"style\": \"light\"}, \"paper_bgcolor\": \"white\", \"plot_bgcolor\": \"#E5ECF6\", \"polar\": {\"angularaxis\": {\"gridcolor\": \"white\", \"linecolor\": \"white\", \"ticks\": \"\"}, \"bgcolor\": \"#E5ECF6\", \"radialaxis\": {\"gridcolor\": \"white\", \"linecolor\": \"white\", \"ticks\": \"\"}}, \"scene\": {\"xaxis\": {\"backgroundcolor\": \"#E5ECF6\", \"gridcolor\": \"white\", \"gridwidth\": 2, \"linecolor\": \"white\", \"showbackground\": true, \"ticks\": \"\", \"zerolinecolor\": \"white\"}, \"yaxis\": {\"backgroundcolor\": \"#E5ECF6\", \"gridcolor\": \"white\", \"gridwidth\": 2, \"linecolor\": \"white\", \"showbackground\": true, \"ticks\": \"\", \"zerolinecolor\": \"white\"}, \"zaxis\": {\"backgroundcolor\": \"#E5ECF6\", \"gridcolor\": \"white\", \"gridwidth\": 2, \"linecolor\": \"white\", \"showbackground\": true, \"ticks\": \"\", \"zerolinecolor\": \"white\"}}, \"shapedefaults\": {\"line\": {\"color\": \"#2a3f5f\"}}, \"ternary\": {\"aaxis\": {\"gridcolor\": \"white\", \"linecolor\": \"white\", \"ticks\": \"\"}, \"baxis\": {\"gridcolor\": \"white\", \"linecolor\": \"white\", \"ticks\": \"\"}, \"bgcolor\": \"#E5ECF6\", \"caxis\": {\"gridcolor\": \"white\", \"linecolor\": \"white\", \"ticks\": \"\"}}, \"title\": {\"x\": 0.05}, \"xaxis\": {\"automargin\": true, \"gridcolor\": \"white\", \"linecolor\": \"white\", \"ticks\": \"\", \"title\": {\"standoff\": 15}, \"zerolinecolor\": \"white\", \"zerolinewidth\": 2}, \"yaxis\": {\"automargin\": true, \"gridcolor\": \"white\", \"linecolor\": \"white\", \"ticks\": \"\", \"title\": {\"standoff\": 15}, \"zerolinecolor\": \"white\", \"zerolinewidth\": 2}}}, \"title\": {\"font\": {\"color\": \"#4D5663\"}}, \"xaxis\": {\"gridcolor\": \"#E1E5ED\", \"showgrid\": true, \"tickfont\": {\"color\": \"#4D5663\"}, \"title\": {\"font\": {\"color\": \"#4D5663\"}, \"text\": \"\"}, \"zerolinecolor\": \"#E1E5ED\"}, \"yaxis\": {\"gridcolor\": \"#E1E5ED\", \"showgrid\": true, \"tickfont\": {\"color\": \"#4D5663\"}, \"title\": {\"font\": {\"color\": \"#4D5663\"}, \"text\": \"\"}, \"zerolinecolor\": \"#E1E5ED\"}},\n",
       "                        {\"showLink\": true, \"linkText\": \"Export to plot.ly\", \"plotlyServerURL\": \"https://plot.ly\", \"responsive\": true}\n",
       "                    ).then(function(){\n",
       "                            \n",
       "var gd = document.getElementById('9f800552-3dde-42df-8495-37110bbdeab0');\n",
       "var x = new MutationObserver(function (mutations, observer) {{\n",
       "        var display = window.getComputedStyle(gd).display;\n",
       "        if (!display || display === 'none') {{\n",
       "            console.log([gd, 'removed!']);\n",
       "            Plotly.purge(gd);\n",
       "            observer.disconnect();\n",
       "        }}\n",
       "}});\n",
       "\n",
       "// Listen for the removal of the full notebook cells\n",
       "var notebookContainer = gd.closest('#notebook-container');\n",
       "if (notebookContainer) {{\n",
       "    x.observe(notebookContainer, {childList: true});\n",
       "}}\n",
       "\n",
       "// Listen for the clearing of the current output cell\n",
       "var outputEl = gd.closest('.output');\n",
       "if (outputEl) {{\n",
       "    x.observe(outputEl, {childList: true});\n",
       "}}\n",
       "\n",
       "                        })\n",
       "                };\n",
       "                });\n",
       "            </script>\n",
       "        </div>"
      ]
     },
     "metadata": {},
     "output_type": "display_data"
    }
   ],
   "source": [
    "# scatter plot, where the size of the bubbles are based off another variable\n",
    "# used for e.g. word GDP, population, happiness factor, etc\n",
    "df.iplot(kind='bubble',x='A',y='B',size='C')"
   ]
  },
  {
   "cell_type": "code",
   "execution_count": 43,
   "metadata": {},
   "outputs": [
    {
     "data": {
      "application/vnd.plotly.v1+json": {
       "config": {
        "linkText": "Export to plot.ly",
        "plotlyServerURL": "https://plot.ly",
        "showLink": true
       },
       "data": [
        {
         "histfunc": "count",
         "histnorm": "",
         "marker": {
          "color": "rgba(255, 153, 51, 1.0)",
          "line": {
           "color": "#4D5663",
           "width": 1.3
          }
         },
         "name": "A",
         "nbinsx": 10,
         "opacity": 0.8,
         "orientation": "v",
         "type": "histogram",
         "x": [
          -1.516267560230567,
          -1.9207884175074055,
          1.0373966535124963,
          0.14953510936685668,
          -3.999485447186093,
          0.41440508516482133,
          0.7429422015904862,
          -1.4289512487530127,
          0.6905534850783236,
          0.11506940258331375,
          1.9618318262179413,
          0.4820087067882209,
          0.010833293229753694,
          -0.595929986198764,
          -2.113531329590608,
          1.3475913692139152,
          -0.17027902129753222,
          -1.7647043330033494,
          -0.7618858921940336,
          -0.32990065514115696,
          0.5275932665014055,
          -0.012597174270982791,
          0.977197771133166,
          -0.32632061640685095,
          0.08292817175283175,
          -0.8344479918217037,
          1.568391586495905,
          0.35928326522581105,
          -0.6938103952930875,
          0.2879566156066621,
          0.020560596221972264,
          -0.6608720159459609,
          -1.3379447458259173,
          0.09976969555504292,
          -1.8342513136627003,
          0.9586876894546607,
          -1.1058337722839024,
          0.5406356582921222,
          -1.9079890868367126,
          0.25673390912073035,
          -0.09844552196478548,
          0.547433763312957,
          -1.2925028155368672,
          -1.0266178727650466,
          1.1507359785118991,
          -0.4331137041199937,
          0.3750983126336917,
          -0.956571917947313,
          -0.6306287050127768,
          1.1658314936903746,
          0.20727664611040933,
          -0.7125620965948533,
          -1.2329857567549423,
          -1.19301842269195,
          0.7344866094623589,
          0.24825131328164876,
          -0.0703592808778631,
          -0.3940635524410132,
          0.8837620159811025,
          -0.5882788998946945,
          0.857686324715227,
          -1.2759414075844788,
          0.1849841116242509,
          -0.9889213556524264,
          0.37665713077589197,
          0.06736189675688638,
          0.7757816466321904,
          1.0197517246852932,
          2.1963839769565587,
          1.6228329344349806,
          -0.417307672140243,
          0.4883689747400217,
          1.0063943302757847,
          -0.641507073385344,
          0.2592738354357245,
          -1.115946078959094,
          0.4121599174934557,
          -0.5158597744247898,
          1.1280022315312952,
          -0.3627082124069788,
          0.7816328424346314,
          1.1133691254531146,
          1.776942182023018,
          -0.2100716526582734,
          -0.8832821040096712,
          0.10615505370341051,
          -1.2015298986284144,
          -1.6001804881901893,
          -1.0807816016045844,
          -0.9463689237520007,
          -0.5501717411155009,
          0.6915172170167367,
          1.3927574947291392,
          -1.4420007770037622,
          0.9858512592211613,
          -0.6690552083723248,
          -0.23614428440751595,
          -0.30191933616375166,
          1.1650348858496635,
          0.12403058093384871
         ],
         "xaxis": "x",
         "yaxis": "y"
        },
        {
         "line": {
          "color": "rgba(128, 128, 128, 1.0)",
          "dash": "solid",
          "shape": "linear",
          "width": 1.3
         },
         "marker": {
          "size": 2,
          "symbol": "circle"
         },
         "mode": "markers",
         "name": "A",
         "text": "",
         "type": "scatter",
         "x": [
          0.7560556932599837,
          0.1861617358883027,
          -0.45946401974499407,
          0.5363725650333798,
          -0.2826907049744466,
          0.9869378586623979,
          -0.6293265326245278,
          0.34986000372960885,
          -0.5320627851308627,
          -1.0447729626343751,
          -0.02070322248580189,
          0.6798959897817697,
          0.5763501818321275,
          2.223053447818855,
          -0.8875788326999193,
          0.1615787630842412,
          0.3567709085089428,
          0.5248938481707832,
          0.9271245772107571,
          -0.7937188090872309,
          -0.6378307034357991,
          -0.17620310244789048,
          -0.23574356411919412,
          -1.527418059284275,
          -1.4533726991112783,
          -1.2953156503840655,
          0.6210477547351118,
          0.15506917930022304,
          1.1950725809051264,
          -0.04247534795006339,
          0.7659378064150684,
          -0.5615692618981515,
          0.5737791878517139,
          -1.6006308572561425,
          -2.0333950285797724,
          0.9346585456145193,
          0.9488633527962949,
          -0.4745063070449874,
          -0.7734177445027147,
          1.16465395450693,
          1.4686285828616743,
          -0.7166223975541242,
          -1.2791480009837546,
          -1.3619596644254246,
          0.7391929603399298,
          1.1533967674155505,
          0.3919443359002727,
          -0.9920921182175484,
          -0.9872936922072552,
          0.9000315317637086,
          0.004605680217882535,
          0.1132365767180532,
          -2.435324506895573,
          -0.7597271181186379,
          -0.5264360772598415,
          -0.3121916127736122,
          1.2307918201579024,
          1.869523187447704,
          -0.8858686376106412,
          0.543726783419556,
          -0.24643024780589254,
          -1.0030147432944985,
          -0.16165591281686184,
          2.226299463444169,
          -0.9553257863435494,
          -0.29638314164963764,
          3.0766450558184446,
          0.5921688084872822,
          -0.5443244331161018,
          0.34831653131719215,
          0.07205649871924576,
          1.6331107284138258,
          -0.5047645502368753,
          1.9948204982562445,
          0.24547203312160698,
          -0.27026650540474917,
          -0.08129411360953269,
          0.5285605980807471,
          0.5823235382880914,
          -0.2600138020280055,
          -0.16891644200176278,
          0.1014571072555472,
          -0.3585139768204954,
          -1.6969407642537817,
          0.9902414663906203,
          -0.7067845545991822,
          -1.3549550916722233,
          0.3266717614722,
          0.722908659201581,
          -0.48226300279897943,
          -2.6040444968163907,
          -1.1310424188559618,
          -2.016050162462118,
          -0.8432923110307549,
          0.1718208037412506,
          -0.6124292996478096,
          -1.257773712778361,
          -1.6465683792803527,
          0.14999425467185448,
          -0.24201883863756485
         ],
         "xaxis": "x2",
         "y": [
          -1.516267560230567,
          -1.9207884175074055,
          1.0373966535124963,
          0.14953510936685668,
          -3.999485447186093,
          0.41440508516482133,
          0.7429422015904862,
          -1.4289512487530127,
          0.6905534850783236,
          0.11506940258331375,
          1.9618318262179413,
          0.4820087067882209,
          0.010833293229753694,
          -0.595929986198764,
          -2.113531329590608,
          1.3475913692139152,
          -0.17027902129753222,
          -1.7647043330033494,
          -0.7618858921940336,
          -0.32990065514115696,
          0.5275932665014055,
          -0.012597174270982791,
          0.977197771133166,
          -0.32632061640685095,
          0.08292817175283175,
          -0.8344479918217037,
          1.568391586495905,
          0.35928326522581105,
          -0.6938103952930875,
          0.2879566156066621,
          0.020560596221972264,
          -0.6608720159459609,
          -1.3379447458259173,
          0.09976969555504292,
          -1.8342513136627003,
          0.9586876894546607,
          -1.1058337722839024,
          0.5406356582921222,
          -1.9079890868367126,
          0.25673390912073035,
          -0.09844552196478548,
          0.547433763312957,
          -1.2925028155368672,
          -1.0266178727650466,
          1.1507359785118991,
          -0.4331137041199937,
          0.3750983126336917,
          -0.956571917947313,
          -0.6306287050127768,
          1.1658314936903746,
          0.20727664611040933,
          -0.7125620965948533,
          -1.2329857567549423,
          -1.19301842269195,
          0.7344866094623589,
          0.24825131328164876,
          -0.0703592808778631,
          -0.3940635524410132,
          0.8837620159811025,
          -0.5882788998946945,
          0.857686324715227,
          -1.2759414075844788,
          0.1849841116242509,
          -0.9889213556524264,
          0.37665713077589197,
          0.06736189675688638,
          0.7757816466321904,
          1.0197517246852932,
          2.1963839769565587,
          1.6228329344349806,
          -0.417307672140243,
          0.4883689747400217,
          1.0063943302757847,
          -0.641507073385344,
          0.2592738354357245,
          -1.115946078959094,
          0.4121599174934557,
          -0.5158597744247898,
          1.1280022315312952,
          -0.3627082124069788,
          0.7816328424346314,
          1.1133691254531146,
          1.776942182023018,
          -0.2100716526582734,
          -0.8832821040096712,
          0.10615505370341051,
          -1.2015298986284144,
          -1.6001804881901893,
          -1.0807816016045844,
          -0.9463689237520007,
          -0.5501717411155009,
          0.6915172170167367,
          1.3927574947291392,
          -1.4420007770037622,
          0.9858512592211613,
          -0.6690552083723248,
          -0.23614428440751595,
          -0.30191933616375166,
          1.1650348858496635,
          0.12403058093384871
         ],
         "yaxis": "y2"
        },
        {
         "line": {
          "color": "rgba(128, 128, 128, 1.0)",
          "dash": "solid",
          "shape": "linear",
          "width": 1.3
         },
         "marker": {
          "size": 2,
          "symbol": "circle"
         },
         "mode": "markers",
         "name": "A",
         "text": "",
         "type": "scatter",
         "x": [
          0.8075329633556021,
          1.1774280375163513,
          -0.6014210535259376,
          0.07832612005513975,
          -1.7155009840661166,
          0.7035414537135141,
          0.8417927248686057,
          0.3748580340476217,
          -0.304945229712358,
          0.4211204380864479,
          0.735136750654394,
          -0.2741375696064217,
          -0.9351479186335825,
          -1.1396293625847214,
          0.6140068231092876,
          0.3562576971054651,
          -0.7047026891394264,
          -0.9432943051102678,
          0.7597156187613746,
          0.8464495262910379,
          0.6868534419181007,
          -0.8562197378807854,
          -0.5815031808440854,
          0.051146836255641655,
          1.367564231862464,
          -0.46229837263073564,
          2.2475048457753886,
          -0.8619959017315432,
          -0.908873144834571,
          -0.39423141306929993,
          0.1891999834297446,
          1.3165420591801689,
          0.3529560878107613,
          1.05534709251322,
          0.7731486762660107,
          1.6042316111721489,
          -0.4105421652787086,
          0.21597120648202386,
          -0.4048423743583727,
          -0.5410710325474366,
          1.3029986750296814,
          -1.2216582067120945,
          -0.2877632187371062,
          0.2864779198647285,
          1.212951585281548,
          0.6485129056737563,
          0.18531217997808083,
          -0.680445857051702,
          0.5170626300905937,
          -0.8328571848850191,
          1.0089132907191372,
          0.5605661111024343,
          -0.5418390448470031,
          -0.057394466151699276,
          -0.02762680605564009,
          -1.2589958382873707,
          0.9175957862194427,
          1.3027871559059288,
          -0.4184142964253094,
          -0.015556868338890308,
          -0.7472347864718828,
          -0.641803946445278,
          1.0688577905407268,
          0.2479386831831523,
          0.8015844949247076,
          -0.7586268387861957,
          -0.38405669593162456,
          -0.8505493494111646,
          -0.42971382252105217,
          0.5971083106876616,
          -1.1080763354452292,
          0.9126658039380318,
          0.8368071245792087,
          0.4160418406091262,
          2.3259294956907732,
          0.6625347106516749,
          1.1190819353211914,
          -0.18104618713916434,
          -0.01837031625668125,
          0.4562313734425662,
          -0.7531440947132809,
          -0.9683539960380266,
          -0.10537954212188595,
          -0.6149617031626683,
          -0.04292467163872477,
          -0.18099266235163322,
          -0.33022789800633723,
          0.9596997277449528,
          0.12471184363949661,
          0.522556467422449,
          0.871303923310238,
          -1.4661486934626757,
          0.24887468376197597,
          2.256319398182052,
          1.16405886946189,
          0.5128261275993566,
          -0.768220685178201,
          -0.09127765202544696,
          -1.0973940577290768,
          -0.9682176998418792
         ],
         "xaxis": "x3",
         "y": [
          -1.516267560230567,
          -1.9207884175074055,
          1.0373966535124963,
          0.14953510936685668,
          -3.999485447186093,
          0.41440508516482133,
          0.7429422015904862,
          -1.4289512487530127,
          0.6905534850783236,
          0.11506940258331375,
          1.9618318262179413,
          0.4820087067882209,
          0.010833293229753694,
          -0.595929986198764,
          -2.113531329590608,
          1.3475913692139152,
          -0.17027902129753222,
          -1.7647043330033494,
          -0.7618858921940336,
          -0.32990065514115696,
          0.5275932665014055,
          -0.012597174270982791,
          0.977197771133166,
          -0.32632061640685095,
          0.08292817175283175,
          -0.8344479918217037,
          1.568391586495905,
          0.35928326522581105,
          -0.6938103952930875,
          0.2879566156066621,
          0.020560596221972264,
          -0.6608720159459609,
          -1.3379447458259173,
          0.09976969555504292,
          -1.8342513136627003,
          0.9586876894546607,
          -1.1058337722839024,
          0.5406356582921222,
          -1.9079890868367126,
          0.25673390912073035,
          -0.09844552196478548,
          0.547433763312957,
          -1.2925028155368672,
          -1.0266178727650466,
          1.1507359785118991,
          -0.4331137041199937,
          0.3750983126336917,
          -0.956571917947313,
          -0.6306287050127768,
          1.1658314936903746,
          0.20727664611040933,
          -0.7125620965948533,
          -1.2329857567549423,
          -1.19301842269195,
          0.7344866094623589,
          0.24825131328164876,
          -0.0703592808778631,
          -0.3940635524410132,
          0.8837620159811025,
          -0.5882788998946945,
          0.857686324715227,
          -1.2759414075844788,
          0.1849841116242509,
          -0.9889213556524264,
          0.37665713077589197,
          0.06736189675688638,
          0.7757816466321904,
          1.0197517246852932,
          2.1963839769565587,
          1.6228329344349806,
          -0.417307672140243,
          0.4883689747400217,
          1.0063943302757847,
          -0.641507073385344,
          0.2592738354357245,
          -1.115946078959094,
          0.4121599174934557,
          -0.5158597744247898,
          1.1280022315312952,
          -0.3627082124069788,
          0.7816328424346314,
          1.1133691254531146,
          1.776942182023018,
          -0.2100716526582734,
          -0.8832821040096712,
          0.10615505370341051,
          -1.2015298986284144,
          -1.6001804881901893,
          -1.0807816016045844,
          -0.9463689237520007,
          -0.5501717411155009,
          0.6915172170167367,
          1.3927574947291392,
          -1.4420007770037622,
          0.9858512592211613,
          -0.6690552083723248,
          -0.23614428440751595,
          -0.30191933616375166,
          1.1650348858496635,
          0.12403058093384871
         ],
         "yaxis": "y3"
        },
        {
         "line": {
          "color": "rgba(128, 128, 128, 1.0)",
          "dash": "solid",
          "shape": "linear",
          "width": 1.3
         },
         "marker": {
          "size": 2,
          "symbol": "circle"
         },
         "mode": "markers",
         "name": "A",
         "text": "",
         "type": "scatter",
         "x": [
          0.4014918667753453,
          -1.0527835785103015,
          0.6783187881078234,
          0.7649936889727516,
          -1.1274163808466917,
          0.23231053135724067,
          -0.6234847256031335,
          0.5177435401456703,
          -1.3497744575101418,
          -0.9445947799978384,
          0.9993230603164184,
          -0.32813659124069827,
          -2.4873454326976416,
          0.23373081431391704,
          -1.2698236657889295,
          -1.0819958194740864,
          0.48944497238523554,
          -0.0870913581820666,
          0.4520894854769399,
          0.3685869778498855,
          -0.018623861888844594,
          -0.7361625385230917,
          -0.9379072634960933,
          -0.43271162020157156,
          0.5717431862977355,
          -1.0863445421513354,
          0.6895465419898549,
          -0.02104765288212073,
          0.21044849744988786,
          -0.21060376326527153,
          -0.1751901167494546,
          2.4267729695171383,
          1.1144251258610327,
          0.6088822364466963,
          1.0742530678495064,
          -1.673162766707186,
          0.8141293794284068,
          -0.671250126501007,
          -0.1119807844623894,
          0.6827059956836821,
          -2.0086429350470563,
          -0.3182967446586569,
          0.7566624514615232,
          -0.25674945298533824,
          0.5397642656518596,
          -2.1227957924654897,
          1.5314276962262283,
          1.4919611694698254,
          1.269574054782094,
          -1.0916311869393023,
          -0.3437996306930975,
          1.4347510492864688,
          1.2762427379159493,
          0.21416609162142103,
          -0.197175852514856,
          0.3223939268519974,
          0.4770435887408125,
          -1.2437863927715238,
          0.026588683601995435,
          0.32869167896277063,
          1.5214987121045702,
          0.821282750843137,
          0.4796940104196587,
          -0.8907667152685849,
          0.537578488866459,
          0.4846947974682395,
          -0.8342563397109818,
          0.9012246659006108,
          -0.031084575491218874,
          -0.4390259765356436,
          2.6497943870848877,
          0.15636182258080236,
          -0.04297633147906922,
          0.09414708464977088,
          -1.2680837159614444,
          -0.331002953982354,
          0.6895397124327335,
          -0.8093776634653645,
          -2.0170703969219725,
          0.33936665036701874,
          0.6943810852290068,
          0.624720221317302,
          0.5049175711349475,
          -0.11540280204630413,
          0.27341016033136567,
          0.8854226746417551,
          -0.3493524737887093,
          0.00017440721187257863,
          0.4571801241143655,
          -1.0474263154899806,
          -0.06046386609324998,
          -0.6420828131993251,
          -0.6128988878340906,
          0.8707626928414187,
          0.779901154494852,
          -0.762949383763312,
          -0.3161555736028018,
          0.9312707513336201,
          0.2176505285610799,
          -0.2166411172749589
         ],
         "xaxis": "x4",
         "y": [
          -1.516267560230567,
          -1.9207884175074055,
          1.0373966535124963,
          0.14953510936685668,
          -3.999485447186093,
          0.41440508516482133,
          0.7429422015904862,
          -1.4289512487530127,
          0.6905534850783236,
          0.11506940258331375,
          1.9618318262179413,
          0.4820087067882209,
          0.010833293229753694,
          -0.595929986198764,
          -2.113531329590608,
          1.3475913692139152,
          -0.17027902129753222,
          -1.7647043330033494,
          -0.7618858921940336,
          -0.32990065514115696,
          0.5275932665014055,
          -0.012597174270982791,
          0.977197771133166,
          -0.32632061640685095,
          0.08292817175283175,
          -0.8344479918217037,
          1.568391586495905,
          0.35928326522581105,
          -0.6938103952930875,
          0.2879566156066621,
          0.020560596221972264,
          -0.6608720159459609,
          -1.3379447458259173,
          0.09976969555504292,
          -1.8342513136627003,
          0.9586876894546607,
          -1.1058337722839024,
          0.5406356582921222,
          -1.9079890868367126,
          0.25673390912073035,
          -0.09844552196478548,
          0.547433763312957,
          -1.2925028155368672,
          -1.0266178727650466,
          1.1507359785118991,
          -0.4331137041199937,
          0.3750983126336917,
          -0.956571917947313,
          -0.6306287050127768,
          1.1658314936903746,
          0.20727664611040933,
          -0.7125620965948533,
          -1.2329857567549423,
          -1.19301842269195,
          0.7344866094623589,
          0.24825131328164876,
          -0.0703592808778631,
          -0.3940635524410132,
          0.8837620159811025,
          -0.5882788998946945,
          0.857686324715227,
          -1.2759414075844788,
          0.1849841116242509,
          -0.9889213556524264,
          0.37665713077589197,
          0.06736189675688638,
          0.7757816466321904,
          1.0197517246852932,
          2.1963839769565587,
          1.6228329344349806,
          -0.417307672140243,
          0.4883689747400217,
          1.0063943302757847,
          -0.641507073385344,
          0.2592738354357245,
          -1.115946078959094,
          0.4121599174934557,
          -0.5158597744247898,
          1.1280022315312952,
          -0.3627082124069788,
          0.7816328424346314,
          1.1133691254531146,
          1.776942182023018,
          -0.2100716526582734,
          -0.8832821040096712,
          0.10615505370341051,
          -1.2015298986284144,
          -1.6001804881901893,
          -1.0807816016045844,
          -0.9463689237520007,
          -0.5501717411155009,
          0.6915172170167367,
          1.3927574947291392,
          -1.4420007770037622,
          0.9858512592211613,
          -0.6690552083723248,
          -0.23614428440751595,
          -0.30191933616375166,
          1.1650348858496635,
          0.12403058093384871
         ],
         "yaxis": "y4"
        },
        {
         "line": {
          "color": "rgba(128, 128, 128, 1.0)",
          "dash": "solid",
          "shape": "linear",
          "width": 1.3
         },
         "marker": {
          "size": 2,
          "symbol": "circle"
         },
         "mode": "markers",
         "name": "B",
         "text": "",
         "type": "scatter",
         "x": [
          -1.516267560230567,
          -1.9207884175074055,
          1.0373966535124963,
          0.14953510936685668,
          -3.999485447186093,
          0.41440508516482133,
          0.7429422015904862,
          -1.4289512487530127,
          0.6905534850783236,
          0.11506940258331375,
          1.9618318262179413,
          0.4820087067882209,
          0.010833293229753694,
          -0.595929986198764,
          -2.113531329590608,
          1.3475913692139152,
          -0.17027902129753222,
          -1.7647043330033494,
          -0.7618858921940336,
          -0.32990065514115696,
          0.5275932665014055,
          -0.012597174270982791,
          0.977197771133166,
          -0.32632061640685095,
          0.08292817175283175,
          -0.8344479918217037,
          1.568391586495905,
          0.35928326522581105,
          -0.6938103952930875,
          0.2879566156066621,
          0.020560596221972264,
          -0.6608720159459609,
          -1.3379447458259173,
          0.09976969555504292,
          -1.8342513136627003,
          0.9586876894546607,
          -1.1058337722839024,
          0.5406356582921222,
          -1.9079890868367126,
          0.25673390912073035,
          -0.09844552196478548,
          0.547433763312957,
          -1.2925028155368672,
          -1.0266178727650466,
          1.1507359785118991,
          -0.4331137041199937,
          0.3750983126336917,
          -0.956571917947313,
          -0.6306287050127768,
          1.1658314936903746,
          0.20727664611040933,
          -0.7125620965948533,
          -1.2329857567549423,
          -1.19301842269195,
          0.7344866094623589,
          0.24825131328164876,
          -0.0703592808778631,
          -0.3940635524410132,
          0.8837620159811025,
          -0.5882788998946945,
          0.857686324715227,
          -1.2759414075844788,
          0.1849841116242509,
          -0.9889213556524264,
          0.37665713077589197,
          0.06736189675688638,
          0.7757816466321904,
          1.0197517246852932,
          2.1963839769565587,
          1.6228329344349806,
          -0.417307672140243,
          0.4883689747400217,
          1.0063943302757847,
          -0.641507073385344,
          0.2592738354357245,
          -1.115946078959094,
          0.4121599174934557,
          -0.5158597744247898,
          1.1280022315312952,
          -0.3627082124069788,
          0.7816328424346314,
          1.1133691254531146,
          1.776942182023018,
          -0.2100716526582734,
          -0.8832821040096712,
          0.10615505370341051,
          -1.2015298986284144,
          -1.6001804881901893,
          -1.0807816016045844,
          -0.9463689237520007,
          -0.5501717411155009,
          0.6915172170167367,
          1.3927574947291392,
          -1.4420007770037622,
          0.9858512592211613,
          -0.6690552083723248,
          -0.23614428440751595,
          -0.30191933616375166,
          1.1650348858496635,
          0.12403058093384871
         ],
         "xaxis": "x5",
         "y": [
          0.7560556932599837,
          0.1861617358883027,
          -0.45946401974499407,
          0.5363725650333798,
          -0.2826907049744466,
          0.9869378586623979,
          -0.6293265326245278,
          0.34986000372960885,
          -0.5320627851308627,
          -1.0447729626343751,
          -0.02070322248580189,
          0.6798959897817697,
          0.5763501818321275,
          2.223053447818855,
          -0.8875788326999193,
          0.1615787630842412,
          0.3567709085089428,
          0.5248938481707832,
          0.9271245772107571,
          -0.7937188090872309,
          -0.6378307034357991,
          -0.17620310244789048,
          -0.23574356411919412,
          -1.527418059284275,
          -1.4533726991112783,
          -1.2953156503840655,
          0.6210477547351118,
          0.15506917930022304,
          1.1950725809051264,
          -0.04247534795006339,
          0.7659378064150684,
          -0.5615692618981515,
          0.5737791878517139,
          -1.6006308572561425,
          -2.0333950285797724,
          0.9346585456145193,
          0.9488633527962949,
          -0.4745063070449874,
          -0.7734177445027147,
          1.16465395450693,
          1.4686285828616743,
          -0.7166223975541242,
          -1.2791480009837546,
          -1.3619596644254246,
          0.7391929603399298,
          1.1533967674155505,
          0.3919443359002727,
          -0.9920921182175484,
          -0.9872936922072552,
          0.9000315317637086,
          0.004605680217882535,
          0.1132365767180532,
          -2.435324506895573,
          -0.7597271181186379,
          -0.5264360772598415,
          -0.3121916127736122,
          1.2307918201579024,
          1.869523187447704,
          -0.8858686376106412,
          0.543726783419556,
          -0.24643024780589254,
          -1.0030147432944985,
          -0.16165591281686184,
          2.226299463444169,
          -0.9553257863435494,
          -0.29638314164963764,
          3.0766450558184446,
          0.5921688084872822,
          -0.5443244331161018,
          0.34831653131719215,
          0.07205649871924576,
          1.6331107284138258,
          -0.5047645502368753,
          1.9948204982562445,
          0.24547203312160698,
          -0.27026650540474917,
          -0.08129411360953269,
          0.5285605980807471,
          0.5823235382880914,
          -0.2600138020280055,
          -0.16891644200176278,
          0.1014571072555472,
          -0.3585139768204954,
          -1.6969407642537817,
          0.9902414663906203,
          -0.7067845545991822,
          -1.3549550916722233,
          0.3266717614722,
          0.722908659201581,
          -0.48226300279897943,
          -2.6040444968163907,
          -1.1310424188559618,
          -2.016050162462118,
          -0.8432923110307549,
          0.1718208037412506,
          -0.6124292996478096,
          -1.257773712778361,
          -1.6465683792803527,
          0.14999425467185448,
          -0.24201883863756485
         ],
         "yaxis": "y5"
        },
        {
         "histfunc": "count",
         "histnorm": "",
         "marker": {
          "color": "rgba(55, 128, 191, 1.0)",
          "line": {
           "color": "#4D5663",
           "width": 1.3
          }
         },
         "name": "B",
         "nbinsx": 10,
         "opacity": 0.8,
         "orientation": "v",
         "type": "histogram",
         "x": [
          0.7560556932599837,
          0.1861617358883027,
          -0.45946401974499407,
          0.5363725650333798,
          -0.2826907049744466,
          0.9869378586623979,
          -0.6293265326245278,
          0.34986000372960885,
          -0.5320627851308627,
          -1.0447729626343751,
          -0.02070322248580189,
          0.6798959897817697,
          0.5763501818321275,
          2.223053447818855,
          -0.8875788326999193,
          0.1615787630842412,
          0.3567709085089428,
          0.5248938481707832,
          0.9271245772107571,
          -0.7937188090872309,
          -0.6378307034357991,
          -0.17620310244789048,
          -0.23574356411919412,
          -1.527418059284275,
          -1.4533726991112783,
          -1.2953156503840655,
          0.6210477547351118,
          0.15506917930022304,
          1.1950725809051264,
          -0.04247534795006339,
          0.7659378064150684,
          -0.5615692618981515,
          0.5737791878517139,
          -1.6006308572561425,
          -2.0333950285797724,
          0.9346585456145193,
          0.9488633527962949,
          -0.4745063070449874,
          -0.7734177445027147,
          1.16465395450693,
          1.4686285828616743,
          -0.7166223975541242,
          -1.2791480009837546,
          -1.3619596644254246,
          0.7391929603399298,
          1.1533967674155505,
          0.3919443359002727,
          -0.9920921182175484,
          -0.9872936922072552,
          0.9000315317637086,
          0.004605680217882535,
          0.1132365767180532,
          -2.435324506895573,
          -0.7597271181186379,
          -0.5264360772598415,
          -0.3121916127736122,
          1.2307918201579024,
          1.869523187447704,
          -0.8858686376106412,
          0.543726783419556,
          -0.24643024780589254,
          -1.0030147432944985,
          -0.16165591281686184,
          2.226299463444169,
          -0.9553257863435494,
          -0.29638314164963764,
          3.0766450558184446,
          0.5921688084872822,
          -0.5443244331161018,
          0.34831653131719215,
          0.07205649871924576,
          1.6331107284138258,
          -0.5047645502368753,
          1.9948204982562445,
          0.24547203312160698,
          -0.27026650540474917,
          -0.08129411360953269,
          0.5285605980807471,
          0.5823235382880914,
          -0.2600138020280055,
          -0.16891644200176278,
          0.1014571072555472,
          -0.3585139768204954,
          -1.6969407642537817,
          0.9902414663906203,
          -0.7067845545991822,
          -1.3549550916722233,
          0.3266717614722,
          0.722908659201581,
          -0.48226300279897943,
          -2.6040444968163907,
          -1.1310424188559618,
          -2.016050162462118,
          -0.8432923110307549,
          0.1718208037412506,
          -0.6124292996478096,
          -1.257773712778361,
          -1.6465683792803527,
          0.14999425467185448,
          -0.24201883863756485
         ],
         "xaxis": "x6",
         "yaxis": "y6"
        },
        {
         "line": {
          "color": "rgba(128, 128, 128, 1.0)",
          "dash": "solid",
          "shape": "linear",
          "width": 1.3
         },
         "marker": {
          "size": 2,
          "symbol": "circle"
         },
         "mode": "markers",
         "name": "B",
         "text": "",
         "type": "scatter",
         "x": [
          0.8075329633556021,
          1.1774280375163513,
          -0.6014210535259376,
          0.07832612005513975,
          -1.7155009840661166,
          0.7035414537135141,
          0.8417927248686057,
          0.3748580340476217,
          -0.304945229712358,
          0.4211204380864479,
          0.735136750654394,
          -0.2741375696064217,
          -0.9351479186335825,
          -1.1396293625847214,
          0.6140068231092876,
          0.3562576971054651,
          -0.7047026891394264,
          -0.9432943051102678,
          0.7597156187613746,
          0.8464495262910379,
          0.6868534419181007,
          -0.8562197378807854,
          -0.5815031808440854,
          0.051146836255641655,
          1.367564231862464,
          -0.46229837263073564,
          2.2475048457753886,
          -0.8619959017315432,
          -0.908873144834571,
          -0.39423141306929993,
          0.1891999834297446,
          1.3165420591801689,
          0.3529560878107613,
          1.05534709251322,
          0.7731486762660107,
          1.6042316111721489,
          -0.4105421652787086,
          0.21597120648202386,
          -0.4048423743583727,
          -0.5410710325474366,
          1.3029986750296814,
          -1.2216582067120945,
          -0.2877632187371062,
          0.2864779198647285,
          1.212951585281548,
          0.6485129056737563,
          0.18531217997808083,
          -0.680445857051702,
          0.5170626300905937,
          -0.8328571848850191,
          1.0089132907191372,
          0.5605661111024343,
          -0.5418390448470031,
          -0.057394466151699276,
          -0.02762680605564009,
          -1.2589958382873707,
          0.9175957862194427,
          1.3027871559059288,
          -0.4184142964253094,
          -0.015556868338890308,
          -0.7472347864718828,
          -0.641803946445278,
          1.0688577905407268,
          0.2479386831831523,
          0.8015844949247076,
          -0.7586268387861957,
          -0.38405669593162456,
          -0.8505493494111646,
          -0.42971382252105217,
          0.5971083106876616,
          -1.1080763354452292,
          0.9126658039380318,
          0.8368071245792087,
          0.4160418406091262,
          2.3259294956907732,
          0.6625347106516749,
          1.1190819353211914,
          -0.18104618713916434,
          -0.01837031625668125,
          0.4562313734425662,
          -0.7531440947132809,
          -0.9683539960380266,
          -0.10537954212188595,
          -0.6149617031626683,
          -0.04292467163872477,
          -0.18099266235163322,
          -0.33022789800633723,
          0.9596997277449528,
          0.12471184363949661,
          0.522556467422449,
          0.871303923310238,
          -1.4661486934626757,
          0.24887468376197597,
          2.256319398182052,
          1.16405886946189,
          0.5128261275993566,
          -0.768220685178201,
          -0.09127765202544696,
          -1.0973940577290768,
          -0.9682176998418792
         ],
         "xaxis": "x7",
         "y": [
          0.7560556932599837,
          0.1861617358883027,
          -0.45946401974499407,
          0.5363725650333798,
          -0.2826907049744466,
          0.9869378586623979,
          -0.6293265326245278,
          0.34986000372960885,
          -0.5320627851308627,
          -1.0447729626343751,
          -0.02070322248580189,
          0.6798959897817697,
          0.5763501818321275,
          2.223053447818855,
          -0.8875788326999193,
          0.1615787630842412,
          0.3567709085089428,
          0.5248938481707832,
          0.9271245772107571,
          -0.7937188090872309,
          -0.6378307034357991,
          -0.17620310244789048,
          -0.23574356411919412,
          -1.527418059284275,
          -1.4533726991112783,
          -1.2953156503840655,
          0.6210477547351118,
          0.15506917930022304,
          1.1950725809051264,
          -0.04247534795006339,
          0.7659378064150684,
          -0.5615692618981515,
          0.5737791878517139,
          -1.6006308572561425,
          -2.0333950285797724,
          0.9346585456145193,
          0.9488633527962949,
          -0.4745063070449874,
          -0.7734177445027147,
          1.16465395450693,
          1.4686285828616743,
          -0.7166223975541242,
          -1.2791480009837546,
          -1.3619596644254246,
          0.7391929603399298,
          1.1533967674155505,
          0.3919443359002727,
          -0.9920921182175484,
          -0.9872936922072552,
          0.9000315317637086,
          0.004605680217882535,
          0.1132365767180532,
          -2.435324506895573,
          -0.7597271181186379,
          -0.5264360772598415,
          -0.3121916127736122,
          1.2307918201579024,
          1.869523187447704,
          -0.8858686376106412,
          0.543726783419556,
          -0.24643024780589254,
          -1.0030147432944985,
          -0.16165591281686184,
          2.226299463444169,
          -0.9553257863435494,
          -0.29638314164963764,
          3.0766450558184446,
          0.5921688084872822,
          -0.5443244331161018,
          0.34831653131719215,
          0.07205649871924576,
          1.6331107284138258,
          -0.5047645502368753,
          1.9948204982562445,
          0.24547203312160698,
          -0.27026650540474917,
          -0.08129411360953269,
          0.5285605980807471,
          0.5823235382880914,
          -0.2600138020280055,
          -0.16891644200176278,
          0.1014571072555472,
          -0.3585139768204954,
          -1.6969407642537817,
          0.9902414663906203,
          -0.7067845545991822,
          -1.3549550916722233,
          0.3266717614722,
          0.722908659201581,
          -0.48226300279897943,
          -2.6040444968163907,
          -1.1310424188559618,
          -2.016050162462118,
          -0.8432923110307549,
          0.1718208037412506,
          -0.6124292996478096,
          -1.257773712778361,
          -1.6465683792803527,
          0.14999425467185448,
          -0.24201883863756485
         ],
         "yaxis": "y7"
        },
        {
         "line": {
          "color": "rgba(128, 128, 128, 1.0)",
          "dash": "solid",
          "shape": "linear",
          "width": 1.3
         },
         "marker": {
          "size": 2,
          "symbol": "circle"
         },
         "mode": "markers",
         "name": "B",
         "text": "",
         "type": "scatter",
         "x": [
          0.4014918667753453,
          -1.0527835785103015,
          0.6783187881078234,
          0.7649936889727516,
          -1.1274163808466917,
          0.23231053135724067,
          -0.6234847256031335,
          0.5177435401456703,
          -1.3497744575101418,
          -0.9445947799978384,
          0.9993230603164184,
          -0.32813659124069827,
          -2.4873454326976416,
          0.23373081431391704,
          -1.2698236657889295,
          -1.0819958194740864,
          0.48944497238523554,
          -0.0870913581820666,
          0.4520894854769399,
          0.3685869778498855,
          -0.018623861888844594,
          -0.7361625385230917,
          -0.9379072634960933,
          -0.43271162020157156,
          0.5717431862977355,
          -1.0863445421513354,
          0.6895465419898549,
          -0.02104765288212073,
          0.21044849744988786,
          -0.21060376326527153,
          -0.1751901167494546,
          2.4267729695171383,
          1.1144251258610327,
          0.6088822364466963,
          1.0742530678495064,
          -1.673162766707186,
          0.8141293794284068,
          -0.671250126501007,
          -0.1119807844623894,
          0.6827059956836821,
          -2.0086429350470563,
          -0.3182967446586569,
          0.7566624514615232,
          -0.25674945298533824,
          0.5397642656518596,
          -2.1227957924654897,
          1.5314276962262283,
          1.4919611694698254,
          1.269574054782094,
          -1.0916311869393023,
          -0.3437996306930975,
          1.4347510492864688,
          1.2762427379159493,
          0.21416609162142103,
          -0.197175852514856,
          0.3223939268519974,
          0.4770435887408125,
          -1.2437863927715238,
          0.026588683601995435,
          0.32869167896277063,
          1.5214987121045702,
          0.821282750843137,
          0.4796940104196587,
          -0.8907667152685849,
          0.537578488866459,
          0.4846947974682395,
          -0.8342563397109818,
          0.9012246659006108,
          -0.031084575491218874,
          -0.4390259765356436,
          2.6497943870848877,
          0.15636182258080236,
          -0.04297633147906922,
          0.09414708464977088,
          -1.2680837159614444,
          -0.331002953982354,
          0.6895397124327335,
          -0.8093776634653645,
          -2.0170703969219725,
          0.33936665036701874,
          0.6943810852290068,
          0.624720221317302,
          0.5049175711349475,
          -0.11540280204630413,
          0.27341016033136567,
          0.8854226746417551,
          -0.3493524737887093,
          0.00017440721187257863,
          0.4571801241143655,
          -1.0474263154899806,
          -0.06046386609324998,
          -0.6420828131993251,
          -0.6128988878340906,
          0.8707626928414187,
          0.779901154494852,
          -0.762949383763312,
          -0.3161555736028018,
          0.9312707513336201,
          0.2176505285610799,
          -0.2166411172749589
         ],
         "xaxis": "x8",
         "y": [
          0.7560556932599837,
          0.1861617358883027,
          -0.45946401974499407,
          0.5363725650333798,
          -0.2826907049744466,
          0.9869378586623979,
          -0.6293265326245278,
          0.34986000372960885,
          -0.5320627851308627,
          -1.0447729626343751,
          -0.02070322248580189,
          0.6798959897817697,
          0.5763501818321275,
          2.223053447818855,
          -0.8875788326999193,
          0.1615787630842412,
          0.3567709085089428,
          0.5248938481707832,
          0.9271245772107571,
          -0.7937188090872309,
          -0.6378307034357991,
          -0.17620310244789048,
          -0.23574356411919412,
          -1.527418059284275,
          -1.4533726991112783,
          -1.2953156503840655,
          0.6210477547351118,
          0.15506917930022304,
          1.1950725809051264,
          -0.04247534795006339,
          0.7659378064150684,
          -0.5615692618981515,
          0.5737791878517139,
          -1.6006308572561425,
          -2.0333950285797724,
          0.9346585456145193,
          0.9488633527962949,
          -0.4745063070449874,
          -0.7734177445027147,
          1.16465395450693,
          1.4686285828616743,
          -0.7166223975541242,
          -1.2791480009837546,
          -1.3619596644254246,
          0.7391929603399298,
          1.1533967674155505,
          0.3919443359002727,
          -0.9920921182175484,
          -0.9872936922072552,
          0.9000315317637086,
          0.004605680217882535,
          0.1132365767180532,
          -2.435324506895573,
          -0.7597271181186379,
          -0.5264360772598415,
          -0.3121916127736122,
          1.2307918201579024,
          1.869523187447704,
          -0.8858686376106412,
          0.543726783419556,
          -0.24643024780589254,
          -1.0030147432944985,
          -0.16165591281686184,
          2.226299463444169,
          -0.9553257863435494,
          -0.29638314164963764,
          3.0766450558184446,
          0.5921688084872822,
          -0.5443244331161018,
          0.34831653131719215,
          0.07205649871924576,
          1.6331107284138258,
          -0.5047645502368753,
          1.9948204982562445,
          0.24547203312160698,
          -0.27026650540474917,
          -0.08129411360953269,
          0.5285605980807471,
          0.5823235382880914,
          -0.2600138020280055,
          -0.16891644200176278,
          0.1014571072555472,
          -0.3585139768204954,
          -1.6969407642537817,
          0.9902414663906203,
          -0.7067845545991822,
          -1.3549550916722233,
          0.3266717614722,
          0.722908659201581,
          -0.48226300279897943,
          -2.6040444968163907,
          -1.1310424188559618,
          -2.016050162462118,
          -0.8432923110307549,
          0.1718208037412506,
          -0.6124292996478096,
          -1.257773712778361,
          -1.6465683792803527,
          0.14999425467185448,
          -0.24201883863756485
         ],
         "yaxis": "y8"
        },
        {
         "line": {
          "color": "rgba(128, 128, 128, 1.0)",
          "dash": "solid",
          "shape": "linear",
          "width": 1.3
         },
         "marker": {
          "size": 2,
          "symbol": "circle"
         },
         "mode": "markers",
         "name": "C",
         "text": "",
         "type": "scatter",
         "x": [
          -1.516267560230567,
          -1.9207884175074055,
          1.0373966535124963,
          0.14953510936685668,
          -3.999485447186093,
          0.41440508516482133,
          0.7429422015904862,
          -1.4289512487530127,
          0.6905534850783236,
          0.11506940258331375,
          1.9618318262179413,
          0.4820087067882209,
          0.010833293229753694,
          -0.595929986198764,
          -2.113531329590608,
          1.3475913692139152,
          -0.17027902129753222,
          -1.7647043330033494,
          -0.7618858921940336,
          -0.32990065514115696,
          0.5275932665014055,
          -0.012597174270982791,
          0.977197771133166,
          -0.32632061640685095,
          0.08292817175283175,
          -0.8344479918217037,
          1.568391586495905,
          0.35928326522581105,
          -0.6938103952930875,
          0.2879566156066621,
          0.020560596221972264,
          -0.6608720159459609,
          -1.3379447458259173,
          0.09976969555504292,
          -1.8342513136627003,
          0.9586876894546607,
          -1.1058337722839024,
          0.5406356582921222,
          -1.9079890868367126,
          0.25673390912073035,
          -0.09844552196478548,
          0.547433763312957,
          -1.2925028155368672,
          -1.0266178727650466,
          1.1507359785118991,
          -0.4331137041199937,
          0.3750983126336917,
          -0.956571917947313,
          -0.6306287050127768,
          1.1658314936903746,
          0.20727664611040933,
          -0.7125620965948533,
          -1.2329857567549423,
          -1.19301842269195,
          0.7344866094623589,
          0.24825131328164876,
          -0.0703592808778631,
          -0.3940635524410132,
          0.8837620159811025,
          -0.5882788998946945,
          0.857686324715227,
          -1.2759414075844788,
          0.1849841116242509,
          -0.9889213556524264,
          0.37665713077589197,
          0.06736189675688638,
          0.7757816466321904,
          1.0197517246852932,
          2.1963839769565587,
          1.6228329344349806,
          -0.417307672140243,
          0.4883689747400217,
          1.0063943302757847,
          -0.641507073385344,
          0.2592738354357245,
          -1.115946078959094,
          0.4121599174934557,
          -0.5158597744247898,
          1.1280022315312952,
          -0.3627082124069788,
          0.7816328424346314,
          1.1133691254531146,
          1.776942182023018,
          -0.2100716526582734,
          -0.8832821040096712,
          0.10615505370341051,
          -1.2015298986284144,
          -1.6001804881901893,
          -1.0807816016045844,
          -0.9463689237520007,
          -0.5501717411155009,
          0.6915172170167367,
          1.3927574947291392,
          -1.4420007770037622,
          0.9858512592211613,
          -0.6690552083723248,
          -0.23614428440751595,
          -0.30191933616375166,
          1.1650348858496635,
          0.12403058093384871
         ],
         "xaxis": "x9",
         "y": [
          0.8075329633556021,
          1.1774280375163513,
          -0.6014210535259376,
          0.07832612005513975,
          -1.7155009840661166,
          0.7035414537135141,
          0.8417927248686057,
          0.3748580340476217,
          -0.304945229712358,
          0.4211204380864479,
          0.735136750654394,
          -0.2741375696064217,
          -0.9351479186335825,
          -1.1396293625847214,
          0.6140068231092876,
          0.3562576971054651,
          -0.7047026891394264,
          -0.9432943051102678,
          0.7597156187613746,
          0.8464495262910379,
          0.6868534419181007,
          -0.8562197378807854,
          -0.5815031808440854,
          0.051146836255641655,
          1.367564231862464,
          -0.46229837263073564,
          2.2475048457753886,
          -0.8619959017315432,
          -0.908873144834571,
          -0.39423141306929993,
          0.1891999834297446,
          1.3165420591801689,
          0.3529560878107613,
          1.05534709251322,
          0.7731486762660107,
          1.6042316111721489,
          -0.4105421652787086,
          0.21597120648202386,
          -0.4048423743583727,
          -0.5410710325474366,
          1.3029986750296814,
          -1.2216582067120945,
          -0.2877632187371062,
          0.2864779198647285,
          1.212951585281548,
          0.6485129056737563,
          0.18531217997808083,
          -0.680445857051702,
          0.5170626300905937,
          -0.8328571848850191,
          1.0089132907191372,
          0.5605661111024343,
          -0.5418390448470031,
          -0.057394466151699276,
          -0.02762680605564009,
          -1.2589958382873707,
          0.9175957862194427,
          1.3027871559059288,
          -0.4184142964253094,
          -0.015556868338890308,
          -0.7472347864718828,
          -0.641803946445278,
          1.0688577905407268,
          0.2479386831831523,
          0.8015844949247076,
          -0.7586268387861957,
          -0.38405669593162456,
          -0.8505493494111646,
          -0.42971382252105217,
          0.5971083106876616,
          -1.1080763354452292,
          0.9126658039380318,
          0.8368071245792087,
          0.4160418406091262,
          2.3259294956907732,
          0.6625347106516749,
          1.1190819353211914,
          -0.18104618713916434,
          -0.01837031625668125,
          0.4562313734425662,
          -0.7531440947132809,
          -0.9683539960380266,
          -0.10537954212188595,
          -0.6149617031626683,
          -0.04292467163872477,
          -0.18099266235163322,
          -0.33022789800633723,
          0.9596997277449528,
          0.12471184363949661,
          0.522556467422449,
          0.871303923310238,
          -1.4661486934626757,
          0.24887468376197597,
          2.256319398182052,
          1.16405886946189,
          0.5128261275993566,
          -0.768220685178201,
          -0.09127765202544696,
          -1.0973940577290768,
          -0.9682176998418792
         ],
         "yaxis": "y9"
        },
        {
         "line": {
          "color": "rgba(128, 128, 128, 1.0)",
          "dash": "solid",
          "shape": "linear",
          "width": 1.3
         },
         "marker": {
          "size": 2,
          "symbol": "circle"
         },
         "mode": "markers",
         "name": "C",
         "text": "",
         "type": "scatter",
         "x": [
          0.7560556932599837,
          0.1861617358883027,
          -0.45946401974499407,
          0.5363725650333798,
          -0.2826907049744466,
          0.9869378586623979,
          -0.6293265326245278,
          0.34986000372960885,
          -0.5320627851308627,
          -1.0447729626343751,
          -0.02070322248580189,
          0.6798959897817697,
          0.5763501818321275,
          2.223053447818855,
          -0.8875788326999193,
          0.1615787630842412,
          0.3567709085089428,
          0.5248938481707832,
          0.9271245772107571,
          -0.7937188090872309,
          -0.6378307034357991,
          -0.17620310244789048,
          -0.23574356411919412,
          -1.527418059284275,
          -1.4533726991112783,
          -1.2953156503840655,
          0.6210477547351118,
          0.15506917930022304,
          1.1950725809051264,
          -0.04247534795006339,
          0.7659378064150684,
          -0.5615692618981515,
          0.5737791878517139,
          -1.6006308572561425,
          -2.0333950285797724,
          0.9346585456145193,
          0.9488633527962949,
          -0.4745063070449874,
          -0.7734177445027147,
          1.16465395450693,
          1.4686285828616743,
          -0.7166223975541242,
          -1.2791480009837546,
          -1.3619596644254246,
          0.7391929603399298,
          1.1533967674155505,
          0.3919443359002727,
          -0.9920921182175484,
          -0.9872936922072552,
          0.9000315317637086,
          0.004605680217882535,
          0.1132365767180532,
          -2.435324506895573,
          -0.7597271181186379,
          -0.5264360772598415,
          -0.3121916127736122,
          1.2307918201579024,
          1.869523187447704,
          -0.8858686376106412,
          0.543726783419556,
          -0.24643024780589254,
          -1.0030147432944985,
          -0.16165591281686184,
          2.226299463444169,
          -0.9553257863435494,
          -0.29638314164963764,
          3.0766450558184446,
          0.5921688084872822,
          -0.5443244331161018,
          0.34831653131719215,
          0.07205649871924576,
          1.6331107284138258,
          -0.5047645502368753,
          1.9948204982562445,
          0.24547203312160698,
          -0.27026650540474917,
          -0.08129411360953269,
          0.5285605980807471,
          0.5823235382880914,
          -0.2600138020280055,
          -0.16891644200176278,
          0.1014571072555472,
          -0.3585139768204954,
          -1.6969407642537817,
          0.9902414663906203,
          -0.7067845545991822,
          -1.3549550916722233,
          0.3266717614722,
          0.722908659201581,
          -0.48226300279897943,
          -2.6040444968163907,
          -1.1310424188559618,
          -2.016050162462118,
          -0.8432923110307549,
          0.1718208037412506,
          -0.6124292996478096,
          -1.257773712778361,
          -1.6465683792803527,
          0.14999425467185448,
          -0.24201883863756485
         ],
         "xaxis": "x10",
         "y": [
          0.8075329633556021,
          1.1774280375163513,
          -0.6014210535259376,
          0.07832612005513975,
          -1.7155009840661166,
          0.7035414537135141,
          0.8417927248686057,
          0.3748580340476217,
          -0.304945229712358,
          0.4211204380864479,
          0.735136750654394,
          -0.2741375696064217,
          -0.9351479186335825,
          -1.1396293625847214,
          0.6140068231092876,
          0.3562576971054651,
          -0.7047026891394264,
          -0.9432943051102678,
          0.7597156187613746,
          0.8464495262910379,
          0.6868534419181007,
          -0.8562197378807854,
          -0.5815031808440854,
          0.051146836255641655,
          1.367564231862464,
          -0.46229837263073564,
          2.2475048457753886,
          -0.8619959017315432,
          -0.908873144834571,
          -0.39423141306929993,
          0.1891999834297446,
          1.3165420591801689,
          0.3529560878107613,
          1.05534709251322,
          0.7731486762660107,
          1.6042316111721489,
          -0.4105421652787086,
          0.21597120648202386,
          -0.4048423743583727,
          -0.5410710325474366,
          1.3029986750296814,
          -1.2216582067120945,
          -0.2877632187371062,
          0.2864779198647285,
          1.212951585281548,
          0.6485129056737563,
          0.18531217997808083,
          -0.680445857051702,
          0.5170626300905937,
          -0.8328571848850191,
          1.0089132907191372,
          0.5605661111024343,
          -0.5418390448470031,
          -0.057394466151699276,
          -0.02762680605564009,
          -1.2589958382873707,
          0.9175957862194427,
          1.3027871559059288,
          -0.4184142964253094,
          -0.015556868338890308,
          -0.7472347864718828,
          -0.641803946445278,
          1.0688577905407268,
          0.2479386831831523,
          0.8015844949247076,
          -0.7586268387861957,
          -0.38405669593162456,
          -0.8505493494111646,
          -0.42971382252105217,
          0.5971083106876616,
          -1.1080763354452292,
          0.9126658039380318,
          0.8368071245792087,
          0.4160418406091262,
          2.3259294956907732,
          0.6625347106516749,
          1.1190819353211914,
          -0.18104618713916434,
          -0.01837031625668125,
          0.4562313734425662,
          -0.7531440947132809,
          -0.9683539960380266,
          -0.10537954212188595,
          -0.6149617031626683,
          -0.04292467163872477,
          -0.18099266235163322,
          -0.33022789800633723,
          0.9596997277449528,
          0.12471184363949661,
          0.522556467422449,
          0.871303923310238,
          -1.4661486934626757,
          0.24887468376197597,
          2.256319398182052,
          1.16405886946189,
          0.5128261275993566,
          -0.768220685178201,
          -0.09127765202544696,
          -1.0973940577290768,
          -0.9682176998418792
         ],
         "yaxis": "y10"
        },
        {
         "histfunc": "count",
         "histnorm": "",
         "marker": {
          "color": "rgba(50, 171, 96, 1.0)",
          "line": {
           "color": "#4D5663",
           "width": 1.3
          }
         },
         "name": "C",
         "nbinsx": 10,
         "opacity": 0.8,
         "orientation": "v",
         "type": "histogram",
         "x": [
          0.8075329633556021,
          1.1774280375163513,
          -0.6014210535259376,
          0.07832612005513975,
          -1.7155009840661166,
          0.7035414537135141,
          0.8417927248686057,
          0.3748580340476217,
          -0.304945229712358,
          0.4211204380864479,
          0.735136750654394,
          -0.2741375696064217,
          -0.9351479186335825,
          -1.1396293625847214,
          0.6140068231092876,
          0.3562576971054651,
          -0.7047026891394264,
          -0.9432943051102678,
          0.7597156187613746,
          0.8464495262910379,
          0.6868534419181007,
          -0.8562197378807854,
          -0.5815031808440854,
          0.051146836255641655,
          1.367564231862464,
          -0.46229837263073564,
          2.2475048457753886,
          -0.8619959017315432,
          -0.908873144834571,
          -0.39423141306929993,
          0.1891999834297446,
          1.3165420591801689,
          0.3529560878107613,
          1.05534709251322,
          0.7731486762660107,
          1.6042316111721489,
          -0.4105421652787086,
          0.21597120648202386,
          -0.4048423743583727,
          -0.5410710325474366,
          1.3029986750296814,
          -1.2216582067120945,
          -0.2877632187371062,
          0.2864779198647285,
          1.212951585281548,
          0.6485129056737563,
          0.18531217997808083,
          -0.680445857051702,
          0.5170626300905937,
          -0.8328571848850191,
          1.0089132907191372,
          0.5605661111024343,
          -0.5418390448470031,
          -0.057394466151699276,
          -0.02762680605564009,
          -1.2589958382873707,
          0.9175957862194427,
          1.3027871559059288,
          -0.4184142964253094,
          -0.015556868338890308,
          -0.7472347864718828,
          -0.641803946445278,
          1.0688577905407268,
          0.2479386831831523,
          0.8015844949247076,
          -0.7586268387861957,
          -0.38405669593162456,
          -0.8505493494111646,
          -0.42971382252105217,
          0.5971083106876616,
          -1.1080763354452292,
          0.9126658039380318,
          0.8368071245792087,
          0.4160418406091262,
          2.3259294956907732,
          0.6625347106516749,
          1.1190819353211914,
          -0.18104618713916434,
          -0.01837031625668125,
          0.4562313734425662,
          -0.7531440947132809,
          -0.9683539960380266,
          -0.10537954212188595,
          -0.6149617031626683,
          -0.04292467163872477,
          -0.18099266235163322,
          -0.33022789800633723,
          0.9596997277449528,
          0.12471184363949661,
          0.522556467422449,
          0.871303923310238,
          -1.4661486934626757,
          0.24887468376197597,
          2.256319398182052,
          1.16405886946189,
          0.5128261275993566,
          -0.768220685178201,
          -0.09127765202544696,
          -1.0973940577290768,
          -0.9682176998418792
         ],
         "xaxis": "x11",
         "yaxis": "y11"
        },
        {
         "line": {
          "color": "rgba(128, 128, 128, 1.0)",
          "dash": "solid",
          "shape": "linear",
          "width": 1.3
         },
         "marker": {
          "size": 2,
          "symbol": "circle"
         },
         "mode": "markers",
         "name": "C",
         "text": "",
         "type": "scatter",
         "x": [
          0.4014918667753453,
          -1.0527835785103015,
          0.6783187881078234,
          0.7649936889727516,
          -1.1274163808466917,
          0.23231053135724067,
          -0.6234847256031335,
          0.5177435401456703,
          -1.3497744575101418,
          -0.9445947799978384,
          0.9993230603164184,
          -0.32813659124069827,
          -2.4873454326976416,
          0.23373081431391704,
          -1.2698236657889295,
          -1.0819958194740864,
          0.48944497238523554,
          -0.0870913581820666,
          0.4520894854769399,
          0.3685869778498855,
          -0.018623861888844594,
          -0.7361625385230917,
          -0.9379072634960933,
          -0.43271162020157156,
          0.5717431862977355,
          -1.0863445421513354,
          0.6895465419898549,
          -0.02104765288212073,
          0.21044849744988786,
          -0.21060376326527153,
          -0.1751901167494546,
          2.4267729695171383,
          1.1144251258610327,
          0.6088822364466963,
          1.0742530678495064,
          -1.673162766707186,
          0.8141293794284068,
          -0.671250126501007,
          -0.1119807844623894,
          0.6827059956836821,
          -2.0086429350470563,
          -0.3182967446586569,
          0.7566624514615232,
          -0.25674945298533824,
          0.5397642656518596,
          -2.1227957924654897,
          1.5314276962262283,
          1.4919611694698254,
          1.269574054782094,
          -1.0916311869393023,
          -0.3437996306930975,
          1.4347510492864688,
          1.2762427379159493,
          0.21416609162142103,
          -0.197175852514856,
          0.3223939268519974,
          0.4770435887408125,
          -1.2437863927715238,
          0.026588683601995435,
          0.32869167896277063,
          1.5214987121045702,
          0.821282750843137,
          0.4796940104196587,
          -0.8907667152685849,
          0.537578488866459,
          0.4846947974682395,
          -0.8342563397109818,
          0.9012246659006108,
          -0.031084575491218874,
          -0.4390259765356436,
          2.6497943870848877,
          0.15636182258080236,
          -0.04297633147906922,
          0.09414708464977088,
          -1.2680837159614444,
          -0.331002953982354,
          0.6895397124327335,
          -0.8093776634653645,
          -2.0170703969219725,
          0.33936665036701874,
          0.6943810852290068,
          0.624720221317302,
          0.5049175711349475,
          -0.11540280204630413,
          0.27341016033136567,
          0.8854226746417551,
          -0.3493524737887093,
          0.00017440721187257863,
          0.4571801241143655,
          -1.0474263154899806,
          -0.06046386609324998,
          -0.6420828131993251,
          -0.6128988878340906,
          0.8707626928414187,
          0.779901154494852,
          -0.762949383763312,
          -0.3161555736028018,
          0.9312707513336201,
          0.2176505285610799,
          -0.2166411172749589
         ],
         "xaxis": "x12",
         "y": [
          0.8075329633556021,
          1.1774280375163513,
          -0.6014210535259376,
          0.07832612005513975,
          -1.7155009840661166,
          0.7035414537135141,
          0.8417927248686057,
          0.3748580340476217,
          -0.304945229712358,
          0.4211204380864479,
          0.735136750654394,
          -0.2741375696064217,
          -0.9351479186335825,
          -1.1396293625847214,
          0.6140068231092876,
          0.3562576971054651,
          -0.7047026891394264,
          -0.9432943051102678,
          0.7597156187613746,
          0.8464495262910379,
          0.6868534419181007,
          -0.8562197378807854,
          -0.5815031808440854,
          0.051146836255641655,
          1.367564231862464,
          -0.46229837263073564,
          2.2475048457753886,
          -0.8619959017315432,
          -0.908873144834571,
          -0.39423141306929993,
          0.1891999834297446,
          1.3165420591801689,
          0.3529560878107613,
          1.05534709251322,
          0.7731486762660107,
          1.6042316111721489,
          -0.4105421652787086,
          0.21597120648202386,
          -0.4048423743583727,
          -0.5410710325474366,
          1.3029986750296814,
          -1.2216582067120945,
          -0.2877632187371062,
          0.2864779198647285,
          1.212951585281548,
          0.6485129056737563,
          0.18531217997808083,
          -0.680445857051702,
          0.5170626300905937,
          -0.8328571848850191,
          1.0089132907191372,
          0.5605661111024343,
          -0.5418390448470031,
          -0.057394466151699276,
          -0.02762680605564009,
          -1.2589958382873707,
          0.9175957862194427,
          1.3027871559059288,
          -0.4184142964253094,
          -0.015556868338890308,
          -0.7472347864718828,
          -0.641803946445278,
          1.0688577905407268,
          0.2479386831831523,
          0.8015844949247076,
          -0.7586268387861957,
          -0.38405669593162456,
          -0.8505493494111646,
          -0.42971382252105217,
          0.5971083106876616,
          -1.1080763354452292,
          0.9126658039380318,
          0.8368071245792087,
          0.4160418406091262,
          2.3259294956907732,
          0.6625347106516749,
          1.1190819353211914,
          -0.18104618713916434,
          -0.01837031625668125,
          0.4562313734425662,
          -0.7531440947132809,
          -0.9683539960380266,
          -0.10537954212188595,
          -0.6149617031626683,
          -0.04292467163872477,
          -0.18099266235163322,
          -0.33022789800633723,
          0.9596997277449528,
          0.12471184363949661,
          0.522556467422449,
          0.871303923310238,
          -1.4661486934626757,
          0.24887468376197597,
          2.256319398182052,
          1.16405886946189,
          0.5128261275993566,
          -0.768220685178201,
          -0.09127765202544696,
          -1.0973940577290768,
          -0.9682176998418792
         ],
         "yaxis": "y12"
        },
        {
         "line": {
          "color": "rgba(128, 128, 128, 1.0)",
          "dash": "solid",
          "shape": "linear",
          "width": 1.3
         },
         "marker": {
          "size": 2,
          "symbol": "circle"
         },
         "mode": "markers",
         "name": "D",
         "text": "",
         "type": "scatter",
         "x": [
          -1.516267560230567,
          -1.9207884175074055,
          1.0373966535124963,
          0.14953510936685668,
          -3.999485447186093,
          0.41440508516482133,
          0.7429422015904862,
          -1.4289512487530127,
          0.6905534850783236,
          0.11506940258331375,
          1.9618318262179413,
          0.4820087067882209,
          0.010833293229753694,
          -0.595929986198764,
          -2.113531329590608,
          1.3475913692139152,
          -0.17027902129753222,
          -1.7647043330033494,
          -0.7618858921940336,
          -0.32990065514115696,
          0.5275932665014055,
          -0.012597174270982791,
          0.977197771133166,
          -0.32632061640685095,
          0.08292817175283175,
          -0.8344479918217037,
          1.568391586495905,
          0.35928326522581105,
          -0.6938103952930875,
          0.2879566156066621,
          0.020560596221972264,
          -0.6608720159459609,
          -1.3379447458259173,
          0.09976969555504292,
          -1.8342513136627003,
          0.9586876894546607,
          -1.1058337722839024,
          0.5406356582921222,
          -1.9079890868367126,
          0.25673390912073035,
          -0.09844552196478548,
          0.547433763312957,
          -1.2925028155368672,
          -1.0266178727650466,
          1.1507359785118991,
          -0.4331137041199937,
          0.3750983126336917,
          -0.956571917947313,
          -0.6306287050127768,
          1.1658314936903746,
          0.20727664611040933,
          -0.7125620965948533,
          -1.2329857567549423,
          -1.19301842269195,
          0.7344866094623589,
          0.24825131328164876,
          -0.0703592808778631,
          -0.3940635524410132,
          0.8837620159811025,
          -0.5882788998946945,
          0.857686324715227,
          -1.2759414075844788,
          0.1849841116242509,
          -0.9889213556524264,
          0.37665713077589197,
          0.06736189675688638,
          0.7757816466321904,
          1.0197517246852932,
          2.1963839769565587,
          1.6228329344349806,
          -0.417307672140243,
          0.4883689747400217,
          1.0063943302757847,
          -0.641507073385344,
          0.2592738354357245,
          -1.115946078959094,
          0.4121599174934557,
          -0.5158597744247898,
          1.1280022315312952,
          -0.3627082124069788,
          0.7816328424346314,
          1.1133691254531146,
          1.776942182023018,
          -0.2100716526582734,
          -0.8832821040096712,
          0.10615505370341051,
          -1.2015298986284144,
          -1.6001804881901893,
          -1.0807816016045844,
          -0.9463689237520007,
          -0.5501717411155009,
          0.6915172170167367,
          1.3927574947291392,
          -1.4420007770037622,
          0.9858512592211613,
          -0.6690552083723248,
          -0.23614428440751595,
          -0.30191933616375166,
          1.1650348858496635,
          0.12403058093384871
         ],
         "xaxis": "x13",
         "y": [
          0.4014918667753453,
          -1.0527835785103015,
          0.6783187881078234,
          0.7649936889727516,
          -1.1274163808466917,
          0.23231053135724067,
          -0.6234847256031335,
          0.5177435401456703,
          -1.3497744575101418,
          -0.9445947799978384,
          0.9993230603164184,
          -0.32813659124069827,
          -2.4873454326976416,
          0.23373081431391704,
          -1.2698236657889295,
          -1.0819958194740864,
          0.48944497238523554,
          -0.0870913581820666,
          0.4520894854769399,
          0.3685869778498855,
          -0.018623861888844594,
          -0.7361625385230917,
          -0.9379072634960933,
          -0.43271162020157156,
          0.5717431862977355,
          -1.0863445421513354,
          0.6895465419898549,
          -0.02104765288212073,
          0.21044849744988786,
          -0.21060376326527153,
          -0.1751901167494546,
          2.4267729695171383,
          1.1144251258610327,
          0.6088822364466963,
          1.0742530678495064,
          -1.673162766707186,
          0.8141293794284068,
          -0.671250126501007,
          -0.1119807844623894,
          0.6827059956836821,
          -2.0086429350470563,
          -0.3182967446586569,
          0.7566624514615232,
          -0.25674945298533824,
          0.5397642656518596,
          -2.1227957924654897,
          1.5314276962262283,
          1.4919611694698254,
          1.269574054782094,
          -1.0916311869393023,
          -0.3437996306930975,
          1.4347510492864688,
          1.2762427379159493,
          0.21416609162142103,
          -0.197175852514856,
          0.3223939268519974,
          0.4770435887408125,
          -1.2437863927715238,
          0.026588683601995435,
          0.32869167896277063,
          1.5214987121045702,
          0.821282750843137,
          0.4796940104196587,
          -0.8907667152685849,
          0.537578488866459,
          0.4846947974682395,
          -0.8342563397109818,
          0.9012246659006108,
          -0.031084575491218874,
          -0.4390259765356436,
          2.6497943870848877,
          0.15636182258080236,
          -0.04297633147906922,
          0.09414708464977088,
          -1.2680837159614444,
          -0.331002953982354,
          0.6895397124327335,
          -0.8093776634653645,
          -2.0170703969219725,
          0.33936665036701874,
          0.6943810852290068,
          0.624720221317302,
          0.5049175711349475,
          -0.11540280204630413,
          0.27341016033136567,
          0.8854226746417551,
          -0.3493524737887093,
          0.00017440721187257863,
          0.4571801241143655,
          -1.0474263154899806,
          -0.06046386609324998,
          -0.6420828131993251,
          -0.6128988878340906,
          0.8707626928414187,
          0.779901154494852,
          -0.762949383763312,
          -0.3161555736028018,
          0.9312707513336201,
          0.2176505285610799,
          -0.2166411172749589
         ],
         "yaxis": "y13"
        },
        {
         "line": {
          "color": "rgba(128, 128, 128, 1.0)",
          "dash": "solid",
          "shape": "linear",
          "width": 1.3
         },
         "marker": {
          "size": 2,
          "symbol": "circle"
         },
         "mode": "markers",
         "name": "D",
         "text": "",
         "type": "scatter",
         "x": [
          0.7560556932599837,
          0.1861617358883027,
          -0.45946401974499407,
          0.5363725650333798,
          -0.2826907049744466,
          0.9869378586623979,
          -0.6293265326245278,
          0.34986000372960885,
          -0.5320627851308627,
          -1.0447729626343751,
          -0.02070322248580189,
          0.6798959897817697,
          0.5763501818321275,
          2.223053447818855,
          -0.8875788326999193,
          0.1615787630842412,
          0.3567709085089428,
          0.5248938481707832,
          0.9271245772107571,
          -0.7937188090872309,
          -0.6378307034357991,
          -0.17620310244789048,
          -0.23574356411919412,
          -1.527418059284275,
          -1.4533726991112783,
          -1.2953156503840655,
          0.6210477547351118,
          0.15506917930022304,
          1.1950725809051264,
          -0.04247534795006339,
          0.7659378064150684,
          -0.5615692618981515,
          0.5737791878517139,
          -1.6006308572561425,
          -2.0333950285797724,
          0.9346585456145193,
          0.9488633527962949,
          -0.4745063070449874,
          -0.7734177445027147,
          1.16465395450693,
          1.4686285828616743,
          -0.7166223975541242,
          -1.2791480009837546,
          -1.3619596644254246,
          0.7391929603399298,
          1.1533967674155505,
          0.3919443359002727,
          -0.9920921182175484,
          -0.9872936922072552,
          0.9000315317637086,
          0.004605680217882535,
          0.1132365767180532,
          -2.435324506895573,
          -0.7597271181186379,
          -0.5264360772598415,
          -0.3121916127736122,
          1.2307918201579024,
          1.869523187447704,
          -0.8858686376106412,
          0.543726783419556,
          -0.24643024780589254,
          -1.0030147432944985,
          -0.16165591281686184,
          2.226299463444169,
          -0.9553257863435494,
          -0.29638314164963764,
          3.0766450558184446,
          0.5921688084872822,
          -0.5443244331161018,
          0.34831653131719215,
          0.07205649871924576,
          1.6331107284138258,
          -0.5047645502368753,
          1.9948204982562445,
          0.24547203312160698,
          -0.27026650540474917,
          -0.08129411360953269,
          0.5285605980807471,
          0.5823235382880914,
          -0.2600138020280055,
          -0.16891644200176278,
          0.1014571072555472,
          -0.3585139768204954,
          -1.6969407642537817,
          0.9902414663906203,
          -0.7067845545991822,
          -1.3549550916722233,
          0.3266717614722,
          0.722908659201581,
          -0.48226300279897943,
          -2.6040444968163907,
          -1.1310424188559618,
          -2.016050162462118,
          -0.8432923110307549,
          0.1718208037412506,
          -0.6124292996478096,
          -1.257773712778361,
          -1.6465683792803527,
          0.14999425467185448,
          -0.24201883863756485
         ],
         "xaxis": "x14",
         "y": [
          0.4014918667753453,
          -1.0527835785103015,
          0.6783187881078234,
          0.7649936889727516,
          -1.1274163808466917,
          0.23231053135724067,
          -0.6234847256031335,
          0.5177435401456703,
          -1.3497744575101418,
          -0.9445947799978384,
          0.9993230603164184,
          -0.32813659124069827,
          -2.4873454326976416,
          0.23373081431391704,
          -1.2698236657889295,
          -1.0819958194740864,
          0.48944497238523554,
          -0.0870913581820666,
          0.4520894854769399,
          0.3685869778498855,
          -0.018623861888844594,
          -0.7361625385230917,
          -0.9379072634960933,
          -0.43271162020157156,
          0.5717431862977355,
          -1.0863445421513354,
          0.6895465419898549,
          -0.02104765288212073,
          0.21044849744988786,
          -0.21060376326527153,
          -0.1751901167494546,
          2.4267729695171383,
          1.1144251258610327,
          0.6088822364466963,
          1.0742530678495064,
          -1.673162766707186,
          0.8141293794284068,
          -0.671250126501007,
          -0.1119807844623894,
          0.6827059956836821,
          -2.0086429350470563,
          -0.3182967446586569,
          0.7566624514615232,
          -0.25674945298533824,
          0.5397642656518596,
          -2.1227957924654897,
          1.5314276962262283,
          1.4919611694698254,
          1.269574054782094,
          -1.0916311869393023,
          -0.3437996306930975,
          1.4347510492864688,
          1.2762427379159493,
          0.21416609162142103,
          -0.197175852514856,
          0.3223939268519974,
          0.4770435887408125,
          -1.2437863927715238,
          0.026588683601995435,
          0.32869167896277063,
          1.5214987121045702,
          0.821282750843137,
          0.4796940104196587,
          -0.8907667152685849,
          0.537578488866459,
          0.4846947974682395,
          -0.8342563397109818,
          0.9012246659006108,
          -0.031084575491218874,
          -0.4390259765356436,
          2.6497943870848877,
          0.15636182258080236,
          -0.04297633147906922,
          0.09414708464977088,
          -1.2680837159614444,
          -0.331002953982354,
          0.6895397124327335,
          -0.8093776634653645,
          -2.0170703969219725,
          0.33936665036701874,
          0.6943810852290068,
          0.624720221317302,
          0.5049175711349475,
          -0.11540280204630413,
          0.27341016033136567,
          0.8854226746417551,
          -0.3493524737887093,
          0.00017440721187257863,
          0.4571801241143655,
          -1.0474263154899806,
          -0.06046386609324998,
          -0.6420828131993251,
          -0.6128988878340906,
          0.8707626928414187,
          0.779901154494852,
          -0.762949383763312,
          -0.3161555736028018,
          0.9312707513336201,
          0.2176505285610799,
          -0.2166411172749589
         ],
         "yaxis": "y14"
        },
        {
         "line": {
          "color": "rgba(128, 128, 128, 1.0)",
          "dash": "solid",
          "shape": "linear",
          "width": 1.3
         },
         "marker": {
          "size": 2,
          "symbol": "circle"
         },
         "mode": "markers",
         "name": "D",
         "text": "",
         "type": "scatter",
         "x": [
          0.8075329633556021,
          1.1774280375163513,
          -0.6014210535259376,
          0.07832612005513975,
          -1.7155009840661166,
          0.7035414537135141,
          0.8417927248686057,
          0.3748580340476217,
          -0.304945229712358,
          0.4211204380864479,
          0.735136750654394,
          -0.2741375696064217,
          -0.9351479186335825,
          -1.1396293625847214,
          0.6140068231092876,
          0.3562576971054651,
          -0.7047026891394264,
          -0.9432943051102678,
          0.7597156187613746,
          0.8464495262910379,
          0.6868534419181007,
          -0.8562197378807854,
          -0.5815031808440854,
          0.051146836255641655,
          1.367564231862464,
          -0.46229837263073564,
          2.2475048457753886,
          -0.8619959017315432,
          -0.908873144834571,
          -0.39423141306929993,
          0.1891999834297446,
          1.3165420591801689,
          0.3529560878107613,
          1.05534709251322,
          0.7731486762660107,
          1.6042316111721489,
          -0.4105421652787086,
          0.21597120648202386,
          -0.4048423743583727,
          -0.5410710325474366,
          1.3029986750296814,
          -1.2216582067120945,
          -0.2877632187371062,
          0.2864779198647285,
          1.212951585281548,
          0.6485129056737563,
          0.18531217997808083,
          -0.680445857051702,
          0.5170626300905937,
          -0.8328571848850191,
          1.0089132907191372,
          0.5605661111024343,
          -0.5418390448470031,
          -0.057394466151699276,
          -0.02762680605564009,
          -1.2589958382873707,
          0.9175957862194427,
          1.3027871559059288,
          -0.4184142964253094,
          -0.015556868338890308,
          -0.7472347864718828,
          -0.641803946445278,
          1.0688577905407268,
          0.2479386831831523,
          0.8015844949247076,
          -0.7586268387861957,
          -0.38405669593162456,
          -0.8505493494111646,
          -0.42971382252105217,
          0.5971083106876616,
          -1.1080763354452292,
          0.9126658039380318,
          0.8368071245792087,
          0.4160418406091262,
          2.3259294956907732,
          0.6625347106516749,
          1.1190819353211914,
          -0.18104618713916434,
          -0.01837031625668125,
          0.4562313734425662,
          -0.7531440947132809,
          -0.9683539960380266,
          -0.10537954212188595,
          -0.6149617031626683,
          -0.04292467163872477,
          -0.18099266235163322,
          -0.33022789800633723,
          0.9596997277449528,
          0.12471184363949661,
          0.522556467422449,
          0.871303923310238,
          -1.4661486934626757,
          0.24887468376197597,
          2.256319398182052,
          1.16405886946189,
          0.5128261275993566,
          -0.768220685178201,
          -0.09127765202544696,
          -1.0973940577290768,
          -0.9682176998418792
         ],
         "xaxis": "x15",
         "y": [
          0.4014918667753453,
          -1.0527835785103015,
          0.6783187881078234,
          0.7649936889727516,
          -1.1274163808466917,
          0.23231053135724067,
          -0.6234847256031335,
          0.5177435401456703,
          -1.3497744575101418,
          -0.9445947799978384,
          0.9993230603164184,
          -0.32813659124069827,
          -2.4873454326976416,
          0.23373081431391704,
          -1.2698236657889295,
          -1.0819958194740864,
          0.48944497238523554,
          -0.0870913581820666,
          0.4520894854769399,
          0.3685869778498855,
          -0.018623861888844594,
          -0.7361625385230917,
          -0.9379072634960933,
          -0.43271162020157156,
          0.5717431862977355,
          -1.0863445421513354,
          0.6895465419898549,
          -0.02104765288212073,
          0.21044849744988786,
          -0.21060376326527153,
          -0.1751901167494546,
          2.4267729695171383,
          1.1144251258610327,
          0.6088822364466963,
          1.0742530678495064,
          -1.673162766707186,
          0.8141293794284068,
          -0.671250126501007,
          -0.1119807844623894,
          0.6827059956836821,
          -2.0086429350470563,
          -0.3182967446586569,
          0.7566624514615232,
          -0.25674945298533824,
          0.5397642656518596,
          -2.1227957924654897,
          1.5314276962262283,
          1.4919611694698254,
          1.269574054782094,
          -1.0916311869393023,
          -0.3437996306930975,
          1.4347510492864688,
          1.2762427379159493,
          0.21416609162142103,
          -0.197175852514856,
          0.3223939268519974,
          0.4770435887408125,
          -1.2437863927715238,
          0.026588683601995435,
          0.32869167896277063,
          1.5214987121045702,
          0.821282750843137,
          0.4796940104196587,
          -0.8907667152685849,
          0.537578488866459,
          0.4846947974682395,
          -0.8342563397109818,
          0.9012246659006108,
          -0.031084575491218874,
          -0.4390259765356436,
          2.6497943870848877,
          0.15636182258080236,
          -0.04297633147906922,
          0.09414708464977088,
          -1.2680837159614444,
          -0.331002953982354,
          0.6895397124327335,
          -0.8093776634653645,
          -2.0170703969219725,
          0.33936665036701874,
          0.6943810852290068,
          0.624720221317302,
          0.5049175711349475,
          -0.11540280204630413,
          0.27341016033136567,
          0.8854226746417551,
          -0.3493524737887093,
          0.00017440721187257863,
          0.4571801241143655,
          -1.0474263154899806,
          -0.06046386609324998,
          -0.6420828131993251,
          -0.6128988878340906,
          0.8707626928414187,
          0.779901154494852,
          -0.762949383763312,
          -0.3161555736028018,
          0.9312707513336201,
          0.2176505285610799,
          -0.2166411172749589
         ],
         "yaxis": "y15"
        },
        {
         "histfunc": "count",
         "histnorm": "",
         "marker": {
          "color": "rgba(128, 0, 128, 1.0)",
          "line": {
           "color": "#4D5663",
           "width": 1.3
          }
         },
         "name": "D",
         "nbinsx": 10,
         "opacity": 0.8,
         "orientation": "v",
         "type": "histogram",
         "x": [
          0.4014918667753453,
          -1.0527835785103015,
          0.6783187881078234,
          0.7649936889727516,
          -1.1274163808466917,
          0.23231053135724067,
          -0.6234847256031335,
          0.5177435401456703,
          -1.3497744575101418,
          -0.9445947799978384,
          0.9993230603164184,
          -0.32813659124069827,
          -2.4873454326976416,
          0.23373081431391704,
          -1.2698236657889295,
          -1.0819958194740864,
          0.48944497238523554,
          -0.0870913581820666,
          0.4520894854769399,
          0.3685869778498855,
          -0.018623861888844594,
          -0.7361625385230917,
          -0.9379072634960933,
          -0.43271162020157156,
          0.5717431862977355,
          -1.0863445421513354,
          0.6895465419898549,
          -0.02104765288212073,
          0.21044849744988786,
          -0.21060376326527153,
          -0.1751901167494546,
          2.4267729695171383,
          1.1144251258610327,
          0.6088822364466963,
          1.0742530678495064,
          -1.673162766707186,
          0.8141293794284068,
          -0.671250126501007,
          -0.1119807844623894,
          0.6827059956836821,
          -2.0086429350470563,
          -0.3182967446586569,
          0.7566624514615232,
          -0.25674945298533824,
          0.5397642656518596,
          -2.1227957924654897,
          1.5314276962262283,
          1.4919611694698254,
          1.269574054782094,
          -1.0916311869393023,
          -0.3437996306930975,
          1.4347510492864688,
          1.2762427379159493,
          0.21416609162142103,
          -0.197175852514856,
          0.3223939268519974,
          0.4770435887408125,
          -1.2437863927715238,
          0.026588683601995435,
          0.32869167896277063,
          1.5214987121045702,
          0.821282750843137,
          0.4796940104196587,
          -0.8907667152685849,
          0.537578488866459,
          0.4846947974682395,
          -0.8342563397109818,
          0.9012246659006108,
          -0.031084575491218874,
          -0.4390259765356436,
          2.6497943870848877,
          0.15636182258080236,
          -0.04297633147906922,
          0.09414708464977088,
          -1.2680837159614444,
          -0.331002953982354,
          0.6895397124327335,
          -0.8093776634653645,
          -2.0170703969219725,
          0.33936665036701874,
          0.6943810852290068,
          0.624720221317302,
          0.5049175711349475,
          -0.11540280204630413,
          0.27341016033136567,
          0.8854226746417551,
          -0.3493524737887093,
          0.00017440721187257863,
          0.4571801241143655,
          -1.0474263154899806,
          -0.06046386609324998,
          -0.6420828131993251,
          -0.6128988878340906,
          0.8707626928414187,
          0.779901154494852,
          -0.762949383763312,
          -0.3161555736028018,
          0.9312707513336201,
          0.2176505285610799,
          -0.2166411172749589
         ],
         "xaxis": "x16",
         "yaxis": "y16"
        }
       ],
       "layout": {
        "bargap": 0.02,
        "legend": {
         "bgcolor": "#F5F6F9",
         "font": {
          "color": "#4D5663"
         }
        },
        "paper_bgcolor": "#F5F6F9",
        "plot_bgcolor": "#F5F6F9",
        "showlegend": false,
        "template": {
         "data": {
          "bar": [
           {
            "error_x": {
             "color": "#2a3f5f"
            },
            "error_y": {
             "color": "#2a3f5f"
            },
            "marker": {
             "line": {
              "color": "#E5ECF6",
              "width": 0.5
             }
            },
            "type": "bar"
           }
          ],
          "barpolar": [
           {
            "marker": {
             "line": {
              "color": "#E5ECF6",
              "width": 0.5
             }
            },
            "type": "barpolar"
           }
          ],
          "carpet": [
           {
            "aaxis": {
             "endlinecolor": "#2a3f5f",
             "gridcolor": "white",
             "linecolor": "white",
             "minorgridcolor": "white",
             "startlinecolor": "#2a3f5f"
            },
            "baxis": {
             "endlinecolor": "#2a3f5f",
             "gridcolor": "white",
             "linecolor": "white",
             "minorgridcolor": "white",
             "startlinecolor": "#2a3f5f"
            },
            "type": "carpet"
           }
          ],
          "choropleth": [
           {
            "colorbar": {
             "outlinewidth": 0,
             "ticks": ""
            },
            "type": "choropleth"
           }
          ],
          "contour": [
           {
            "colorbar": {
             "outlinewidth": 0,
             "ticks": ""
            },
            "colorscale": [
             [
              0,
              "#0d0887"
             ],
             [
              0.1111111111111111,
              "#46039f"
             ],
             [
              0.2222222222222222,
              "#7201a8"
             ],
             [
              0.3333333333333333,
              "#9c179e"
             ],
             [
              0.4444444444444444,
              "#bd3786"
             ],
             [
              0.5555555555555556,
              "#d8576b"
             ],
             [
              0.6666666666666666,
              "#ed7953"
             ],
             [
              0.7777777777777778,
              "#fb9f3a"
             ],
             [
              0.8888888888888888,
              "#fdca26"
             ],
             [
              1,
              "#f0f921"
             ]
            ],
            "type": "contour"
           }
          ],
          "contourcarpet": [
           {
            "colorbar": {
             "outlinewidth": 0,
             "ticks": ""
            },
            "type": "contourcarpet"
           }
          ],
          "heatmap": [
           {
            "colorbar": {
             "outlinewidth": 0,
             "ticks": ""
            },
            "colorscale": [
             [
              0,
              "#0d0887"
             ],
             [
              0.1111111111111111,
              "#46039f"
             ],
             [
              0.2222222222222222,
              "#7201a8"
             ],
             [
              0.3333333333333333,
              "#9c179e"
             ],
             [
              0.4444444444444444,
              "#bd3786"
             ],
             [
              0.5555555555555556,
              "#d8576b"
             ],
             [
              0.6666666666666666,
              "#ed7953"
             ],
             [
              0.7777777777777778,
              "#fb9f3a"
             ],
             [
              0.8888888888888888,
              "#fdca26"
             ],
             [
              1,
              "#f0f921"
             ]
            ],
            "type": "heatmap"
           }
          ],
          "heatmapgl": [
           {
            "colorbar": {
             "outlinewidth": 0,
             "ticks": ""
            },
            "colorscale": [
             [
              0,
              "#0d0887"
             ],
             [
              0.1111111111111111,
              "#46039f"
             ],
             [
              0.2222222222222222,
              "#7201a8"
             ],
             [
              0.3333333333333333,
              "#9c179e"
             ],
             [
              0.4444444444444444,
              "#bd3786"
             ],
             [
              0.5555555555555556,
              "#d8576b"
             ],
             [
              0.6666666666666666,
              "#ed7953"
             ],
             [
              0.7777777777777778,
              "#fb9f3a"
             ],
             [
              0.8888888888888888,
              "#fdca26"
             ],
             [
              1,
              "#f0f921"
             ]
            ],
            "type": "heatmapgl"
           }
          ],
          "histogram": [
           {
            "marker": {
             "colorbar": {
              "outlinewidth": 0,
              "ticks": ""
             }
            },
            "type": "histogram"
           }
          ],
          "histogram2d": [
           {
            "colorbar": {
             "outlinewidth": 0,
             "ticks": ""
            },
            "colorscale": [
             [
              0,
              "#0d0887"
             ],
             [
              0.1111111111111111,
              "#46039f"
             ],
             [
              0.2222222222222222,
              "#7201a8"
             ],
             [
              0.3333333333333333,
              "#9c179e"
             ],
             [
              0.4444444444444444,
              "#bd3786"
             ],
             [
              0.5555555555555556,
              "#d8576b"
             ],
             [
              0.6666666666666666,
              "#ed7953"
             ],
             [
              0.7777777777777778,
              "#fb9f3a"
             ],
             [
              0.8888888888888888,
              "#fdca26"
             ],
             [
              1,
              "#f0f921"
             ]
            ],
            "type": "histogram2d"
           }
          ],
          "histogram2dcontour": [
           {
            "colorbar": {
             "outlinewidth": 0,
             "ticks": ""
            },
            "colorscale": [
             [
              0,
              "#0d0887"
             ],
             [
              0.1111111111111111,
              "#46039f"
             ],
             [
              0.2222222222222222,
              "#7201a8"
             ],
             [
              0.3333333333333333,
              "#9c179e"
             ],
             [
              0.4444444444444444,
              "#bd3786"
             ],
             [
              0.5555555555555556,
              "#d8576b"
             ],
             [
              0.6666666666666666,
              "#ed7953"
             ],
             [
              0.7777777777777778,
              "#fb9f3a"
             ],
             [
              0.8888888888888888,
              "#fdca26"
             ],
             [
              1,
              "#f0f921"
             ]
            ],
            "type": "histogram2dcontour"
           }
          ],
          "mesh3d": [
           {
            "colorbar": {
             "outlinewidth": 0,
             "ticks": ""
            },
            "type": "mesh3d"
           }
          ],
          "parcoords": [
           {
            "line": {
             "colorbar": {
              "outlinewidth": 0,
              "ticks": ""
             }
            },
            "type": "parcoords"
           }
          ],
          "pie": [
           {
            "automargin": true,
            "type": "pie"
           }
          ],
          "scatter": [
           {
            "marker": {
             "colorbar": {
              "outlinewidth": 0,
              "ticks": ""
             }
            },
            "type": "scatter"
           }
          ],
          "scatter3d": [
           {
            "line": {
             "colorbar": {
              "outlinewidth": 0,
              "ticks": ""
             }
            },
            "marker": {
             "colorbar": {
              "outlinewidth": 0,
              "ticks": ""
             }
            },
            "type": "scatter3d"
           }
          ],
          "scattercarpet": [
           {
            "marker": {
             "colorbar": {
              "outlinewidth": 0,
              "ticks": ""
             }
            },
            "type": "scattercarpet"
           }
          ],
          "scattergeo": [
           {
            "marker": {
             "colorbar": {
              "outlinewidth": 0,
              "ticks": ""
             }
            },
            "type": "scattergeo"
           }
          ],
          "scattergl": [
           {
            "marker": {
             "colorbar": {
              "outlinewidth": 0,
              "ticks": ""
             }
            },
            "type": "scattergl"
           }
          ],
          "scattermapbox": [
           {
            "marker": {
             "colorbar": {
              "outlinewidth": 0,
              "ticks": ""
             }
            },
            "type": "scattermapbox"
           }
          ],
          "scatterpolar": [
           {
            "marker": {
             "colorbar": {
              "outlinewidth": 0,
              "ticks": ""
             }
            },
            "type": "scatterpolar"
           }
          ],
          "scatterpolargl": [
           {
            "marker": {
             "colorbar": {
              "outlinewidth": 0,
              "ticks": ""
             }
            },
            "type": "scatterpolargl"
           }
          ],
          "scatterternary": [
           {
            "marker": {
             "colorbar": {
              "outlinewidth": 0,
              "ticks": ""
             }
            },
            "type": "scatterternary"
           }
          ],
          "surface": [
           {
            "colorbar": {
             "outlinewidth": 0,
             "ticks": ""
            },
            "colorscale": [
             [
              0,
              "#0d0887"
             ],
             [
              0.1111111111111111,
              "#46039f"
             ],
             [
              0.2222222222222222,
              "#7201a8"
             ],
             [
              0.3333333333333333,
              "#9c179e"
             ],
             [
              0.4444444444444444,
              "#bd3786"
             ],
             [
              0.5555555555555556,
              "#d8576b"
             ],
             [
              0.6666666666666666,
              "#ed7953"
             ],
             [
              0.7777777777777778,
              "#fb9f3a"
             ],
             [
              0.8888888888888888,
              "#fdca26"
             ],
             [
              1,
              "#f0f921"
             ]
            ],
            "type": "surface"
           }
          ],
          "table": [
           {
            "cells": {
             "fill": {
              "color": "#EBF0F8"
             },
             "line": {
              "color": "white"
             }
            },
            "header": {
             "fill": {
              "color": "#C8D4E3"
             },
             "line": {
              "color": "white"
             }
            },
            "type": "table"
           }
          ]
         },
         "layout": {
          "annotationdefaults": {
           "arrowcolor": "#2a3f5f",
           "arrowhead": 0,
           "arrowwidth": 1
          },
          "coloraxis": {
           "colorbar": {
            "outlinewidth": 0,
            "ticks": ""
           }
          },
          "colorscale": {
           "diverging": [
            [
             0,
             "#8e0152"
            ],
            [
             0.1,
             "#c51b7d"
            ],
            [
             0.2,
             "#de77ae"
            ],
            [
             0.3,
             "#f1b6da"
            ],
            [
             0.4,
             "#fde0ef"
            ],
            [
             0.5,
             "#f7f7f7"
            ],
            [
             0.6,
             "#e6f5d0"
            ],
            [
             0.7,
             "#b8e186"
            ],
            [
             0.8,
             "#7fbc41"
            ],
            [
             0.9,
             "#4d9221"
            ],
            [
             1,
             "#276419"
            ]
           ],
           "sequential": [
            [
             0,
             "#0d0887"
            ],
            [
             0.1111111111111111,
             "#46039f"
            ],
            [
             0.2222222222222222,
             "#7201a8"
            ],
            [
             0.3333333333333333,
             "#9c179e"
            ],
            [
             0.4444444444444444,
             "#bd3786"
            ],
            [
             0.5555555555555556,
             "#d8576b"
            ],
            [
             0.6666666666666666,
             "#ed7953"
            ],
            [
             0.7777777777777778,
             "#fb9f3a"
            ],
            [
             0.8888888888888888,
             "#fdca26"
            ],
            [
             1,
             "#f0f921"
            ]
           ],
           "sequentialminus": [
            [
             0,
             "#0d0887"
            ],
            [
             0.1111111111111111,
             "#46039f"
            ],
            [
             0.2222222222222222,
             "#7201a8"
            ],
            [
             0.3333333333333333,
             "#9c179e"
            ],
            [
             0.4444444444444444,
             "#bd3786"
            ],
            [
             0.5555555555555556,
             "#d8576b"
            ],
            [
             0.6666666666666666,
             "#ed7953"
            ],
            [
             0.7777777777777778,
             "#fb9f3a"
            ],
            [
             0.8888888888888888,
             "#fdca26"
            ],
            [
             1,
             "#f0f921"
            ]
           ]
          },
          "colorway": [
           "#636efa",
           "#EF553B",
           "#00cc96",
           "#ab63fa",
           "#FFA15A",
           "#19d3f3",
           "#FF6692",
           "#B6E880",
           "#FF97FF",
           "#FECB52"
          ],
          "font": {
           "color": "#2a3f5f"
          },
          "geo": {
           "bgcolor": "white",
           "lakecolor": "white",
           "landcolor": "#E5ECF6",
           "showlakes": true,
           "showland": true,
           "subunitcolor": "white"
          },
          "hoverlabel": {
           "align": "left"
          },
          "hovermode": "closest",
          "mapbox": {
           "style": "light"
          },
          "paper_bgcolor": "white",
          "plot_bgcolor": "#E5ECF6",
          "polar": {
           "angularaxis": {
            "gridcolor": "white",
            "linecolor": "white",
            "ticks": ""
           },
           "bgcolor": "#E5ECF6",
           "radialaxis": {
            "gridcolor": "white",
            "linecolor": "white",
            "ticks": ""
           }
          },
          "scene": {
           "xaxis": {
            "backgroundcolor": "#E5ECF6",
            "gridcolor": "white",
            "gridwidth": 2,
            "linecolor": "white",
            "showbackground": true,
            "ticks": "",
            "zerolinecolor": "white"
           },
           "yaxis": {
            "backgroundcolor": "#E5ECF6",
            "gridcolor": "white",
            "gridwidth": 2,
            "linecolor": "white",
            "showbackground": true,
            "ticks": "",
            "zerolinecolor": "white"
           },
           "zaxis": {
            "backgroundcolor": "#E5ECF6",
            "gridcolor": "white",
            "gridwidth": 2,
            "linecolor": "white",
            "showbackground": true,
            "ticks": "",
            "zerolinecolor": "white"
           }
          },
          "shapedefaults": {
           "line": {
            "color": "#2a3f5f"
           }
          },
          "ternary": {
           "aaxis": {
            "gridcolor": "white",
            "linecolor": "white",
            "ticks": ""
           },
           "baxis": {
            "gridcolor": "white",
            "linecolor": "white",
            "ticks": ""
           },
           "bgcolor": "#E5ECF6",
           "caxis": {
            "gridcolor": "white",
            "linecolor": "white",
            "ticks": ""
           }
          },
          "title": {
           "x": 0.05
          },
          "xaxis": {
           "automargin": true,
           "gridcolor": "white",
           "linecolor": "white",
           "ticks": "",
           "title": {
            "standoff": 15
           },
           "zerolinecolor": "white",
           "zerolinewidth": 2
          },
          "yaxis": {
           "automargin": true,
           "gridcolor": "white",
           "linecolor": "white",
           "ticks": "",
           "title": {
            "standoff": 15
           },
           "zerolinecolor": "white",
           "zerolinewidth": 2
          }
         }
        },
        "title": {
         "font": {
          "color": "#4D5663"
         }
        },
        "xaxis": {
         "anchor": "y",
         "domain": [
          0,
          0.2125
         ],
         "gridcolor": "#E1E5ED",
         "showgrid": false,
         "tickfont": {
          "color": "#4D5663"
         },
         "title": {
          "font": {
           "color": "#4D5663"
          },
          "text": ""
         },
         "zerolinecolor": "#E1E5ED"
        },
        "xaxis10": {
         "anchor": "y10",
         "domain": [
          0.2625,
          0.475
         ],
         "gridcolor": "#E1E5ED",
         "showgrid": false,
         "tickfont": {
          "color": "#4D5663"
         },
         "title": {
          "font": {
           "color": "#4D5663"
          },
          "text": ""
         },
         "zerolinecolor": "#E1E5ED"
        },
        "xaxis11": {
         "anchor": "y11",
         "domain": [
          0.525,
          0.7375
         ],
         "gridcolor": "#E1E5ED",
         "showgrid": false,
         "tickfont": {
          "color": "#4D5663"
         },
         "title": {
          "font": {
           "color": "#4D5663"
          },
          "text": ""
         },
         "zerolinecolor": "#E1E5ED"
        },
        "xaxis12": {
         "anchor": "y12",
         "domain": [
          0.7875,
          1
         ],
         "gridcolor": "#E1E5ED",
         "showgrid": false,
         "tickfont": {
          "color": "#4D5663"
         },
         "title": {
          "font": {
           "color": "#4D5663"
          },
          "text": ""
         },
         "zerolinecolor": "#E1E5ED"
        },
        "xaxis13": {
         "anchor": "y13",
         "domain": [
          0,
          0.2125
         ],
         "gridcolor": "#E1E5ED",
         "showgrid": false,
         "tickfont": {
          "color": "#4D5663"
         },
         "title": {
          "font": {
           "color": "#4D5663"
          },
          "text": ""
         },
         "zerolinecolor": "#E1E5ED"
        },
        "xaxis14": {
         "anchor": "y14",
         "domain": [
          0.2625,
          0.475
         ],
         "gridcolor": "#E1E5ED",
         "showgrid": false,
         "tickfont": {
          "color": "#4D5663"
         },
         "title": {
          "font": {
           "color": "#4D5663"
          },
          "text": ""
         },
         "zerolinecolor": "#E1E5ED"
        },
        "xaxis15": {
         "anchor": "y15",
         "domain": [
          0.525,
          0.7375
         ],
         "gridcolor": "#E1E5ED",
         "showgrid": false,
         "tickfont": {
          "color": "#4D5663"
         },
         "title": {
          "font": {
           "color": "#4D5663"
          },
          "text": ""
         },
         "zerolinecolor": "#E1E5ED"
        },
        "xaxis16": {
         "anchor": "y16",
         "domain": [
          0.7875,
          1
         ],
         "gridcolor": "#E1E5ED",
         "showgrid": false,
         "tickfont": {
          "color": "#4D5663"
         },
         "title": {
          "font": {
           "color": "#4D5663"
          },
          "text": ""
         },
         "zerolinecolor": "#E1E5ED"
        },
        "xaxis2": {
         "anchor": "y2",
         "domain": [
          0.2625,
          0.475
         ],
         "gridcolor": "#E1E5ED",
         "showgrid": false,
         "tickfont": {
          "color": "#4D5663"
         },
         "title": {
          "font": {
           "color": "#4D5663"
          },
          "text": ""
         },
         "zerolinecolor": "#E1E5ED"
        },
        "xaxis3": {
         "anchor": "y3",
         "domain": [
          0.525,
          0.7375
         ],
         "gridcolor": "#E1E5ED",
         "showgrid": false,
         "tickfont": {
          "color": "#4D5663"
         },
         "title": {
          "font": {
           "color": "#4D5663"
          },
          "text": ""
         },
         "zerolinecolor": "#E1E5ED"
        },
        "xaxis4": {
         "anchor": "y4",
         "domain": [
          0.7875,
          1
         ],
         "gridcolor": "#E1E5ED",
         "showgrid": false,
         "tickfont": {
          "color": "#4D5663"
         },
         "title": {
          "font": {
           "color": "#4D5663"
          },
          "text": ""
         },
         "zerolinecolor": "#E1E5ED"
        },
        "xaxis5": {
         "anchor": "y5",
         "domain": [
          0,
          0.2125
         ],
         "gridcolor": "#E1E5ED",
         "showgrid": false,
         "tickfont": {
          "color": "#4D5663"
         },
         "title": {
          "font": {
           "color": "#4D5663"
          },
          "text": ""
         },
         "zerolinecolor": "#E1E5ED"
        },
        "xaxis6": {
         "anchor": "y6",
         "domain": [
          0.2625,
          0.475
         ],
         "gridcolor": "#E1E5ED",
         "showgrid": false,
         "tickfont": {
          "color": "#4D5663"
         },
         "title": {
          "font": {
           "color": "#4D5663"
          },
          "text": ""
         },
         "zerolinecolor": "#E1E5ED"
        },
        "xaxis7": {
         "anchor": "y7",
         "domain": [
          0.525,
          0.7375
         ],
         "gridcolor": "#E1E5ED",
         "showgrid": false,
         "tickfont": {
          "color": "#4D5663"
         },
         "title": {
          "font": {
           "color": "#4D5663"
          },
          "text": ""
         },
         "zerolinecolor": "#E1E5ED"
        },
        "xaxis8": {
         "anchor": "y8",
         "domain": [
          0.7875,
          1
         ],
         "gridcolor": "#E1E5ED",
         "showgrid": false,
         "tickfont": {
          "color": "#4D5663"
         },
         "title": {
          "font": {
           "color": "#4D5663"
          },
          "text": ""
         },
         "zerolinecolor": "#E1E5ED"
        },
        "xaxis9": {
         "anchor": "y9",
         "domain": [
          0,
          0.2125
         ],
         "gridcolor": "#E1E5ED",
         "showgrid": false,
         "tickfont": {
          "color": "#4D5663"
         },
         "title": {
          "font": {
           "color": "#4D5663"
          },
          "text": ""
         },
         "zerolinecolor": "#E1E5ED"
        },
        "yaxis": {
         "anchor": "x",
         "domain": [
          0.8025,
          1
         ],
         "gridcolor": "#E1E5ED",
         "showgrid": false,
         "tickfont": {
          "color": "#4D5663"
         },
         "title": {
          "font": {
           "color": "#4D5663"
          },
          "text": ""
         },
         "zerolinecolor": "#E1E5ED"
        },
        "yaxis10": {
         "anchor": "x10",
         "domain": [
          0.2675,
          0.465
         ],
         "gridcolor": "#E1E5ED",
         "showgrid": false,
         "tickfont": {
          "color": "#4D5663"
         },
         "title": {
          "font": {
           "color": "#4D5663"
          },
          "text": ""
         },
         "zerolinecolor": "#E1E5ED"
        },
        "yaxis11": {
         "anchor": "x11",
         "domain": [
          0.2675,
          0.465
         ],
         "gridcolor": "#E1E5ED",
         "showgrid": false,
         "tickfont": {
          "color": "#4D5663"
         },
         "title": {
          "font": {
           "color": "#4D5663"
          },
          "text": ""
         },
         "zerolinecolor": "#E1E5ED"
        },
        "yaxis12": {
         "anchor": "x12",
         "domain": [
          0.2675,
          0.465
         ],
         "gridcolor": "#E1E5ED",
         "showgrid": false,
         "tickfont": {
          "color": "#4D5663"
         },
         "title": {
          "font": {
           "color": "#4D5663"
          },
          "text": ""
         },
         "zerolinecolor": "#E1E5ED"
        },
        "yaxis13": {
         "anchor": "x13",
         "domain": [
          0,
          0.1975
         ],
         "gridcolor": "#E1E5ED",
         "showgrid": false,
         "tickfont": {
          "color": "#4D5663"
         },
         "title": {
          "font": {
           "color": "#4D5663"
          },
          "text": ""
         },
         "zerolinecolor": "#E1E5ED"
        },
        "yaxis14": {
         "anchor": "x14",
         "domain": [
          0,
          0.1975
         ],
         "gridcolor": "#E1E5ED",
         "showgrid": false,
         "tickfont": {
          "color": "#4D5663"
         },
         "title": {
          "font": {
           "color": "#4D5663"
          },
          "text": ""
         },
         "zerolinecolor": "#E1E5ED"
        },
        "yaxis15": {
         "anchor": "x15",
         "domain": [
          0,
          0.1975
         ],
         "gridcolor": "#E1E5ED",
         "showgrid": false,
         "tickfont": {
          "color": "#4D5663"
         },
         "title": {
          "font": {
           "color": "#4D5663"
          },
          "text": ""
         },
         "zerolinecolor": "#E1E5ED"
        },
        "yaxis16": {
         "anchor": "x16",
         "domain": [
          0,
          0.1975
         ],
         "gridcolor": "#E1E5ED",
         "showgrid": false,
         "tickfont": {
          "color": "#4D5663"
         },
         "title": {
          "font": {
           "color": "#4D5663"
          },
          "text": ""
         },
         "zerolinecolor": "#E1E5ED"
        },
        "yaxis2": {
         "anchor": "x2",
         "domain": [
          0.8025,
          1
         ],
         "gridcolor": "#E1E5ED",
         "showgrid": false,
         "tickfont": {
          "color": "#4D5663"
         },
         "title": {
          "font": {
           "color": "#4D5663"
          },
          "text": ""
         },
         "zerolinecolor": "#E1E5ED"
        },
        "yaxis3": {
         "anchor": "x3",
         "domain": [
          0.8025,
          1
         ],
         "gridcolor": "#E1E5ED",
         "showgrid": false,
         "tickfont": {
          "color": "#4D5663"
         },
         "title": {
          "font": {
           "color": "#4D5663"
          },
          "text": ""
         },
         "zerolinecolor": "#E1E5ED"
        },
        "yaxis4": {
         "anchor": "x4",
         "domain": [
          0.8025,
          1
         ],
         "gridcolor": "#E1E5ED",
         "showgrid": false,
         "tickfont": {
          "color": "#4D5663"
         },
         "title": {
          "font": {
           "color": "#4D5663"
          },
          "text": ""
         },
         "zerolinecolor": "#E1E5ED"
        },
        "yaxis5": {
         "anchor": "x5",
         "domain": [
          0.535,
          0.7325
         ],
         "gridcolor": "#E1E5ED",
         "showgrid": false,
         "tickfont": {
          "color": "#4D5663"
         },
         "title": {
          "font": {
           "color": "#4D5663"
          },
          "text": ""
         },
         "zerolinecolor": "#E1E5ED"
        },
        "yaxis6": {
         "anchor": "x6",
         "domain": [
          0.535,
          0.7325
         ],
         "gridcolor": "#E1E5ED",
         "showgrid": false,
         "tickfont": {
          "color": "#4D5663"
         },
         "title": {
          "font": {
           "color": "#4D5663"
          },
          "text": ""
         },
         "zerolinecolor": "#E1E5ED"
        },
        "yaxis7": {
         "anchor": "x7",
         "domain": [
          0.535,
          0.7325
         ],
         "gridcolor": "#E1E5ED",
         "showgrid": false,
         "tickfont": {
          "color": "#4D5663"
         },
         "title": {
          "font": {
           "color": "#4D5663"
          },
          "text": ""
         },
         "zerolinecolor": "#E1E5ED"
        },
        "yaxis8": {
         "anchor": "x8",
         "domain": [
          0.535,
          0.7325
         ],
         "gridcolor": "#E1E5ED",
         "showgrid": false,
         "tickfont": {
          "color": "#4D5663"
         },
         "title": {
          "font": {
           "color": "#4D5663"
          },
          "text": ""
         },
         "zerolinecolor": "#E1E5ED"
        },
        "yaxis9": {
         "anchor": "x9",
         "domain": [
          0.2675,
          0.465
         ],
         "gridcolor": "#E1E5ED",
         "showgrid": false,
         "tickfont": {
          "color": "#4D5663"
         },
         "title": {
          "font": {
           "color": "#4D5663"
          },
          "text": ""
         },
         "zerolinecolor": "#E1E5ED"
        }
       }
      },
      "text/html": [
       "<div>\n",
       "        \n",
       "        \n",
       "            <div id=\"2d72a256-152a-45da-a75d-25246b24d7cc\" class=\"plotly-graph-div\" style=\"height:525px; width:100%;\"></div>\n",
       "            <script type=\"text/javascript\">\n",
       "                require([\"plotly\"], function(Plotly) {\n",
       "                    window.PLOTLYENV=window.PLOTLYENV || {};\n",
       "                    window.PLOTLYENV.BASE_URL='https://plot.ly';\n",
       "                    \n",
       "                if (document.getElementById(\"2d72a256-152a-45da-a75d-25246b24d7cc\")) {\n",
       "                    Plotly.newPlot(\n",
       "                        '2d72a256-152a-45da-a75d-25246b24d7cc',\n",
       "                        [{\"histfunc\": \"count\", \"histnorm\": \"\", \"marker\": {\"color\": \"rgba(255, 153, 51, 1.0)\", \"line\": {\"color\": \"#4D5663\", \"width\": 1.3}}, \"name\": \"A\", \"nbinsx\": 10, \"opacity\": 0.8, \"orientation\": \"v\", \"type\": \"histogram\", \"x\": [-1.516267560230567, -1.9207884175074055, 1.0373966535124963, 0.14953510936685668, -3.999485447186093, 0.41440508516482133, 0.7429422015904862, -1.4289512487530127, 0.6905534850783236, 0.11506940258331375, 1.9618318262179413, 0.4820087067882209, 0.010833293229753694, -0.595929986198764, -2.113531329590608, 1.3475913692139152, -0.17027902129753222, -1.7647043330033494, -0.7618858921940336, -0.32990065514115696, 0.5275932665014055, -0.012597174270982791, 0.977197771133166, -0.32632061640685095, 0.08292817175283175, -0.8344479918217037, 1.568391586495905, 0.35928326522581105, -0.6938103952930875, 0.2879566156066621, 0.020560596221972264, -0.6608720159459609, -1.3379447458259173, 0.09976969555504292, -1.8342513136627003, 0.9586876894546607, -1.1058337722839024, 0.5406356582921222, -1.9079890868367126, 0.25673390912073035, -0.09844552196478548, 0.547433763312957, -1.2925028155368672, -1.0266178727650466, 1.1507359785118991, -0.4331137041199937, 0.3750983126336917, -0.956571917947313, -0.6306287050127768, 1.1658314936903746, 0.20727664611040933, -0.7125620965948533, -1.2329857567549423, -1.19301842269195, 0.7344866094623589, 0.24825131328164876, -0.0703592808778631, -0.3940635524410132, 0.8837620159811025, -0.5882788998946945, 0.857686324715227, -1.2759414075844788, 0.1849841116242509, -0.9889213556524264, 0.37665713077589197, 0.06736189675688638, 0.7757816466321904, 1.0197517246852932, 2.1963839769565587, 1.6228329344349806, -0.417307672140243, 0.4883689747400217, 1.0063943302757847, -0.641507073385344, 0.2592738354357245, -1.115946078959094, 0.4121599174934557, -0.5158597744247898, 1.1280022315312952, -0.3627082124069788, 0.7816328424346314, 1.1133691254531146, 1.776942182023018, -0.2100716526582734, -0.8832821040096712, 0.10615505370341051, -1.2015298986284144, -1.6001804881901893, -1.0807816016045844, -0.9463689237520007, -0.5501717411155009, 0.6915172170167367, 1.3927574947291392, -1.4420007770037622, 0.9858512592211613, -0.6690552083723248, -0.23614428440751595, -0.30191933616375166, 1.1650348858496635, 0.12403058093384871], \"xaxis\": \"x\", \"yaxis\": \"y\"}, {\"line\": {\"color\": \"rgba(128, 128, 128, 1.0)\", \"dash\": \"solid\", \"shape\": \"linear\", \"width\": 1.3}, \"marker\": {\"size\": 2, \"symbol\": \"circle\"}, \"mode\": \"markers\", \"name\": \"A\", \"text\": \"\", \"type\": \"scatter\", \"x\": [0.7560556932599837, 0.1861617358883027, -0.45946401974499407, 0.5363725650333798, -0.2826907049744466, 0.9869378586623979, -0.6293265326245278, 0.34986000372960885, -0.5320627851308627, -1.0447729626343751, -0.02070322248580189, 0.6798959897817697, 0.5763501818321275, 2.223053447818855, -0.8875788326999193, 0.1615787630842412, 0.3567709085089428, 0.5248938481707832, 0.9271245772107571, -0.7937188090872309, -0.6378307034357991, -0.17620310244789048, -0.23574356411919412, -1.527418059284275, -1.4533726991112783, -1.2953156503840655, 0.6210477547351118, 0.15506917930022304, 1.1950725809051264, -0.04247534795006339, 0.7659378064150684, -0.5615692618981515, 0.5737791878517139, -1.6006308572561425, -2.0333950285797724, 0.9346585456145193, 0.9488633527962949, -0.4745063070449874, -0.7734177445027147, 1.16465395450693, 1.4686285828616743, -0.7166223975541242, -1.2791480009837546, -1.3619596644254246, 0.7391929603399298, 1.1533967674155505, 0.3919443359002727, -0.9920921182175484, -0.9872936922072552, 0.9000315317637086, 0.004605680217882535, 0.1132365767180532, -2.435324506895573, -0.7597271181186379, -0.5264360772598415, -0.3121916127736122, 1.2307918201579024, 1.869523187447704, -0.8858686376106412, 0.543726783419556, -0.24643024780589254, -1.0030147432944985, -0.16165591281686184, 2.226299463444169, -0.9553257863435494, -0.29638314164963764, 3.0766450558184446, 0.5921688084872822, -0.5443244331161018, 0.34831653131719215, 0.07205649871924576, 1.6331107284138258, -0.5047645502368753, 1.9948204982562445, 0.24547203312160698, -0.27026650540474917, -0.08129411360953269, 0.5285605980807471, 0.5823235382880914, -0.2600138020280055, -0.16891644200176278, 0.1014571072555472, -0.3585139768204954, -1.6969407642537817, 0.9902414663906203, -0.7067845545991822, -1.3549550916722233, 0.3266717614722, 0.722908659201581, -0.48226300279897943, -2.6040444968163907, -1.1310424188559618, -2.016050162462118, -0.8432923110307549, 0.1718208037412506, -0.6124292996478096, -1.257773712778361, -1.6465683792803527, 0.14999425467185448, -0.24201883863756485], \"xaxis\": \"x2\", \"y\": [-1.516267560230567, -1.9207884175074055, 1.0373966535124963, 0.14953510936685668, -3.999485447186093, 0.41440508516482133, 0.7429422015904862, -1.4289512487530127, 0.6905534850783236, 0.11506940258331375, 1.9618318262179413, 0.4820087067882209, 0.010833293229753694, -0.595929986198764, -2.113531329590608, 1.3475913692139152, -0.17027902129753222, -1.7647043330033494, -0.7618858921940336, -0.32990065514115696, 0.5275932665014055, -0.012597174270982791, 0.977197771133166, -0.32632061640685095, 0.08292817175283175, -0.8344479918217037, 1.568391586495905, 0.35928326522581105, -0.6938103952930875, 0.2879566156066621, 0.020560596221972264, -0.6608720159459609, -1.3379447458259173, 0.09976969555504292, -1.8342513136627003, 0.9586876894546607, -1.1058337722839024, 0.5406356582921222, -1.9079890868367126, 0.25673390912073035, -0.09844552196478548, 0.547433763312957, -1.2925028155368672, -1.0266178727650466, 1.1507359785118991, -0.4331137041199937, 0.3750983126336917, -0.956571917947313, -0.6306287050127768, 1.1658314936903746, 0.20727664611040933, -0.7125620965948533, -1.2329857567549423, -1.19301842269195, 0.7344866094623589, 0.24825131328164876, -0.0703592808778631, -0.3940635524410132, 0.8837620159811025, -0.5882788998946945, 0.857686324715227, -1.2759414075844788, 0.1849841116242509, -0.9889213556524264, 0.37665713077589197, 0.06736189675688638, 0.7757816466321904, 1.0197517246852932, 2.1963839769565587, 1.6228329344349806, -0.417307672140243, 0.4883689747400217, 1.0063943302757847, -0.641507073385344, 0.2592738354357245, -1.115946078959094, 0.4121599174934557, -0.5158597744247898, 1.1280022315312952, -0.3627082124069788, 0.7816328424346314, 1.1133691254531146, 1.776942182023018, -0.2100716526582734, -0.8832821040096712, 0.10615505370341051, -1.2015298986284144, -1.6001804881901893, -1.0807816016045844, -0.9463689237520007, -0.5501717411155009, 0.6915172170167367, 1.3927574947291392, -1.4420007770037622, 0.9858512592211613, -0.6690552083723248, -0.23614428440751595, -0.30191933616375166, 1.1650348858496635, 0.12403058093384871], \"yaxis\": \"y2\"}, {\"line\": {\"color\": \"rgba(128, 128, 128, 1.0)\", \"dash\": \"solid\", \"shape\": \"linear\", \"width\": 1.3}, \"marker\": {\"size\": 2, \"symbol\": \"circle\"}, \"mode\": \"markers\", \"name\": \"A\", \"text\": \"\", \"type\": \"scatter\", \"x\": [0.8075329633556021, 1.1774280375163513, -0.6014210535259376, 0.07832612005513975, -1.7155009840661166, 0.7035414537135141, 0.8417927248686057, 0.3748580340476217, -0.304945229712358, 0.4211204380864479, 0.735136750654394, -0.2741375696064217, -0.9351479186335825, -1.1396293625847214, 0.6140068231092876, 0.3562576971054651, -0.7047026891394264, -0.9432943051102678, 0.7597156187613746, 0.8464495262910379, 0.6868534419181007, -0.8562197378807854, -0.5815031808440854, 0.051146836255641655, 1.367564231862464, -0.46229837263073564, 2.2475048457753886, -0.8619959017315432, -0.908873144834571, -0.39423141306929993, 0.1891999834297446, 1.3165420591801689, 0.3529560878107613, 1.05534709251322, 0.7731486762660107, 1.6042316111721489, -0.4105421652787086, 0.21597120648202386, -0.4048423743583727, -0.5410710325474366, 1.3029986750296814, -1.2216582067120945, -0.2877632187371062, 0.2864779198647285, 1.212951585281548, 0.6485129056737563, 0.18531217997808083, -0.680445857051702, 0.5170626300905937, -0.8328571848850191, 1.0089132907191372, 0.5605661111024343, -0.5418390448470031, -0.057394466151699276, -0.02762680605564009, -1.2589958382873707, 0.9175957862194427, 1.3027871559059288, -0.4184142964253094, -0.015556868338890308, -0.7472347864718828, -0.641803946445278, 1.0688577905407268, 0.2479386831831523, 0.8015844949247076, -0.7586268387861957, -0.38405669593162456, -0.8505493494111646, -0.42971382252105217, 0.5971083106876616, -1.1080763354452292, 0.9126658039380318, 0.8368071245792087, 0.4160418406091262, 2.3259294956907732, 0.6625347106516749, 1.1190819353211914, -0.18104618713916434, -0.01837031625668125, 0.4562313734425662, -0.7531440947132809, -0.9683539960380266, -0.10537954212188595, -0.6149617031626683, -0.04292467163872477, -0.18099266235163322, -0.33022789800633723, 0.9596997277449528, 0.12471184363949661, 0.522556467422449, 0.871303923310238, -1.4661486934626757, 0.24887468376197597, 2.256319398182052, 1.16405886946189, 0.5128261275993566, -0.768220685178201, -0.09127765202544696, -1.0973940577290768, -0.9682176998418792], \"xaxis\": \"x3\", \"y\": [-1.516267560230567, -1.9207884175074055, 1.0373966535124963, 0.14953510936685668, -3.999485447186093, 0.41440508516482133, 0.7429422015904862, -1.4289512487530127, 0.6905534850783236, 0.11506940258331375, 1.9618318262179413, 0.4820087067882209, 0.010833293229753694, -0.595929986198764, -2.113531329590608, 1.3475913692139152, -0.17027902129753222, -1.7647043330033494, -0.7618858921940336, -0.32990065514115696, 0.5275932665014055, -0.012597174270982791, 0.977197771133166, -0.32632061640685095, 0.08292817175283175, -0.8344479918217037, 1.568391586495905, 0.35928326522581105, -0.6938103952930875, 0.2879566156066621, 0.020560596221972264, -0.6608720159459609, -1.3379447458259173, 0.09976969555504292, -1.8342513136627003, 0.9586876894546607, -1.1058337722839024, 0.5406356582921222, -1.9079890868367126, 0.25673390912073035, -0.09844552196478548, 0.547433763312957, -1.2925028155368672, -1.0266178727650466, 1.1507359785118991, -0.4331137041199937, 0.3750983126336917, -0.956571917947313, -0.6306287050127768, 1.1658314936903746, 0.20727664611040933, -0.7125620965948533, -1.2329857567549423, -1.19301842269195, 0.7344866094623589, 0.24825131328164876, -0.0703592808778631, -0.3940635524410132, 0.8837620159811025, -0.5882788998946945, 0.857686324715227, -1.2759414075844788, 0.1849841116242509, -0.9889213556524264, 0.37665713077589197, 0.06736189675688638, 0.7757816466321904, 1.0197517246852932, 2.1963839769565587, 1.6228329344349806, -0.417307672140243, 0.4883689747400217, 1.0063943302757847, -0.641507073385344, 0.2592738354357245, -1.115946078959094, 0.4121599174934557, -0.5158597744247898, 1.1280022315312952, -0.3627082124069788, 0.7816328424346314, 1.1133691254531146, 1.776942182023018, -0.2100716526582734, -0.8832821040096712, 0.10615505370341051, -1.2015298986284144, -1.6001804881901893, -1.0807816016045844, -0.9463689237520007, -0.5501717411155009, 0.6915172170167367, 1.3927574947291392, -1.4420007770037622, 0.9858512592211613, -0.6690552083723248, -0.23614428440751595, -0.30191933616375166, 1.1650348858496635, 0.12403058093384871], \"yaxis\": \"y3\"}, {\"line\": {\"color\": \"rgba(128, 128, 128, 1.0)\", \"dash\": \"solid\", \"shape\": \"linear\", \"width\": 1.3}, \"marker\": {\"size\": 2, \"symbol\": \"circle\"}, \"mode\": \"markers\", \"name\": \"A\", \"text\": \"\", \"type\": \"scatter\", \"x\": [0.4014918667753453, -1.0527835785103015, 0.6783187881078234, 0.7649936889727516, -1.1274163808466917, 0.23231053135724067, -0.6234847256031335, 0.5177435401456703, -1.3497744575101418, -0.9445947799978384, 0.9993230603164184, -0.32813659124069827, -2.4873454326976416, 0.23373081431391704, -1.2698236657889295, -1.0819958194740864, 0.48944497238523554, -0.0870913581820666, 0.4520894854769399, 0.3685869778498855, -0.018623861888844594, -0.7361625385230917, -0.9379072634960933, -0.43271162020157156, 0.5717431862977355, -1.0863445421513354, 0.6895465419898549, -0.02104765288212073, 0.21044849744988786, -0.21060376326527153, -0.1751901167494546, 2.4267729695171383, 1.1144251258610327, 0.6088822364466963, 1.0742530678495064, -1.673162766707186, 0.8141293794284068, -0.671250126501007, -0.1119807844623894, 0.6827059956836821, -2.0086429350470563, -0.3182967446586569, 0.7566624514615232, -0.25674945298533824, 0.5397642656518596, -2.1227957924654897, 1.5314276962262283, 1.4919611694698254, 1.269574054782094, -1.0916311869393023, -0.3437996306930975, 1.4347510492864688, 1.2762427379159493, 0.21416609162142103, -0.197175852514856, 0.3223939268519974, 0.4770435887408125, -1.2437863927715238, 0.026588683601995435, 0.32869167896277063, 1.5214987121045702, 0.821282750843137, 0.4796940104196587, -0.8907667152685849, 0.537578488866459, 0.4846947974682395, -0.8342563397109818, 0.9012246659006108, -0.031084575491218874, -0.4390259765356436, 2.6497943870848877, 0.15636182258080236, -0.04297633147906922, 0.09414708464977088, -1.2680837159614444, -0.331002953982354, 0.6895397124327335, -0.8093776634653645, -2.0170703969219725, 0.33936665036701874, 0.6943810852290068, 0.624720221317302, 0.5049175711349475, -0.11540280204630413, 0.27341016033136567, 0.8854226746417551, -0.3493524737887093, 0.00017440721187257863, 0.4571801241143655, -1.0474263154899806, -0.06046386609324998, -0.6420828131993251, -0.6128988878340906, 0.8707626928414187, 0.779901154494852, -0.762949383763312, -0.3161555736028018, 0.9312707513336201, 0.2176505285610799, -0.2166411172749589], \"xaxis\": \"x4\", \"y\": [-1.516267560230567, -1.9207884175074055, 1.0373966535124963, 0.14953510936685668, -3.999485447186093, 0.41440508516482133, 0.7429422015904862, -1.4289512487530127, 0.6905534850783236, 0.11506940258331375, 1.9618318262179413, 0.4820087067882209, 0.010833293229753694, -0.595929986198764, -2.113531329590608, 1.3475913692139152, -0.17027902129753222, -1.7647043330033494, -0.7618858921940336, -0.32990065514115696, 0.5275932665014055, -0.012597174270982791, 0.977197771133166, -0.32632061640685095, 0.08292817175283175, -0.8344479918217037, 1.568391586495905, 0.35928326522581105, -0.6938103952930875, 0.2879566156066621, 0.020560596221972264, -0.6608720159459609, -1.3379447458259173, 0.09976969555504292, -1.8342513136627003, 0.9586876894546607, -1.1058337722839024, 0.5406356582921222, -1.9079890868367126, 0.25673390912073035, -0.09844552196478548, 0.547433763312957, -1.2925028155368672, -1.0266178727650466, 1.1507359785118991, -0.4331137041199937, 0.3750983126336917, -0.956571917947313, -0.6306287050127768, 1.1658314936903746, 0.20727664611040933, -0.7125620965948533, -1.2329857567549423, -1.19301842269195, 0.7344866094623589, 0.24825131328164876, -0.0703592808778631, -0.3940635524410132, 0.8837620159811025, -0.5882788998946945, 0.857686324715227, -1.2759414075844788, 0.1849841116242509, -0.9889213556524264, 0.37665713077589197, 0.06736189675688638, 0.7757816466321904, 1.0197517246852932, 2.1963839769565587, 1.6228329344349806, -0.417307672140243, 0.4883689747400217, 1.0063943302757847, -0.641507073385344, 0.2592738354357245, -1.115946078959094, 0.4121599174934557, -0.5158597744247898, 1.1280022315312952, -0.3627082124069788, 0.7816328424346314, 1.1133691254531146, 1.776942182023018, -0.2100716526582734, -0.8832821040096712, 0.10615505370341051, -1.2015298986284144, -1.6001804881901893, -1.0807816016045844, -0.9463689237520007, -0.5501717411155009, 0.6915172170167367, 1.3927574947291392, -1.4420007770037622, 0.9858512592211613, -0.6690552083723248, -0.23614428440751595, -0.30191933616375166, 1.1650348858496635, 0.12403058093384871], \"yaxis\": \"y4\"}, {\"line\": {\"color\": \"rgba(128, 128, 128, 1.0)\", \"dash\": \"solid\", \"shape\": \"linear\", \"width\": 1.3}, \"marker\": {\"size\": 2, \"symbol\": \"circle\"}, \"mode\": \"markers\", \"name\": \"B\", \"text\": \"\", \"type\": \"scatter\", \"x\": [-1.516267560230567, -1.9207884175074055, 1.0373966535124963, 0.14953510936685668, -3.999485447186093, 0.41440508516482133, 0.7429422015904862, -1.4289512487530127, 0.6905534850783236, 0.11506940258331375, 1.9618318262179413, 0.4820087067882209, 0.010833293229753694, -0.595929986198764, -2.113531329590608, 1.3475913692139152, -0.17027902129753222, -1.7647043330033494, -0.7618858921940336, -0.32990065514115696, 0.5275932665014055, -0.012597174270982791, 0.977197771133166, -0.32632061640685095, 0.08292817175283175, -0.8344479918217037, 1.568391586495905, 0.35928326522581105, -0.6938103952930875, 0.2879566156066621, 0.020560596221972264, -0.6608720159459609, -1.3379447458259173, 0.09976969555504292, -1.8342513136627003, 0.9586876894546607, -1.1058337722839024, 0.5406356582921222, -1.9079890868367126, 0.25673390912073035, -0.09844552196478548, 0.547433763312957, -1.2925028155368672, -1.0266178727650466, 1.1507359785118991, -0.4331137041199937, 0.3750983126336917, -0.956571917947313, -0.6306287050127768, 1.1658314936903746, 0.20727664611040933, -0.7125620965948533, -1.2329857567549423, -1.19301842269195, 0.7344866094623589, 0.24825131328164876, -0.0703592808778631, -0.3940635524410132, 0.8837620159811025, -0.5882788998946945, 0.857686324715227, -1.2759414075844788, 0.1849841116242509, -0.9889213556524264, 0.37665713077589197, 0.06736189675688638, 0.7757816466321904, 1.0197517246852932, 2.1963839769565587, 1.6228329344349806, -0.417307672140243, 0.4883689747400217, 1.0063943302757847, -0.641507073385344, 0.2592738354357245, -1.115946078959094, 0.4121599174934557, -0.5158597744247898, 1.1280022315312952, -0.3627082124069788, 0.7816328424346314, 1.1133691254531146, 1.776942182023018, -0.2100716526582734, -0.8832821040096712, 0.10615505370341051, -1.2015298986284144, -1.6001804881901893, -1.0807816016045844, -0.9463689237520007, -0.5501717411155009, 0.6915172170167367, 1.3927574947291392, -1.4420007770037622, 0.9858512592211613, -0.6690552083723248, -0.23614428440751595, -0.30191933616375166, 1.1650348858496635, 0.12403058093384871], \"xaxis\": \"x5\", \"y\": [0.7560556932599837, 0.1861617358883027, -0.45946401974499407, 0.5363725650333798, -0.2826907049744466, 0.9869378586623979, -0.6293265326245278, 0.34986000372960885, -0.5320627851308627, -1.0447729626343751, -0.02070322248580189, 0.6798959897817697, 0.5763501818321275, 2.223053447818855, -0.8875788326999193, 0.1615787630842412, 0.3567709085089428, 0.5248938481707832, 0.9271245772107571, -0.7937188090872309, -0.6378307034357991, -0.17620310244789048, -0.23574356411919412, -1.527418059284275, -1.4533726991112783, -1.2953156503840655, 0.6210477547351118, 0.15506917930022304, 1.1950725809051264, -0.04247534795006339, 0.7659378064150684, -0.5615692618981515, 0.5737791878517139, -1.6006308572561425, -2.0333950285797724, 0.9346585456145193, 0.9488633527962949, -0.4745063070449874, -0.7734177445027147, 1.16465395450693, 1.4686285828616743, -0.7166223975541242, -1.2791480009837546, -1.3619596644254246, 0.7391929603399298, 1.1533967674155505, 0.3919443359002727, -0.9920921182175484, -0.9872936922072552, 0.9000315317637086, 0.004605680217882535, 0.1132365767180532, -2.435324506895573, -0.7597271181186379, -0.5264360772598415, -0.3121916127736122, 1.2307918201579024, 1.869523187447704, -0.8858686376106412, 0.543726783419556, -0.24643024780589254, -1.0030147432944985, -0.16165591281686184, 2.226299463444169, -0.9553257863435494, -0.29638314164963764, 3.0766450558184446, 0.5921688084872822, -0.5443244331161018, 0.34831653131719215, 0.07205649871924576, 1.6331107284138258, -0.5047645502368753, 1.9948204982562445, 0.24547203312160698, -0.27026650540474917, -0.08129411360953269, 0.5285605980807471, 0.5823235382880914, -0.2600138020280055, -0.16891644200176278, 0.1014571072555472, -0.3585139768204954, -1.6969407642537817, 0.9902414663906203, -0.7067845545991822, -1.3549550916722233, 0.3266717614722, 0.722908659201581, -0.48226300279897943, -2.6040444968163907, -1.1310424188559618, -2.016050162462118, -0.8432923110307549, 0.1718208037412506, -0.6124292996478096, -1.257773712778361, -1.6465683792803527, 0.14999425467185448, -0.24201883863756485], \"yaxis\": \"y5\"}, {\"histfunc\": \"count\", \"histnorm\": \"\", \"marker\": {\"color\": \"rgba(55, 128, 191, 1.0)\", \"line\": {\"color\": \"#4D5663\", \"width\": 1.3}}, \"name\": \"B\", \"nbinsx\": 10, \"opacity\": 0.8, \"orientation\": \"v\", \"type\": \"histogram\", \"x\": [0.7560556932599837, 0.1861617358883027, -0.45946401974499407, 0.5363725650333798, -0.2826907049744466, 0.9869378586623979, -0.6293265326245278, 0.34986000372960885, -0.5320627851308627, -1.0447729626343751, -0.02070322248580189, 0.6798959897817697, 0.5763501818321275, 2.223053447818855, -0.8875788326999193, 0.1615787630842412, 0.3567709085089428, 0.5248938481707832, 0.9271245772107571, -0.7937188090872309, -0.6378307034357991, -0.17620310244789048, -0.23574356411919412, -1.527418059284275, -1.4533726991112783, -1.2953156503840655, 0.6210477547351118, 0.15506917930022304, 1.1950725809051264, -0.04247534795006339, 0.7659378064150684, -0.5615692618981515, 0.5737791878517139, -1.6006308572561425, -2.0333950285797724, 0.9346585456145193, 0.9488633527962949, -0.4745063070449874, -0.7734177445027147, 1.16465395450693, 1.4686285828616743, -0.7166223975541242, -1.2791480009837546, -1.3619596644254246, 0.7391929603399298, 1.1533967674155505, 0.3919443359002727, -0.9920921182175484, -0.9872936922072552, 0.9000315317637086, 0.004605680217882535, 0.1132365767180532, -2.435324506895573, -0.7597271181186379, -0.5264360772598415, -0.3121916127736122, 1.2307918201579024, 1.869523187447704, -0.8858686376106412, 0.543726783419556, -0.24643024780589254, -1.0030147432944985, -0.16165591281686184, 2.226299463444169, -0.9553257863435494, -0.29638314164963764, 3.0766450558184446, 0.5921688084872822, -0.5443244331161018, 0.34831653131719215, 0.07205649871924576, 1.6331107284138258, -0.5047645502368753, 1.9948204982562445, 0.24547203312160698, -0.27026650540474917, -0.08129411360953269, 0.5285605980807471, 0.5823235382880914, -0.2600138020280055, -0.16891644200176278, 0.1014571072555472, -0.3585139768204954, -1.6969407642537817, 0.9902414663906203, -0.7067845545991822, -1.3549550916722233, 0.3266717614722, 0.722908659201581, -0.48226300279897943, -2.6040444968163907, -1.1310424188559618, -2.016050162462118, -0.8432923110307549, 0.1718208037412506, -0.6124292996478096, -1.257773712778361, -1.6465683792803527, 0.14999425467185448, -0.24201883863756485], \"xaxis\": \"x6\", \"yaxis\": \"y6\"}, {\"line\": {\"color\": \"rgba(128, 128, 128, 1.0)\", \"dash\": \"solid\", \"shape\": \"linear\", \"width\": 1.3}, \"marker\": {\"size\": 2, \"symbol\": \"circle\"}, \"mode\": \"markers\", \"name\": \"B\", \"text\": \"\", \"type\": \"scatter\", \"x\": [0.8075329633556021, 1.1774280375163513, -0.6014210535259376, 0.07832612005513975, -1.7155009840661166, 0.7035414537135141, 0.8417927248686057, 0.3748580340476217, -0.304945229712358, 0.4211204380864479, 0.735136750654394, -0.2741375696064217, -0.9351479186335825, -1.1396293625847214, 0.6140068231092876, 0.3562576971054651, -0.7047026891394264, -0.9432943051102678, 0.7597156187613746, 0.8464495262910379, 0.6868534419181007, -0.8562197378807854, -0.5815031808440854, 0.051146836255641655, 1.367564231862464, -0.46229837263073564, 2.2475048457753886, -0.8619959017315432, -0.908873144834571, -0.39423141306929993, 0.1891999834297446, 1.3165420591801689, 0.3529560878107613, 1.05534709251322, 0.7731486762660107, 1.6042316111721489, -0.4105421652787086, 0.21597120648202386, -0.4048423743583727, -0.5410710325474366, 1.3029986750296814, -1.2216582067120945, -0.2877632187371062, 0.2864779198647285, 1.212951585281548, 0.6485129056737563, 0.18531217997808083, -0.680445857051702, 0.5170626300905937, -0.8328571848850191, 1.0089132907191372, 0.5605661111024343, -0.5418390448470031, -0.057394466151699276, -0.02762680605564009, -1.2589958382873707, 0.9175957862194427, 1.3027871559059288, -0.4184142964253094, -0.015556868338890308, -0.7472347864718828, -0.641803946445278, 1.0688577905407268, 0.2479386831831523, 0.8015844949247076, -0.7586268387861957, -0.38405669593162456, -0.8505493494111646, -0.42971382252105217, 0.5971083106876616, -1.1080763354452292, 0.9126658039380318, 0.8368071245792087, 0.4160418406091262, 2.3259294956907732, 0.6625347106516749, 1.1190819353211914, -0.18104618713916434, -0.01837031625668125, 0.4562313734425662, -0.7531440947132809, -0.9683539960380266, -0.10537954212188595, -0.6149617031626683, -0.04292467163872477, -0.18099266235163322, -0.33022789800633723, 0.9596997277449528, 0.12471184363949661, 0.522556467422449, 0.871303923310238, -1.4661486934626757, 0.24887468376197597, 2.256319398182052, 1.16405886946189, 0.5128261275993566, -0.768220685178201, -0.09127765202544696, -1.0973940577290768, -0.9682176998418792], \"xaxis\": \"x7\", \"y\": [0.7560556932599837, 0.1861617358883027, -0.45946401974499407, 0.5363725650333798, -0.2826907049744466, 0.9869378586623979, -0.6293265326245278, 0.34986000372960885, -0.5320627851308627, -1.0447729626343751, -0.02070322248580189, 0.6798959897817697, 0.5763501818321275, 2.223053447818855, -0.8875788326999193, 0.1615787630842412, 0.3567709085089428, 0.5248938481707832, 0.9271245772107571, -0.7937188090872309, -0.6378307034357991, -0.17620310244789048, -0.23574356411919412, -1.527418059284275, -1.4533726991112783, -1.2953156503840655, 0.6210477547351118, 0.15506917930022304, 1.1950725809051264, -0.04247534795006339, 0.7659378064150684, -0.5615692618981515, 0.5737791878517139, -1.6006308572561425, -2.0333950285797724, 0.9346585456145193, 0.9488633527962949, -0.4745063070449874, -0.7734177445027147, 1.16465395450693, 1.4686285828616743, -0.7166223975541242, -1.2791480009837546, -1.3619596644254246, 0.7391929603399298, 1.1533967674155505, 0.3919443359002727, -0.9920921182175484, -0.9872936922072552, 0.9000315317637086, 0.004605680217882535, 0.1132365767180532, -2.435324506895573, -0.7597271181186379, -0.5264360772598415, -0.3121916127736122, 1.2307918201579024, 1.869523187447704, -0.8858686376106412, 0.543726783419556, -0.24643024780589254, -1.0030147432944985, -0.16165591281686184, 2.226299463444169, -0.9553257863435494, -0.29638314164963764, 3.0766450558184446, 0.5921688084872822, -0.5443244331161018, 0.34831653131719215, 0.07205649871924576, 1.6331107284138258, -0.5047645502368753, 1.9948204982562445, 0.24547203312160698, -0.27026650540474917, -0.08129411360953269, 0.5285605980807471, 0.5823235382880914, -0.2600138020280055, -0.16891644200176278, 0.1014571072555472, -0.3585139768204954, -1.6969407642537817, 0.9902414663906203, -0.7067845545991822, -1.3549550916722233, 0.3266717614722, 0.722908659201581, -0.48226300279897943, -2.6040444968163907, -1.1310424188559618, -2.016050162462118, -0.8432923110307549, 0.1718208037412506, -0.6124292996478096, -1.257773712778361, -1.6465683792803527, 0.14999425467185448, -0.24201883863756485], \"yaxis\": \"y7\"}, {\"line\": {\"color\": \"rgba(128, 128, 128, 1.0)\", \"dash\": \"solid\", \"shape\": \"linear\", \"width\": 1.3}, \"marker\": {\"size\": 2, \"symbol\": \"circle\"}, \"mode\": \"markers\", \"name\": \"B\", \"text\": \"\", \"type\": \"scatter\", \"x\": [0.4014918667753453, -1.0527835785103015, 0.6783187881078234, 0.7649936889727516, -1.1274163808466917, 0.23231053135724067, -0.6234847256031335, 0.5177435401456703, -1.3497744575101418, -0.9445947799978384, 0.9993230603164184, -0.32813659124069827, -2.4873454326976416, 0.23373081431391704, -1.2698236657889295, -1.0819958194740864, 0.48944497238523554, -0.0870913581820666, 0.4520894854769399, 0.3685869778498855, -0.018623861888844594, -0.7361625385230917, -0.9379072634960933, -0.43271162020157156, 0.5717431862977355, -1.0863445421513354, 0.6895465419898549, -0.02104765288212073, 0.21044849744988786, -0.21060376326527153, -0.1751901167494546, 2.4267729695171383, 1.1144251258610327, 0.6088822364466963, 1.0742530678495064, -1.673162766707186, 0.8141293794284068, -0.671250126501007, -0.1119807844623894, 0.6827059956836821, -2.0086429350470563, -0.3182967446586569, 0.7566624514615232, -0.25674945298533824, 0.5397642656518596, -2.1227957924654897, 1.5314276962262283, 1.4919611694698254, 1.269574054782094, -1.0916311869393023, -0.3437996306930975, 1.4347510492864688, 1.2762427379159493, 0.21416609162142103, -0.197175852514856, 0.3223939268519974, 0.4770435887408125, -1.2437863927715238, 0.026588683601995435, 0.32869167896277063, 1.5214987121045702, 0.821282750843137, 0.4796940104196587, -0.8907667152685849, 0.537578488866459, 0.4846947974682395, -0.8342563397109818, 0.9012246659006108, -0.031084575491218874, -0.4390259765356436, 2.6497943870848877, 0.15636182258080236, -0.04297633147906922, 0.09414708464977088, -1.2680837159614444, -0.331002953982354, 0.6895397124327335, -0.8093776634653645, -2.0170703969219725, 0.33936665036701874, 0.6943810852290068, 0.624720221317302, 0.5049175711349475, -0.11540280204630413, 0.27341016033136567, 0.8854226746417551, -0.3493524737887093, 0.00017440721187257863, 0.4571801241143655, -1.0474263154899806, -0.06046386609324998, -0.6420828131993251, -0.6128988878340906, 0.8707626928414187, 0.779901154494852, -0.762949383763312, -0.3161555736028018, 0.9312707513336201, 0.2176505285610799, -0.2166411172749589], \"xaxis\": \"x8\", \"y\": [0.7560556932599837, 0.1861617358883027, -0.45946401974499407, 0.5363725650333798, -0.2826907049744466, 0.9869378586623979, -0.6293265326245278, 0.34986000372960885, -0.5320627851308627, -1.0447729626343751, -0.02070322248580189, 0.6798959897817697, 0.5763501818321275, 2.223053447818855, -0.8875788326999193, 0.1615787630842412, 0.3567709085089428, 0.5248938481707832, 0.9271245772107571, -0.7937188090872309, -0.6378307034357991, -0.17620310244789048, -0.23574356411919412, -1.527418059284275, -1.4533726991112783, -1.2953156503840655, 0.6210477547351118, 0.15506917930022304, 1.1950725809051264, -0.04247534795006339, 0.7659378064150684, -0.5615692618981515, 0.5737791878517139, -1.6006308572561425, -2.0333950285797724, 0.9346585456145193, 0.9488633527962949, -0.4745063070449874, -0.7734177445027147, 1.16465395450693, 1.4686285828616743, -0.7166223975541242, -1.2791480009837546, -1.3619596644254246, 0.7391929603399298, 1.1533967674155505, 0.3919443359002727, -0.9920921182175484, -0.9872936922072552, 0.9000315317637086, 0.004605680217882535, 0.1132365767180532, -2.435324506895573, -0.7597271181186379, -0.5264360772598415, -0.3121916127736122, 1.2307918201579024, 1.869523187447704, -0.8858686376106412, 0.543726783419556, -0.24643024780589254, -1.0030147432944985, -0.16165591281686184, 2.226299463444169, -0.9553257863435494, -0.29638314164963764, 3.0766450558184446, 0.5921688084872822, -0.5443244331161018, 0.34831653131719215, 0.07205649871924576, 1.6331107284138258, -0.5047645502368753, 1.9948204982562445, 0.24547203312160698, -0.27026650540474917, -0.08129411360953269, 0.5285605980807471, 0.5823235382880914, -0.2600138020280055, -0.16891644200176278, 0.1014571072555472, -0.3585139768204954, -1.6969407642537817, 0.9902414663906203, -0.7067845545991822, -1.3549550916722233, 0.3266717614722, 0.722908659201581, -0.48226300279897943, -2.6040444968163907, -1.1310424188559618, -2.016050162462118, -0.8432923110307549, 0.1718208037412506, -0.6124292996478096, -1.257773712778361, -1.6465683792803527, 0.14999425467185448, -0.24201883863756485], \"yaxis\": \"y8\"}, {\"line\": {\"color\": \"rgba(128, 128, 128, 1.0)\", \"dash\": \"solid\", \"shape\": \"linear\", \"width\": 1.3}, \"marker\": {\"size\": 2, \"symbol\": \"circle\"}, \"mode\": \"markers\", \"name\": \"C\", \"text\": \"\", \"type\": \"scatter\", \"x\": [-1.516267560230567, -1.9207884175074055, 1.0373966535124963, 0.14953510936685668, -3.999485447186093, 0.41440508516482133, 0.7429422015904862, -1.4289512487530127, 0.6905534850783236, 0.11506940258331375, 1.9618318262179413, 0.4820087067882209, 0.010833293229753694, -0.595929986198764, -2.113531329590608, 1.3475913692139152, -0.17027902129753222, -1.7647043330033494, -0.7618858921940336, -0.32990065514115696, 0.5275932665014055, -0.012597174270982791, 0.977197771133166, -0.32632061640685095, 0.08292817175283175, -0.8344479918217037, 1.568391586495905, 0.35928326522581105, -0.6938103952930875, 0.2879566156066621, 0.020560596221972264, -0.6608720159459609, -1.3379447458259173, 0.09976969555504292, -1.8342513136627003, 0.9586876894546607, -1.1058337722839024, 0.5406356582921222, -1.9079890868367126, 0.25673390912073035, -0.09844552196478548, 0.547433763312957, -1.2925028155368672, -1.0266178727650466, 1.1507359785118991, -0.4331137041199937, 0.3750983126336917, -0.956571917947313, -0.6306287050127768, 1.1658314936903746, 0.20727664611040933, -0.7125620965948533, -1.2329857567549423, -1.19301842269195, 0.7344866094623589, 0.24825131328164876, -0.0703592808778631, -0.3940635524410132, 0.8837620159811025, -0.5882788998946945, 0.857686324715227, -1.2759414075844788, 0.1849841116242509, -0.9889213556524264, 0.37665713077589197, 0.06736189675688638, 0.7757816466321904, 1.0197517246852932, 2.1963839769565587, 1.6228329344349806, -0.417307672140243, 0.4883689747400217, 1.0063943302757847, -0.641507073385344, 0.2592738354357245, -1.115946078959094, 0.4121599174934557, -0.5158597744247898, 1.1280022315312952, -0.3627082124069788, 0.7816328424346314, 1.1133691254531146, 1.776942182023018, -0.2100716526582734, -0.8832821040096712, 0.10615505370341051, -1.2015298986284144, -1.6001804881901893, -1.0807816016045844, -0.9463689237520007, -0.5501717411155009, 0.6915172170167367, 1.3927574947291392, -1.4420007770037622, 0.9858512592211613, -0.6690552083723248, -0.23614428440751595, -0.30191933616375166, 1.1650348858496635, 0.12403058093384871], \"xaxis\": \"x9\", \"y\": [0.8075329633556021, 1.1774280375163513, -0.6014210535259376, 0.07832612005513975, -1.7155009840661166, 0.7035414537135141, 0.8417927248686057, 0.3748580340476217, -0.304945229712358, 0.4211204380864479, 0.735136750654394, -0.2741375696064217, -0.9351479186335825, -1.1396293625847214, 0.6140068231092876, 0.3562576971054651, -0.7047026891394264, -0.9432943051102678, 0.7597156187613746, 0.8464495262910379, 0.6868534419181007, -0.8562197378807854, -0.5815031808440854, 0.051146836255641655, 1.367564231862464, -0.46229837263073564, 2.2475048457753886, -0.8619959017315432, -0.908873144834571, -0.39423141306929993, 0.1891999834297446, 1.3165420591801689, 0.3529560878107613, 1.05534709251322, 0.7731486762660107, 1.6042316111721489, -0.4105421652787086, 0.21597120648202386, -0.4048423743583727, -0.5410710325474366, 1.3029986750296814, -1.2216582067120945, -0.2877632187371062, 0.2864779198647285, 1.212951585281548, 0.6485129056737563, 0.18531217997808083, -0.680445857051702, 0.5170626300905937, -0.8328571848850191, 1.0089132907191372, 0.5605661111024343, -0.5418390448470031, -0.057394466151699276, -0.02762680605564009, -1.2589958382873707, 0.9175957862194427, 1.3027871559059288, -0.4184142964253094, -0.015556868338890308, -0.7472347864718828, -0.641803946445278, 1.0688577905407268, 0.2479386831831523, 0.8015844949247076, -0.7586268387861957, -0.38405669593162456, -0.8505493494111646, -0.42971382252105217, 0.5971083106876616, -1.1080763354452292, 0.9126658039380318, 0.8368071245792087, 0.4160418406091262, 2.3259294956907732, 0.6625347106516749, 1.1190819353211914, -0.18104618713916434, -0.01837031625668125, 0.4562313734425662, -0.7531440947132809, -0.9683539960380266, -0.10537954212188595, -0.6149617031626683, -0.04292467163872477, -0.18099266235163322, -0.33022789800633723, 0.9596997277449528, 0.12471184363949661, 0.522556467422449, 0.871303923310238, -1.4661486934626757, 0.24887468376197597, 2.256319398182052, 1.16405886946189, 0.5128261275993566, -0.768220685178201, -0.09127765202544696, -1.0973940577290768, -0.9682176998418792], \"yaxis\": \"y9\"}, {\"line\": {\"color\": \"rgba(128, 128, 128, 1.0)\", \"dash\": \"solid\", \"shape\": \"linear\", \"width\": 1.3}, \"marker\": {\"size\": 2, \"symbol\": \"circle\"}, \"mode\": \"markers\", \"name\": \"C\", \"text\": \"\", \"type\": \"scatter\", \"x\": [0.7560556932599837, 0.1861617358883027, -0.45946401974499407, 0.5363725650333798, -0.2826907049744466, 0.9869378586623979, -0.6293265326245278, 0.34986000372960885, -0.5320627851308627, -1.0447729626343751, -0.02070322248580189, 0.6798959897817697, 0.5763501818321275, 2.223053447818855, -0.8875788326999193, 0.1615787630842412, 0.3567709085089428, 0.5248938481707832, 0.9271245772107571, -0.7937188090872309, -0.6378307034357991, -0.17620310244789048, -0.23574356411919412, -1.527418059284275, -1.4533726991112783, -1.2953156503840655, 0.6210477547351118, 0.15506917930022304, 1.1950725809051264, -0.04247534795006339, 0.7659378064150684, -0.5615692618981515, 0.5737791878517139, -1.6006308572561425, -2.0333950285797724, 0.9346585456145193, 0.9488633527962949, -0.4745063070449874, -0.7734177445027147, 1.16465395450693, 1.4686285828616743, -0.7166223975541242, -1.2791480009837546, -1.3619596644254246, 0.7391929603399298, 1.1533967674155505, 0.3919443359002727, -0.9920921182175484, -0.9872936922072552, 0.9000315317637086, 0.004605680217882535, 0.1132365767180532, -2.435324506895573, -0.7597271181186379, -0.5264360772598415, -0.3121916127736122, 1.2307918201579024, 1.869523187447704, -0.8858686376106412, 0.543726783419556, -0.24643024780589254, -1.0030147432944985, -0.16165591281686184, 2.226299463444169, -0.9553257863435494, -0.29638314164963764, 3.0766450558184446, 0.5921688084872822, -0.5443244331161018, 0.34831653131719215, 0.07205649871924576, 1.6331107284138258, -0.5047645502368753, 1.9948204982562445, 0.24547203312160698, -0.27026650540474917, -0.08129411360953269, 0.5285605980807471, 0.5823235382880914, -0.2600138020280055, -0.16891644200176278, 0.1014571072555472, -0.3585139768204954, -1.6969407642537817, 0.9902414663906203, -0.7067845545991822, -1.3549550916722233, 0.3266717614722, 0.722908659201581, -0.48226300279897943, -2.6040444968163907, -1.1310424188559618, -2.016050162462118, -0.8432923110307549, 0.1718208037412506, -0.6124292996478096, -1.257773712778361, -1.6465683792803527, 0.14999425467185448, -0.24201883863756485], \"xaxis\": \"x10\", \"y\": [0.8075329633556021, 1.1774280375163513, -0.6014210535259376, 0.07832612005513975, -1.7155009840661166, 0.7035414537135141, 0.8417927248686057, 0.3748580340476217, -0.304945229712358, 0.4211204380864479, 0.735136750654394, -0.2741375696064217, -0.9351479186335825, -1.1396293625847214, 0.6140068231092876, 0.3562576971054651, -0.7047026891394264, -0.9432943051102678, 0.7597156187613746, 0.8464495262910379, 0.6868534419181007, -0.8562197378807854, -0.5815031808440854, 0.051146836255641655, 1.367564231862464, -0.46229837263073564, 2.2475048457753886, -0.8619959017315432, -0.908873144834571, -0.39423141306929993, 0.1891999834297446, 1.3165420591801689, 0.3529560878107613, 1.05534709251322, 0.7731486762660107, 1.6042316111721489, -0.4105421652787086, 0.21597120648202386, -0.4048423743583727, -0.5410710325474366, 1.3029986750296814, -1.2216582067120945, -0.2877632187371062, 0.2864779198647285, 1.212951585281548, 0.6485129056737563, 0.18531217997808083, -0.680445857051702, 0.5170626300905937, -0.8328571848850191, 1.0089132907191372, 0.5605661111024343, -0.5418390448470031, -0.057394466151699276, -0.02762680605564009, -1.2589958382873707, 0.9175957862194427, 1.3027871559059288, -0.4184142964253094, -0.015556868338890308, -0.7472347864718828, -0.641803946445278, 1.0688577905407268, 0.2479386831831523, 0.8015844949247076, -0.7586268387861957, -0.38405669593162456, -0.8505493494111646, -0.42971382252105217, 0.5971083106876616, -1.1080763354452292, 0.9126658039380318, 0.8368071245792087, 0.4160418406091262, 2.3259294956907732, 0.6625347106516749, 1.1190819353211914, -0.18104618713916434, -0.01837031625668125, 0.4562313734425662, -0.7531440947132809, -0.9683539960380266, -0.10537954212188595, -0.6149617031626683, -0.04292467163872477, -0.18099266235163322, -0.33022789800633723, 0.9596997277449528, 0.12471184363949661, 0.522556467422449, 0.871303923310238, -1.4661486934626757, 0.24887468376197597, 2.256319398182052, 1.16405886946189, 0.5128261275993566, -0.768220685178201, -0.09127765202544696, -1.0973940577290768, -0.9682176998418792], \"yaxis\": \"y10\"}, {\"histfunc\": \"count\", \"histnorm\": \"\", \"marker\": {\"color\": \"rgba(50, 171, 96, 1.0)\", \"line\": {\"color\": \"#4D5663\", \"width\": 1.3}}, \"name\": \"C\", \"nbinsx\": 10, \"opacity\": 0.8, \"orientation\": \"v\", \"type\": \"histogram\", \"x\": [0.8075329633556021, 1.1774280375163513, -0.6014210535259376, 0.07832612005513975, -1.7155009840661166, 0.7035414537135141, 0.8417927248686057, 0.3748580340476217, -0.304945229712358, 0.4211204380864479, 0.735136750654394, -0.2741375696064217, -0.9351479186335825, -1.1396293625847214, 0.6140068231092876, 0.3562576971054651, -0.7047026891394264, -0.9432943051102678, 0.7597156187613746, 0.8464495262910379, 0.6868534419181007, -0.8562197378807854, -0.5815031808440854, 0.051146836255641655, 1.367564231862464, -0.46229837263073564, 2.2475048457753886, -0.8619959017315432, -0.908873144834571, -0.39423141306929993, 0.1891999834297446, 1.3165420591801689, 0.3529560878107613, 1.05534709251322, 0.7731486762660107, 1.6042316111721489, -0.4105421652787086, 0.21597120648202386, -0.4048423743583727, -0.5410710325474366, 1.3029986750296814, -1.2216582067120945, -0.2877632187371062, 0.2864779198647285, 1.212951585281548, 0.6485129056737563, 0.18531217997808083, -0.680445857051702, 0.5170626300905937, -0.8328571848850191, 1.0089132907191372, 0.5605661111024343, -0.5418390448470031, -0.057394466151699276, -0.02762680605564009, -1.2589958382873707, 0.9175957862194427, 1.3027871559059288, -0.4184142964253094, -0.015556868338890308, -0.7472347864718828, -0.641803946445278, 1.0688577905407268, 0.2479386831831523, 0.8015844949247076, -0.7586268387861957, -0.38405669593162456, -0.8505493494111646, -0.42971382252105217, 0.5971083106876616, -1.1080763354452292, 0.9126658039380318, 0.8368071245792087, 0.4160418406091262, 2.3259294956907732, 0.6625347106516749, 1.1190819353211914, -0.18104618713916434, -0.01837031625668125, 0.4562313734425662, -0.7531440947132809, -0.9683539960380266, -0.10537954212188595, -0.6149617031626683, -0.04292467163872477, -0.18099266235163322, -0.33022789800633723, 0.9596997277449528, 0.12471184363949661, 0.522556467422449, 0.871303923310238, -1.4661486934626757, 0.24887468376197597, 2.256319398182052, 1.16405886946189, 0.5128261275993566, -0.768220685178201, -0.09127765202544696, -1.0973940577290768, -0.9682176998418792], \"xaxis\": \"x11\", \"yaxis\": \"y11\"}, {\"line\": {\"color\": \"rgba(128, 128, 128, 1.0)\", \"dash\": \"solid\", \"shape\": \"linear\", \"width\": 1.3}, \"marker\": {\"size\": 2, \"symbol\": \"circle\"}, \"mode\": \"markers\", \"name\": \"C\", \"text\": \"\", \"type\": \"scatter\", \"x\": [0.4014918667753453, -1.0527835785103015, 0.6783187881078234, 0.7649936889727516, -1.1274163808466917, 0.23231053135724067, -0.6234847256031335, 0.5177435401456703, -1.3497744575101418, -0.9445947799978384, 0.9993230603164184, -0.32813659124069827, -2.4873454326976416, 0.23373081431391704, -1.2698236657889295, -1.0819958194740864, 0.48944497238523554, -0.0870913581820666, 0.4520894854769399, 0.3685869778498855, -0.018623861888844594, -0.7361625385230917, -0.9379072634960933, -0.43271162020157156, 0.5717431862977355, -1.0863445421513354, 0.6895465419898549, -0.02104765288212073, 0.21044849744988786, -0.21060376326527153, -0.1751901167494546, 2.4267729695171383, 1.1144251258610327, 0.6088822364466963, 1.0742530678495064, -1.673162766707186, 0.8141293794284068, -0.671250126501007, -0.1119807844623894, 0.6827059956836821, -2.0086429350470563, -0.3182967446586569, 0.7566624514615232, -0.25674945298533824, 0.5397642656518596, -2.1227957924654897, 1.5314276962262283, 1.4919611694698254, 1.269574054782094, -1.0916311869393023, -0.3437996306930975, 1.4347510492864688, 1.2762427379159493, 0.21416609162142103, -0.197175852514856, 0.3223939268519974, 0.4770435887408125, -1.2437863927715238, 0.026588683601995435, 0.32869167896277063, 1.5214987121045702, 0.821282750843137, 0.4796940104196587, -0.8907667152685849, 0.537578488866459, 0.4846947974682395, -0.8342563397109818, 0.9012246659006108, -0.031084575491218874, -0.4390259765356436, 2.6497943870848877, 0.15636182258080236, -0.04297633147906922, 0.09414708464977088, -1.2680837159614444, -0.331002953982354, 0.6895397124327335, -0.8093776634653645, -2.0170703969219725, 0.33936665036701874, 0.6943810852290068, 0.624720221317302, 0.5049175711349475, -0.11540280204630413, 0.27341016033136567, 0.8854226746417551, -0.3493524737887093, 0.00017440721187257863, 0.4571801241143655, -1.0474263154899806, -0.06046386609324998, -0.6420828131993251, -0.6128988878340906, 0.8707626928414187, 0.779901154494852, -0.762949383763312, -0.3161555736028018, 0.9312707513336201, 0.2176505285610799, -0.2166411172749589], \"xaxis\": \"x12\", \"y\": [0.8075329633556021, 1.1774280375163513, -0.6014210535259376, 0.07832612005513975, -1.7155009840661166, 0.7035414537135141, 0.8417927248686057, 0.3748580340476217, -0.304945229712358, 0.4211204380864479, 0.735136750654394, -0.2741375696064217, -0.9351479186335825, -1.1396293625847214, 0.6140068231092876, 0.3562576971054651, -0.7047026891394264, -0.9432943051102678, 0.7597156187613746, 0.8464495262910379, 0.6868534419181007, -0.8562197378807854, -0.5815031808440854, 0.051146836255641655, 1.367564231862464, -0.46229837263073564, 2.2475048457753886, -0.8619959017315432, -0.908873144834571, -0.39423141306929993, 0.1891999834297446, 1.3165420591801689, 0.3529560878107613, 1.05534709251322, 0.7731486762660107, 1.6042316111721489, -0.4105421652787086, 0.21597120648202386, -0.4048423743583727, -0.5410710325474366, 1.3029986750296814, -1.2216582067120945, -0.2877632187371062, 0.2864779198647285, 1.212951585281548, 0.6485129056737563, 0.18531217997808083, -0.680445857051702, 0.5170626300905937, -0.8328571848850191, 1.0089132907191372, 0.5605661111024343, -0.5418390448470031, -0.057394466151699276, -0.02762680605564009, -1.2589958382873707, 0.9175957862194427, 1.3027871559059288, -0.4184142964253094, -0.015556868338890308, -0.7472347864718828, -0.641803946445278, 1.0688577905407268, 0.2479386831831523, 0.8015844949247076, -0.7586268387861957, -0.38405669593162456, -0.8505493494111646, -0.42971382252105217, 0.5971083106876616, -1.1080763354452292, 0.9126658039380318, 0.8368071245792087, 0.4160418406091262, 2.3259294956907732, 0.6625347106516749, 1.1190819353211914, -0.18104618713916434, -0.01837031625668125, 0.4562313734425662, -0.7531440947132809, -0.9683539960380266, -0.10537954212188595, -0.6149617031626683, -0.04292467163872477, -0.18099266235163322, -0.33022789800633723, 0.9596997277449528, 0.12471184363949661, 0.522556467422449, 0.871303923310238, -1.4661486934626757, 0.24887468376197597, 2.256319398182052, 1.16405886946189, 0.5128261275993566, -0.768220685178201, -0.09127765202544696, -1.0973940577290768, -0.9682176998418792], \"yaxis\": \"y12\"}, {\"line\": {\"color\": \"rgba(128, 128, 128, 1.0)\", \"dash\": \"solid\", \"shape\": \"linear\", \"width\": 1.3}, \"marker\": {\"size\": 2, \"symbol\": \"circle\"}, \"mode\": \"markers\", \"name\": \"D\", \"text\": \"\", \"type\": \"scatter\", \"x\": [-1.516267560230567, -1.9207884175074055, 1.0373966535124963, 0.14953510936685668, -3.999485447186093, 0.41440508516482133, 0.7429422015904862, -1.4289512487530127, 0.6905534850783236, 0.11506940258331375, 1.9618318262179413, 0.4820087067882209, 0.010833293229753694, -0.595929986198764, -2.113531329590608, 1.3475913692139152, -0.17027902129753222, -1.7647043330033494, -0.7618858921940336, -0.32990065514115696, 0.5275932665014055, -0.012597174270982791, 0.977197771133166, -0.32632061640685095, 0.08292817175283175, -0.8344479918217037, 1.568391586495905, 0.35928326522581105, -0.6938103952930875, 0.2879566156066621, 0.020560596221972264, -0.6608720159459609, -1.3379447458259173, 0.09976969555504292, -1.8342513136627003, 0.9586876894546607, -1.1058337722839024, 0.5406356582921222, -1.9079890868367126, 0.25673390912073035, -0.09844552196478548, 0.547433763312957, -1.2925028155368672, -1.0266178727650466, 1.1507359785118991, -0.4331137041199937, 0.3750983126336917, -0.956571917947313, -0.6306287050127768, 1.1658314936903746, 0.20727664611040933, -0.7125620965948533, -1.2329857567549423, -1.19301842269195, 0.7344866094623589, 0.24825131328164876, -0.0703592808778631, -0.3940635524410132, 0.8837620159811025, -0.5882788998946945, 0.857686324715227, -1.2759414075844788, 0.1849841116242509, -0.9889213556524264, 0.37665713077589197, 0.06736189675688638, 0.7757816466321904, 1.0197517246852932, 2.1963839769565587, 1.6228329344349806, -0.417307672140243, 0.4883689747400217, 1.0063943302757847, -0.641507073385344, 0.2592738354357245, -1.115946078959094, 0.4121599174934557, -0.5158597744247898, 1.1280022315312952, -0.3627082124069788, 0.7816328424346314, 1.1133691254531146, 1.776942182023018, -0.2100716526582734, -0.8832821040096712, 0.10615505370341051, -1.2015298986284144, -1.6001804881901893, -1.0807816016045844, -0.9463689237520007, -0.5501717411155009, 0.6915172170167367, 1.3927574947291392, -1.4420007770037622, 0.9858512592211613, -0.6690552083723248, -0.23614428440751595, -0.30191933616375166, 1.1650348858496635, 0.12403058093384871], \"xaxis\": \"x13\", \"y\": [0.4014918667753453, -1.0527835785103015, 0.6783187881078234, 0.7649936889727516, -1.1274163808466917, 0.23231053135724067, -0.6234847256031335, 0.5177435401456703, -1.3497744575101418, -0.9445947799978384, 0.9993230603164184, -0.32813659124069827, -2.4873454326976416, 0.23373081431391704, -1.2698236657889295, -1.0819958194740864, 0.48944497238523554, -0.0870913581820666, 0.4520894854769399, 0.3685869778498855, -0.018623861888844594, -0.7361625385230917, -0.9379072634960933, -0.43271162020157156, 0.5717431862977355, -1.0863445421513354, 0.6895465419898549, -0.02104765288212073, 0.21044849744988786, -0.21060376326527153, -0.1751901167494546, 2.4267729695171383, 1.1144251258610327, 0.6088822364466963, 1.0742530678495064, -1.673162766707186, 0.8141293794284068, -0.671250126501007, -0.1119807844623894, 0.6827059956836821, -2.0086429350470563, -0.3182967446586569, 0.7566624514615232, -0.25674945298533824, 0.5397642656518596, -2.1227957924654897, 1.5314276962262283, 1.4919611694698254, 1.269574054782094, -1.0916311869393023, -0.3437996306930975, 1.4347510492864688, 1.2762427379159493, 0.21416609162142103, -0.197175852514856, 0.3223939268519974, 0.4770435887408125, -1.2437863927715238, 0.026588683601995435, 0.32869167896277063, 1.5214987121045702, 0.821282750843137, 0.4796940104196587, -0.8907667152685849, 0.537578488866459, 0.4846947974682395, -0.8342563397109818, 0.9012246659006108, -0.031084575491218874, -0.4390259765356436, 2.6497943870848877, 0.15636182258080236, -0.04297633147906922, 0.09414708464977088, -1.2680837159614444, -0.331002953982354, 0.6895397124327335, -0.8093776634653645, -2.0170703969219725, 0.33936665036701874, 0.6943810852290068, 0.624720221317302, 0.5049175711349475, -0.11540280204630413, 0.27341016033136567, 0.8854226746417551, -0.3493524737887093, 0.00017440721187257863, 0.4571801241143655, -1.0474263154899806, -0.06046386609324998, -0.6420828131993251, -0.6128988878340906, 0.8707626928414187, 0.779901154494852, -0.762949383763312, -0.3161555736028018, 0.9312707513336201, 0.2176505285610799, -0.2166411172749589], \"yaxis\": \"y13\"}, {\"line\": {\"color\": \"rgba(128, 128, 128, 1.0)\", \"dash\": \"solid\", \"shape\": \"linear\", \"width\": 1.3}, \"marker\": {\"size\": 2, \"symbol\": \"circle\"}, \"mode\": \"markers\", \"name\": \"D\", \"text\": \"\", \"type\": \"scatter\", \"x\": [0.7560556932599837, 0.1861617358883027, -0.45946401974499407, 0.5363725650333798, -0.2826907049744466, 0.9869378586623979, -0.6293265326245278, 0.34986000372960885, -0.5320627851308627, -1.0447729626343751, -0.02070322248580189, 0.6798959897817697, 0.5763501818321275, 2.223053447818855, -0.8875788326999193, 0.1615787630842412, 0.3567709085089428, 0.5248938481707832, 0.9271245772107571, -0.7937188090872309, -0.6378307034357991, -0.17620310244789048, -0.23574356411919412, -1.527418059284275, -1.4533726991112783, -1.2953156503840655, 0.6210477547351118, 0.15506917930022304, 1.1950725809051264, -0.04247534795006339, 0.7659378064150684, -0.5615692618981515, 0.5737791878517139, -1.6006308572561425, -2.0333950285797724, 0.9346585456145193, 0.9488633527962949, -0.4745063070449874, -0.7734177445027147, 1.16465395450693, 1.4686285828616743, -0.7166223975541242, -1.2791480009837546, -1.3619596644254246, 0.7391929603399298, 1.1533967674155505, 0.3919443359002727, -0.9920921182175484, -0.9872936922072552, 0.9000315317637086, 0.004605680217882535, 0.1132365767180532, -2.435324506895573, -0.7597271181186379, -0.5264360772598415, -0.3121916127736122, 1.2307918201579024, 1.869523187447704, -0.8858686376106412, 0.543726783419556, -0.24643024780589254, -1.0030147432944985, -0.16165591281686184, 2.226299463444169, -0.9553257863435494, -0.29638314164963764, 3.0766450558184446, 0.5921688084872822, -0.5443244331161018, 0.34831653131719215, 0.07205649871924576, 1.6331107284138258, -0.5047645502368753, 1.9948204982562445, 0.24547203312160698, -0.27026650540474917, -0.08129411360953269, 0.5285605980807471, 0.5823235382880914, -0.2600138020280055, -0.16891644200176278, 0.1014571072555472, -0.3585139768204954, -1.6969407642537817, 0.9902414663906203, -0.7067845545991822, -1.3549550916722233, 0.3266717614722, 0.722908659201581, -0.48226300279897943, -2.6040444968163907, -1.1310424188559618, -2.016050162462118, -0.8432923110307549, 0.1718208037412506, -0.6124292996478096, -1.257773712778361, -1.6465683792803527, 0.14999425467185448, -0.24201883863756485], \"xaxis\": \"x14\", \"y\": [0.4014918667753453, -1.0527835785103015, 0.6783187881078234, 0.7649936889727516, -1.1274163808466917, 0.23231053135724067, -0.6234847256031335, 0.5177435401456703, -1.3497744575101418, -0.9445947799978384, 0.9993230603164184, -0.32813659124069827, -2.4873454326976416, 0.23373081431391704, -1.2698236657889295, -1.0819958194740864, 0.48944497238523554, -0.0870913581820666, 0.4520894854769399, 0.3685869778498855, -0.018623861888844594, -0.7361625385230917, -0.9379072634960933, -0.43271162020157156, 0.5717431862977355, -1.0863445421513354, 0.6895465419898549, -0.02104765288212073, 0.21044849744988786, -0.21060376326527153, -0.1751901167494546, 2.4267729695171383, 1.1144251258610327, 0.6088822364466963, 1.0742530678495064, -1.673162766707186, 0.8141293794284068, -0.671250126501007, -0.1119807844623894, 0.6827059956836821, -2.0086429350470563, -0.3182967446586569, 0.7566624514615232, -0.25674945298533824, 0.5397642656518596, -2.1227957924654897, 1.5314276962262283, 1.4919611694698254, 1.269574054782094, -1.0916311869393023, -0.3437996306930975, 1.4347510492864688, 1.2762427379159493, 0.21416609162142103, -0.197175852514856, 0.3223939268519974, 0.4770435887408125, -1.2437863927715238, 0.026588683601995435, 0.32869167896277063, 1.5214987121045702, 0.821282750843137, 0.4796940104196587, -0.8907667152685849, 0.537578488866459, 0.4846947974682395, -0.8342563397109818, 0.9012246659006108, -0.031084575491218874, -0.4390259765356436, 2.6497943870848877, 0.15636182258080236, -0.04297633147906922, 0.09414708464977088, -1.2680837159614444, -0.331002953982354, 0.6895397124327335, -0.8093776634653645, -2.0170703969219725, 0.33936665036701874, 0.6943810852290068, 0.624720221317302, 0.5049175711349475, -0.11540280204630413, 0.27341016033136567, 0.8854226746417551, -0.3493524737887093, 0.00017440721187257863, 0.4571801241143655, -1.0474263154899806, -0.06046386609324998, -0.6420828131993251, -0.6128988878340906, 0.8707626928414187, 0.779901154494852, -0.762949383763312, -0.3161555736028018, 0.9312707513336201, 0.2176505285610799, -0.2166411172749589], \"yaxis\": \"y14\"}, {\"line\": {\"color\": \"rgba(128, 128, 128, 1.0)\", \"dash\": \"solid\", \"shape\": \"linear\", \"width\": 1.3}, \"marker\": {\"size\": 2, \"symbol\": \"circle\"}, \"mode\": \"markers\", \"name\": \"D\", \"text\": \"\", \"type\": \"scatter\", \"x\": [0.8075329633556021, 1.1774280375163513, -0.6014210535259376, 0.07832612005513975, -1.7155009840661166, 0.7035414537135141, 0.8417927248686057, 0.3748580340476217, -0.304945229712358, 0.4211204380864479, 0.735136750654394, -0.2741375696064217, -0.9351479186335825, -1.1396293625847214, 0.6140068231092876, 0.3562576971054651, -0.7047026891394264, -0.9432943051102678, 0.7597156187613746, 0.8464495262910379, 0.6868534419181007, -0.8562197378807854, -0.5815031808440854, 0.051146836255641655, 1.367564231862464, -0.46229837263073564, 2.2475048457753886, -0.8619959017315432, -0.908873144834571, -0.39423141306929993, 0.1891999834297446, 1.3165420591801689, 0.3529560878107613, 1.05534709251322, 0.7731486762660107, 1.6042316111721489, -0.4105421652787086, 0.21597120648202386, -0.4048423743583727, -0.5410710325474366, 1.3029986750296814, -1.2216582067120945, -0.2877632187371062, 0.2864779198647285, 1.212951585281548, 0.6485129056737563, 0.18531217997808083, -0.680445857051702, 0.5170626300905937, -0.8328571848850191, 1.0089132907191372, 0.5605661111024343, -0.5418390448470031, -0.057394466151699276, -0.02762680605564009, -1.2589958382873707, 0.9175957862194427, 1.3027871559059288, -0.4184142964253094, -0.015556868338890308, -0.7472347864718828, -0.641803946445278, 1.0688577905407268, 0.2479386831831523, 0.8015844949247076, -0.7586268387861957, -0.38405669593162456, -0.8505493494111646, -0.42971382252105217, 0.5971083106876616, -1.1080763354452292, 0.9126658039380318, 0.8368071245792087, 0.4160418406091262, 2.3259294956907732, 0.6625347106516749, 1.1190819353211914, -0.18104618713916434, -0.01837031625668125, 0.4562313734425662, -0.7531440947132809, -0.9683539960380266, -0.10537954212188595, -0.6149617031626683, -0.04292467163872477, -0.18099266235163322, -0.33022789800633723, 0.9596997277449528, 0.12471184363949661, 0.522556467422449, 0.871303923310238, -1.4661486934626757, 0.24887468376197597, 2.256319398182052, 1.16405886946189, 0.5128261275993566, -0.768220685178201, -0.09127765202544696, -1.0973940577290768, -0.9682176998418792], \"xaxis\": \"x15\", \"y\": [0.4014918667753453, -1.0527835785103015, 0.6783187881078234, 0.7649936889727516, -1.1274163808466917, 0.23231053135724067, -0.6234847256031335, 0.5177435401456703, -1.3497744575101418, -0.9445947799978384, 0.9993230603164184, -0.32813659124069827, -2.4873454326976416, 0.23373081431391704, -1.2698236657889295, -1.0819958194740864, 0.48944497238523554, -0.0870913581820666, 0.4520894854769399, 0.3685869778498855, -0.018623861888844594, -0.7361625385230917, -0.9379072634960933, -0.43271162020157156, 0.5717431862977355, -1.0863445421513354, 0.6895465419898549, -0.02104765288212073, 0.21044849744988786, -0.21060376326527153, -0.1751901167494546, 2.4267729695171383, 1.1144251258610327, 0.6088822364466963, 1.0742530678495064, -1.673162766707186, 0.8141293794284068, -0.671250126501007, -0.1119807844623894, 0.6827059956836821, -2.0086429350470563, -0.3182967446586569, 0.7566624514615232, -0.25674945298533824, 0.5397642656518596, -2.1227957924654897, 1.5314276962262283, 1.4919611694698254, 1.269574054782094, -1.0916311869393023, -0.3437996306930975, 1.4347510492864688, 1.2762427379159493, 0.21416609162142103, -0.197175852514856, 0.3223939268519974, 0.4770435887408125, -1.2437863927715238, 0.026588683601995435, 0.32869167896277063, 1.5214987121045702, 0.821282750843137, 0.4796940104196587, -0.8907667152685849, 0.537578488866459, 0.4846947974682395, -0.8342563397109818, 0.9012246659006108, -0.031084575491218874, -0.4390259765356436, 2.6497943870848877, 0.15636182258080236, -0.04297633147906922, 0.09414708464977088, -1.2680837159614444, -0.331002953982354, 0.6895397124327335, -0.8093776634653645, -2.0170703969219725, 0.33936665036701874, 0.6943810852290068, 0.624720221317302, 0.5049175711349475, -0.11540280204630413, 0.27341016033136567, 0.8854226746417551, -0.3493524737887093, 0.00017440721187257863, 0.4571801241143655, -1.0474263154899806, -0.06046386609324998, -0.6420828131993251, -0.6128988878340906, 0.8707626928414187, 0.779901154494852, -0.762949383763312, -0.3161555736028018, 0.9312707513336201, 0.2176505285610799, -0.2166411172749589], \"yaxis\": \"y15\"}, {\"histfunc\": \"count\", \"histnorm\": \"\", \"marker\": {\"color\": \"rgba(128, 0, 128, 1.0)\", \"line\": {\"color\": \"#4D5663\", \"width\": 1.3}}, \"name\": \"D\", \"nbinsx\": 10, \"opacity\": 0.8, \"orientation\": \"v\", \"type\": \"histogram\", \"x\": [0.4014918667753453, -1.0527835785103015, 0.6783187881078234, 0.7649936889727516, -1.1274163808466917, 0.23231053135724067, -0.6234847256031335, 0.5177435401456703, -1.3497744575101418, -0.9445947799978384, 0.9993230603164184, -0.32813659124069827, -2.4873454326976416, 0.23373081431391704, -1.2698236657889295, -1.0819958194740864, 0.48944497238523554, -0.0870913581820666, 0.4520894854769399, 0.3685869778498855, -0.018623861888844594, -0.7361625385230917, -0.9379072634960933, -0.43271162020157156, 0.5717431862977355, -1.0863445421513354, 0.6895465419898549, -0.02104765288212073, 0.21044849744988786, -0.21060376326527153, -0.1751901167494546, 2.4267729695171383, 1.1144251258610327, 0.6088822364466963, 1.0742530678495064, -1.673162766707186, 0.8141293794284068, -0.671250126501007, -0.1119807844623894, 0.6827059956836821, -2.0086429350470563, -0.3182967446586569, 0.7566624514615232, -0.25674945298533824, 0.5397642656518596, -2.1227957924654897, 1.5314276962262283, 1.4919611694698254, 1.269574054782094, -1.0916311869393023, -0.3437996306930975, 1.4347510492864688, 1.2762427379159493, 0.21416609162142103, -0.197175852514856, 0.3223939268519974, 0.4770435887408125, -1.2437863927715238, 0.026588683601995435, 0.32869167896277063, 1.5214987121045702, 0.821282750843137, 0.4796940104196587, -0.8907667152685849, 0.537578488866459, 0.4846947974682395, -0.8342563397109818, 0.9012246659006108, -0.031084575491218874, -0.4390259765356436, 2.6497943870848877, 0.15636182258080236, -0.04297633147906922, 0.09414708464977088, -1.2680837159614444, -0.331002953982354, 0.6895397124327335, -0.8093776634653645, -2.0170703969219725, 0.33936665036701874, 0.6943810852290068, 0.624720221317302, 0.5049175711349475, -0.11540280204630413, 0.27341016033136567, 0.8854226746417551, -0.3493524737887093, 0.00017440721187257863, 0.4571801241143655, -1.0474263154899806, -0.06046386609324998, -0.6420828131993251, -0.6128988878340906, 0.8707626928414187, 0.779901154494852, -0.762949383763312, -0.3161555736028018, 0.9312707513336201, 0.2176505285610799, -0.2166411172749589], \"xaxis\": \"x16\", \"yaxis\": \"y16\"}],\n",
       "                        {\"bargap\": 0.02, \"legend\": {\"bgcolor\": \"#F5F6F9\", \"font\": {\"color\": \"#4D5663\"}}, \"paper_bgcolor\": \"#F5F6F9\", \"plot_bgcolor\": \"#F5F6F9\", \"showlegend\": false, \"template\": {\"data\": {\"bar\": [{\"error_x\": {\"color\": \"#2a3f5f\"}, \"error_y\": {\"color\": \"#2a3f5f\"}, \"marker\": {\"line\": {\"color\": \"#E5ECF6\", \"width\": 0.5}}, \"type\": \"bar\"}], \"barpolar\": [{\"marker\": {\"line\": {\"color\": \"#E5ECF6\", \"width\": 0.5}}, \"type\": \"barpolar\"}], \"carpet\": [{\"aaxis\": {\"endlinecolor\": \"#2a3f5f\", \"gridcolor\": \"white\", \"linecolor\": \"white\", \"minorgridcolor\": \"white\", \"startlinecolor\": \"#2a3f5f\"}, \"baxis\": {\"endlinecolor\": \"#2a3f5f\", \"gridcolor\": \"white\", \"linecolor\": \"white\", \"minorgridcolor\": \"white\", \"startlinecolor\": \"#2a3f5f\"}, \"type\": \"carpet\"}], \"choropleth\": [{\"colorbar\": {\"outlinewidth\": 0, \"ticks\": \"\"}, \"type\": \"choropleth\"}], \"contour\": [{\"colorbar\": {\"outlinewidth\": 0, \"ticks\": \"\"}, \"colorscale\": [[0.0, \"#0d0887\"], [0.1111111111111111, \"#46039f\"], [0.2222222222222222, \"#7201a8\"], [0.3333333333333333, \"#9c179e\"], [0.4444444444444444, \"#bd3786\"], [0.5555555555555556, \"#d8576b\"], [0.6666666666666666, \"#ed7953\"], [0.7777777777777778, \"#fb9f3a\"], [0.8888888888888888, \"#fdca26\"], [1.0, \"#f0f921\"]], \"type\": \"contour\"}], \"contourcarpet\": [{\"colorbar\": {\"outlinewidth\": 0, \"ticks\": \"\"}, \"type\": \"contourcarpet\"}], \"heatmap\": [{\"colorbar\": {\"outlinewidth\": 0, \"ticks\": \"\"}, \"colorscale\": [[0.0, \"#0d0887\"], [0.1111111111111111, \"#46039f\"], [0.2222222222222222, \"#7201a8\"], [0.3333333333333333, \"#9c179e\"], [0.4444444444444444, \"#bd3786\"], [0.5555555555555556, \"#d8576b\"], [0.6666666666666666, \"#ed7953\"], [0.7777777777777778, \"#fb9f3a\"], [0.8888888888888888, \"#fdca26\"], [1.0, \"#f0f921\"]], \"type\": \"heatmap\"}], \"heatmapgl\": [{\"colorbar\": {\"outlinewidth\": 0, \"ticks\": \"\"}, \"colorscale\": [[0.0, \"#0d0887\"], [0.1111111111111111, \"#46039f\"], [0.2222222222222222, \"#7201a8\"], [0.3333333333333333, \"#9c179e\"], [0.4444444444444444, \"#bd3786\"], [0.5555555555555556, \"#d8576b\"], [0.6666666666666666, \"#ed7953\"], [0.7777777777777778, \"#fb9f3a\"], [0.8888888888888888, \"#fdca26\"], [1.0, \"#f0f921\"]], \"type\": \"heatmapgl\"}], \"histogram\": [{\"marker\": {\"colorbar\": {\"outlinewidth\": 0, \"ticks\": \"\"}}, \"type\": \"histogram\"}], \"histogram2d\": [{\"colorbar\": {\"outlinewidth\": 0, \"ticks\": \"\"}, \"colorscale\": [[0.0, \"#0d0887\"], [0.1111111111111111, \"#46039f\"], [0.2222222222222222, \"#7201a8\"], [0.3333333333333333, \"#9c179e\"], [0.4444444444444444, \"#bd3786\"], [0.5555555555555556, \"#d8576b\"], [0.6666666666666666, \"#ed7953\"], [0.7777777777777778, \"#fb9f3a\"], [0.8888888888888888, \"#fdca26\"], [1.0, \"#f0f921\"]], \"type\": \"histogram2d\"}], \"histogram2dcontour\": [{\"colorbar\": {\"outlinewidth\": 0, \"ticks\": \"\"}, \"colorscale\": [[0.0, \"#0d0887\"], [0.1111111111111111, \"#46039f\"], [0.2222222222222222, \"#7201a8\"], [0.3333333333333333, \"#9c179e\"], [0.4444444444444444, \"#bd3786\"], [0.5555555555555556, \"#d8576b\"], [0.6666666666666666, \"#ed7953\"], [0.7777777777777778, \"#fb9f3a\"], [0.8888888888888888, \"#fdca26\"], [1.0, \"#f0f921\"]], \"type\": \"histogram2dcontour\"}], \"mesh3d\": [{\"colorbar\": {\"outlinewidth\": 0, \"ticks\": \"\"}, \"type\": \"mesh3d\"}], \"parcoords\": [{\"line\": {\"colorbar\": {\"outlinewidth\": 0, \"ticks\": \"\"}}, \"type\": \"parcoords\"}], \"pie\": [{\"automargin\": true, \"type\": \"pie\"}], \"scatter\": [{\"marker\": {\"colorbar\": {\"outlinewidth\": 0, \"ticks\": \"\"}}, \"type\": \"scatter\"}], \"scatter3d\": [{\"line\": {\"colorbar\": {\"outlinewidth\": 0, \"ticks\": \"\"}}, \"marker\": {\"colorbar\": {\"outlinewidth\": 0, \"ticks\": \"\"}}, \"type\": \"scatter3d\"}], \"scattercarpet\": [{\"marker\": {\"colorbar\": {\"outlinewidth\": 0, \"ticks\": \"\"}}, \"type\": \"scattercarpet\"}], \"scattergeo\": [{\"marker\": {\"colorbar\": {\"outlinewidth\": 0, \"ticks\": \"\"}}, \"type\": \"scattergeo\"}], \"scattergl\": [{\"marker\": {\"colorbar\": {\"outlinewidth\": 0, \"ticks\": \"\"}}, \"type\": \"scattergl\"}], \"scattermapbox\": [{\"marker\": {\"colorbar\": {\"outlinewidth\": 0, \"ticks\": \"\"}}, \"type\": \"scattermapbox\"}], \"scatterpolar\": [{\"marker\": {\"colorbar\": {\"outlinewidth\": 0, \"ticks\": \"\"}}, \"type\": \"scatterpolar\"}], \"scatterpolargl\": [{\"marker\": {\"colorbar\": {\"outlinewidth\": 0, \"ticks\": \"\"}}, \"type\": \"scatterpolargl\"}], \"scatterternary\": [{\"marker\": {\"colorbar\": {\"outlinewidth\": 0, \"ticks\": \"\"}}, \"type\": \"scatterternary\"}], \"surface\": [{\"colorbar\": {\"outlinewidth\": 0, \"ticks\": \"\"}, \"colorscale\": [[0.0, \"#0d0887\"], [0.1111111111111111, \"#46039f\"], [0.2222222222222222, \"#7201a8\"], [0.3333333333333333, \"#9c179e\"], [0.4444444444444444, \"#bd3786\"], [0.5555555555555556, \"#d8576b\"], [0.6666666666666666, \"#ed7953\"], [0.7777777777777778, \"#fb9f3a\"], [0.8888888888888888, \"#fdca26\"], [1.0, \"#f0f921\"]], \"type\": \"surface\"}], \"table\": [{\"cells\": {\"fill\": {\"color\": \"#EBF0F8\"}, \"line\": {\"color\": \"white\"}}, \"header\": {\"fill\": {\"color\": \"#C8D4E3\"}, \"line\": {\"color\": \"white\"}}, \"type\": \"table\"}]}, \"layout\": {\"annotationdefaults\": {\"arrowcolor\": \"#2a3f5f\", \"arrowhead\": 0, \"arrowwidth\": 1}, \"coloraxis\": {\"colorbar\": {\"outlinewidth\": 0, \"ticks\": \"\"}}, \"colorscale\": {\"diverging\": [[0, \"#8e0152\"], [0.1, \"#c51b7d\"], [0.2, \"#de77ae\"], [0.3, \"#f1b6da\"], [0.4, \"#fde0ef\"], [0.5, \"#f7f7f7\"], [0.6, \"#e6f5d0\"], [0.7, \"#b8e186\"], [0.8, \"#7fbc41\"], [0.9, \"#4d9221\"], [1, \"#276419\"]], \"sequential\": [[0.0, \"#0d0887\"], [0.1111111111111111, \"#46039f\"], [0.2222222222222222, \"#7201a8\"], [0.3333333333333333, \"#9c179e\"], [0.4444444444444444, \"#bd3786\"], [0.5555555555555556, \"#d8576b\"], [0.6666666666666666, \"#ed7953\"], [0.7777777777777778, \"#fb9f3a\"], [0.8888888888888888, \"#fdca26\"], [1.0, \"#f0f921\"]], \"sequentialminus\": [[0.0, \"#0d0887\"], [0.1111111111111111, \"#46039f\"], [0.2222222222222222, \"#7201a8\"], [0.3333333333333333, \"#9c179e\"], [0.4444444444444444, \"#bd3786\"], [0.5555555555555556, \"#d8576b\"], [0.6666666666666666, \"#ed7953\"], [0.7777777777777778, \"#fb9f3a\"], [0.8888888888888888, \"#fdca26\"], [1.0, \"#f0f921\"]]}, \"colorway\": [\"#636efa\", \"#EF553B\", \"#00cc96\", \"#ab63fa\", \"#FFA15A\", \"#19d3f3\", \"#FF6692\", \"#B6E880\", \"#FF97FF\", \"#FECB52\"], \"font\": {\"color\": \"#2a3f5f\"}, \"geo\": {\"bgcolor\": \"white\", \"lakecolor\": \"white\", \"landcolor\": \"#E5ECF6\", \"showlakes\": true, \"showland\": true, \"subunitcolor\": \"white\"}, \"hoverlabel\": {\"align\": \"left\"}, \"hovermode\": \"closest\", \"mapbox\": {\"style\": \"light\"}, \"paper_bgcolor\": \"white\", \"plot_bgcolor\": \"#E5ECF6\", \"polar\": {\"angularaxis\": {\"gridcolor\": \"white\", \"linecolor\": \"white\", \"ticks\": \"\"}, \"bgcolor\": \"#E5ECF6\", \"radialaxis\": {\"gridcolor\": \"white\", \"linecolor\": \"white\", \"ticks\": \"\"}}, \"scene\": {\"xaxis\": {\"backgroundcolor\": \"#E5ECF6\", \"gridcolor\": \"white\", \"gridwidth\": 2, \"linecolor\": \"white\", \"showbackground\": true, \"ticks\": \"\", \"zerolinecolor\": \"white\"}, \"yaxis\": {\"backgroundcolor\": \"#E5ECF6\", \"gridcolor\": \"white\", \"gridwidth\": 2, \"linecolor\": \"white\", \"showbackground\": true, \"ticks\": \"\", \"zerolinecolor\": \"white\"}, \"zaxis\": {\"backgroundcolor\": \"#E5ECF6\", \"gridcolor\": \"white\", \"gridwidth\": 2, \"linecolor\": \"white\", \"showbackground\": true, \"ticks\": \"\", \"zerolinecolor\": \"white\"}}, \"shapedefaults\": {\"line\": {\"color\": \"#2a3f5f\"}}, \"ternary\": {\"aaxis\": {\"gridcolor\": \"white\", \"linecolor\": \"white\", \"ticks\": \"\"}, \"baxis\": {\"gridcolor\": \"white\", \"linecolor\": \"white\", \"ticks\": \"\"}, \"bgcolor\": \"#E5ECF6\", \"caxis\": {\"gridcolor\": \"white\", \"linecolor\": \"white\", \"ticks\": \"\"}}, \"title\": {\"x\": 0.05}, \"xaxis\": {\"automargin\": true, \"gridcolor\": \"white\", \"linecolor\": \"white\", \"ticks\": \"\", \"title\": {\"standoff\": 15}, \"zerolinecolor\": \"white\", \"zerolinewidth\": 2}, \"yaxis\": {\"automargin\": true, \"gridcolor\": \"white\", \"linecolor\": \"white\", \"ticks\": \"\", \"title\": {\"standoff\": 15}, \"zerolinecolor\": \"white\", \"zerolinewidth\": 2}}}, \"title\": {\"font\": {\"color\": \"#4D5663\"}}, \"xaxis\": {\"anchor\": \"y\", \"domain\": [0.0, 0.2125], \"gridcolor\": \"#E1E5ED\", \"showgrid\": false, \"tickfont\": {\"color\": \"#4D5663\"}, \"title\": {\"font\": {\"color\": \"#4D5663\"}, \"text\": \"\"}, \"zerolinecolor\": \"#E1E5ED\"}, \"xaxis10\": {\"anchor\": \"y10\", \"domain\": [0.2625, 0.475], \"gridcolor\": \"#E1E5ED\", \"showgrid\": false, \"tickfont\": {\"color\": \"#4D5663\"}, \"title\": {\"font\": {\"color\": \"#4D5663\"}, \"text\": \"\"}, \"zerolinecolor\": \"#E1E5ED\"}, \"xaxis11\": {\"anchor\": \"y11\", \"domain\": [0.525, 0.7375], \"gridcolor\": \"#E1E5ED\", \"showgrid\": false, \"tickfont\": {\"color\": \"#4D5663\"}, \"title\": {\"font\": {\"color\": \"#4D5663\"}, \"text\": \"\"}, \"zerolinecolor\": \"#E1E5ED\"}, \"xaxis12\": {\"anchor\": \"y12\", \"domain\": [0.7875, 1.0], \"gridcolor\": \"#E1E5ED\", \"showgrid\": false, \"tickfont\": {\"color\": \"#4D5663\"}, \"title\": {\"font\": {\"color\": \"#4D5663\"}, \"text\": \"\"}, \"zerolinecolor\": \"#E1E5ED\"}, \"xaxis13\": {\"anchor\": \"y13\", \"domain\": [0.0, 0.2125], \"gridcolor\": \"#E1E5ED\", \"showgrid\": false, \"tickfont\": {\"color\": \"#4D5663\"}, \"title\": {\"font\": {\"color\": \"#4D5663\"}, \"text\": \"\"}, \"zerolinecolor\": \"#E1E5ED\"}, \"xaxis14\": {\"anchor\": \"y14\", \"domain\": [0.2625, 0.475], \"gridcolor\": \"#E1E5ED\", \"showgrid\": false, \"tickfont\": {\"color\": \"#4D5663\"}, \"title\": {\"font\": {\"color\": \"#4D5663\"}, \"text\": \"\"}, \"zerolinecolor\": \"#E1E5ED\"}, \"xaxis15\": {\"anchor\": \"y15\", \"domain\": [0.525, 0.7375], \"gridcolor\": \"#E1E5ED\", \"showgrid\": false, \"tickfont\": {\"color\": \"#4D5663\"}, \"title\": {\"font\": {\"color\": \"#4D5663\"}, \"text\": \"\"}, \"zerolinecolor\": \"#E1E5ED\"}, \"xaxis16\": {\"anchor\": \"y16\", \"domain\": [0.7875, 1.0], \"gridcolor\": \"#E1E5ED\", \"showgrid\": false, \"tickfont\": {\"color\": \"#4D5663\"}, \"title\": {\"font\": {\"color\": \"#4D5663\"}, \"text\": \"\"}, \"zerolinecolor\": \"#E1E5ED\"}, \"xaxis2\": {\"anchor\": \"y2\", \"domain\": [0.2625, 0.475], \"gridcolor\": \"#E1E5ED\", \"showgrid\": false, \"tickfont\": {\"color\": \"#4D5663\"}, \"title\": {\"font\": {\"color\": \"#4D5663\"}, \"text\": \"\"}, \"zerolinecolor\": \"#E1E5ED\"}, \"xaxis3\": {\"anchor\": \"y3\", \"domain\": [0.525, 0.7375], \"gridcolor\": \"#E1E5ED\", \"showgrid\": false, \"tickfont\": {\"color\": \"#4D5663\"}, \"title\": {\"font\": {\"color\": \"#4D5663\"}, \"text\": \"\"}, \"zerolinecolor\": \"#E1E5ED\"}, \"xaxis4\": {\"anchor\": \"y4\", \"domain\": [0.7875, 1.0], \"gridcolor\": \"#E1E5ED\", \"showgrid\": false, \"tickfont\": {\"color\": \"#4D5663\"}, \"title\": {\"font\": {\"color\": \"#4D5663\"}, \"text\": \"\"}, \"zerolinecolor\": \"#E1E5ED\"}, \"xaxis5\": {\"anchor\": \"y5\", \"domain\": [0.0, 0.2125], \"gridcolor\": \"#E1E5ED\", \"showgrid\": false, \"tickfont\": {\"color\": \"#4D5663\"}, \"title\": {\"font\": {\"color\": \"#4D5663\"}, \"text\": \"\"}, \"zerolinecolor\": \"#E1E5ED\"}, \"xaxis6\": {\"anchor\": \"y6\", \"domain\": [0.2625, 0.475], \"gridcolor\": \"#E1E5ED\", \"showgrid\": false, \"tickfont\": {\"color\": \"#4D5663\"}, \"title\": {\"font\": {\"color\": \"#4D5663\"}, \"text\": \"\"}, \"zerolinecolor\": \"#E1E5ED\"}, \"xaxis7\": {\"anchor\": \"y7\", \"domain\": [0.525, 0.7375], \"gridcolor\": \"#E1E5ED\", \"showgrid\": false, \"tickfont\": {\"color\": \"#4D5663\"}, \"title\": {\"font\": {\"color\": \"#4D5663\"}, \"text\": \"\"}, \"zerolinecolor\": \"#E1E5ED\"}, \"xaxis8\": {\"anchor\": \"y8\", \"domain\": [0.7875, 1.0], \"gridcolor\": \"#E1E5ED\", \"showgrid\": false, \"tickfont\": {\"color\": \"#4D5663\"}, \"title\": {\"font\": {\"color\": \"#4D5663\"}, \"text\": \"\"}, \"zerolinecolor\": \"#E1E5ED\"}, \"xaxis9\": {\"anchor\": \"y9\", \"domain\": [0.0, 0.2125], \"gridcolor\": \"#E1E5ED\", \"showgrid\": false, \"tickfont\": {\"color\": \"#4D5663\"}, \"title\": {\"font\": {\"color\": \"#4D5663\"}, \"text\": \"\"}, \"zerolinecolor\": \"#E1E5ED\"}, \"yaxis\": {\"anchor\": \"x\", \"domain\": [0.8025, 1.0], \"gridcolor\": \"#E1E5ED\", \"showgrid\": false, \"tickfont\": {\"color\": \"#4D5663\"}, \"title\": {\"font\": {\"color\": \"#4D5663\"}, \"text\": \"\"}, \"zerolinecolor\": \"#E1E5ED\"}, \"yaxis10\": {\"anchor\": \"x10\", \"domain\": [0.2675, 0.465], \"gridcolor\": \"#E1E5ED\", \"showgrid\": false, \"tickfont\": {\"color\": \"#4D5663\"}, \"title\": {\"font\": {\"color\": \"#4D5663\"}, \"text\": \"\"}, \"zerolinecolor\": \"#E1E5ED\"}, \"yaxis11\": {\"anchor\": \"x11\", \"domain\": [0.2675, 0.465], \"gridcolor\": \"#E1E5ED\", \"showgrid\": false, \"tickfont\": {\"color\": \"#4D5663\"}, \"title\": {\"font\": {\"color\": \"#4D5663\"}, \"text\": \"\"}, \"zerolinecolor\": \"#E1E5ED\"}, \"yaxis12\": {\"anchor\": \"x12\", \"domain\": [0.2675, 0.465], \"gridcolor\": \"#E1E5ED\", \"showgrid\": false, \"tickfont\": {\"color\": \"#4D5663\"}, \"title\": {\"font\": {\"color\": \"#4D5663\"}, \"text\": \"\"}, \"zerolinecolor\": \"#E1E5ED\"}, \"yaxis13\": {\"anchor\": \"x13\", \"domain\": [0.0, 0.1975], \"gridcolor\": \"#E1E5ED\", \"showgrid\": false, \"tickfont\": {\"color\": \"#4D5663\"}, \"title\": {\"font\": {\"color\": \"#4D5663\"}, \"text\": \"\"}, \"zerolinecolor\": \"#E1E5ED\"}, \"yaxis14\": {\"anchor\": \"x14\", \"domain\": [0.0, 0.1975], \"gridcolor\": \"#E1E5ED\", \"showgrid\": false, \"tickfont\": {\"color\": \"#4D5663\"}, \"title\": {\"font\": {\"color\": \"#4D5663\"}, \"text\": \"\"}, \"zerolinecolor\": \"#E1E5ED\"}, \"yaxis15\": {\"anchor\": \"x15\", \"domain\": [0.0, 0.1975], \"gridcolor\": \"#E1E5ED\", \"showgrid\": false, \"tickfont\": {\"color\": \"#4D5663\"}, \"title\": {\"font\": {\"color\": \"#4D5663\"}, \"text\": \"\"}, \"zerolinecolor\": \"#E1E5ED\"}, \"yaxis16\": {\"anchor\": \"x16\", \"domain\": [0.0, 0.1975], \"gridcolor\": \"#E1E5ED\", \"showgrid\": false, \"tickfont\": {\"color\": \"#4D5663\"}, \"title\": {\"font\": {\"color\": \"#4D5663\"}, \"text\": \"\"}, \"zerolinecolor\": \"#E1E5ED\"}, \"yaxis2\": {\"anchor\": \"x2\", \"domain\": [0.8025, 1.0], \"gridcolor\": \"#E1E5ED\", \"showgrid\": false, \"tickfont\": {\"color\": \"#4D5663\"}, \"title\": {\"font\": {\"color\": \"#4D5663\"}, \"text\": \"\"}, \"zerolinecolor\": \"#E1E5ED\"}, \"yaxis3\": {\"anchor\": \"x3\", \"domain\": [0.8025, 1.0], \"gridcolor\": \"#E1E5ED\", \"showgrid\": false, \"tickfont\": {\"color\": \"#4D5663\"}, \"title\": {\"font\": {\"color\": \"#4D5663\"}, \"text\": \"\"}, \"zerolinecolor\": \"#E1E5ED\"}, \"yaxis4\": {\"anchor\": \"x4\", \"domain\": [0.8025, 1.0], \"gridcolor\": \"#E1E5ED\", \"showgrid\": false, \"tickfont\": {\"color\": \"#4D5663\"}, \"title\": {\"font\": {\"color\": \"#4D5663\"}, \"text\": \"\"}, \"zerolinecolor\": \"#E1E5ED\"}, \"yaxis5\": {\"anchor\": \"x5\", \"domain\": [0.535, 0.7325], \"gridcolor\": \"#E1E5ED\", \"showgrid\": false, \"tickfont\": {\"color\": \"#4D5663\"}, \"title\": {\"font\": {\"color\": \"#4D5663\"}, \"text\": \"\"}, \"zerolinecolor\": \"#E1E5ED\"}, \"yaxis6\": {\"anchor\": \"x6\", \"domain\": [0.535, 0.7325], \"gridcolor\": \"#E1E5ED\", \"showgrid\": false, \"tickfont\": {\"color\": \"#4D5663\"}, \"title\": {\"font\": {\"color\": \"#4D5663\"}, \"text\": \"\"}, \"zerolinecolor\": \"#E1E5ED\"}, \"yaxis7\": {\"anchor\": \"x7\", \"domain\": [0.535, 0.7325], \"gridcolor\": \"#E1E5ED\", \"showgrid\": false, \"tickfont\": {\"color\": \"#4D5663\"}, \"title\": {\"font\": {\"color\": \"#4D5663\"}, \"text\": \"\"}, \"zerolinecolor\": \"#E1E5ED\"}, \"yaxis8\": {\"anchor\": \"x8\", \"domain\": [0.535, 0.7325], \"gridcolor\": \"#E1E5ED\", \"showgrid\": false, \"tickfont\": {\"color\": \"#4D5663\"}, \"title\": {\"font\": {\"color\": \"#4D5663\"}, \"text\": \"\"}, \"zerolinecolor\": \"#E1E5ED\"}, \"yaxis9\": {\"anchor\": \"x9\", \"domain\": [0.2675, 0.465], \"gridcolor\": \"#E1E5ED\", \"showgrid\": false, \"tickfont\": {\"color\": \"#4D5663\"}, \"title\": {\"font\": {\"color\": \"#4D5663\"}, \"text\": \"\"}, \"zerolinecolor\": \"#E1E5ED\"}},\n",
       "                        {\"showLink\": true, \"linkText\": \"Export to plot.ly\", \"plotlyServerURL\": \"https://plot.ly\", \"responsive\": true}\n",
       "                    ).then(function(){\n",
       "                            \n",
       "var gd = document.getElementById('2d72a256-152a-45da-a75d-25246b24d7cc');\n",
       "var x = new MutationObserver(function (mutations, observer) {{\n",
       "        var display = window.getComputedStyle(gd).display;\n",
       "        if (!display || display === 'none') {{\n",
       "            console.log([gd, 'removed!']);\n",
       "            Plotly.purge(gd);\n",
       "            observer.disconnect();\n",
       "        }}\n",
       "}});\n",
       "\n",
       "// Listen for the removal of the full notebook cells\n",
       "var notebookContainer = gd.closest('#notebook-container');\n",
       "if (notebookContainer) {{\n",
       "    x.observe(notebookContainer, {childList: true});\n",
       "}}\n",
       "\n",
       "// Listen for the clearing of the current output cell\n",
       "var outputEl = gd.closest('.output');\n",
       "if (outputEl) {{\n",
       "    x.observe(outputEl, {childList: true});\n",
       "}}\n",
       "\n",
       "                        })\n",
       "                };\n",
       "                });\n",
       "            </script>\n",
       "        </div>"
      ]
     },
     "metadata": {},
     "output_type": "display_data"
    }
   ],
   "source": [
    "# scattered matrix plot\n",
    "df.scatter_matrix()"
   ]
  },
  {
   "cell_type": "code",
   "execution_count": null,
   "metadata": {},
   "outputs": [],
   "source": [
    "# check out the cufflinks github\n",
    "# https://github.com/santosjorge/cufflinks\n",
    "# check out the ta.py file for technical analysis for fianancial data\n",
    "# https://github.com/santosjorge/cufflinks/blob/master/cufflinks/ta.py"
   ]
  }
 ],
 "metadata": {
  "kernelspec": {
   "display_name": "Python 3",
   "language": "python",
   "name": "python3"
  },
  "language_info": {
   "codemirror_mode": {
    "name": "ipython",
    "version": 3
   },
   "file_extension": ".py",
   "mimetype": "text/x-python",
   "name": "python",
   "nbconvert_exporter": "python",
   "pygments_lexer": "ipython3",
   "version": "3.7.6"
  }
 },
 "nbformat": 4,
 "nbformat_minor": 4
}
