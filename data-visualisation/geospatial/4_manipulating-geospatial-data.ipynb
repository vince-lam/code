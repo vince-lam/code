{
 "cells": [
  {
   "cell_type": "markdown",
   "metadata": {},
   "source": [
    "### Introduction\n",
    "In this tutorial, you'll learn about two common manipulations for geospatial data: geocoding and table joins."
   ]
  },
  {
   "cell_type": "markdown",
   "metadata": {},
   "source": [
    "### Geocoding\n",
    "Geocoding is the process of converting the name of a place or an address to a location on a map. If you have ever looked up a geographic location based on a landmark description with Google Maps, Bing Maps, or Baidu Maps, for instance, then you have used a geocoder!\n",
    "\n",
    "We'll use geopandas to do all of our geocoding."
   ]
  },
  {
   "cell_type": "code",
   "execution_count": 2,
   "metadata": {},
   "outputs": [],
   "source": [
    "import pandas as pd\n",
    "import geopandas as gpd\n",
    "import numpy as np\n",
    "import folium\n",
    "from folium import Marker"
   ]
  },
  {
   "cell_type": "code",
   "execution_count": 3,
   "metadata": {},
   "outputs": [],
   "source": [
    "from geopandas.tools import geocode"
   ]
  },
  {
   "cell_type": "markdown",
   "metadata": {},
   "source": [
    "To use the geocoder, we need only provide:\n",
    "\n",
    "- the name or address as a Python string, and\n",
    "- the name of the provider; to avoid having to provide an API key, we'll use the OpenStreetMap Nominatim geocoder.\n",
    "\n",
    "If the geocoding is successful, it returns a GeoDataFrame with two columns:\n",
    "\n",
    "- the \"geometry\" column contains the (latitude, longitude) location, and\n",
    "- the \"address\" column contains the full address."
   ]
  },
  {
   "cell_type": "code",
   "execution_count": 9,
   "metadata": {},
   "outputs": [
    {
     "data": {
      "text/html": [
       "<div>\n",
       "<style scoped>\n",
       "    .dataframe tbody tr th:only-of-type {\n",
       "        vertical-align: middle;\n",
       "    }\n",
       "\n",
       "    .dataframe tbody tr th {\n",
       "        vertical-align: top;\n",
       "    }\n",
       "\n",
       "    .dataframe thead th {\n",
       "        text-align: right;\n",
       "    }\n",
       "</style>\n",
       "<table border=\"1\" class=\"dataframe\">\n",
       "  <thead>\n",
       "    <tr style=\"text-align: right;\">\n",
       "      <th></th>\n",
       "      <th>geometry</th>\n",
       "      <th>address</th>\n",
       "    </tr>\n",
       "  </thead>\n",
       "  <tbody>\n",
       "    <tr>\n",
       "      <th>0</th>\n",
       "      <td>POINT (31.13422 29.97915)</td>\n",
       "      <td>هرم خوفو, Cause way, كوم الأخضر, الجيزة, محافظ...</td>\n",
       "    </tr>\n",
       "  </tbody>\n",
       "</table>\n",
       "</div>"
      ],
      "text/plain": [
       "                    geometry  \\\n",
       "0  POINT (31.13422 29.97915)   \n",
       "\n",
       "                                             address  \n",
       "0  هرم خوفو, Cause way, كوم الأخضر, الجيزة, محافظ...  "
      ]
     },
     "execution_count": 9,
     "metadata": {},
     "output_type": "execute_result"
    }
   ],
   "source": [
    "result = geocode(\"The Great Pyramid of Giza\", provider=\"nominatim\", user_agent=\"my_application\")\n",
    "\n",
    "result"
   ]
  },
  {
   "cell_type": "markdown",
   "metadata": {},
   "source": [
    "The entry in the \"geometry\" column is a Point object, and we can get the latitude and longitude from the y and x attributes, respectively."
   ]
  },
  {
   "cell_type": "code",
   "execution_count": 10,
   "metadata": {},
   "outputs": [
    {
     "name": "stdout",
     "output_type": "stream",
     "text": [
      "Latitude: 29.9791509\n",
      "Longitude: 31.134219302763587\n"
     ]
    }
   ],
   "source": [
    "point = result.geometry.iloc[0]\n",
    "print(\"Latitude:\", point.y)\n",
    "print(\"Longitude:\", point.x)"
   ]
  },
  {
   "cell_type": "markdown",
   "metadata": {},
   "source": [
    "It's often the case that we'll need to geocode many different addresses. For instance, say we want to obtain the locations of 100 top universities in Europe."
   ]
  },
  {
   "cell_type": "code",
   "execution_count": 12,
   "metadata": {},
   "outputs": [
    {
     "data": {
      "text/html": [
       "<div>\n",
       "<style scoped>\n",
       "    .dataframe tbody tr th:only-of-type {\n",
       "        vertical-align: middle;\n",
       "    }\n",
       "\n",
       "    .dataframe tbody tr th {\n",
       "        vertical-align: top;\n",
       "    }\n",
       "\n",
       "    .dataframe thead th {\n",
       "        text-align: right;\n",
       "    }\n",
       "</style>\n",
       "<table border=\"1\" class=\"dataframe\">\n",
       "  <thead>\n",
       "    <tr style=\"text-align: right;\">\n",
       "      <th></th>\n",
       "      <th>Name</th>\n",
       "    </tr>\n",
       "  </thead>\n",
       "  <tbody>\n",
       "    <tr>\n",
       "      <th>0</th>\n",
       "      <td>University of Oxford</td>\n",
       "    </tr>\n",
       "    <tr>\n",
       "      <th>1</th>\n",
       "      <td>University of Cambridge</td>\n",
       "    </tr>\n",
       "    <tr>\n",
       "      <th>2</th>\n",
       "      <td>Imperial College London</td>\n",
       "    </tr>\n",
       "    <tr>\n",
       "      <th>3</th>\n",
       "      <td>ETH Zurich</td>\n",
       "    </tr>\n",
       "    <tr>\n",
       "      <th>4</th>\n",
       "      <td>UCL</td>\n",
       "    </tr>\n",
       "  </tbody>\n",
       "</table>\n",
       "</div>"
      ],
      "text/plain": [
       "                      Name\n",
       "0     University of Oxford\n",
       "1  University of Cambridge\n",
       "2  Imperial College London\n",
       "3               ETH Zurich\n",
       "4                      UCL"
      ]
     },
     "execution_count": 12,
     "metadata": {},
     "output_type": "execute_result"
    }
   ],
   "source": [
    "universities = pd.read_csv('C:/Users/vinhe/Code/Courses/Kaggle/Data/Input/Geospatial_course_data/top_universities.csv')\n",
    "\n",
    "universities.head()"
   ]
  },
  {
   "cell_type": "markdown",
   "metadata": {},
   "source": [
    "Then we can use a lambda function to apply the geocoder to every row in the DataFrame. (We use a try/except statement to account for the case that the geocoding is unsuccessful.)"
   ]
  },
  {
   "cell_type": "code",
   "execution_count": 16,
   "metadata": {},
   "outputs": [
    {
     "name": "stdout",
     "output_type": "stream",
     "text": [
      "90.0% of addresses were geocoded!\n"
     ]
    },
    {
     "name": "stderr",
     "output_type": "stream",
     "text": [
      "C:\\Users\\vinhe\\anaconda3\\lib\\site-packages\\pyproj\\crs\\crs.py:53: FutureWarning: '+init=<authority>:<code>' syntax is deprecated. '<authority>:<code>' is the preferred initialization method. When making the change, be mindful of axis order changes: https://pyproj4.github.io/pyproj/stable/gotchas.html#axis-order-changes-in-proj-6\n",
      "  return _prepare_from_string(\" \".join(pjargs))\n"
     ]
    },
    {
     "data": {
      "text/html": [
       "<div>\n",
       "<style scoped>\n",
       "    .dataframe tbody tr th:only-of-type {\n",
       "        vertical-align: middle;\n",
       "    }\n",
       "\n",
       "    .dataframe tbody tr th {\n",
       "        vertical-align: top;\n",
       "    }\n",
       "\n",
       "    .dataframe thead th {\n",
       "        text-align: right;\n",
       "    }\n",
       "</style>\n",
       "<table border=\"1\" class=\"dataframe\">\n",
       "  <thead>\n",
       "    <tr style=\"text-align: right;\">\n",
       "      <th></th>\n",
       "      <th>Name</th>\n",
       "      <th>Latitude</th>\n",
       "      <th>Longitude</th>\n",
       "      <th>geometry</th>\n",
       "    </tr>\n",
       "  </thead>\n",
       "  <tbody>\n",
       "    <tr>\n",
       "      <th>0</th>\n",
       "      <td>University of Oxford</td>\n",
       "      <td>51.758708</td>\n",
       "      <td>-1.255668</td>\n",
       "      <td>POINT (-1.25567 51.75871)</td>\n",
       "    </tr>\n",
       "    <tr>\n",
       "      <th>1</th>\n",
       "      <td>University of Cambridge</td>\n",
       "      <td>52.199852</td>\n",
       "      <td>0.119739</td>\n",
       "      <td>POINT (0.11974 52.19985)</td>\n",
       "    </tr>\n",
       "    <tr>\n",
       "      <th>2</th>\n",
       "      <td>Imperial College London</td>\n",
       "      <td>51.498871</td>\n",
       "      <td>-0.175608</td>\n",
       "      <td>POINT (-0.17561 51.49887)</td>\n",
       "    </tr>\n",
       "    <tr>\n",
       "      <th>3</th>\n",
       "      <td>ETH Zurich</td>\n",
       "      <td>47.377327</td>\n",
       "      <td>8.547509</td>\n",
       "      <td>POINT (8.54751 47.37733)</td>\n",
       "    </tr>\n",
       "    <tr>\n",
       "      <th>4</th>\n",
       "      <td>UCL</td>\n",
       "      <td>51.524126</td>\n",
       "      <td>-0.132930</td>\n",
       "      <td>POINT (-0.13293 51.52413)</td>\n",
       "    </tr>\n",
       "  </tbody>\n",
       "</table>\n",
       "</div>"
      ],
      "text/plain": [
       "                      Name   Latitude  Longitude                   geometry\n",
       "0     University of Oxford  51.758708  -1.255668  POINT (-1.25567 51.75871)\n",
       "1  University of Cambridge  52.199852   0.119739   POINT (0.11974 52.19985)\n",
       "2  Imperial College London  51.498871  -0.175608  POINT (-0.17561 51.49887)\n",
       "3               ETH Zurich  47.377327   8.547509   POINT (8.54751 47.37733)\n",
       "4                      UCL  51.524126  -0.132930  POINT (-0.13293 51.52413)"
      ]
     },
     "execution_count": 16,
     "metadata": {},
     "output_type": "execute_result"
    }
   ],
   "source": [
    "def my_geocoder(row):\n",
    "    try:\n",
    "        point = geocode(row, provider='nominatim', user_agent=\"my_application\").geometry.iloc[0]\n",
    "        return pd.Series({'Latitude': point.y, 'Longitude': point.x, 'geometry': point})\n",
    "    except:\n",
    "        return None\n",
    "\n",
    "universities[['Latitude', 'Longitude', 'geometry']] = universities.apply(lambda x: my_geocoder(x['Name']), axis=1)\n",
    "\n",
    "print(\"{}% of addresses were geocoded!\".format(\n",
    "    (1 - sum(np.isnan(universities[\"Latitude\"])) / len(universities)) * 100))\n",
    "\n",
    "# Drop universities that were not successfully geocoded\n",
    "universities = universities.loc[~np.isnan(universities[\"Latitude\"])]\n",
    "universities = gpd.GeoDataFrame(universities, geometry=universities.geometry)\n",
    "universities.crs = {'init': 'epsg:4326'}\n",
    "universities.head()"
   ]
  },
  {
   "cell_type": "markdown",
   "metadata": {},
   "source": [
    "Next, we visualize all of the locations that were returned by the geocoder. Notice that a few of the locations are certainly inaccurate, as they're not in Europe!"
   ]
  },
  {
   "cell_type": "code",
   "execution_count": 17,
   "metadata": {},
   "outputs": [
    {
     "data": {
      "text/html": [
       "<div style=\"width:100%;\"><div style=\"position:relative;width:100%;height:0;padding-bottom:60%;\"><span style=\"color:#565656\">Make this Notebook Trusted to load map: File -> Trust Notebook</span><iframe src=\"about:blank\" style=\"position:absolute;width:100%;height:100%;left:0;top:0;border:none !important;\" data-html=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 onload=\"this.contentDocument.open();this.contentDocument.write(atob(this.getAttribute('data-html')));this.contentDocument.close();\" allowfullscreen webkitallowfullscreen mozallowfullscreen></iframe></div></div>"
      ],
      "text/plain": [
       "<folium.folium.Map at 0x26f941de040>"
      ]
     },
     "execution_count": 17,
     "metadata": {},
     "output_type": "execute_result"
    }
   ],
   "source": [
    "# create a map\n",
    "m = folium.Map(location=[54, 15], tiles='openstreetmap', zoom_start=2)\n",
    "\n",
    "# add points to the map\n",
    "for idx, row in universities.iterrows():\n",
    "    Marker([row['Latitude'], row['Longitude']], popup=row['Name']).add_to(m)\n",
    "    \n",
    "# display the map\n",
    "m"
   ]
  },
  {
   "cell_type": "markdown",
   "metadata": {},
   "source": [
    "## Table joins\n",
    "Now, we'll switch topics and think about how to combine data from different sources.\n",
    "\n",
    "### Attribute join\n",
    "You already know how to use pd.DataFrame.join() to combine information from multiple DataFrames with a shared index. We refer to this way of joining data (by simpling matching values in the index) as an attribute join.\n",
    "\n",
    "When performing an attribute join with a GeoDataFrame, it's best to use the gpd.GeoDataFrame.merge(). To illustrate this, we'll work with a GeoDataFrame europe_boundaries containing the boundaries for every country in Europe. The first five rows of this GeoDataFrame are printed below."
   ]
  },
  {
   "cell_type": "code",
   "execution_count": 20,
   "metadata": {},
   "outputs": [],
   "source": [
    "world = gpd.read_file(gpd.datasets.get_path('naturalearth_lowres'))\n",
    "europe = world.loc[world.continent == 'Europe'].reset_index(drop=True)\n",
    "\n",
    "europe_stats = europe[[\"name\", \"pop_est\", \"gdp_md_est\"]]\n",
    "europe_boundaries = europe[[\"name\", \"geometry\"]]"
   ]
  },
  {
   "cell_type": "code",
   "execution_count": 21,
   "metadata": {},
   "outputs": [
    {
     "data": {
      "text/html": [
       "<div>\n",
       "<style scoped>\n",
       "    .dataframe tbody tr th:only-of-type {\n",
       "        vertical-align: middle;\n",
       "    }\n",
       "\n",
       "    .dataframe tbody tr th {\n",
       "        vertical-align: top;\n",
       "    }\n",
       "\n",
       "    .dataframe thead th {\n",
       "        text-align: right;\n",
       "    }\n",
       "</style>\n",
       "<table border=\"1\" class=\"dataframe\">\n",
       "  <thead>\n",
       "    <tr style=\"text-align: right;\">\n",
       "      <th></th>\n",
       "      <th>name</th>\n",
       "      <th>geometry</th>\n",
       "    </tr>\n",
       "  </thead>\n",
       "  <tbody>\n",
       "    <tr>\n",
       "      <th>0</th>\n",
       "      <td>Russia</td>\n",
       "      <td>MULTIPOLYGON (((178.725 71.099, 180.000 71.516...</td>\n",
       "    </tr>\n",
       "    <tr>\n",
       "      <th>1</th>\n",
       "      <td>Norway</td>\n",
       "      <td>MULTIPOLYGON (((15.143 79.674, 15.523 80.016, ...</td>\n",
       "    </tr>\n",
       "    <tr>\n",
       "      <th>2</th>\n",
       "      <td>France</td>\n",
       "      <td>MULTIPOLYGON (((-51.658 4.156, -52.249 3.241, ...</td>\n",
       "    </tr>\n",
       "    <tr>\n",
       "      <th>3</th>\n",
       "      <td>Sweden</td>\n",
       "      <td>POLYGON ((11.027 58.856, 11.468 59.432, 12.300...</td>\n",
       "    </tr>\n",
       "    <tr>\n",
       "      <th>4</th>\n",
       "      <td>Belarus</td>\n",
       "      <td>POLYGON ((28.177 56.169, 29.230 55.918, 29.372...</td>\n",
       "    </tr>\n",
       "  </tbody>\n",
       "</table>\n",
       "</div>"
      ],
      "text/plain": [
       "      name                                           geometry\n",
       "0   Russia  MULTIPOLYGON (((178.725 71.099, 180.000 71.516...\n",
       "1   Norway  MULTIPOLYGON (((15.143 79.674, 15.523 80.016, ...\n",
       "2   France  MULTIPOLYGON (((-51.658 4.156, -52.249 3.241, ...\n",
       "3   Sweden  POLYGON ((11.027 58.856, 11.468 59.432, 12.300...\n",
       "4  Belarus  POLYGON ((28.177 56.169, 29.230 55.918, 29.372..."
      ]
     },
     "execution_count": 21,
     "metadata": {},
     "output_type": "execute_result"
    }
   ],
   "source": [
    "europe_boundaries.head()"
   ]
  },
  {
   "cell_type": "markdown",
   "metadata": {},
   "source": [
    "We'll join it with a DataFrame europe_stats containing the estimated population and gross domestic product (GDP) for each country."
   ]
  },
  {
   "cell_type": "code",
   "execution_count": 22,
   "metadata": {},
   "outputs": [
    {
     "data": {
      "text/html": [
       "<div>\n",
       "<style scoped>\n",
       "    .dataframe tbody tr th:only-of-type {\n",
       "        vertical-align: middle;\n",
       "    }\n",
       "\n",
       "    .dataframe tbody tr th {\n",
       "        vertical-align: top;\n",
       "    }\n",
       "\n",
       "    .dataframe thead th {\n",
       "        text-align: right;\n",
       "    }\n",
       "</style>\n",
       "<table border=\"1\" class=\"dataframe\">\n",
       "  <thead>\n",
       "    <tr style=\"text-align: right;\">\n",
       "      <th></th>\n",
       "      <th>name</th>\n",
       "      <th>pop_est</th>\n",
       "      <th>gdp_md_est</th>\n",
       "    </tr>\n",
       "  </thead>\n",
       "  <tbody>\n",
       "    <tr>\n",
       "      <th>0</th>\n",
       "      <td>Russia</td>\n",
       "      <td>142257519</td>\n",
       "      <td>3745000.0</td>\n",
       "    </tr>\n",
       "    <tr>\n",
       "      <th>1</th>\n",
       "      <td>Norway</td>\n",
       "      <td>5320045</td>\n",
       "      <td>364700.0</td>\n",
       "    </tr>\n",
       "    <tr>\n",
       "      <th>2</th>\n",
       "      <td>France</td>\n",
       "      <td>67106161</td>\n",
       "      <td>2699000.0</td>\n",
       "    </tr>\n",
       "    <tr>\n",
       "      <th>3</th>\n",
       "      <td>Sweden</td>\n",
       "      <td>9960487</td>\n",
       "      <td>498100.0</td>\n",
       "    </tr>\n",
       "    <tr>\n",
       "      <th>4</th>\n",
       "      <td>Belarus</td>\n",
       "      <td>9549747</td>\n",
       "      <td>165400.0</td>\n",
       "    </tr>\n",
       "  </tbody>\n",
       "</table>\n",
       "</div>"
      ],
      "text/plain": [
       "      name    pop_est  gdp_md_est\n",
       "0   Russia  142257519   3745000.0\n",
       "1   Norway    5320045    364700.0\n",
       "2   France   67106161   2699000.0\n",
       "3   Sweden    9960487    498100.0\n",
       "4  Belarus    9549747    165400.0"
      ]
     },
     "execution_count": 22,
     "metadata": {},
     "output_type": "execute_result"
    }
   ],
   "source": [
    "europe_stats.head()"
   ]
  },
  {
   "cell_type": "markdown",
   "metadata": {},
   "source": [
    "We do the attribute join in the code cell below. The on argument is set to the column name that is used to match rows in europe_boundaries to rows in europe_stats."
   ]
  },
  {
   "cell_type": "code",
   "execution_count": 23,
   "metadata": {},
   "outputs": [
    {
     "data": {
      "text/html": [
       "<div>\n",
       "<style scoped>\n",
       "    .dataframe tbody tr th:only-of-type {\n",
       "        vertical-align: middle;\n",
       "    }\n",
       "\n",
       "    .dataframe tbody tr th {\n",
       "        vertical-align: top;\n",
       "    }\n",
       "\n",
       "    .dataframe thead th {\n",
       "        text-align: right;\n",
       "    }\n",
       "</style>\n",
       "<table border=\"1\" class=\"dataframe\">\n",
       "  <thead>\n",
       "    <tr style=\"text-align: right;\">\n",
       "      <th></th>\n",
       "      <th>name</th>\n",
       "      <th>geometry</th>\n",
       "      <th>pop_est</th>\n",
       "      <th>gdp_md_est</th>\n",
       "    </tr>\n",
       "  </thead>\n",
       "  <tbody>\n",
       "    <tr>\n",
       "      <th>0</th>\n",
       "      <td>Russia</td>\n",
       "      <td>MULTIPOLYGON (((178.725 71.099, 180.000 71.516...</td>\n",
       "      <td>142257519</td>\n",
       "      <td>3745000.0</td>\n",
       "    </tr>\n",
       "    <tr>\n",
       "      <th>1</th>\n",
       "      <td>Norway</td>\n",
       "      <td>MULTIPOLYGON (((15.143 79.674, 15.523 80.016, ...</td>\n",
       "      <td>5320045</td>\n",
       "      <td>364700.0</td>\n",
       "    </tr>\n",
       "    <tr>\n",
       "      <th>2</th>\n",
       "      <td>France</td>\n",
       "      <td>MULTIPOLYGON (((-51.658 4.156, -52.249 3.241, ...</td>\n",
       "      <td>67106161</td>\n",
       "      <td>2699000.0</td>\n",
       "    </tr>\n",
       "    <tr>\n",
       "      <th>3</th>\n",
       "      <td>Sweden</td>\n",
       "      <td>POLYGON ((11.027 58.856, 11.468 59.432, 12.300...</td>\n",
       "      <td>9960487</td>\n",
       "      <td>498100.0</td>\n",
       "    </tr>\n",
       "    <tr>\n",
       "      <th>4</th>\n",
       "      <td>Belarus</td>\n",
       "      <td>POLYGON ((28.177 56.169, 29.230 55.918, 29.372...</td>\n",
       "      <td>9549747</td>\n",
       "      <td>165400.0</td>\n",
       "    </tr>\n",
       "  </tbody>\n",
       "</table>\n",
       "</div>"
      ],
      "text/plain": [
       "      name                                           geometry    pop_est  \\\n",
       "0   Russia  MULTIPOLYGON (((178.725 71.099, 180.000 71.516...  142257519   \n",
       "1   Norway  MULTIPOLYGON (((15.143 79.674, 15.523 80.016, ...    5320045   \n",
       "2   France  MULTIPOLYGON (((-51.658 4.156, -52.249 3.241, ...   67106161   \n",
       "3   Sweden  POLYGON ((11.027 58.856, 11.468 59.432, 12.300...    9960487   \n",
       "4  Belarus  POLYGON ((28.177 56.169, 29.230 55.918, 29.372...    9549747   \n",
       "\n",
       "   gdp_md_est  \n",
       "0   3745000.0  \n",
       "1    364700.0  \n",
       "2   2699000.0  \n",
       "3    498100.0  \n",
       "4    165400.0  "
      ]
     },
     "execution_count": 23,
     "metadata": {},
     "output_type": "execute_result"
    }
   ],
   "source": [
    "# use an attribute join to merge data about countries in Europe\n",
    "europe = europe_boundaries.merge(europe_stats, on=\"name\")\n",
    "\n",
    "europe.head()"
   ]
  },
  {
   "cell_type": "markdown",
   "metadata": {},
   "source": [
    "### Spatial join\n",
    "Another type of join is a spatial join. With a spatial join, we combine GeoDataFrames based on the spatial relationship between the objects in the \"geometry\" columns. For instance, we already have a GeoDataFrame universities containing geocoded addresses of European universities.\n",
    "\n",
    "Then we can use a spatial join to match each university to its corresponding country. We do this with gpd.sjoin()."
   ]
  },
  {
   "cell_type": "code",
   "execution_count": 27,
   "metadata": {},
   "outputs": [
    {
     "name": "stdout",
     "output_type": "stream",
     "text": [
      "We located 90 universities.\n",
      "Only 85 of the universities were located in Europe (in 15 different countries).\n"
     ]
    },
    {
     "name": "stderr",
     "output_type": "stream",
     "text": [
      "<ipython-input-27-369fde2f2203>:2: UserWarning: CRS mismatch between the CRS of left geometries and the CRS of right geometries.\n",
      "Use `to_crs()` to reproject one of the input geometries to match the CRS of the other.\n",
      "\n",
      "Left CRS: +init=epsg:4326 +type=crs\n",
      "Right CRS: EPSG:4326\n",
      "\n",
      "  european_universities = gpd.sjoin(universities, europe)\n"
     ]
    },
    {
     "data": {
      "text/html": [
       "<div>\n",
       "<style scoped>\n",
       "    .dataframe tbody tr th:only-of-type {\n",
       "        vertical-align: middle;\n",
       "    }\n",
       "\n",
       "    .dataframe tbody tr th {\n",
       "        vertical-align: top;\n",
       "    }\n",
       "\n",
       "    .dataframe thead th {\n",
       "        text-align: right;\n",
       "    }\n",
       "</style>\n",
       "<table border=\"1\" class=\"dataframe\">\n",
       "  <thead>\n",
       "    <tr style=\"text-align: right;\">\n",
       "      <th></th>\n",
       "      <th>Name</th>\n",
       "      <th>Latitude</th>\n",
       "      <th>Longitude</th>\n",
       "      <th>geometry</th>\n",
       "      <th>index_right</th>\n",
       "      <th>name</th>\n",
       "      <th>pop_est</th>\n",
       "      <th>gdp_md_est</th>\n",
       "    </tr>\n",
       "  </thead>\n",
       "  <tbody>\n",
       "    <tr>\n",
       "      <th>0</th>\n",
       "      <td>University of Oxford</td>\n",
       "      <td>51.758708</td>\n",
       "      <td>-1.255668</td>\n",
       "      <td>POINT (-1.25567 51.75871)</td>\n",
       "      <td>28</td>\n",
       "      <td>United Kingdom</td>\n",
       "      <td>64769452</td>\n",
       "      <td>2788000.0</td>\n",
       "    </tr>\n",
       "    <tr>\n",
       "      <th>1</th>\n",
       "      <td>University of Cambridge</td>\n",
       "      <td>52.199852</td>\n",
       "      <td>0.119739</td>\n",
       "      <td>POINT (0.11974 52.19985)</td>\n",
       "      <td>28</td>\n",
       "      <td>United Kingdom</td>\n",
       "      <td>64769452</td>\n",
       "      <td>2788000.0</td>\n",
       "    </tr>\n",
       "    <tr>\n",
       "      <th>2</th>\n",
       "      <td>Imperial College London</td>\n",
       "      <td>51.498871</td>\n",
       "      <td>-0.175608</td>\n",
       "      <td>POINT (-0.17561 51.49887)</td>\n",
       "      <td>28</td>\n",
       "      <td>United Kingdom</td>\n",
       "      <td>64769452</td>\n",
       "      <td>2788000.0</td>\n",
       "    </tr>\n",
       "    <tr>\n",
       "      <th>4</th>\n",
       "      <td>UCL</td>\n",
       "      <td>51.524126</td>\n",
       "      <td>-0.132930</td>\n",
       "      <td>POINT (-0.13293 51.52413)</td>\n",
       "      <td>28</td>\n",
       "      <td>United Kingdom</td>\n",
       "      <td>64769452</td>\n",
       "      <td>2788000.0</td>\n",
       "    </tr>\n",
       "    <tr>\n",
       "      <th>5</th>\n",
       "      <td>London School of Economics and Political Science</td>\n",
       "      <td>51.514429</td>\n",
       "      <td>-0.116588</td>\n",
       "      <td>POINT (-0.11659 51.51443)</td>\n",
       "      <td>28</td>\n",
       "      <td>United Kingdom</td>\n",
       "      <td>64769452</td>\n",
       "      <td>2788000.0</td>\n",
       "    </tr>\n",
       "  </tbody>\n",
       "</table>\n",
       "</div>"
      ],
      "text/plain": [
       "                                               Name   Latitude  Longitude  \\\n",
       "0                              University of Oxford  51.758708  -1.255668   \n",
       "1                           University of Cambridge  52.199852   0.119739   \n",
       "2                           Imperial College London  51.498871  -0.175608   \n",
       "4                                               UCL  51.524126  -0.132930   \n",
       "5  London School of Economics and Political Science  51.514429  -0.116588   \n",
       "\n",
       "                    geometry  index_right            name   pop_est  \\\n",
       "0  POINT (-1.25567 51.75871)           28  United Kingdom  64769452   \n",
       "1   POINT (0.11974 52.19985)           28  United Kingdom  64769452   \n",
       "2  POINT (-0.17561 51.49887)           28  United Kingdom  64769452   \n",
       "4  POINT (-0.13293 51.52413)           28  United Kingdom  64769452   \n",
       "5  POINT (-0.11659 51.51443)           28  United Kingdom  64769452   \n",
       "\n",
       "   gdp_md_est  \n",
       "0   2788000.0  \n",
       "1   2788000.0  \n",
       "2   2788000.0  \n",
       "4   2788000.0  \n",
       "5   2788000.0  "
      ]
     },
     "execution_count": 27,
     "metadata": {},
     "output_type": "execute_result"
    }
   ],
   "source": [
    "# use spatial join to match universities to countries in Europe\n",
    "european_universities = gpd.sjoin(universities, europe)\n",
    "\n",
    "# investigate the result\n",
    "print(\"We located {} universities.\".format(len(universities)))\n",
    "print(\"Only {} of the universities were located in Europe (in {} different countries).\".format(\n",
    "    len(european_universities), len(european_universities.name.unique())))\n",
    "\n",
    "european_universities.head()"
   ]
  },
  {
   "cell_type": "markdown",
   "metadata": {},
   "source": [
    "The spatial join above looks at the \"geometry\" columns in both GeoDataFrames. If a Point object from the universities GeoDataFrame intersects a Polygon object from the europe DataFrame, the corresponding rows are combined and added as a single row of the european_universities DataFrame. Otherwise, countries without a matching university (and universities without a matching country) are omitted from the results.\n",
    "\n",
    "The gpd.sjoin() method is customizable for different types of joins, through the how and op arguments. For instance, you can do the equivalent of a SQL left (or right) join by setting how='left' (or how='right'). We won't go into the details in this micro-course, but you can learn more in the documentation."
   ]
  },
  {
   "cell_type": "code",
   "execution_count": null,
   "metadata": {},
   "outputs": [],
   "source": []
  },
  {
   "cell_type": "code",
   "execution_count": null,
   "metadata": {},
   "outputs": [],
   "source": []
  },
  {
   "cell_type": "code",
   "execution_count": null,
   "metadata": {},
   "outputs": [],
   "source": []
  }
 ],
 "metadata": {
  "kernelspec": {
   "display_name": "Python 3",
   "language": "python",
   "name": "python3"
  },
  "language_info": {
   "codemirror_mode": {
    "name": "ipython",
    "version": 3
   },
   "file_extension": ".py",
   "mimetype": "text/x-python",
   "name": "python",
   "nbconvert_exporter": "python",
   "pygments_lexer": "ipython3",
   "version": "3.8.3"
  }
 },
 "nbformat": 4,
 "nbformat_minor": 4
}
